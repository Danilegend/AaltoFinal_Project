{
 "cells": [
  {
   "cell_type": "markdown",
   "id": "210673dd-22fb-46f0-ae69-6ccb51dff749",
   "metadata": {},
   "source": [
    "## Files"
   ]
  },
  {
   "cell_type": "code",
   "execution_count": null,
   "id": "19782316-4a3f-44ce-948f-5c18a12bdca3",
   "metadata": {},
   "outputs": [],
   "source": [
    "# Run this cell before running any other cell in the notebook!\n",
    "# The cell contents will make more sense after the lecture, so don't worry about understanding what it does yet!\n",
    "import os\n",
    "try:\n",
    "    with open(\"examplefile_1.txt\", \"w\") as file:\n",
    "        file.write(\"First row.\\nSecond row.\\nFinal row.\")\n",
    "    os.mkdir(\"lecture_7_examples\")\n",
    "    with open(\"lecture_7_examples/test.txt\", \"w\") as file:\n",
    "        file.write(\"Another testfile.\\nHello World.\")\n",
    "    os.mkdir(\"../test/\")\n",
    "    with open(\"../test/test2.txt\", \"w\") as file:\n",
    "        file.write(\"File with text.\\nI like programming.\")\n",
    "\n",
    "except FileExistsError as e:\n",
    "    print(\"The error message is:\", e) \n",
    "    print(\"Delete the existing file and run the cell again!\")"
   ]
  },
  {
   "cell_type": "code",
   "execution_count": null,
   "id": "e1f48da1-0bd5-40e2-a1db-a1179de3a247",
   "metadata": {},
   "outputs": [],
   "source": [
    "file = open(\"examplefile_1.txt\")\n",
    "row = file.readline()\n",
    "print(row)\n",
    "file.close()"
   ]
  },
  {
   "cell_type": "code",
   "execution_count": null,
   "id": "77019363-becd-45f1-aa61-66b103f506dd",
   "metadata": {},
   "outputs": [],
   "source": [
    "file = open(\"examplefile_1.txt\")\n",
    "rows = file.readlines()\n",
    "print(rows)\n",
    "file.close()"
   ]
  },
  {
   "cell_type": "code",
   "execution_count": null,
   "id": "d61566d7-8e94-43b7-8f24-059732c454a7",
   "metadata": {},
   "outputs": [],
   "source": [
    "file = open(\"examplefile_1.txt\")\n",
    "row = file.readline()\n",
    "print(row)\n",
    "row = file.readline()\n",
    "print(row)"
   ]
  },
  {
   "cell_type": "code",
   "execution_count": null,
   "id": "c4deb26e-804c-4c40-93b1-82cf5e701456",
   "metadata": {},
   "outputs": [],
   "source": [
    "file = open(\"examplefile_2.txt\",\"w\")\n",
    "file.write(\"Hello World!\")\n",
    "file.write(\"\\n\")\n",
    "file.write(\"Another row.\")\n",
    "file.close()"
   ]
  },
  {
   "cell_type": "code",
   "execution_count": null,
   "id": "c18baeb0-afc5-4e16-a071-54c17c2174ff",
   "metadata": {},
   "outputs": [],
   "source": [
    "file = open(\"examplefile_3.txt\", \"a\")\n",
    "file.write(\"New row.\")\n",
    "file.write(\"Row with a line break.\\n\")\n",
    "file.write(\"Last row.\")\n",
    "file.close()"
   ]
  },
  {
   "cell_type": "code",
   "execution_count": null,
   "id": "babfe879-2e1d-4f84-99bf-d9ccd1ce7dce",
   "metadata": {},
   "outputs": [],
   "source": [
    "with open(\"examplefile_1.txt\") as file:\n",
    "    rows = file.readlines()\n",
    "print(rows)"
   ]
  },
  {
   "cell_type": "code",
   "execution_count": null,
   "id": "49a2ddbc-c3f2-4ba0-a6bf-a01b617f4d04",
   "metadata": {},
   "outputs": [],
   "source": [
    "with open(\"examplefile_1.txt\") as file:\n",
    "    for row in file:\n",
    "    \tprint(row.rstrip())"
   ]
  },
  {
   "cell_type": "code",
   "execution_count": null,
   "id": "9136b180-4d05-4d4d-bede-f8c5cdd2edb6",
   "metadata": {},
   "outputs": [],
   "source": [
    "file = open(\"lecture_7_examples/test.txt\")\n",
    "rows = file.readlines()\n",
    "print(rows)\n",
    "file.close()"
   ]
  },
  {
   "cell_type": "code",
   "execution_count": null,
   "id": "329c5fdf-d224-4246-84a5-8ac23dc18da4",
   "metadata": {},
   "outputs": [],
   "source": [
    "file = open(\"../test/test2.txt\")\n",
    "file.readlines()\n",
    "print(rows)\n",
    "file.close()"
   ]
  },
  {
   "cell_type": "code",
   "execution_count": null,
   "id": "f8593842-7845-44d1-8905-5c5734204937",
   "metadata": {},
   "outputs": [],
   "source": [
    "import os\n",
    "\n",
    "cwd = os.getcwd()\n",
    "print(cwd)\n",
    "files = os.listdir(cwd)\n",
    "print(files)"
   ]
  },
  {
   "cell_type": "code",
   "execution_count": null,
   "id": "44e35b3d-b358-4138-8ffb-589deb77bff1",
   "metadata": {},
   "outputs": [],
   "source": [
    "import os\n",
    "\n",
    "cwd = os.getcwd()\n",
    "path2 = \"lecture_test\"\n",
    "joined_path = os.path.join(cwd, path2)\n",
    "print(\"Joined path is:\", joined_path)\n",
    "\n",
    "os.mkdir(joined_path)\n",
    "print(\"Files and directories after creating a new directory:\\n\", os.listdir(cwd))\n",
    "\n",
    "print(\"Does the new directory exist:\", os.path.exists(joined_path))\n",
    "print(\"Is this path a file:\", os.path.isfile(joined_path))\n",
    "print(\"Is this path a directory?\", os.path.isdir(joined_path))\n",
    "\n",
    "\n",
    "os.rmdir(joined_path)\n",
    "print(\"Files and directories after deleting the new directory:\\n\", os.listdir(cwd))\n",
    "print(\"Does the directory exist anymore:\", os.path.exists(joined_path))"
   ]
  },
  {
   "cell_type": "markdown",
   "id": "376704e4-fad3-42fe-b8e1-7f6366abc0fd",
   "metadata": {},
   "source": [
    "## Errors and error handling"
   ]
  },
  {
   "cell_type": "code",
   "execution_count": null,
   "id": "e570a8dd-ab9f-40d1-b1c9-da7177c308c3",
   "metadata": {},
   "outputs": [],
   "source": [
    "# Running this cell will result in an error\n",
    "\n",
    "if True\n",
    "    print(\"hi\")"
   ]
  },
  {
   "cell_type": "code",
   "execution_count": null,
   "id": "0fc44560-a3a6-4257-a266-e0423e8ebe1d",
   "metadata": {},
   "outputs": [],
   "source": [
    "# Running this cell will result in an error\n",
    "\n",
    "l = [1, 2, 4]\n",
    "print(l[5])"
   ]
  },
  {
   "cell_type": "code",
   "execution_count": null,
   "id": "622a2d05-af01-4da4-8931-5efd18d5d695",
   "metadata": {},
   "outputs": [],
   "source": [
    "try: \n",
    "    my_list = [1, 2, 3]\n",
    "    print(my_list[5])\n",
    "except:\n",
    "    print(\"Indice does not exist\")"
   ]
  },
  {
   "cell_type": "code",
   "execution_count": null,
   "id": "4301a24f-2c38-492b-99b6-e426f20a9fc6",
   "metadata": {},
   "outputs": [],
   "source": [
    "try: \n",
    "    my_list = [1, 2, 3]\n",
    "    print(my_list[5])\n",
    "except IndexError:\n",
    "    print(\"Indice does not exist\")"
   ]
  },
  {
   "cell_type": "code",
   "execution_count": null,
   "id": "b1bc52bf-742a-4f54-a6a3-f73845b98dac",
   "metadata": {},
   "outputs": [],
   "source": [
    "try:\n",
    "    number = int(input(\"Give a number!\"))\n",
    "    my_list = [number]\n",
    "    print(my_list[2])\n",
    "except ValueError:\n",
    "    print(\"Input value should be a number!\")\n",
    "except IndexError:\n",
    "    print(\"List index out of range\")"
   ]
  },
  {
   "cell_type": "code",
   "execution_count": null,
   "id": "f8c3629f-647a-469c-a020-2731b741a57e",
   "metadata": {},
   "outputs": [],
   "source": [
    "def divide(a, b):\n",
    "    if b == 0:\n",
    "        raise ZeroDivisionError(\"Cannot divide by zero\")\n",
    "    return a / b\n",
    "\n",
    "divide(5, 0)"
   ]
  }
 ],
 "metadata": {
  "kernelspec": {
   "display_name": "Python 3 (ipykernel)",
   "language": "python",
   "name": "python3"
  },
  "language_info": {
   "codemirror_mode": {
    "name": "ipython",
    "version": 3
   },
   "file_extension": ".py",
   "mimetype": "text/x-python",
   "name": "python",
   "nbconvert_exporter": "python",
   "pygments_lexer": "ipython3",
   "version": "3.10.9"
  }
 },
 "nbformat": 4,
 "nbformat_minor": 5
}
