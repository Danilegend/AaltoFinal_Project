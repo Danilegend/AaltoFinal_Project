{
 "cells": [
  {
   "cell_type": "markdown",
   "metadata": {},
   "source": [
    "# Day 4: Programming with Python\n",
    "### Examples from the slides"
   ]
  },
  {
   "cell_type": "markdown",
   "metadata": {},
   "source": [
    "## Functions\n",
    "\n",
    "- Function syntax\n",
    "    - Function definition begins with the keyword `def`, followed by function name, parentheses and a colon\n",
    "    - The functionality of the code is written in an indented code block\n",
    "    - Very similar syntax to control structures and loops\n",
    "    - Functions have to be defined before they can be used\n"
   ]
  },
  {
   "cell_type": "code",
   "execution_count": 1,
   "metadata": {},
   "outputs": [],
   "source": [
    "def function_name():\n",
    "    print(\"Hello world!\")"
   ]
  },
  {
   "cell_type": "markdown",
   "metadata": {},
   "source": [
    "- Functions are used by \"calling\" them\n",
    "    - A function call consists of the function's name and parentheses"
   ]
  },
  {
   "cell_type": "code",
   "execution_count": 2,
   "metadata": {},
   "outputs": [
    {
     "name": "stdout",
     "output_type": "stream",
     "text": [
      "Hello world!\n"
     ]
    }
   ],
   "source": [
    "function_name()"
   ]
  },
  {
   "cell_type": "markdown",
   "metadata": {},
   "source": [
    "- The return value of a function is defined using the keyword `return`\n",
    "- Without the keyword `return` keyword the function returns `None`\n"
   ]
  },
  {
   "cell_type": "code",
   "execution_count": 3,
   "metadata": {},
   "outputs": [
    {
     "data": {
      "text/plain": [
       "4"
      ]
     },
     "execution_count": 3,
     "metadata": {},
     "output_type": "execute_result"
    }
   ],
   "source": [
    "def two_plus_two():\n",
    "    result = 2+2\n",
    "    return result\n",
    "\n",
    "two_plus_two()"
   ]
  },
  {
   "cell_type": "markdown",
   "metadata": {},
   "source": [
    "- The called function returns a value to the position it was called in\n",
    "    - The return value ”replaces the function call”\n",
    "- A function can return multiple values\n"
   ]
  },
  {
   "cell_type": "code",
   "execution_count": 4,
   "metadata": {},
   "outputs": [
    {
     "name": "stdout",
     "output_type": "stream",
     "text": [
      "1\n"
     ]
    }
   ],
   "source": [
    "def give_one():\n",
    "    return 1\n",
    "\n",
    "ret = give_one()\n",
    "print(ret)"
   ]
  },
  {
   "cell_type": "code",
   "execution_count": 5,
   "metadata": {},
   "outputs": [
    {
     "name": "stdout",
     "output_type": "stream",
     "text": [
      "1 2\n"
     ]
    }
   ],
   "source": [
    "def give_two():\n",
    "    return 1,2\n",
    "\n",
    "ret1, ret2 = give_two()\n",
    "print(ret1, ret2)"
   ]
  },
  {
   "cell_type": "markdown",
   "metadata": {},
   "source": [
    "- We can give inputs for the function in the parentheses, separated by a comma\n"
   ]
  },
  {
   "cell_type": "code",
   "execution_count": 6,
   "metadata": {},
   "outputs": [
    {
     "name": "stdout",
     "output_type": "stream",
     "text": [
      "Example\n"
     ]
    }
   ],
   "source": [
    "def function_name(parameter):\n",
    "    print(parameter)\n",
    "    return\n",
    "\n",
    "# Define an argument\n",
    "argument = \"Example\"\n",
    "\n",
    "# Call the function with argument\n",
    "function_name(argument)"
   ]
  },
  {
   "cell_type": "code",
   "execution_count": 7,
   "metadata": {},
   "outputs": [
    {
     "name": "stdout",
     "output_type": "stream",
     "text": [
      "1two\n"
     ]
    }
   ],
   "source": [
    "def dual_func(param1,param2):\n",
    "    return param1 + param2\n",
    "\n",
    "arg1 = \"1\"\n",
    "arg2 = \"two\"\n",
    "\n",
    "result = dual_func(arg1,arg2)\n",
    "print(result)"
   ]
  },
  {
   "cell_type": "markdown",
   "metadata": {},
   "source": [
    "## Name spaces\n",
    "\n",
    "- From the perspective of variable `z` we can see every variable around us but nobody can see `z`"
   ]
  },
  {
   "cell_type": "code",
   "execution_count": 9,
   "metadata": {},
   "outputs": [
    {
     "name": "stdout",
     "output_type": "stream",
     "text": [
      "6\n"
     ]
    }
   ],
   "source": [
    "x = 1  # Global name space\n",
    "\n",
    "def inner_function():\n",
    "    z = 3 # Local inner_function name space\n",
    "    return z\n",
    "\n",
    "def outer_function():\n",
    "    y = 2 # Enclosing outer_function name space\n",
    "\n",
    "    a = inner_function()\n",
    "    return x + y + a\n",
    "\n",
    "result = outer_function() # Global name space\n",
    "print(result) # Built-in name space"
   ]
  },
  {
   "cell_type": "markdown",
   "metadata": {},
   "source": [
    "- From the perspective of variable `y` we can see every global and build-in variable, but only `outer_function` can see `y` after it has been called"
   ]
  },
  {
   "cell_type": "code",
   "execution_count": null,
   "metadata": {},
   "outputs": [],
   "source": [
    "x = 1  # Global name space\n",
    "\n",
    "def inner_function():\n",
    "    z = 3 \n",
    "    return z\n",
    "\n",
    "def outer_function():\n",
    "    y = 2 # Local outer_function name space\n",
    "\n",
    "    a = inner_function()\n",
    "    return x + y + a\n",
    "\n",
    "result = outer_function() # Global name space\n",
    "print(result) # Built-in name space"
   ]
  }
 ],
 "metadata": {
  "kernelspec": {
   "display_name": "base",
   "language": "python",
   "name": "python3"
  },
  "language_info": {
   "codemirror_mode": {
    "name": "ipython",
    "version": 3
   },
   "file_extension": ".py",
   "mimetype": "text/x-python",
   "name": "python",
   "nbconvert_exporter": "python",
   "pygments_lexer": "ipython3",
   "version": "3.8.16"
  },
  "orig_nbformat": 4
 },
 "nbformat": 4,
 "nbformat_minor": 2
}
