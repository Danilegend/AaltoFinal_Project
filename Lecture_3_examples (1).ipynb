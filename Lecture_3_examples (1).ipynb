{
 "cells": [
  {
   "cell_type": "markdown",
   "metadata": {},
   "source": [
    "# Day 3: Programming with Python\n",
    "### Examples from the slides"
   ]
  },
  {
   "cell_type": "markdown",
   "metadata": {},
   "source": [
    "## Conditional statements\n",
    "\n",
    "- Basic condition checking using `if` & `else`\n",
    "- A code block begins with a colon :\n",
    "- Code inside a code block is indented using whitespace\n",
    "- Only one of the code blocks is executed based on the evaluated condition (True / False)"
   ]
  },
  {
   "cell_type": "code",
   "execution_count": 12,
   "metadata": {},
   "outputs": [
    {
     "name": "stdout",
     "output_type": "stream",
     "text": [
      "a is smaller than 10\n",
      "a is not one\n"
     ]
    }
   ],
   "source": [
    "a = int(input(\"Input a value for a:\\n\"))\n",
    "\n",
    "if a < 10:\n",
    "    print(\"a is smaller than 10\")\n",
    "else:\n",
    "    print(\"a is not smaller than 10\")\n",
    "\n",
    "\n",
    "if a == 1:\n",
    "    print(\"a equals one\")\n",
    "else:\n",
    "    print(\"a is not one\")"
   ]
  },
  {
   "cell_type": "markdown",
   "metadata": {},
   "source": [
    "- Checking multiple conditions is done using `if`, `elif` & `else`:"
   ]
  },
  {
   "cell_type": "code",
   "execution_count": 13,
   "metadata": {},
   "outputs": [
    {
     "name": "stdout",
     "output_type": "stream",
     "text": [
      "a is smaller than 10\n"
     ]
    }
   ],
   "source": [
    "a = int(input(\"Input a value for a:\\n\"))\n",
    "\n",
    "if a < 10:\n",
    "    print(\"a is smaller than 10\")\n",
    "elif a > 10:\n",
    "    print(\"a is larger than 10\")\n",
    "else:\n",
    "    print(\"a equals 10\")\n",
    "\n",
    "\n",
    "if a == 1:\n",
    "    print(\"a equals one\")\n",
    "elif a == 2:\n",
    "    print(\"a equals two\")"
   ]
  },
  {
   "cell_type": "markdown",
   "metadata": {},
   "source": [
    "## Logical operators\n",
    "\n",
    "- Conditions can be joined and inverted using `and`, `or` & `not`"
   ]
  },
  {
   "cell_type": "code",
   "execution_count": 14,
   "metadata": {},
   "outputs": [
    {
     "name": "stdout",
     "output_type": "stream",
     "text": [
      "a is between 5 and 10\n",
      "Yes\n",
      "a is smaller than 10\n"
     ]
    }
   ],
   "source": [
    "a = 6\n",
    "\n",
    "if a < 10 and a > 5:\t\t\t# Both conditions evaluated as True    \n",
    "    print(\"a is between 5 and 10\")\n",
    "\n",
    "a = \"Y\"\n",
    "\n",
    "if a == \"yes\" or a == \"Y\":\t\t\t# One or both conditions are True   \n",
    "    print(\"Yes\")\n",
    "\n",
    "a = 6\n",
    "\n",
    "if not int(a) >= 10:\t\t\t\t# Condition evaluated as False    \n",
    "    print(\"a is smaller than 10\")\n"
   ]
  },
  {
   "cell_type": "markdown",
   "metadata": {},
   "source": [
    "## Repetition structures\n",
    "\n",
    "### Loops: while\n",
    "\n",
    "- `while` repeats the code block as long as the condition evaluates as True"
   ]
  },
  {
   "cell_type": "code",
   "execution_count": 15,
   "metadata": {},
   "outputs": [
    {
     "name": "stdout",
     "output_type": "stream",
     "text": [
      "1\n",
      "2\n",
      "3\n",
      "4\n",
      "5\n"
     ]
    }
   ],
   "source": [
    "i = 1\n",
    "while i <= 5:    \n",
    "    print(i)    \n",
    "    i = i + 1\n"
   ]
  },
  {
   "cell_type": "code",
   "execution_count": 16,
   "metadata": {},
   "outputs": [
    {
     "name": "stdout",
     "output_type": "stream",
     "text": [
      "Your number is 5\n"
     ]
    }
   ],
   "source": [
    "number = int(input(\"Give a number 1-6:\"))\n",
    "                   \n",
    "while number < 1 or number > 6:\n",
    "    print(\"Number is not between 1-6\")\n",
    "    number = int(input(\"Give a number 1-6:\"))\n",
    "                       \n",
    "print(\"Your number is\", number)"
   ]
  },
  {
   "cell_type": "markdown",
   "metadata": {},
   "source": [
    "- Nothing prevents us from creating an infinite loop"
   ]
  },
  {
   "cell_type": "code",
   "execution_count": null,
   "metadata": {},
   "outputs": [],
   "source": [
    "i = 1\n",
    "while i <= 5:\n",
    "    print(i)\n"
   ]
  },
  {
   "cell_type": "markdown",
   "metadata": {},
   "source": [
    "- A loop can be interrupted with the keyword `break`\n",
    "- `break` can be placed inside other structures and will only interrupt the innermost loop\n"
   ]
  },
  {
   "cell_type": "code",
   "execution_count": 17,
   "metadata": {},
   "outputs": [
    {
     "name": "stdout",
     "output_type": "stream",
     "text": [
      "1\n",
      "2\n",
      "3\n",
      "4\n",
      "5\n"
     ]
    }
   ],
   "source": [
    "i = 1\n",
    "while True:\n",
    "    print(i)\n",
    "    if i == 5:\n",
    "        break\n",
    "    i = i + 1\n"
   ]
  },
  {
   "cell_type": "markdown",
   "metadata": {},
   "source": [
    "### Loops: for\n",
    "\n",
    "- `for` repeats the code block for each item in the sequence\n",
    "- The `<item>` is a variable, which is given a new value for each iteration\n"
   ]
  },
  {
   "cell_type": "code",
   "execution_count": 18,
   "metadata": {},
   "outputs": [
    {
     "name": "stdout",
     "output_type": "stream",
     "text": [
      "banana\n",
      "pear\n",
      "apple\n"
     ]
    }
   ],
   "source": [
    "fruits = [\"banana\", \"pear\", \"apple\"]\n",
    "\n",
    "for fruit in fruits:\n",
    "    print(fruit)"
   ]
  },
  {
   "cell_type": "code",
   "execution_count": 20,
   "metadata": {},
   "outputs": [
    {
     "name": "stdout",
     "output_type": "stream",
     "text": [
      "A\n",
      "a\n",
      "l\n",
      "t\n",
      "o\n",
      "E\n",
      "E\n"
     ]
    }
   ],
   "source": [
    "word = \"AaltoEE\"\n",
    "\n",
    "for letter in word:\n",
    "    print(letter)\n"
   ]
  },
  {
   "cell_type": "markdown",
   "metadata": {},
   "source": [
    "- `range`-function can be used to create sequences of numbers\n",
    "- The last returned item is always one smaller than the stop argument\n",
    "- Python indexing starts from 0, but we usually want to repeat things n times\n"
   ]
  },
  {
   "cell_type": "code",
   "execution_count": 21,
   "metadata": {},
   "outputs": [
    {
     "name": "stdout",
     "output_type": "stream",
     "text": [
      "Repeated 1 times\n",
      "Repeated 2 times\n",
      "Repeated 3 times\n",
      "Repeated 4 times\n",
      "Repeated 5 times\n"
     ]
    }
   ],
   "source": [
    "range(5)        #  numbers 0, 1, 2, 3, 4\n",
    "range(2, 5)     #  numbers 2, 3, 4\n",
    "range(2, 8, 2)  #  numbers 2, 4, 6\n",
    "range(8, 2, -2) #  numbers 8, 6, 4\n",
    "\n",
    "for i in range(5):\n",
    "    print(f\"Repeated {i + 1} times\")\n"
   ]
  },
  {
   "cell_type": "code",
   "execution_count": 22,
   "metadata": {},
   "outputs": [
    {
     "name": "stdout",
     "output_type": "stream",
     "text": [
      "0\n",
      "1\n",
      "2\n",
      "3\n",
      "4\n"
     ]
    }
   ],
   "source": [
    "for i in range(5):\n",
    "    print(i)\n"
   ]
  },
  {
   "cell_type": "code",
   "execution_count": 23,
   "metadata": {},
   "outputs": [
    {
     "name": "stdout",
     "output_type": "stream",
     "text": [
      "2\n",
      "4\n",
      "6\n",
      "8\n",
      "10\n",
      "12\n",
      "14\n",
      "16\n",
      "18\n",
      "20\n"
     ]
    }
   ],
   "source": [
    "i = 2\n",
    "for loop_idx in range(1, 11):\n",
    "    result = i * loop_idx\n",
    "    print(result)\n"
   ]
  },
  {
   "cell_type": "markdown",
   "metadata": {},
   "source": [
    "- Control structures can be nested as required"
   ]
  },
  {
   "cell_type": "code",
   "execution_count": 24,
   "metadata": {},
   "outputs": [
    {
     "name": "stdout",
     "output_type": "stream",
     "text": [
      "I'll print numbers 1-5:\n",
      "1\n",
      "2\n",
      "3\n",
      "4\n",
      "5\n"
     ]
    }
   ],
   "source": [
    "while True:\n",
    "    print(\"I'll print numbers 1-5:\")\n",
    "    for i in range(1, 6):\n",
    "        print(i)\n",
    "    end = input(\"Again? yes / no\")\n",
    "    if end == \"no\":\n",
    "        break"
   ]
  },
  {
   "cell_type": "code",
   "execution_count": null,
   "metadata": {},
   "outputs": [],
   "source": []
  }
 ],
 "metadata": {
  "kernelspec": {
   "display_name": "base",
   "language": "python",
   "name": "python3"
  },
  "language_info": {
   "codemirror_mode": {
    "name": "ipython",
    "version": 3
   },
   "file_extension": ".py",
   "mimetype": "text/x-python",
   "name": "python",
   "nbconvert_exporter": "python",
   "pygments_lexer": "ipython3",
   "version": "3.8.16"
  },
  "orig_nbformat": 4
 },
 "nbformat": 4,
 "nbformat_minor": 2
}
