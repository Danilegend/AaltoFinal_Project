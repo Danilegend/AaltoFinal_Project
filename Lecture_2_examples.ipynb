{
 "cells": [
  {
   "cell_type": "markdown",
   "id": "e3407f2b-3df5-4bdb-8765-3ac91e85d9ef",
   "metadata": {},
   "source": [
    "# Day 2: Programming with Python\n",
    "### Examples from the slides"
   ]
  },
  {
   "cell_type": "markdown",
   "id": "68901f7a-66d9-42f1-aada-276a916312a2",
   "metadata": {
    "tags": []
   },
   "source": [
    "## Basic data types and type conversions\n",
    "\n",
    "- A value can be converted (\"cast\") to another type using a type casting function, for example `int(<value>)`, which will return the value in a different type."
   ]
  },
  {
   "cell_type": "code",
   "execution_count": null,
   "id": "29d4fa22-6207-4745-b0dc-9eb0b9b8ea2d",
   "metadata": {},
   "outputs": [],
   "source": [
    "# Cast int -> str\n",
    "print(int(\"12\"))\n",
    "\n",
    "# Cast float -> int\n",
    "print(int(3.14))\n",
    "\n",
    "# Cast int -> str\n",
    "print(str(10))\n",
    "\n",
    "# Cast float -> str\n",
    "print(str(3.14))\n",
    "\n",
    "# Cast int -> float\n",
    "print(float(1))\n",
    "\n",
    "# Cast str -> float\n",
    "print(float(\"12.4\"))\n",
    "\n",
    "# Cast str -> bool\n",
    "bool(\"no\")\n",
    "\n",
    "# Cast int -> bool\n",
    "print(bool(0))\n",
    "\n",
    "# Error, a string with anything other than numbers and\n",
    "# a decimal point cannot be converted to a floating-point number\n",
    "print(float(\"one\"))"
   ]
  },
  {
   "cell_type": "markdown",
   "id": "67b88d85-a681-4d28-9aff-57548ba8ba8e",
   "metadata": {},
   "source": [
    "## Arithmetic operators\n",
    "\n",
    "- The data type of the result depends on the operator and the operands (input values)"
   ]
  },
  {
   "cell_type": "code",
   "execution_count": null,
   "id": "c2f26174-bdd7-4840-ab2a-6110c9530cb3",
   "metadata": {},
   "outputs": [],
   "source": [
    "print(2 + 7)\n",
    "\n",
    "print(2 + 7.0)\n",
    "\n",
    "print(1.0 + 1.0)\n",
    "\n",
    "print(2**3)\n",
    "\n",
    "print(9 / 4)\n",
    "\n",
    "print(7 // 2)\n",
    "\n",
    "print(7 % 2) "
   ]
  },
  {
   "cell_type": "markdown",
   "id": "db0c9673-7ae2-4c29-bd56-bd9607b2c7a5",
   "metadata": {},
   "source": [
    "## Comparison operators\n",
    "\n",
    "- Comparison operators are useful for controlling the program flow\n",
    "- Comparison operators return a boolean value (`True` or `False`)"
   ]
  },
  {
   "cell_type": "code",
   "execution_count": null,
   "id": "529ef0ff-271f-4074-b232-9cad96d416ca",
   "metadata": {},
   "outputs": [],
   "source": [
    "print(1 == 1)\n",
    "\n",
    "print(1 != 2)\n",
    "\n",
    "print(2 < 1)\n",
    "\n",
    "print(2 > 1.0)\n",
    "\n",
    "print(3 >= 3)\n",
    "\n",
    "print(2.2 <= 1)\n",
    "\n",
    "# Comparison operators can also be chained to check if a value is between numbers\n",
    "print(2.2 < 10 < 20)\n",
    "\n",
    "# Data types matter here as well!\n",
    "print(\"2\" > 1)"
   ]
  },
  {
   "cell_type": "markdown",
   "id": "e6157c38-a72e-47c8-91fa-751418e8e4bf",
   "metadata": {},
   "source": [
    "## Variables\n",
    "\n",
    "- A variable can be used to save information during program execution\n",
    "- A variable is created and updated using a single equal sign `=` "
   ]
  },
  {
   "cell_type": "code",
   "execution_count": null,
   "id": "5737def5-b650-4cac-ac23-717144ec457b",
   "metadata": {},
   "outputs": [],
   "source": [
    "variable = \"Example text\"\n",
    "num_var  = 12.59\n",
    "sq_area  = 10 * 10"
   ]
  },
  {
   "cell_type": "code",
   "execution_count": null,
   "id": "5a83b686-ff30-45bc-a178-cc6688cdba8d",
   "metadata": {},
   "outputs": [],
   "source": [
    "number_1 = 12\n",
    "print(type(number_1))\n",
    "\n",
    "text_var = \"hello\"\n",
    "print(type(text_var))\n",
    "\n",
    "list_var = [1, 2, 3]\n",
    "print(type(list_var))\n",
    "\n",
    "my_var = 12\n",
    "print(type(my_var))\n",
    "\n",
    "my_var = 1.2\n",
    "print(type(my_var))\n",
    "\n",
    "My_var = \"x\"\n",
    "print(type(my_var))"
   ]
  },
  {
   "cell_type": "code",
   "execution_count": null,
   "id": "47aabc88-e724-454d-a9b0-7c3d874cbf35",
   "metadata": {},
   "outputs": [],
   "source": [
    "# Values saved in variables are preserved from one Jupyter code box to another\n",
    "print(my_var)"
   ]
  },
  {
   "cell_type": "markdown",
   "id": "6630921a-65b0-4cbd-b75d-d40bf57124c6",
   "metadata": {},
   "source": [
    "## Input and output\n",
    "\n",
    "- Text and data can be shown on screen using the function `print()`. The function can handle multiple input parameters separated by a comma `,`\n",
    "- The user can be prompted for input using the function `input()`. The function always returns a string (`str`), hence the programmer has to cast the value to an appropriate data type."
   ]
  },
  {
   "cell_type": "code",
   "execution_count": null,
   "id": "a1986838-f81f-4df6-82a1-1308ede19add",
   "metadata": {},
   "outputs": [],
   "source": [
    "print(\"Hello world\")\n",
    "\n",
    "var_name = 10\n",
    "print(\"The value saved in variable is\", var_name)\n",
    "\n",
    "print(\"The area is\", 2 * 10)"
   ]
  },
  {
   "cell_type": "markdown",
   "id": "a3e2749f-b542-4763-b749-5a7448c9f07a",
   "metadata": {},
   "source": [
    "- An output string can be built in many ways, for example by concatenating strings (`str`) with `+`-operator and so-called f-strings, in which the value or the variable is placed inside curly braces `{}` among the string"
   ]
  },
  {
   "cell_type": "code",
   "execution_count": null,
   "id": "35102d29-3614-46c6-ab64-c2d03bc94d63",
   "metadata": {},
   "outputs": [],
   "source": [
    "volume = 100\n",
    "print(\"The volume is \" + str(volume) + \" cubic meters\")\n",
    "\n",
    "area = 10\n",
    "print(f\"The areas is {area} square meters\")"
   ]
  },
  {
   "cell_type": "code",
   "execution_count": null,
   "id": "af3d6525-e048-48c0-8726-f75810f5dbd4",
   "metadata": {},
   "outputs": [],
   "source": [
    "var = input()\n",
    "\n",
    "pwd = input(\"Password:\")\n",
    "\n",
    "length = input(\"Side length: \")\n",
    "print(type(length))\n",
    "\n",
    "length = int(input(\"Side length: \"))\n",
    "print(type(length))"
   ]
  },
  {
   "cell_type": "code",
   "execution_count": null,
   "id": "d3817a93",
   "metadata": {},
   "outputs": [],
   "source": [
    "print(\"Comma\", \"inserts\", \"spaces\")"
   ]
  },
  {
   "cell_type": "code",
   "execution_count": null,
   "id": "3e32ac1b",
   "metadata": {},
   "outputs": [],
   "source": [
    "name = input(\"What's your name?\\n\")\n",
    "print(\"My name is\", name)"
   ]
  },
  {
   "cell_type": "code",
   "execution_count": null,
   "id": "cc7d56d2",
   "metadata": {},
   "outputs": [],
   "source": [
    "area = 5**2\n",
    "print(\"The area is\" + area)"
   ]
  },
  {
   "cell_type": "code",
   "execution_count": null,
   "id": "f8e8d7c6",
   "metadata": {},
   "outputs": [],
   "source": [
    "print(\"The area is \" + str(area) + \"sqm\")"
   ]
  },
  {
   "cell_type": "code",
   "execution_count": null,
   "id": "68285661",
   "metadata": {},
   "outputs": [],
   "source": [
    "area = 5**2\n",
    "print(f\"The area is {area} sqm\")"
   ]
  },
  {
   "cell_type": "code",
   "execution_count": null,
   "id": "299ca564",
   "metadata": {},
   "outputs": [],
   "source": [
    "units = \"sqm\"\n",
    "print(f\"The area\", \"is\" + f\" {5**2} {units}\")"
   ]
  },
  {
   "cell_type": "code",
   "execution_count": null,
   "id": "7e470535",
   "metadata": {},
   "outputs": [],
   "source": [
    "usr = \"jake\"\n",
    "ip = \"192.168.100.1\"\n",
    "port = 200\n",
    "\n",
    "print(f\"Username: {usr}, IP:{ip}:{port}\")"
   ]
  },
  {
   "cell_type": "markdown",
   "id": "cb0f8f4a-e2f2-448b-8a42-ab2b3b8d1a33",
   "metadata": {},
   "source": [
    "## Commenting\n",
    "\n",
    "- A comment line begins with the 'hash' \\#\n",
    "- A multiline comment begins and ends with three quotation marks \" or '"
   ]
  },
  {
   "cell_type": "code",
   "execution_count": null,
   "id": "0453987e-3689-4102-a7c1-fbbf1a84af04",
   "metadata": {},
   "outputs": [],
   "source": [
    "# Calculate and print area\n",
    "area = 10 * 10\n",
    "print(area)\n",
    "\n",
    "# Add height to calculate volume\n",
    "#height = int(input(\"Height: \"))\n",
    "height = 10\n",
    "volume = area * height\n",
    "print(\"Volume is\", volume)"
   ]
  },
  {
   "cell_type": "code",
   "execution_count": null,
   "id": "3f2f34e5-a005-4425-97f0-1320f9f92daf",
   "metadata": {},
   "outputs": [],
   "source": [
    "'''\n",
    "Calculate box volume using formula\n",
    "V = A * H\n",
    "'''\n",
    "\n",
    "area = 10\n",
    "height = 5\n",
    "volume = area * height\n",
    "print(\"Volume is\", volume)\n",
    "\n",
    "\"\"\"\n",
    "This is a multiline comment with quotes\n",
    "\"\"\"\n",
    "\n",
    "1 + 1"
   ]
  },
  {
   "cell_type": "markdown",
   "id": "31c74fc9",
   "metadata": {},
   "source": [
    "## Errors\n",
    "\n",
    "Errors can be categorized as syntax errors, logical errors or runtime errors. Here are examples of each category:"
   ]
  },
  {
   "cell_type": "code",
   "execution_count": null,
   "id": "f17e2bac",
   "metadata": {},
   "outputs": [],
   "source": [
    "password = input(\"Password:)"
   ]
  },
  {
   "cell_type": "code",
   "execution_count": null,
   "id": "7be69286",
   "metadata": {},
   "outputs": [],
   "source": [
    "answer = input(\"yes or no:\")\n",
    "\n",
    "print(\"The answer was yes:\", answer == \"no\")"
   ]
  },
  {
   "cell_type": "code",
   "execution_count": null,
   "id": "4aace3fc",
   "metadata": {},
   "outputs": [],
   "source": [
    "a = 6\n",
    "b = input(\"Give a number to add: \")\n",
    "\n",
    "print(\"Result:\", a + b)"
   ]
  }
 ],
 "metadata": {
  "kernelspec": {
   "display_name": "Python 3 (ipykernel)",
   "language": "python",
   "name": "python3"
  },
  "language_info": {
   "codemirror_mode": {
    "name": "ipython",
    "version": 3
   },
   "file_extension": ".py",
   "mimetype": "text/x-python",
   "name": "python",
   "nbconvert_exporter": "python",
   "pygments_lexer": "ipython3",
   "version": "3.10.9"
  }
 },
 "nbformat": 4,
 "nbformat_minor": 5
}
