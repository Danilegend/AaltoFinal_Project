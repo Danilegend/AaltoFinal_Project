{
 "cells": [
  {
   "cell_type": "markdown",
   "id": "ecedc5a2-0cf6-4654-a2b4-e7c38dbae685",
   "metadata": {},
   "source": [
    "# Chapter 5 Solutions - Data structures\n",
    "\n",
    "#### Exercise 1\n",
    "\n",
    "*Create a dictionary representing a book, with keys for title, author, and year published. Then print each value using its key.*"
   ]
  },
  {
   "cell_type": "code",
   "execution_count": null,
   "id": "25a522bc-ba29-45f4-8f4e-28f09310758b",
   "metadata": {},
   "outputs": [],
   "source": [
    "# Create a dictionary representing a book\n",
    "book = {\n",
    "    \"title\": \"To Kill a Mockingbird\",\n",
    "    \"author\": \"Harper Lee\",\n",
    "    \"year_published\": 1960\n",
    "}\n",
    "\n",
    "# Print each value using its key\n",
    "print(\"Title:\", book[\"title\"])\n",
    "print(\"Author:\", book[\"author\"])\n",
    "print(\"Year Published:\", book[\"year_published\"])"
   ]
  },
  {
   "cell_type": "markdown",
   "id": "8bbe28e9-340e-48b0-a491-9c6391d82793",
   "metadata": {},
   "source": [
    "#### Exercise 2\n",
    "\n",
    "*Given the dictionary grades, add a key-value pair for a new student and update the grade of an existing student.*"
   ]
  },
  {
   "cell_type": "code",
   "execution_count": null,
   "id": "29daefa8-57a1-49f1-b4f2-59be64e3715e",
   "metadata": {},
   "outputs": [],
   "source": [
    "# Initial dictionary\n",
    "grades = {\"Alice\": 85, \"Bob\": 90, \"Charlie\": 78}\n",
    "\n",
    "# Add a new student\n",
    "grades[\"David\"] = 88\n",
    "\n",
    "# Update the grade of an existing student (e.g., Bob)\n",
    "grades[\"Bob\"] = 95\n",
    "\n",
    "# Display the updated dictionary\n",
    "print(grades)"
   ]
  },
  {
   "cell_type": "markdown",
   "id": "b493bab8-1cd8-4d31-a48e-2be12bb222f2",
   "metadata": {},
   "source": [
    "#### Exercise 3\n",
    "\n",
    "*Create a dictionary representing a student database, where each key is a student’s name and the value is another dictionary containing their age, major, and a list of their courses. Implement functionality to add new students, update existing student information, and delete a student from the database. The initial database is given to to you, to which you should do each modification functionality (add, modify, remove) at least once.*"
   ]
  },
  {
   "cell_type": "code",
   "execution_count": null,
   "id": "1bedd22a-328a-4b04-a982-8ef908ff77ce",
   "metadata": {},
   "outputs": [],
   "source": [
    "# Initial student database\n",
    "students = {\n",
    "    \"Alice\": {\n",
    "        \"age\": 20,\n",
    "        \"major\": \"Computer Science\",\n",
    "        \"courses\": [\"CS101\", \"MATH120\", \"ENG200\"]\n",
    "    },\n",
    "    \"Bob\": {\n",
    "        \"age\": 22,\n",
    "        \"major\": \"Mathematics\",\n",
    "        \"courses\": [\"MATH120\", \"MATH240\", \"PHYS150\"]\n",
    "    }\n",
    "}\n",
    "\n",
    "# Function to add a new student\n",
    "def add_student(name, age, major, courses):\n",
    "    students[name] = {\n",
    "        \"age\": age,\n",
    "        \"major\": major,\n",
    "        \"courses\": courses\n",
    "    }\n",
    "\n",
    "# Function to update an existing student\"s information\n",
    "def update_student(name, age=None, major=None, courses=None):\n",
    "    if name in students:\n",
    "        if age is not None:\n",
    "            students[name][\"age\"] = age\n",
    "        if major is not None:\n",
    "            students[name][\"major\"] = major\n",
    "        if courses is not None:\n",
    "            students[name][\"courses\"] = courses\n",
    "    else:\n",
    "        print(f\"Student {name} not found in the database.\")\n",
    "\n",
    "# Function to delete a student from the database\n",
    "def delete_student(name):\n",
    "    if name in students:\n",
    "        del students[name]\n",
    "    else:\n",
    "        print(f\"Student {name} not found in the database.\")\n",
    "\n",
    "# Adding a new student\n",
    "add_student(\"Charlie\", 21, \"Physics\", [\"PHYS101\", \"MATH120\", \"CS101\"])\n",
    "\n",
    "# Updating an existing student\"s information\n",
    "update_student(\"Alice\", age=21, courses=[\"CS101\", \"MATH120\", \"ENG200\", \"HIST210\"])\n",
    "\n",
    "# Deleting a student from the database\n",
    "delete_student(\"Bob\")\n",
    "\n",
    "# Display the updated student database\n",
    "print(students)"
   ]
  },
  {
   "cell_type": "markdown",
   "id": "8a29a18d-b9e4-46e1-a7fa-dd19bab951b6",
   "metadata": {},
   "source": [
    "#### Exercise 4\n",
    "\n",
    "*Create a tuple with the values ‘apple’, ‘banana’, and ‘cherry’. Print the second value.*"
   ]
  },
  {
   "cell_type": "code",
   "execution_count": null,
   "id": "a8dc1f3b-0a5f-4511-8bff-f4588c7226e5",
   "metadata": {},
   "outputs": [],
   "source": [
    "# Create a tuple\n",
    "fruits = (\"apple\", \"banana\", \"cherry\")\n",
    "\n",
    "# Print the second value\n",
    "print(fruits[1])"
   ]
  },
  {
   "cell_type": "markdown",
   "id": "343f3e2c-46ba-4264-8e13-26296cfa0772",
   "metadata": {},
   "source": [
    "#### Exercise 5\n",
    "\n",
    "*Given the tuple numbers, count how many times the number 4 appears.*"
   ]
  },
  {
   "cell_type": "code",
   "execution_count": null,
   "id": "8bd28b68-3e28-4e3c-b6b2-a26ec4c3eb09",
   "metadata": {},
   "outputs": [],
   "source": [
    "numbers = (4, 2, 4, 3, 4, 5, 4)\n",
    "count_of_fours = numbers.count(4)\n",
    "print(count_of_fours)"
   ]
  },
  {
   "cell_type": "markdown",
   "id": "4dc97163-5b2a-4c5e-96e3-f65276f9b818",
   "metadata": {},
   "source": [
    "#### Exercise 6\n",
    "\n",
    "*Create a function that takes a tuple of numbers as a parameter, and returns a new tuple with only the unique values, preserving the order of the numbers\" first occurrence.*"
   ]
  },
  {
   "cell_type": "code",
   "execution_count": null,
   "id": "69e0e958-7def-428c-ac1a-d3db3fa802f8",
   "metadata": {},
   "outputs": [],
   "source": [
    "def remove_tuple_duplicates(numbers):\n",
    "    unique_numbers = []\n",
    "    \n",
    "    for number in numbers:\n",
    "        if number not in unique_numbers:\n",
    "            unique_numbers.append(number)\n",
    "    \n",
    "    return tuple(unique_numbers)\n",
    "    \n",
    "my_tuple = (1, 5, 7, 5, 2, 1, 0, 1)\n",
    "result = remove_tuple_duplicates(my_tuple)\n",
    "print(result)"
   ]
  },
  {
   "cell_type": "markdown",
   "id": "6603eae2-3d23-43fc-996d-ea12ffc81ecd",
   "metadata": {},
   "source": [
    "#### Exercise 7\n",
    "\n",
    "*Create a set with the values 1, 2, 3, and 4. Then add the value 5 and remove the value 2.*"
   ]
  },
  {
   "cell_type": "code",
   "execution_count": null,
   "id": "ff9261e5-8bb6-45c1-8879-7b3a1b40cbd9",
   "metadata": {},
   "outputs": [],
   "source": [
    "my_set = {1, 2, 3, 4}\n",
    "my_set.add(5)\n",
    "my_set.remove(2)\n",
    "print(my_set)"
   ]
  },
  {
   "cell_type": "markdown",
   "id": "85535519-63f3-49db-a487-58039a2e4998",
   "metadata": {},
   "source": [
    "#### Exercise 8\n",
    "\n",
    "*Given the sets a and b, find their union and intersection.*"
   ]
  },
  {
   "cell_type": "code",
   "execution_count": null,
   "id": "2233b1d1-a1db-4eee-a850-428ef3ef217f",
   "metadata": {},
   "outputs": [],
   "source": [
    "a = {1, 2, 3}\n",
    "b = {2, 3, 4}\n",
    "\n",
    "union_set = a.union(b)\n",
    "\n",
    "intersection_set = a.intersection(b)\n",
    "\n",
    "print(\"Union:\", union_set)\n",
    "print(\"Intersection:\", intersection_set)"
   ]
  },
  {
   "cell_type": "markdown",
   "id": "0d02d032-6dbb-42e8-9cce-6106b46bceb1",
   "metadata": {},
   "source": [
    "#### Exercise 9\n",
    "*Create two sets, one containing the first 10 positive integers and the other containing the first 10 positive even numbers. Perform and print the results of union, intersection, and difference operations on these sets.*"
   ]
  },
  {
   "cell_type": "code",
   "execution_count": null,
   "id": "89fe3066-5430-41cb-9ef8-6154ead6b6c6",
   "metadata": {},
   "outputs": [],
   "source": [
    "# Create the first set with the first 10 positive integers\n",
    "set1 = set(range(1, 11))\n",
    "\n",
    "# Create the second set with the first 10 even numbers\n",
    "set2 = set(range(2, 21, 2))\n",
    "\n",
    "union_result = set1.union(set2)\n",
    "\n",
    "intersection_result = set1.intersection(set2)\n",
    "\n",
    "# Perform the difference operation (elements in set1 not in set2)\n",
    "difference_result = set1.difference(set2)\n",
    "\n",
    "print(\"Set 1:\", set1)\n",
    "print(\"Set 2:\", set2)\n",
    "print(\"Union:\", union_result)\n",
    "print(\"Intersection:\", intersection_result)\n",
    "print(\"Difference (set1 - set2):\", difference_result)"
   ]
  },
  {
   "cell_type": "markdown",
   "id": "ad96d41f-3467-4cd0-841b-71c87945ca5d",
   "metadata": {},
   "source": [
    "#### Exercise 10\n",
    "\n",
    "*Create a NamedTuple called Car with fields make, model, and year. Create one instance of it with values, and print each field.*"
   ]
  },
  {
   "cell_type": "code",
   "execution_count": null,
   "id": "27e5de93-3528-4768-8989-f99243f17107",
   "metadata": {},
   "outputs": [],
   "source": [
    "from collections import namedtuple\n",
    "\n",
    "Car = namedtuple(\"Car\", [\"make\", \"model\", \"year\"])\n",
    "\n",
    "my_car = Car(make=\"Toyota\", model=\"Corolla\", year=2020)\n",
    "\n",
    "print(\"Make:\", my_car.make)\n",
    "print(\"Model:\", my_car.model)\n",
    "print(\"Year:\", my_car.year)"
   ]
  },
  {
   "cell_type": "markdown",
   "id": "0431a024-bf30-4059-9259-d8a18d5c7d8f",
   "metadata": {},
   "source": [
    "#### Exercise 11\n",
    "\n",
    "*Create a NamedTuple Employee with fields name, age, and position, create an instance and then replace the position field with a new value.*"
   ]
  },
  {
   "cell_type": "code",
   "execution_count": null,
   "id": "19c2fd87-d68c-446b-95a6-b32296b87b7a",
   "metadata": {},
   "outputs": [],
   "source": [
    "from collections import namedtuple\n",
    "\n",
    "Employee = namedtuple(\"Employee\", [\"name\", \"age\", \"position\"])\n",
    "\n",
    "employee = Employee(name=\"John Doe\", age=30, position=\"Developer\")\n",
    "\n",
    "# Replace the position field with a new value\n",
    "employee = employee._replace(position=\"Manager\")\n",
    "\n",
    "print(employee)"
   ]
  },
  {
   "cell_type": "markdown",
   "id": "4862aaca-74c3-4b15-a893-f163de9562ba",
   "metadata": {},
   "source": [
    "#### Exercise 12\n",
    "\n",
    "*Create a Counter from the list fruits and print the two most common elements.*"
   ]
  },
  {
   "cell_type": "code",
   "execution_count": null,
   "id": "a8d59abd-efcc-4771-b7a3-f550af929342",
   "metadata": {},
   "outputs": [],
   "source": [
    "from collections import Counter\n",
    "\n",
    "fruits = [\"apple\", \"banana\", \"apple\", \"orange\", \"banana\", \"apple\"]\n",
    "fruit_counter = Counter(fruits)\n",
    "most_common_fruits = fruit_counter.most_common(2)\n",
    "\n",
    "print(most_common_fruits)"
   ]
  },
  {
   "cell_type": "markdown",
   "id": "f148e8af-877b-4f7f-a2a7-27e7a594c9af",
   "metadata": {},
   "source": [
    "#### Exercise 13\n",
    "\n",
    "*Given the Counter counts, subtract another Counter with values {1: 1, 3: 1} and print the result.*"
   ]
  },
  {
   "cell_type": "code",
   "execution_count": null,
   "id": "7058d5e1-3bbf-4c6a-91c8-a40c42690310",
   "metadata": {},
   "outputs": [],
   "source": [
    "from collections import Counter\n",
    "\n",
    "counts = Counter([1, 1, 1, 3, 4, 9, 16, 3])\n",
    "counts2 = Counter([1, 3])\n",
    "counts.subtract(counts2)\n",
    "print(counts)"
   ]
  },
  {
   "cell_type": "markdown",
   "id": "2a7aaa0b-5c49-42cb-8fcf-e7fade73eec1",
   "metadata": {},
   "source": [
    "#### Exercise 14\n",
    "\n",
    "*Create a function that takes a string of text and returns a Counter of the frequency of each word in the text. The function should ignore case.*"
   ]
  },
  {
   "cell_type": "code",
   "execution_count": null,
   "id": "013b379a-3d50-43d4-a445-b8dd8a3f724d",
   "metadata": {},
   "outputs": [],
   "source": [
    "from collections import Counter\n",
    "\n",
    "def word_frequency(text):\n",
    "    # Convert the text to lowercase to ignore case\n",
    "    text = text.lower()\n",
    "    \n",
    "    # Remove punctuation by replacing them with spaces\n",
    "    for char in \".,!?;:\":\n",
    "        text = text.replace(char, \" \")\n",
    "    \n",
    "    # Split the text into words\n",
    "    words = text.split()\n",
    "    \n",
    "    # Create a Counter object to count the frequency of each word\n",
    "    return Counter(words)\n",
    "\n",
    "text = \"Hello, test world! Everyone, hello. This is a test. This is only a TEST.\"\n",
    "print(word_frequency(text))"
   ]
  },
  {
   "cell_type": "markdown",
   "id": "da31f8c0-3dd1-4654-9720-9850270bc66d",
   "metadata": {},
   "source": [
    "#### Exercise 15\n",
    "\n",
    "*Create a stack and push the values 1, 2, and 3 onto it. Then pop one value and print the stack.*"
   ]
  },
  {
   "cell_type": "code",
   "execution_count": null,
   "id": "3d5ce7e3-e8b3-4ed9-b696-3f8e171d4f96",
   "metadata": {},
   "outputs": [],
   "source": [
    "stack = []\n",
    "\n",
    "stack.append(1)\n",
    "stack.append(2)\n",
    "stack.append(3)\n",
    "\n",
    "popped_value = stack.pop()\n",
    "\n",
    "print(\"Stack after popping one value:\", stack)\n",
    "print(\"Popped value:\", popped_value)"
   ]
  },
  {
   "cell_type": "markdown",
   "id": "e74af6cc-0fad-456b-8cff-35071b6b58e0",
   "metadata": {},
   "source": [
    "#### Exercise 16\n",
    "\n",
    "*Implement a function `reverse_string` that takes a string as input and uses a stack to reverse the characters in the string, which the function returns. Hint: A string can be changed to a list with the function `list()`.*"
   ]
  },
  {
   "cell_type": "code",
   "execution_count": null,
   "id": "028f8620-7e54-439a-8f25-e7a31079f082",
   "metadata": {},
   "outputs": [],
   "source": [
    "def reverse_string(s):\n",
    "    # Create a stack by converting the string to a list of characters\n",
    "    stack = list(s)\n",
    "    \n",
    "    # Create an empty string to store the reversed characters\n",
    "    reversed_s = \"\"\n",
    "    \n",
    "    # Pop each character from the stack and add it to the reversed string\n",
    "    while stack:\n",
    "        reversed_s += stack.pop()\n",
    "    \n",
    "    return reversed_s\n",
    "    \n",
    "s = \"hello\"\n",
    "print(reverse_string(s))"
   ]
  },
  {
   "cell_type": "markdown",
   "id": "b0b41727-dc71-472d-9d7a-704ceb6706f4",
   "metadata": {},
   "source": [
    "#### Exercise 17\n",
    "\n",
    "*Create a queue by asking the user to input 5 queue values. Then dequeue 2 values and print the queue.*"
   ]
  },
  {
   "cell_type": "code",
   "execution_count": null,
   "id": "c82272b2-b0a9-401c-bc57-9c33543cf1b1",
   "metadata": {},
   "outputs": [],
   "source": [
    "queue = []\n",
    "\n",
    "for i in range(5):\n",
    "    value = input(f\"Enter value {i+1} for the queue: \")\n",
    "    queue.append(value)\n",
    "\n",
    "# Dequeue 2 values\n",
    "dequeued_value1 = queue.pop(0)\n",
    "dequeued_value2 = queue.pop(0)\n",
    "\n",
    "print(\"Queue after dequeuing 2 values:\", queue)"
   ]
  },
  {
   "cell_type": "code",
   "execution_count": null,
   "id": "95fa42fd-21fd-47e3-af29-bce24a3930e8",
   "metadata": {},
   "outputs": [],
   "source": []
  }
 ],
 "metadata": {
  "kernelspec": {
   "display_name": "Python 3 (ipykernel)",
   "language": "python",
   "name": "python3"
  },
  "language_info": {
   "codemirror_mode": {
    "name": "ipython",
    "version": 3
   },
   "file_extension": ".py",
   "mimetype": "text/x-python",
   "name": "python",
   "nbconvert_exporter": "python",
   "pygments_lexer": "ipython3",
   "version": "3.10.9"
  }
 },
 "nbformat": 4,
 "nbformat_minor": 5
}
