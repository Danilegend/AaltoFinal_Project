{
 "cells": [
  {
   "cell_type": "markdown",
   "metadata": {},
   "source": [
    "# Chapter 6: Files and Errors"
   ]
  },
  {
   "cell_type": "markdown",
   "metadata": {},
   "source": [
    "For now we have only worked with data which has been provided for us by the exercise or by a user with the `input()` function.\n",
    "\n",
    "Using Python you can read data from files as well as save data into them. Python can process files of many types such as text, csv, xml, JSON etc. On this course we will be focusing on processing text and csv files.\n",
    "\n",
    "Files make it easier to store information. Data created in a program can be permanently stored inside files. It is much easier to read data such as contact information from a file instead of requesting the user to input the information every time the program is executed."
   ]
  },
  {
   "cell_type": "markdown",
   "metadata": {},
   "source": [
    "Before reading a file the programmer needs to define what file is being processed and open the file using the `open()` function. This function returns a variable with which the file can be processed."
   ]
  },
  {
   "cell_type": "markdown",
   "metadata": {},
   "source": [
    "```Python\n",
    "file = open(filename, mode)\n",
    "```"
   ]
  },
  {
   "cell_type": "markdown",
   "metadata": {},
   "source": [
    "The function takes as arguments the name of the file (`filename`) and the mode of processing (`mode`). The mode of processing defines whether the program is reading data from the file or writing data into the file. If we wish to read data from the file the mode of processing should be `'r'` (read). If instead we wish to write data into the file the mode of processing should be `'w'` (write). If the mode of processing argument is omitted (not given to the function) the default mode will be `'r'`."
   ]
  },
  {
   "cell_type": "markdown",
   "metadata": {},
   "source": [
    "```Python\n",
    "file = open('testfile.txt', 'r')\n",
    "\n",
    "file = open('testfile.txt', 'w')\n",
    "```"
   ]
  },
  {
   "cell_type": "markdown",
   "metadata": {},
   "source": [
    "**Note!** Both the file name and the mode of processing must be given as strings (so written inside quotation marks) so that the function will work properly. They can also be provided as variables and one often sees the file name given using a variable name. Here are two ways of opening a file as an example:\n",
    "\n",
    "```Python\n",
    "filename = 'testfile.txt'\n",
    "file = open(filename, 'r')\n",
    "######\n",
    "file = open('testfile.txt', 'r')\n",
    "```"
   ]
  },
  {
   "cell_type": "markdown",
   "metadata": {},
   "source": [
    "## Reading a file line by line"
   ]
  },
  {
   "cell_type": "markdown",
   "metadata": {},
   "source": [
    "As stated earlier, a file can be read in its entirety or line by line. Reading a file line by line can be achieved for example by using the method `readline()` of the file variable as follows:"
   ]
  },
  {
   "cell_type": "markdown",
   "metadata": {},
   "source": [
    "```Python\n",
    "file = open('testfile.txt', 'r')\n",
    "row = file.readline()\n",
    "```"
   ]
  },
  {
   "cell_type": "markdown",
   "metadata": {},
   "source": [
    "Here the method is called with `file.readline()`. When calling the method for the first time it returns the first row of the file. Python will keep track with the file variable at which point of the file we are reading so the next time we call the method it will return the second row of the file and so on. When the file has been read to its end the method will return an empty string `\"\"`. If the file contains empty rows the method will return a line break symbol `\\n` and not an empty string."
   ]
  },
  {
   "cell_type": "markdown",
   "metadata": {},
   "source": [
    "## Closing a file"
   ]
  },
  {
   "cell_type": "markdown",
   "metadata": {},
   "source": [
    "After reading a file it must be closed to keep the program functioning correctly. This can easily be forgotten and will lead to an error prompt so in that case remember to check if closing of the file is missing from the code."
   ]
  },
  {
   "cell_type": "markdown",
   "metadata": {},
   "source": [
    "A file is closed using the method `close()`. The method is called in the same manner as the previous `readline()`, for example like `file.close()`. Take note that the name of the file variable can be anything, not just `file`."
   ]
  },
  {
   "cell_type": "markdown",
   "metadata": {},
   "source": [
    "Let's take a look at an example file with four rows, one of which is empty:\n",
    "\n",
    "```Python\n",
    "first row\n",
    "second row\n",
    "\n",
    "fourth row\n",
    "```"
   ]
  },
  {
   "cell_type": "code",
   "execution_count": null,
   "metadata": {},
   "outputs": [],
   "source": [
    "file = open('testfile.txt', 'r')\n",
    "row = file.readline() # read the first line\n",
    "while row != \"\": # readline ends with \"\"\n",
    "    print(row)\n",
    "    row = file.readline() # read the next row \n",
    "file.close()"
   ]
  },
  {
   "cell_type": "markdown",
   "metadata": {},
   "source": [
    "As the example above shows, `readline()` will print an additional line break after every row as it returns the string including a line break symbol for every row. The `print()` function adds a line break automatically which can be seen as an extra row after each row in the file.\n",
    "\n",
    "This can be fixed by using the `rstrip()` method for strings. It will remove the line break character from the ends of the rows as well as all other white space characters such as a space etc."
   ]
  },
  {
   "cell_type": "code",
   "execution_count": null,
   "metadata": {},
   "outputs": [],
   "source": [
    "name = \"testfile.txt\"\n",
    "file = open(name, 'r')\n",
    "row = file.readline()\n",
    "while row != \"\": # readline ends with \"\"\n",
    "    row = row.rstrip()\n",
    "    print(row)\n",
    "    row = file.readline()\n",
    "file.close()"
   ]
  },
  {
   "cell_type": "markdown",
   "metadata": {},
   "source": [
    "Now the print leaves out the extra line breaks."
   ]
  },
  {
   "cell_type": "markdown",
   "metadata": {},
   "source": [
    "#### Exercise 1"
   ]
  },
  {
   "cell_type": "markdown",
   "metadata": {},
   "source": [
    "Read the file `alphabet.txt` line by line and save each row in a string variable named `alphabets`. Then print this string. Remember to remove all additional spaces of line breaks in the ends of the rows."
   ]
  },
  {
   "cell_type": "code",
   "execution_count": null,
   "metadata": {},
   "outputs": [],
   "source": [
    "# your code here"
   ]
  },
  {
   "cell_type": "markdown",
   "metadata": {},
   "source": [
    "## Reading a file using a `for` loop"
   ]
  },
  {
   "cell_type": "markdown",
   "metadata": {},
   "source": [
    "The previous example can also be done using a `for` loop. In this case the loop will go through each line at a time and we won't need to use the `readline()` method.\n",
    "\n",
    "**Note!** If you use a `for` to read through a file you should not use the `readline()` method in the same program as the `for` loop already goes through the file line by line and the file variable tracks the progress."
   ]
  },
  {
   "cell_type": "code",
   "execution_count": null,
   "metadata": {},
   "outputs": [],
   "source": [
    "name = \"testfile.txt\"\n",
    "file = open(name,'r')\n",
    "for row in file: # every row in file\n",
    "    row = row.rstrip()\n",
    "    print(row)\n",
    "file.close()"
   ]
  },
  {
   "cell_type": "markdown",
   "metadata": {},
   "source": [
    "**Example 1:** Name list"
   ]
  },
  {
   "cell_type": "markdown",
   "metadata": {},
   "source": [
    "The program below uses the file 'namelist.txt' from which we will be searching some specific names. The `rstrip()` method is especially important in this program as without it we could not compare the names as every line in the file could contain additional white space characters."
   ]
  },
  {
   "cell_type": "code",
   "execution_count": null,
   "metadata": {},
   "outputs": [],
   "source": [
    "filename = 'namelist.txt'\n",
    "file = open(filename, 'r') # Open the file \n",
    "name = input('Tell me the name you are looking for: \\n') # The name we are looking for\n",
    "for row in file: # Go through the rows in the file\n",
    "    row = row.rstrip() # Remove excess spaces and linebreaks from the end of the line\n",
    "    if row == name: # If the name matches the row in the file\n",
    "        result = True \n",
    "        break # We do not have to go through the file anymore, so we break from the loop\n",
    "    else:\n",
    "        result = False \n",
    "file.close()\n",
    "if result: # Shorter form for if result == True\n",
    "    print('Name', name, 'is on the list.')\n",
    "else: # So result == False\n",
    "    print('Name', name, 'was not found.')"
   ]
  },
  {
   "cell_type": "markdown",
   "metadata": {},
   "source": [
    "The program goes through the file line by line and if a row matches the name in question it changes the value of the `result` variable to `True`. Otherwise the value of the `result` variable will be set as `False`. After the loop the program checks the value of the `result` variable and prints a text accordingly."
   ]
  },
  {
   "cell_type": "markdown",
   "metadata": {},
   "source": [
    "The lines in a file are always read as strings which means that numbers must be converted to integer (`int`) or floating point (`float`) format."
   ]
  },
  {
   "cell_type": "markdown",
   "metadata": {},
   "source": [
    "**Example 2:** The average of grades"
   ]
  },
  {
   "cell_type": "markdown",
   "metadata": {},
   "source": [
    "The program below reads the grades of courses from a file and calculates their average. Notice the conversion of each row string to int."
   ]
  },
  {
   "cell_type": "code",
   "execution_count": null,
   "metadata": {},
   "outputs": [],
   "source": [
    "sum_of_grades = 0\n",
    "count = 0\n",
    "file = open('grades.txt', 'r')\n",
    "for row in file:\n",
    "    row = row.rstrip()\n",
    "    grade = int(row) # Saving grades as integers, because information is read as str\n",
    "    sum_of_grades += grade\n",
    "    count += 1\n",
    "file.close()\n",
    "if count == 0:\n",
    "    print('There is no grades to calculate the mean from.')\n",
    "else:\n",
    "    mean = sum_of_grades / count \n",
    "    print('The mean of the grades:', mean)"
   ]
  },
  {
   "cell_type": "markdown",
   "metadata": {},
   "source": [
    "## Reading the lines of a file into a list"
   ]
  },
  {
   "cell_type": "markdown",
   "metadata": {},
   "source": [
    "A file can also be read through with the method `readlines()` which will save **all rows** in the file to a list (making each row an element in the list). After whis the rows can be processed with a `for` loop."
   ]
  },
  {
   "cell_type": "code",
   "execution_count": null,
   "metadata": {},
   "outputs": [],
   "source": [
    "file = open('namelist.txt', 'r')\n",
    "row_list = file.readlines()\n",
    "file.close()\n",
    "for row in row_list:\n",
    "    row = row.strip()\n",
    "    print(row)"
   ]
  },
  {
   "cell_type": "markdown",
   "metadata": {},
   "source": [
    "As you may already have noticed, both methods `readline()` and `readlines()` as well as the `for` loop structure read data in the `str` format. As a result we can use all string methods such as `split()` and `strip()` (Chapter 6) on the lines read this way. When reading numbers you need to convert them to `int` or `float` format first if you want perform numeric operations on them using Python."
   ]
  },
  {
   "cell_type": "markdown",
   "metadata": {},
   "source": [
    "## Reading a file using `with`"
   ]
  },
  {
   "cell_type": "markdown",
   "metadata": {},
   "source": [
    "A file can also be read using the keyword `with`:\n",
    "\n",
    "```Python\n",
    "with open(filename) as file:\n",
    "```\n",
    "\n",
    "`with` begins a new program block. During the execution of the block the file remains open. `with` keyword is quite user friendly for the programmer as it automatically closes the file when leaving the program block. Using `with` you can either go through the file all at once or line by line with a `for` loop."
   ]
  },
  {
   "cell_type": "code",
   "execution_count": null,
   "metadata": {},
   "outputs": [],
   "source": [
    "with open('namelist.txt') as file1:\n",
    "    content = file1.readlines()\n",
    "\n",
    "for row in content:\n",
    "    row = row.rstrip()\n",
    "    print(row)"
   ]
  },
  {
   "cell_type": "markdown",
   "metadata": {},
   "source": [
    "Reading a file line by line with `for` loop can be done as follows:"
   ]
  },
  {
   "cell_type": "code",
   "execution_count": null,
   "metadata": {},
   "outputs": [],
   "source": [
    "with open('namelist.txt') as file2:\n",
    "    for line in file2:\n",
    "        print(line.rstrip())"
   ]
  },
  {
   "cell_type": "markdown",
   "metadata": {},
   "source": [
    "You can use whichever of the methods taught here for processing files. If you don't use the `with` keyword, remember always to close the file when the program no longer handles it."
   ]
  },
  {
   "cell_type": "markdown",
   "metadata": {},
   "source": [
    "#### Exercise 2"
   ]
  },
  {
   "cell_type": "markdown",
   "metadata": {},
   "source": [
    "Read the file 'namelist.txt' using the `readlines()` method and print the name list in alphabetical order. Remove all unnecessary spaces and line breaks from the lines read using the `rstrip()` method. *Hint: If necessary, refresh your memory on how to access individual elements in a list using their index from Chapter 5.*"
   ]
  },
  {
   "cell_type": "code",
   "execution_count": null,
   "metadata": {},
   "outputs": [],
   "source": [
    "# your code here"
   ]
  },
  {
   "cell_type": "markdown",
   "metadata": {},
   "source": [
    "## `split()`"
   ]
  },
  {
   "cell_type": "markdown",
   "metadata": {},
   "source": [
    "Files may have multiple entries of data on a single line. In this case the line must be split up into parts if we wish to access individual entries. This can be achieved with the `split()` method. The delimiter (character splitting the entries) is given as an argument inside the parentheses in string format (typed in quotation marks). Example 3 goes over how to split the date and the average price of a company stock during that day."
   ]
  },
  {
   "cell_type": "markdown",
   "metadata": {},
   "source": [
    "```Python\n",
    "row.split(',')\n",
    "row.split('/')\n",
    "row.split(' ')\n",
    "```"
   ]
  },
  {
   "cell_type": "markdown",
   "metadata": {},
   "source": [
    "## CSV files"
   ]
  },
  {
   "cell_type": "markdown",
   "metadata": {},
   "source": [
    "You can also open and process CSV files (Comma Separated Values) using Python. CSV files are used for example for importing and exporting information in table format. In a CSV file the data is saved in text format in such a way that all columns are seperated with a comma. Many programs such as Excel allow the user to choose the delimiter when importing a CSV file.\n"
   ]
  },
  {
   "cell_type": "markdown",
   "metadata": {},
   "source": [
    "**Example of a CSV file** \n",
    "\n",
    "The file below (`stock_prices.csv`) looks like this when printed out:"
   ]
  },
  {
   "cell_type": "code",
   "execution_count": null,
   "metadata": {},
   "outputs": [],
   "source": [
    "stock_file = open('stock_prices.csv', 'r')\n",
    "for row in stock_file:\n",
    "    print(row)\n",
    "stock_file.close()"
   ]
  },
  {
   "cell_type": "markdown",
   "metadata": {},
   "source": [
    "As we can see, when a CSV file is printed out as strings, the values get printed separated with commas.\n",
    "\n",
    "Below there is an example of how one opens and processes CSV files using Python. The parts are separated using the `split()` method where the delimiter provided is a comma. This way we can access the elements separated with commas."
   ]
  },
  {
   "cell_type": "markdown",
   "metadata": {},
   "source": [
    "**Example 3:** The average price of a stock"
   ]
  },
  {
   "cell_type": "code",
   "execution_count": null,
   "metadata": {},
   "outputs": [],
   "source": [
    "stock_file = open('stock_prices.csv', 'r')\n",
    "for row in stock_file:\n",
    "    row = row.strip()\n",
    "    parts = row.split(',')\n",
    "    print(parts)\n",
    "stock_file.close()"
   ]
  },
  {
   "cell_type": "markdown",
   "metadata": {},
   "source": [
    "**Example 4:** Processing a CSV file"
   ]
  },
  {
   "cell_type": "markdown",
   "metadata": {},
   "source": [
    "A CSV file contains a date and the average price of a company stock on that day. The program separates the values and calculates the average price for all days. The date here does not matter. We only want to save the prices of the stock each day for calculating the average."
   ]
  },
  {
   "cell_type": "code",
   "execution_count": null,
   "metadata": {},
   "outputs": [],
   "source": [
    "sum_of_stock_prices = 0\n",
    "count = 0\n",
    "stock_file = open('stock_prices.csv', 'r')\n",
    "for row in stock_file:\n",
    "    row = row.strip()\n",
    "    parts = row.split(',')  # Splits the string from the sign ','\n",
    "    if len(parts) != 2:  # Checking if there is only two parts in the new list\n",
    "        print('Error row') # This means that the list does not have exactly 2 elements\n",
    "    else:\n",
    "        stock = float(parts[1]) # We have to change the type of the number from string to float\n",
    "        sum_of_stock_prices += stock\n",
    "        count += 1\n",
    "stock_file.close()\n",
    "if count == 0:\n",
    "    print('There are no stock prices')\n",
    "else:\n",
    "    mean = sum_of_stock_prices / count\n",
    "    print('The overall mean of the stock prices is', mean)"
   ]
  },
  {
   "cell_type": "markdown",
   "metadata": {},
   "source": [
    "#### Exercise 3"
   ]
  },
  {
   "cell_type": "markdown",
   "metadata": {},
   "source": [
    "You have been provided with a file named `prices.csv`, which contains prices for different products. The first column contains the name of the product and the second column contains the price. The information is separated using a comma. Create a program which separates the parts of the rows and saves them into two lists named `products` and `prices` respectively and then prints out these lists. Again, remember to remove the line breaks from ends of the lines."
   ]
  },
  {
   "cell_type": "code",
   "execution_count": null,
   "metadata": {},
   "outputs": [],
   "source": [
    "# your code here"
   ]
  },
  {
   "cell_type": "markdown",
   "metadata": {},
   "source": [
    "## Writing data into a file"
   ]
  },
  {
   "cell_type": "markdown",
   "metadata": {},
   "source": [
    "In addition to reading, data can also be written into files. When writing data into a file the file is opened in the same manner as when reading except that the mode of processing is either `'w'` (write) or `'a'` (append) instead of `'r'` (read). The mode `'w'` overwrites the existing file and removes all existing contents while `'a'` keeps all the original contents and writes to the end of the opened file. If a filename specified in the `open()` function does not exist, Python will create one with that name."
   ]
  },
  {
   "cell_type": "markdown",
   "metadata": {},
   "source": [
    "```Python \n",
    "file = open('testfile.txt', 'w')\n",
    "\n",
    "file = open('testfile.txt', 'a')\n",
    "```"
   ]
  },
  {
   "cell_type": "markdown",
   "metadata": {},
   "source": [
    "To add text into a file you can use the method `write()`. **This method will not add a line break character to the end of the line. You need to add that yourself if you want it to be included.**  The method can only be used to input strings, which means that you need to convert numbers into strings before writing them into a file."
   ]
  },
  {
   "cell_type": "markdown",
   "metadata": {},
   "source": [
    "```Python\n",
    "file.write('Random text\\n')\n",
    "```"
   ]
  },
  {
   "cell_type": "markdown",
   "metadata": {},
   "source": [
    "**Example 5:** Writing into a file"
   ]
  },
  {
   "cell_type": "code",
   "execution_count": null,
   "metadata": {},
   "outputs": [],
   "source": [
    "file = open('incomplete_file.txt', 'w')\n",
    "print('Give me rows and Ill add them to the file.\\nStop with an empty row.')\n",
    "row = input() #it is not necessary to have text as a parameter for input()\n",
    "while row != \"\":\n",
    "    file.write(row + \"\\n\")\n",
    "    row = input()\n",
    "file.close()\n",
    "\n",
    "#following part prints the file so that you see the result\n",
    "\n",
    "file1 = open('incomplete_file.txt', 'r')\n",
    "print('This is what the file looks like:\\n')\n",
    "for row in file1:\n",
    "    row = row.rstrip()\n",
    "    print(row)\n",
    "file1.close()"
   ]
  },
  {
   "cell_type": "markdown",
   "metadata": {},
   "source": [
    "#### Exercise 4: "
   ]
  },
  {
   "cell_type": "markdown",
   "metadata": {},
   "source": [
    "Create a file into which you will save the multiplication table (1-10) of a number given with user input. For example, if a user inputs the number 3, you will write into the file the multiplication table of the number 3 from one times three to ten times three (meaning 3, 6, 9, 12, etc.). Remember to add a line break character after every number.\n",
    "\n",
    "After this, open the file in Python and print out the contents of the file to see if your program works correctly."
   ]
  },
  {
   "cell_type": "code",
   "execution_count": null,
   "metadata": {},
   "outputs": [],
   "source": [
    "# your code here"
   ]
  },
  {
   "cell_type": "markdown",
   "metadata": {},
   "source": [
    "\n",
    "## Understanding Filepaths\n",
    "\n",
    "When working with files, it's important to understand filepaths. A filepath is a string that represents the location of a file or directory on your computer. There are two main types of filepaths:\n",
    "\n",
    "1. **Absolute Filepaths**: An absolute filepath gives the complete path to a file or directory, starting from the root directory. It is independent of the current working directory.\n",
    "2. **Relative Filepaths**: A relative filepath is relative to the current working directory. It does not start from the root directory.\n",
    "\n",
    "### Current Working Directory\n",
    "\n",
    "The current working directory (CWD) is the directory in which Python is running. You can find out the current working directory in Python using the `os` module, which we will cover a little further down. When using notebooks, the CWD is always the directory where notebook file is located.\n",
    "\n",
    "### Absolute Filepaths\n",
    "\n",
    "An absolute filepath always starts from the root directory. For example, on a Unix-based system, an absolute path might look like `/home/user/me/documents/file.txt`, whereas on a Windows system, it might look like `C:\\Users\\User\\Documents\\file.txt`.\n",
    "\n",
    "### Relative Filepaths\n",
    "\n",
    "A relative filepath is based on the current working directory. If your current working directory is `/home/user/me`, a relative path to the same file mentioned above (`/home/user/me/documents/file.txt`) would be `documents/file.txt`. So far, our examples have used relative filepaths, where the file is in the current working directory, i.e. `open(\"testfile.txt\")`. \n",
    "\n",
    "With relative filepaths, it is also possible to traverse up the file system. This is done using the `..` notation that represents \"going up a directory\". If our CWD is `/home/user/me/`, then `open(\"../../library/code.py\")` would mean that we are trying open a file at the path `/home/library/code.py`. The first `..` means that we are jumping one level above (to directory `user`), and repeating it makes us jump again one level further up (to `home`).\n",
    "\n",
    "#### Nice-To-Know\n",
    "\n",
    "You might also see the following notation when defining relative filepaths: `open(\"./documents/file.txt\")`, where there is a `./` before the filepath. This is called an explicit relative filepath, but results in the same outcome as `open(\"documents/file.txt\")`.\n",
    "\n",
    "---\n",
    "\n",
    "As we can see from the example below, the current working directory, when using a notebook, is the directory the notebook is located at:"
   ]
  },
  {
   "cell_type": "code",
   "execution_count": null,
   "metadata": {},
   "outputs": [],
   "source": [
    "import os\n",
    "\n",
    "# Get the current working directory\n",
    "cwd = os.getcwd()\n",
    "print(f\"Current Working Directory: {cwd}\")"
   ]
  },
  {
   "attachments": {},
   "cell_type": "markdown",
   "metadata": {},
   "source": [
    "## Using the `os` Library\n",
    "\n",
    "The `os` module in Python provides a way of using operating system dependent functionality like reading or writing to the file system. It is especially useful for manipulating files and directories.\n",
    "\n",
    "### Common Operations with `os`\n",
    "\n",
    "```\n",
    "os.getcwd() - Returns the current working directory\n",
    "os.listdir(path) - Lists the files and directories in the specified path\n",
    "os.mkdir(path) - Creates a new directory at the specified path\n",
    "os.remove(path) - Deletes the specified file\n",
    "os.rename(path1, path2) - Modifies the location of a file in path1 to path2\n",
    "os.rmdir(path) - Removes the specified empty directory\n",
    "os.path.join(path1, path2) - Joins multiple path components into a single path\n",
    "os.path.split(path) - split a path into parts\n",
    "os.path.exists(path) - Checks if the specified path exists\n",
    "os.path.isfile(path) - Checks if the specified path is a file\n",
    "os.path.isdir(path) - Checks if the specified path is a directory\n",
    "```\n",
    "\n",
    "Let's explore some of these operations. More about the os library can be read from [here](https://www.geeksforgeeks.org/os-module-python-examples/) and [here](https://www.geeksforgeeks.org/os-module-python-examples/).\n"
   ]
  },
  {
   "cell_type": "code",
   "execution_count": null,
   "metadata": {},
   "outputs": [],
   "source": [
    "import os\n",
    "\n",
    "cwd = os.getcwd()\n",
    "path2 = \"exercise_test\"\n",
    "joined_path = os.path.join(cwd, path2) # Join the two paths together\n",
    "print(\"Joined path is:\", joined_path)\n",
    "\n",
    "os.mkdir(joined_path)\n",
    "print(\"Files and directories after creating a new directory:\\n\", os.listdir(cwd))\n",
    "\n",
    "print(\"Does the new directory exist:\", os.path.exists(joined_path))\n",
    "print(\"Is this path a file:\", os.path.isfile(joined_path))\n",
    "print(\"Is this path a directory?\", os.path.isdir(joined_path))\n",
    "\n",
    "\n",
    "os.rmdir(joined_path) # Remove the directory \n",
    "print(\"Files and directories after deleting the new directory:\\n\", os.listdir(cwd))\n",
    "print(\"Does the directory exist anymore:\", os.path.exists(joined_path))"
   ]
  },
  {
   "cell_type": "markdown",
   "metadata": {},
   "source": [
    "#### Exercise 5\n",
    "\n",
    "In this exercise we will get more familiar with filepath operations. \n",
    "\n",
    "- Create two directories, called `upper` and `lower`. The directory `upper` should be created to the parent folder of the current working directory, and the directory `lower` should be created to the current working directory. Create the folders using `os.mkdir()`\n",
    "- To both folders, create a text file called `text.txt` with the string `Hello World`\n",
    "- Finally, use the `os.exists()` function to check that that both the text files exist. Print the results of the function calls.\n"
   ]
  },
  {
   "cell_type": "code",
   "execution_count": null,
   "metadata": {},
   "outputs": [],
   "source": [
    "# Your code here"
   ]
  },
  {
   "cell_type": "markdown",
   "metadata": {},
   "source": [
    "#### Exercise 6\n",
    "\n",
    "In this exercise, you will work with the `os` library to perform various file and directory operations.\n",
    "\n",
    "You should: \n",
    "- List all files in the current directory\n",
    "- Create a new directory named `test_directory`\n",
    "- Move `sample_file.txt` into `test_directory`\n",
    "- Rename the file inside `test_directory` to `renamed_file.txt`\n",
    "- Delete `renamed_file.txt` and then delete the `test_directory`\n",
    "\n",
    "Hints: \n",
    "- Use `os.listdir()` to list files\n",
    "- Use `os.mkdir()` to create directories\n",
    "- Use `os.path.join` to combine filepaths\n",
    "- Use `os.rename()` to rename files and directories\n",
    "- Use `os.remove()` to delete files\n",
    "- Use `os.rmdir()` to delete directories\n"
   ]
  },
  {
   "cell_type": "code",
   "execution_count": null,
   "metadata": {},
   "outputs": [],
   "source": [
    "# Your code here"
   ]
  },
  {
   "cell_type": "markdown",
   "metadata": {},
   "source": [
    "\n",
    "## Errors in Python\n",
    "\n",
    "Errors are an integral part of the programming process. As a developer, you'll encounter situations where your program behaves unexpectedly or fails to execute. These occurrences, while potentially frustrating, are normal and provide valuable learning opportunities. In Python, these errors are generally referred to as exceptions.\n",
    "\n",
    "In Python, we primarily deal with two types of errors:\n",
    "\n",
    "**Syntax Errors** - these errors occur when the Python interpreter encounters code that violates the language's syntax rules. Essentially, it's when you've written something that Python cannot understand or interpret. For example:\n",
    "\n",
    "`print \"Hello World!\"`\n",
    "\n",
    "would cause an `SyntaxError` exception. Syntax errors are detected during the parsing phase, before the code is executed.\n",
    "\n",
    "**Runtime Errors** - these errors occur during the execution of the program. The code may be syntactically correct, but it attempts to do something that is not allowed or possible. For example: \n",
    "\n",
    "`x = 10 / 0`\n",
    "would cause an `ZeroDivisionError` exception. Runtime errors only become apparent when the specific line of code is executed.\n",
    "\n",
    "--- \n",
    "\n",
    "In Python, the term \"exception\" is used to describe an error that occurs during the execution of a program. When Python encounters a situation that it cannot handle, it raises an exception. This is the language's way of signaling that something unexpected or problematic has occurred.\n",
    "\n",
    "Python has a wide variety of built-in exceptions for different situations, for example:\n",
    "\n",
    "- SyntaxError: For syntax issues\n",
    "- KeyError: When trying to access a non-existent dictionary key\n",
    "- IndexError: When trying to access a non-existent list index\n",
    "- NameError: When using a variable that hasn't been defined\n",
    "- FileNotFoundError: When trying to open a file that doesn't exist\n",
    "\n",
    "\n",
    "A comprehensive list of Python's built-in exceptions can be found in the official [Python documentation](https://docs.python.org/3/library/exceptions.html).\n",
    "\n",
    "The purpose of these specific exceptions is to help programmers identify and diagnose issues in their code more effectively. Each type of exception provides information about what went wrong, making solving the issue easier.\n"
   ]
  },
  {
   "cell_type": "markdown",
   "metadata": {},
   "source": [
    "## Error Handling\n",
    "\n",
    "By default, when an unhandled exception occurs, Python will stop the execution of the program and display an error message. This behavior is often desirable during development as it immediately brings attention to issues. However, in some scenarios, especially in production environments, we might want our program to continue running despite encountering an error.\n",
    "\n",
    "Exception handling is a programming concept that allows us to manage errors gracefully without causing the entire program to crash. In Python, this is primarily done using the `try-except` block.\n",
    "\n",
    "```python\n",
    "try:\n",
    "    # code that might raise an error\n",
    "except:\n",
    "    # what the program should do if an error is raised\n",
    "\n",
    "```\n",
    "The `try` block contains the code that might throw an error. The `except` block lets you handle the error. This means that if inside the `try` block an exception is raised, the program automatically moves to inside the `except` block."
   ]
  },
  {
   "cell_type": "code",
   "execution_count": null,
   "metadata": {},
   "outputs": [],
   "source": [
    "try:\n",
    "    a = 10 / 0\n",
    "except:\n",
    "    print(\"I went here because an exception was raised in the try block!\")"
   ]
  },
  {
   "cell_type": "markdown",
   "metadata": {},
   "source": [
    "If we use the `except` as is, it well catch all possible exceptions that happen in the `try` block. However, we can also specify which exception we want to catch. This allows the program to act accordingly depending on the situation."
   ]
  },
  {
   "cell_type": "code",
   "execution_count": null,
   "metadata": {},
   "outputs": [],
   "source": [
    "try:\n",
    "    a = 10 / 0\n",
    "except ZeroDivisionError:\n",
    "    print(\"I went here because an exception was raised in the try block!\")"
   ]
  },
  {
   "cell_type": "markdown",
   "metadata": {},
   "source": [
    "You can have multiple `except` blocks to handle multiple specific of exceptions."
   ]
  },
  {
   "cell_type": "code",
   "execution_count": null,
   "metadata": {},
   "outputs": [],
   "source": [
    "try: \n",
    "    num = int(input(\"Give a number: \")) # This will result in a ValueError, if the user gives something else than a number as input!\n",
    "    l = [num]\n",
    "    print(l[2]) # This will always result in an IndexError, which makes the program move to the second 'except' block\n",
    "except ValueError:\n",
    "    print(\"User did not give a number!\")\n",
    "except IndexError:\n",
    "    print(\"Tried to access a list element that does not exist!\")"
   ]
  },
  {
   "cell_type": "markdown",
   "metadata": {},
   "source": [
    "The try-except statement also supports two additional blocks: `else` and `finally`.\n",
    "\n",
    "- The `else` block will be completed if **no exceptions** were raised\n",
    "- `finally` block will be **always** executed, regardless if there were no exceptions raised or not"
   ]
  },
  {
   "cell_type": "code",
   "execution_count": null,
   "metadata": {},
   "outputs": [],
   "source": [
    "try: \n",
    "    num = int(input(\"Give a number: \")) # This will result in an error if the user gives something else than a number as input!\n",
    "except ValueError:\n",
    "    print(\"User did not give a number!\")\n",
    "else:\n",
    "    print(\"User gave the number:\", num)\n",
    "finally:\n",
    "    print(\"This line is always printed\")"
   ]
  },
  {
   "cell_type": "markdown",
   "metadata": {},
   "source": [
    "Error handling can improve your program in several ways: \n",
    "\n",
    "- Your program can continue running even when errors occur, this makes them more robust\n",
    "- You can provide meaningful error messages to users that improve user experience\n",
    "- By catching and logging exceptions, you can gather valuable information about issues in your program. This often helps when you are trying to debug your code!\n",
    "\n",
    "Some good practices to remember when using exceptions:\n",
    "\n",
    "- Be specific with exceptions - Always catch specific exceptions rather than using a bare `except`\n",
    "- Provide meaningful error messages - Give users clear messages that explain what went wrong\n",
    "- Use the `finally` block to handle any necessary clean ups, e.g. closing files or connections\n",
    "\n"
   ]
  },
  {
   "cell_type": "markdown",
   "metadata": {},
   "source": [
    "#### Exercise 7\n",
    "\n",
    "Lets practice handling exceptions in Python. You are tasked to catch and manage errors that can occur during division operations.\n",
    "\n",
    "Write a Python program that divides two numbers provided by the user. Division is a straightforward operation, but several potential issues can arise:\n",
    "\n",
    "- The user might accidentally provide non-numeric input, causing a `ValueError`\n",
    "- The user could enter zero as the divisor, which would cause a `ZeroDivisionError`\n",
    "- Unexpected input or errors might occur that aren’t initially anticipated\n",
    "\n",
    "Your goal is to ensure that your program can gracefully handle these errors and provide helpful feedback to the user.\n",
    "\n",
    "You should:\n",
    "\n",
    "- Prompt the user to enter two numbers and perform the division operation with the two numbers\n",
    "    - Use an except block to catch any `ValueError` that occurs if the user inputs something that isn’t a number\n",
    "    - Use an except block to catch a `ZeroDivisionError` if the user attempts to divide by zero\n",
    "- Include a general except block to catch any other unforeseen errors\n",
    "- Ensure that your program prints a relevant message to the user for each type of error\n",
    "- Use a finally block to print a message indicating that the program has finished, regardless of whether an error occurred"
   ]
  },
  {
   "cell_type": "code",
   "execution_count": null,
   "metadata": {},
   "outputs": [],
   "source": [
    "# Your code here"
   ]
  },
  {
   "cell_type": "markdown",
   "metadata": {},
   "source": [
    "#### Exercise 8\n",
    "\n",
    "In this exercise, you are going to open two separate files. The filenames are given by the user as an input. Both files contain one number as informaton. Your task is to open the files, and calculate the sum between the two numbers. The files are generated by a code snippet that is given to you below.\n",
    "\n",
    "Your program should take into account the following situations:\n",
    "\n",
    "- User gives the wrong filename as input, which raises the `FileNotFoundError`\n",
    "- The content of the file is not a number, which would raise a `ValueError`\n",
    "- An unexpected error happens"
   ]
  },
  {
   "cell_type": "code",
   "execution_count": null,
   "metadata": {},
   "outputs": [],
   "source": [
    "# Code to generate the files\n",
    "import random\n",
    "import os \n",
    "\n",
    "for i in range(2):\n",
    "    filename = os.urandom(2).hex() # Generate a filename on random\n",
    "    with open(filename+\".txt\", \"w\") as f:\n",
    "        if random.random() < 0.2: # 20% chance that instead of a number, we write a string in to the file\n",
    "            f.write(\"dummy text\")\n",
    "        else:\n",
    "            f.write(str(random.randint(1, 101)))\n",
    "        print(\"Created file\", filename+\".txt\")"
   ]
  },
  {
   "cell_type": "code",
   "execution_count": null,
   "metadata": {},
   "outputs": [],
   "source": [
    "# Your code here"
   ]
  },
  {
   "cell_type": "markdown",
   "metadata": {},
   "source": [
    "## Recap"
   ]
  },
  {
   "cell_type": "markdown",
   "metadata": {},
   "source": [
    "Data can be read from files using Python. Files help storing data permanently and the data does not need to be created separately again."
   ]
  },
  {
   "cell_type": "markdown",
   "metadata": {},
   "source": [
    "A file is opened with the `open()` function which takes as arguments the name of the file and the mode of processing `'r'` (reading a file) or `'w'` (writing into a file)."
   ]
  },
  {
   "cell_type": "markdown",
   "metadata": {},
   "source": [
    "```Python\n",
    "file = open('testfile.txt','r')\n",
    "file = open('testfile.txt','w')\n",
    "```"
   ]
  },
  {
   "cell_type": "markdown",
   "metadata": {},
   "source": [
    "Files can be read line by line with the method `readline()`. If one wants to read the entire file in a single read, one can use the `readlines()` method, which saves the contents of the file into a list."
   ]
  },
  {
   "cell_type": "markdown",
   "metadata": {},
   "source": [
    "A file is closed in the end using the method `close()`."
   ]
  },
  {
   "cell_type": "code",
   "execution_count": null,
   "metadata": {},
   "outputs": [],
   "source": [
    "file = open('testfile.txt', 'r')\n",
    "row = file.readline()\n",
    "while row != \"\": #readline ends with \"\"\n",
    "    print(row)\n",
    "    row = file.readline()\n",
    "file.close()"
   ]
  },
  {
   "cell_type": "markdown",
   "metadata": {},
   "source": [
    "The `rstrip()` method removes the spaces and line break characters (all whitespace characters to be precise) **from the end of a string**."
   ]
  },
  {
   "cell_type": "markdown",
   "metadata": {},
   "source": [
    "Files can also be read using a `for` loop or the keyword `with`."
   ]
  },
  {
   "cell_type": "code",
   "execution_count": null,
   "metadata": {},
   "outputs": [],
   "source": [
    "file = open('namelist.txt', 'r')\n",
    "row_list = file.readlines()\n",
    "file.close()\n",
    "for row in row_list:\n",
    "    row = row.strip()\n",
    "    print(row)"
   ]
  },
  {
   "cell_type": "markdown",
   "metadata": {},
   "source": [
    "The `split()` method can be used to split the lines in a file to smaller parts. This is used especially in the processing of CSV files. CSV files are tables where columns are separated with a comma."
   ]
  },
  {
   "cell_type": "markdown",
   "metadata": {},
   "source": [
    "```Python\n",
    "row.split(',')\n",
    "```"
   ]
  },
  {
   "cell_type": "markdown",
   "metadata": {},
   "source": [
    "Data can be written into a file using the method `write()`. If a file with the given name does not exist, the `open()` function will create one with that name when the mode of processing is `'w'` or `'a'`."
   ]
  },
  {
   "cell_type": "markdown",
   "metadata": {},
   "source": [
    "```Python\n",
    "testfile = open('new_file.txt', 'w')\n",
    "testfile.write('Random text')\n",
    "```"
   ]
  },
  {
   "cell_type": "markdown",
   "metadata": {},
   "source": [
    "Filepaths can be divided in to two categories: relative and absolute. Relative filepaths are with respect to your current working directory, and absolute filepaths start from the root of the filesystem.\n",
    "\n",
    "```Python\n",
    "file = open(\"relative/filepath/would/be/something/like/this.txt\")\n",
    "\n",
    "file = open(\"/absolute/filepath/starts/with/a/slash.txt\")\n",
    "```"
   ]
  },
  {
   "cell_type": "markdown",
   "metadata": {},
   "source": [
    "The `os` library provides a lot of tools for creating, removing, renaming files as well as manipulating filepaths."
   ]
  },
  {
   "cell_type": "markdown",
   "metadata": {},
   "source": [
    "Errors are a natural part of programming, and in Python they are called *exceptions*.\n",
    "\n",
    "Exceptions are raised whenever Python encounters something that is unexpected or problematic. They can be divided in to two categories:\n",
    "\n",
    "- Syntax Errors: when something is broken before the code is even run\n",
    "- Runtime Errors: when something problematic is encountered when the code is being executed\n",
    "\n",
    "Exception handling is a concept where a program is not instantly terminated if it encounters an error. In Python it can be achieved with the `try-except` structure:\n",
    "\n",
    "```python\n",
    "try:\n",
    "    # code that might cause an error\n",
    "except:\n",
    "    # what we do if an exception is raised\n",
    "```\n",
    "\n",
    "We can also specify which exception we want to handle:\n",
    "\n",
    "```python\n",
    "try:\n",
    "    a = 10 / 0\n",
    "except ZeroDivisionError:\n",
    "    print(\"Cannot divide by zero!\")\n",
    "```\n",
    "\n",
    "The try-except structure also supports additional blocks: `else` and `finally`:\n",
    "\n",
    "```python\n",
    "try:\n",
    "    num = int(input(\"Give a number: \"))\n",
    "    div = 10 / num\n",
    "except ValueError:\n",
    "    print(\"User did not give a number!\")\n",
    "except ZeroDivisionError:\n",
    "    print(\"Cannot divide by zero!\")\n",
    "else:\n",
    "    print(\"Everything was OK!\")\n",
    "finally:\n",
    "    print(\"Finishing the program\")\n",
    "```"
   ]
  }
 ],
 "metadata": {
  "kernelspec": {
   "display_name": "Python 3 (ipykernel)",
   "language": "python",
   "name": "python3"
  },
  "language_info": {
   "codemirror_mode": {
    "name": "ipython",
    "version": 3
   },
   "file_extension": ".py",
   "mimetype": "text/x-python",
   "name": "python",
   "nbconvert_exporter": "python",
   "pygments_lexer": "ipython3",
   "version": "3.10.9"
  },
  "vscode": {
   "interpreter": {
    "hash": "369f2c481f4da34e4445cda3fffd2e751bd1c4d706f27375911949ba6bb62e1c"
   }
  }
 },
 "nbformat": 4,
 "nbformat_minor": 4
}
