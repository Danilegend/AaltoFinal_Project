{
 "cells": [
  {
   "cell_type": "markdown",
   "metadata": {},
   "source": [
    "# Chapter 3: Functions and namespaces\n",
    "\n",
    "## Functions"
   ]
  },
  {
   "cell_type": "markdown",
   "metadata": {},
   "source": [
    "#### Exercise 1\n",
    "\n",
    "*Define new function with the name `calculator`. The function computes the sum of 5 + 5 and saves it to a variable called `a`, after which the value of `a` is printed. Finally, call the function `calculator()` **outside the function definition**.*"
   ]
  },
  {
   "cell_type": "code",
   "execution_count": 1,
   "metadata": {},
   "outputs": [
    {
     "name": "stdout",
     "output_type": "stream",
     "text": [
      "10\n"
     ]
    }
   ],
   "source": [
    "def calculator():\n",
    "    a = 5 + 5\n",
    "    print(a)\n",
    "\n",
    "calculator()"
   ]
  },
  {
   "cell_type": "markdown",
   "metadata": {},
   "source": [
    "#### Exercise 2\n",
    "\n",
    "*Create a function with one parameter. The function is given a number as the argument and the function will compute the square (`**2`) of the number and print it. Ask the user for the number outside of the function with `input()` and cast it as `int()` and call the function with the user's number.*"
   ]
  },
  {
   "cell_type": "code",
   "execution_count": null,
   "metadata": {},
   "outputs": [],
   "source": [
    "def square(number):\n",
    "    print(number**2)\n",
    "\n",
    "number = int(input(\"Give an integer: \"))\n",
    "square(number)\n"
   ]
  },
  {
   "cell_type": "markdown",
   "metadata": {},
   "source": [
    "#### Exercise 3\n",
    "\n",
    "*Define a function with name `hello` and three parameters. The frist parameter represents age (int), the second parameter represents name (string) and the third parameter hometown (string). The function will print the following text: \"Hi. My name is \\<name\\> and I live in \\<hometown\\>. I am \\<age\\> years old.\"*\n",
    "\n",
    "*Ask the user to input the information in the main program using three `input()` statements and call the function using your arguments. Remember to cast the age as an integer using `int()`!*"
   ]
  },
  {
   "cell_type": "code",
   "execution_count": null,
   "metadata": {},
   "outputs": [],
   "source": [
    "def hello(age, name, city):\n",
    "    print(\"Hi. My name is \" + name + \" and I live in \" + city + \". I am\", age, \"years old.\")\n",
    "    \n",
    "age = int(input(\"Enter your age:\"))  \n",
    "name = input(\"Enter your name: \")\n",
    "city = input(\"Enter your hometown: \")\n",
    "\n",
    "hello(age, name, city)"
   ]
  },
  {
   "cell_type": "markdown",
   "metadata": {},
   "source": [
    "#### Exercise 4\n",
    "\n",
    "*Define a function `phone_plan_calculator()`, which calculates the price of a phone plan over a certain number of months. The price of the phone plan consists of a starting fee and a monthly fee, which is multiplied by the number of months. The function will have three parameters: `starting_fee`, `monthly_fee` and the number of `months`. The function will calculate the final sum and print it.*\n",
    "\n",
    "*Ask the user for the starting fee, monthly fee and the number of months and use them as arguments in your function call. Starting fee and monthly fee are floating-point numbers (`float`) and the number of months is an integer. Use the type casting functions `float()` and `int()` to convert the user inputs from strings to the correct type.*"
   ]
  },
  {
   "cell_type": "code",
   "execution_count": null,
   "metadata": {},
   "outputs": [],
   "source": [
    "def phone_plan_calculator(starting_fee, monthly_fee, months):\n",
    "    cost = starting_fee + monthly_fee * months\n",
    "    print(\"Total cost of the plan:\", cost, \"euros.\")\n",
    "\n",
    "start = float(input(\"Enter the starting fee:\\n\"))\n",
    "m_fee = float(input(\"Enter the monthly fee:\\n\"))\n",
    "months = int(input(\"Enter the amount of months:\\n\"))\n",
    "\n",
    "phone_plan_calculator(start, m_fee, months)"
   ]
  },
  {
   "cell_type": "markdown",
   "metadata": {},
   "source": [
    "#### Exercise 5\n",
    "\n",
    "*Define a function with one parameter. The function will compute the square of the parameter and return it.*\n",
    "\n",
    "*Write the main program, which asks the user for a number. Give this value as an argument to your function. Save the return value from the function to a new variable. Finally, print a text \"Square of the value X is Y\", where X is the input number from the user and Y is the number returned by your function.*"
   ]
  },
  {
   "cell_type": "code",
   "execution_count": null,
   "metadata": {},
   "outputs": [],
   "source": [
    "def squared(number):\n",
    "    return number**2\n",
    "\n",
    "number = float(input(\"Give a number: \"))\n",
    "sqr = squared(number)\n",
    "\n",
    "print(\"The square of number\", number, \"is \", sqr)"
   ]
  },
  {
   "cell_type": "markdown",
   "metadata": {},
   "source": [
    "#### Exercise 6\n",
    "\n",
    "*Write a program, in which a function will convert Fahrenheits to Celcius or vice versa. The program will ask the user for two things: which way to convert and the degrees. Define a function `convert()`, which has these two values as parameters.*\n",
    "\n",
    "*Inside the function use an `if-else` structure to convert the degrees to the other format. The function will return the converted value and the main program will print \"X Celcius is Y Fahrenheits\" or \"X Fahrenheits is Y Celcius\". To achieve this, you should use an `if-else` structure in your main program as well.*"
   ]
  },
  {
   "cell_type": "code",
   "execution_count": null,
   "metadata": {},
   "outputs": [],
   "source": [
    "def convert(target, deg):\n",
    "    if target == 'C':\n",
    "        return (deg - 32) * (5 / 9)\n",
    "    else:\n",
    "        return deg * (9 / 5) + 32\n",
    "\n",
    "target = input('Unit of end result (C/F): ')\n",
    "deg = float(input('Degrees to convert: '))\n",
    "\n",
    "if target == 'C':\n",
    "    print(str(deg) + ' Fahrenheits is ' + str(convert(target, deg)) + ' Celcius.')\n",
    "else:\n",
    "    print(str(deg) + ' Celcius is ' + str(convert(target, deg)) + ' Fahrenheits.')"
   ]
  },
  {
   "cell_type": "markdown",
   "metadata": {},
   "source": [
    "#### Exercise 7\n",
    "\n",
    "*Define a function, which takes one number as a parameter, multiplies it by two and adds 5. The function will return the resulting number.*\n",
    "\n",
    "*Write a program which does the following:*\n",
    "- *Call your function with number `2`*\n",
    "- *Multiply the return value with number `3`*\n",
    "- *Call your function again with the result*\n",
    "- *Print the final return value*\n",
    "\n",
    "*Remember to save the retuned values in variable in the main program. The final result of the program should be 59.*"
   ]
  },
  {
   "cell_type": "code",
   "execution_count": null,
   "metadata": {},
   "outputs": [],
   "source": [
    "def multiplies_by_two_and_adds_five(parameter):\n",
    "    return parameter * 2 + 5\n",
    "\n",
    "parameter = 2\n",
    "return_value = multiplies_by_two_and_adds_five(parameter)\n",
    "new_return_value = multiplies_by_two_and_adds_five(return_value * 3)\n",
    "print(new_return_value)"
   ]
  },
  {
   "cell_type": "markdown",
   "metadata": {},
   "source": [
    "#### Exercise 8\n",
    "\n",
    "*Write a program, which converts the string \"MM\" to string \"DDMMYY\" using two functions. Start the program with a string \"MM\".*\n",
    "\n",
    "*The first function will add the character \"D\" to the beginning of the string and the second function will add the character \"Y\" to the end of the string. Call both functions twice. Remember to save the return values to variables in the main function.*\n",
    "\n",
    "*The program should print the string \"DDMMYY\".*\n",
    "\n",
    "*Hint: Use the string concatenation `+` inside the functions to join the strings and characters.*"
   ]
  },
  {
   "cell_type": "code",
   "execution_count": 1,
   "metadata": {},
   "outputs": [
    {
     "name": "stdout",
     "output_type": "stream",
     "text": [
      "DDMMYY\n"
     ]
    }
   ],
   "source": [
    "def add_D(datestr):\n",
    "    return 'D' + datestr\n",
    "\n",
    "def add_Y(datestr):\n",
    "    return datestr + 'Y'\n",
    "\n",
    "mystring = \"MM\"\n",
    "mystring = add_D(add_D(mystring))\n",
    "mystring = add_Y(add_Y(mystring))\n",
    "\n",
    "print(mystring)\n"
   ]
  },
  {
   "cell_type": "markdown",
   "metadata": {},
   "source": [
    "#### Exercise 9\n",
    "\n",
    "*Write a program, in which a function will check whether a number is even or not. The function will return a boolean, and based on the result the main program will print `\"Number is even\"` or `\"Number is odd\"`.*\n",
    "\n",
    "*Call the function using different numbers.*"
   ]
  },
  {
   "cell_type": "code",
   "execution_count": null,
   "metadata": {},
   "outputs": [],
   "source": [
    "def check_even(number):\n",
    "    if number % 2 == 0:\n",
    "        return True\n",
    "    else:\n",
    "        return False\n",
    "\n",
    "luku = 2\n",
    "\n",
    "if check_even(number) == True:\n",
    "    print(\"Number is even\")\n",
    "else:\n",
    "    print(\"Number is odd\")"
   ]
  }
 ],
 "metadata": {
  "kernelspec": {
   "display_name": "base",
   "language": "python",
   "name": "python3"
  },
  "language_info": {
   "codemirror_mode": {
    "name": "ipython",
    "version": 3
   },
   "file_extension": ".py",
   "mimetype": "text/x-python",
   "name": "python",
   "nbconvert_exporter": "python",
   "pygments_lexer": "ipython3",
   "version": "3.8.16"
  }
 },
 "nbformat": 4,
 "nbformat_minor": 2
}
