{
 "cells": [
  {
   "cell_type": "markdown",
   "metadata": {},
   "source": [
    "# Day 5: Programming with Python\n",
    "### Examples from the slides"
   ]
  },
  {
   "cell_type": "markdown",
   "metadata": {},
   "source": [
    "## Lists\n",
    "\n",
    "- The most important and flexible data structure in Python\n",
    "- Lists are sequential groups of elements\n",
    "    - Each element has a value and an index defining its location\n",
    "- Elements can be of any data structure type, even different ones in a single list\n",
    "- Defined with elements separated with commas inside square brackets\n"
   ]
  },
  {
   "cell_type": "code",
   "execution_count": 2,
   "metadata": {},
   "outputs": [],
   "source": [
    "empty_list = []\n",
    "list_1 = [1,2,3,4,5]\n",
    "list_2 = [\"one\", \"two\", \"three\", \"four\", \"five\"]\n",
    "list_3 = [1, \"two\", 3, \"four\", 5]\n",
    "list_4 = [empty_list, list_1, list_2, list_3]\n"
   ]
  },
  {
   "cell_type": "markdown",
   "metadata": {},
   "source": [
    "- You can refer to elements in a list using the index of the element within square brackets\n",
    "- Indexes begin from zero\n",
    "- A negative index refers to a location starting from the end of the list\n"
   ]
  },
  {
   "cell_type": "code",
   "execution_count": 4,
   "metadata": {},
   "outputs": [
    {
     "name": "stdout",
     "output_type": "stream",
     "text": [
      "one\n",
      "five\n"
     ]
    }
   ],
   "source": [
    "print(list_2[0]) #refers to the first element in the list\n",
    "print(list_2[-1]) #refers to the last element in the list"
   ]
  },
  {
   "cell_type": "markdown",
   "metadata": {},
   "source": [
    "- You can refer to multiple elements at once by using the colon symbol `:` (slicing)\n",
    "- The starting index is included in the selection, the end index is excluded\n"
   ]
  },
  {
   "cell_type": "code",
   "execution_count": 5,
   "metadata": {},
   "outputs": [
    {
     "name": "stdout",
     "output_type": "stream",
     "text": [
      "[2, 3]\n",
      "[3, 'four']\n",
      "[3, 'four']\n"
     ]
    }
   ],
   "source": [
    "print(list_1[1:3])\n",
    "print(list_3[2:4])\n",
    "print(list_4[3][2:4])\n"
   ]
  },
  {
   "cell_type": "markdown",
   "metadata": {},
   "source": [
    "- Altering elements in a list is done by referring to the element using index"
   ]
  },
  {
   "cell_type": "code",
   "execution_count": 6,
   "metadata": {},
   "outputs": [
    {
     "name": "stdout",
     "output_type": "stream",
     "text": [
      "3\n",
      "three\n"
     ]
    }
   ],
   "source": [
    "list_3 = [1, \"two\", 3, \"four\", 5]\n",
    "\n",
    "print(list_3[2])\n",
    "list_3[2] = \"three\"\n",
    "print(list_3[2])\n"
   ]
  },
  {
   "cell_type": "markdown",
   "metadata": {},
   "source": [
    "## Lists and loops\n",
    "\n",
    "- Lists can be iterated through using `while` and `for` loops\n"
   ]
  },
  {
   "cell_type": "code",
   "execution_count": 9,
   "metadata": {},
   "outputs": [
    {
     "name": "stdout",
     "output_type": "stream",
     "text": [
      "1\n",
      "2\n",
      "3\n",
      "4\n",
      "5\n"
     ]
    }
   ],
   "source": [
    "i = 0\n",
    "while i < len(list_1):\n",
    "\tprint(list_1[i])\n",
    "\ti += 1\n"
   ]
  },
  {
   "cell_type": "code",
   "execution_count": 8,
   "metadata": {},
   "outputs": [
    {
     "name": "stdout",
     "output_type": "stream",
     "text": [
      "1\n",
      "2\n",
      "3\n",
      "4\n",
      "5\n"
     ]
    }
   ],
   "source": [
    "for element in list_1:\n",
    "\tprint(element)\n"
   ]
  },
  {
   "cell_type": "markdown",
   "metadata": {},
   "source": [
    "## Functions vs. methods\n",
    "\n",
    "- `len()` is a \"stand-alone\" function\n",
    "- `<list>.count()` is defined through the list data type"
   ]
  },
  {
   "cell_type": "code",
   "execution_count": 11,
   "metadata": {},
   "outputs": [
    {
     "name": "stdout",
     "output_type": "stream",
     "text": [
      "5\n",
      "1\n"
     ]
    }
   ],
   "source": [
    "list_1 = [1,2,3,4,5]\n",
    "print(len(list_1))\n",
    "print(list_1.count(4))\n"
   ]
  },
  {
   "cell_type": "markdown",
   "metadata": {},
   "source": [
    "## Strings\n",
    "\n",
    "- Strings, like lists, are a sequential data structure\n",
    "- Strings can only contain character symbols (digits, letters, special characters) \n",
    "- A string is defined using apostrophies or quotation marks\n"
   ]
  },
  {
   "cell_type": "code",
   "execution_count": 12,
   "metadata": {},
   "outputs": [],
   "source": [
    "text_1 = 'This is an example.'\n",
    "text_2 = \"This is also an example.\"\n"
   ]
  },
  {
   "cell_type": "markdown",
   "metadata": {},
   "source": [
    "- A single character can be referred to using square brackets and index\n",
    "- Multiple characters can be selected with the slicing operator `:`\n"
   ]
  },
  {
   "cell_type": "code",
   "execution_count": 13,
   "metadata": {},
   "outputs": [
    {
     "name": "stdout",
     "output_type": "stream",
     "text": [
      "T\n",
      "s is also an\n"
     ]
    }
   ],
   "source": [
    "print(text_1[0])\n",
    "print(text_2[3:15])"
   ]
  },
  {
   "cell_type": "markdown",
   "metadata": {},
   "source": [
    "- Some string methods"
   ]
  },
  {
   "cell_type": "code",
   "execution_count": 15,
   "metadata": {},
   "outputs": [
    {
     "name": "stdout",
     "output_type": "stream",
     "text": [
      "THIS IS AN EXAMPLE.\n",
      "this is an example.\n",
      "12\n",
      "This is the example.\n",
      "['This', 'is', 'an', 'example.']\n",
      "one-two-three-four-five\n"
     ]
    }
   ],
   "source": [
    "text_1 = 'This is an example.'\n",
    "list_2 = [\"one\", \"two\", \"three\", \"four\", \"five\"]\n",
    "print(text_1.upper())\n",
    "print(text_1.lower())\n",
    "print(text_1.index(\"x\"))\n",
    "print(text_1.replace(\"an\", \"the\"))\n",
    "print(text_1.split())\n",
    "print(\"-\".join(list_2))\n"
   ]
  },
  {
   "cell_type": "code",
   "execution_count": null,
   "metadata": {},
   "outputs": [],
   "source": []
  }
 ],
 "metadata": {
  "kernelspec": {
   "display_name": "base",
   "language": "python",
   "name": "python3"
  },
  "language_info": {
   "codemirror_mode": {
    "name": "ipython",
    "version": 3
   },
   "file_extension": ".py",
   "mimetype": "text/x-python",
   "name": "python",
   "nbconvert_exporter": "python",
   "pygments_lexer": "ipython3",
   "version": "3.8.16"
  },
  "orig_nbformat": 4
 },
 "nbformat": 4,
 "nbformat_minor": 2
}
