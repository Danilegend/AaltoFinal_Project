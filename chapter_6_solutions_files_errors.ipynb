{
 "cells": [
  {
   "cell_type": "markdown",
   "id": "16821a68-fe31-4a3e-9985-3dfb3c5f2498",
   "metadata": {},
   "source": [
    "# Chapter 6 Solutions - Files & Errors\n",
    "\n",
    "## Exercise 1\n",
    "\n",
    "*Read the file `alphabet.txt` line by line and save each row in a string variable named `alphabets`. Then print this string. Remember to remove all additional spaces of line breaks in the ends of the rows.*"
   ]
  },
  {
   "cell_type": "code",
   "execution_count": null,
   "id": "5c73cd64-a7d7-4394-9b6f-04894495ea42",
   "metadata": {},
   "outputs": [],
   "source": [
    "alphabets = ''\n",
    "\n",
    "file = open('alphabet.txt')\n",
    "row = file.readline()\n",
    "\n",
    "while row != \"\":\n",
    "    alphabets += row.strip()\n",
    "    row = file.readline()\n",
    "file.close()\n",
    "\n",
    "print(alphabets)"
   ]
  },
  {
   "cell_type": "markdown",
   "id": "b667c76f-2af1-4b16-8265-542e658425ee",
   "metadata": {},
   "source": [
    "## Exercise 2\n",
    "\n",
    "*Read the file 'namelist.txt' using the `readlines()` method and print the name list in alphabetical order. Remove all unnecessary spaces and line breaks from the lines read using the `rstrip()` method. Hint: If necessary, refresh your memory on how to access individual elements in a list using their index from Chapter 5.*"
   ]
  },
  {
   "cell_type": "code",
   "execution_count": null,
   "id": "9625f05b-386a-45f5-b028-69e8a9be2b3a",
   "metadata": {},
   "outputs": [],
   "source": [
    "with open('namelist.txt') as namelist:\n",
    "    names = namelist.readlines()\n",
    "\n",
    "    for i in range(0, len(names)):\n",
    "        names[i] = names[i].strip()\n",
    "    names = sorted(names)\n",
    "\n",
    "print(names)"
   ]
  },
  {
   "cell_type": "markdown",
   "id": "f227b435-f0ca-4e72-9bbc-3d5bd6b90b44",
   "metadata": {},
   "source": [
    "## Exercise 3\n",
    "\n",
    "*You have been provided with a file named `prices.csv`, which contains prices for different products. The first column contains the name of the product and the second column contains the price. The information is separated using a comma. Create a program which separates the parts of the rows and saves them into two lists named `products` and `prices` respectively and then prints out these lists. Again, remember to remove the line breaks from ends of the lines.*"
   ]
  },
  {
   "cell_type": "code",
   "execution_count": null,
   "id": "ab70bb1c-b181-4027-a35c-6ca1a70377a4",
   "metadata": {},
   "outputs": [],
   "source": [
    "products = []\n",
    "prices = []\n",
    "\n",
    "with open(\"stock_prices.csv\") as table:\n",
    "    lines = table.readlines()\n",
    "    for line in lines:\n",
    "        product, price = line.split(\",\")\n",
    "        products.append(product)\n",
    "        prices.append(price.rstrip())\n",
    "\n",
    "print(products)\n",
    "print(prices)\n"
   ]
  },
  {
   "cell_type": "markdown",
   "id": "a9da97e4-af4b-4478-bc99-99af287917b0",
   "metadata": {},
   "source": [
    "## Exercise 4\n",
    "\n",
    "*Create a file into which you will save the multiplication table (1-10) of a number given with user input. For example, if a user inputs the number 3, you will write into the file the multiplication table of the number 3 from one times three to ten times three (meaning 3, 6, 9, 12, etc.). Remember to add a line break character after every number.*\n",
    "\n",
    "*After this, open the file in Python and print out the contents of the file to see if your program works correctly.*"
   ]
  },
  {
   "cell_type": "code",
   "execution_count": null,
   "id": "d9a1b0e9-7574-48fe-8c7c-06c0ad016564",
   "metadata": {},
   "outputs": [],
   "source": [
    "with open(\"multiplication.txt\", \"w\") as outputf:\n",
    "    base = int(input(\"Input a number to multiply: \"))\n",
    "\n",
    "    for i in range(1, 11):\n",
    "        outputf.write(str(i * base) + \"\\n\")\n",
    "\n",
    "with open(\"multiplication.txt\", \"r\") as inputf:\n",
    "    lines = inputf.readlines()\n",
    "\n",
    "    for line in lines:\n",
    "        print(line.rstrip())"
   ]
  },
  {
   "cell_type": "markdown",
   "id": "4e83f14c-dc8c-4a4b-85a7-e94fa9fd182d",
   "metadata": {},
   "source": [
    "## Exercise 5\n",
    "\n",
    "*In this exercise we will get more familiar with filepath operations.*\n",
    "\n",
    "- *Create two directories, called `upper` and `lower`. The directory `upper` should be created to the parent folder of the current working directory, and the directory `lower` should be created to the current working directory. Create the folders using `os.mkdir()`*\n",
    "- *To both folders, create a text file called `text.txt` with the string `Hello World`*\n",
    "- *Finally, use the `os.exists()` function to check that that both the text files exist. Print the results of the function calls.*\n",
    "\n",
    "\n",
    "Note that the solution could have been done with absolute filepaths as well, using `os.getcwd()`."
   ]
  },
  {
   "cell_type": "code",
   "execution_count": null,
   "id": "1985ac00-9645-4be2-8f9b-afc8616755df",
   "metadata": {},
   "outputs": [],
   "source": [
    "import os\n",
    "\n",
    "os.mkdir(\"../upper\")\n",
    "\n",
    "os.mkdir(\"lower\")\n",
    "\n",
    "with open(\"../upper/text.txt\", \"w\") as upper_file:\n",
    "    upper_file.write(\"Hello World\")\n",
    "\n",
    "with open(\"lower/text.txt\", \"w\") as lower_file:\n",
    "    lower_file.write(\"Hello World\")\n",
    "\n",
    "upper_file_exists = os.path.exists(\"../upper/text.txt\")\n",
    "lower_file_exists = os.path.exists(\"lower/text.txt\")\n",
    "\n",
    "print(\"Does the file 'text.txt' in 'upper' exist?:\", upper_file_exists)\n",
    "print(\"Does the file 'text.txt' in 'lower' exist?:\", lower_file_exists)"
   ]
  },
  {
   "cell_type": "markdown",
   "id": "98fcd22f-c5eb-43f3-985e-84c7ab5c4939",
   "metadata": {},
   "source": [
    "## Exercise 6\n",
    "\n",
    "*In this exercise, you will work with the `os` library to perform various file and directory operations.*\n",
    "\n",
    "*You should:*\n",
    "- *List all files in the current directory*\n",
    "- *Create a new directory named `test_directory`*\n",
    "- *Move `sample_file.txt` into `test_directory`*\n",
    "- *Rename the file inside `test_directory` to `renamed_file.txt`*\n",
    "- *Delete `renamed_file.txt` and then delete the `test_directory`*\n",
    "\n",
    "*Hints:*\n",
    "- *Use `os.listdir()` to list files*\n",
    "- *Use `os.mkdir()` to create directories*\n",
    "- *Use `os.path.join` to combine filepaths*\n",
    "- *Use `os.rename()` to rename files and directories*\n",
    "- *Use `os.remove()` to delete files*\n",
    "- *Use `os.rmdir()` to delete directories*"
   ]
  },
  {
   "cell_type": "code",
   "execution_count": null,
   "id": "1b73c033-af80-4d99-94c6-4cf61d0a773d",
   "metadata": {},
   "outputs": [],
   "source": [
    "files = os.listdir()\n",
    "print(f\"Files in current directory: {files}\")\n",
    "\n",
    "new_dir = \"test_directory\"\n",
    "os.mkdir(new_dir)\n",
    "print(f\"Created directory: {new_dir}\")\n",
    "\n",
    "os.rename(\"sample_file.txt\", os.path.join(new_dir, \"sample_file.txt\"))\n",
    "print(f\"Moved sample_file.txt to {new_dir}\")\n",
    "\n",
    "os.rename(os.path.join(new_dir, \"sample_file.txt\"), os.path.join(new_dir, \"renamed_file.txt\"))\n",
    "print(f\"Renamed file inside {new_dir} to renamed_file.txt\")\n",
    "\n",
    "os.remove(os.path.join(new_dir, \"renamed_file.txt\"))\n",
    "os.rmdir(new_dir)\n",
    "print(f\"Deleted {new_dir} and its contents.\")"
   ]
  },
  {
   "cell_type": "markdown",
   "id": "ae901a0c-7a47-41a4-bd05-79fad0177c4b",
   "metadata": {},
   "source": [
    "## Exercise 7\n",
    "\n",
    "*Write a Python program that divides two numbers provided by the user. Division is a straightforward operation, but several potential issues can arise:*\n",
    "\n",
    "- *The user might accidentally provide non-numeric input, causing a `ValueError`*\n",
    "- *The user could enter zero as the divisor, which would cause a `ZeroDivisionError`*\n",
    "- *Unexpected input or errors might occur that aren’t initially anticipated*\n",
    "\n",
    "*Your goal is to ensure that your program can gracefully handle these errors and provide helpful feedback to the user.*\n",
    "\n",
    "*You should:*\n",
    "\n",
    "- *Prompt the user to enter two numbers and perform the division operation with the two numbers*\n",
    "    - *Use an except block to catch any `ValueError` that occurs if the user inputs something that isn’t a number*\n",
    "    - *Use an except block to catch a `ZeroDivisionError` if the user attempts to divide by zero*\n",
    "- *Include a general except block to catch any other unforeseen errors*\n",
    "- *Ensure that your program prints a relevant message to the user for each type of error*\n",
    "- *Use a finally block to print a message indicating that the program has finished, regardless of whether an error occurred*"
   ]
  },
  {
   "cell_type": "code",
   "execution_count": null,
   "id": "64fe8578-5dbb-484e-8f84-e392867677d5",
   "metadata": {},
   "outputs": [],
   "source": [
    "try:\n",
    "    num1 = float(input(\"Enter the first number: \"))\n",
    "    num2 = float(input(\"Enter the second number: \"))\n",
    "\n",
    "    result = num1 / num2\n",
    "    print(f\"The result of the division is: {result}\")\n",
    "\n",
    "except ValueError:\n",
    "    print(\"Error: Invalid input. Please enter numeric values.\")\n",
    "\n",
    "except ZeroDivisionError:\n",
    "    print(\"Error: You cannot divide by zero.\")\n",
    "\n",
    "except:\n",
    "    print(\"Something unexpected happened!\")\n",
    "finally:\n",
    "    print(\"The program has finished.\")"
   ]
  },
  {
   "cell_type": "markdown",
   "id": "89408366-9731-438d-8da9-5d34857f4b0c",
   "metadata": {},
   "source": [
    "## Exercise 8\n",
    "\n",
    "*In this exercise, you are going to open two separate files. The filenames are given by the user as an input. Both files contain one number as informaton. Your task is to open the files, and calculate the sum between the two numbers. The files are generated by a code snippet that is given to you below.*\n",
    "\n",
    "*Your program should take into account the following situations:*\n",
    "\n",
    "- *User gives the wrong filename as input, which raises the FileNotFoundError*\n",
    "- *The content of the file is not a number, which would raise a ValueError*\n",
    "- *An unexpected error happens*"
   ]
  },
  {
   "cell_type": "code",
   "execution_count": null,
   "id": "4d8a6da0-e63c-4a58-a752-92bf0c7609bd",
   "metadata": {},
   "outputs": [],
   "source": [
    "try:\n",
    "    filename1 = input(\"Give the first filename: \")\n",
    "    filename2 = input(\"Give the second filename: \")\n",
    "    filenames = [filename1, filename2]\n",
    "    sum = 0\n",
    "    for filename in filenames:\n",
    "        with open(filename) as file:\n",
    "            num = int(file.readline())\n",
    "            sum += num\n",
    "    print(\"Sum of the two numbers was:\", sum)\n",
    "\n",
    "except FileNotFoundError:\n",
    "    print(\"Error: The file:\", filename, \"does not exist.\")\n",
    "\n",
    "except ValueError:\n",
    "    print(\"Unable to transform the contents of file '\"+filename+\"' to a number.\")\n",
    "\n",
    "except:\n",
    "    print(\"Something unexpected happened.\")\n",
    "\n",
    "finally:\n",
    "    print(\"The program has finished.\")"
   ]
  }
 ],
 "metadata": {
  "kernelspec": {
   "display_name": "Python 3 (ipykernel)",
   "language": "python",
   "name": "python3"
  },
  "language_info": {
   "codemirror_mode": {
    "name": "ipython",
    "version": 3
   },
   "file_extension": ".py",
   "mimetype": "text/x-python",
   "name": "python",
   "nbconvert_exporter": "python",
   "pygments_lexer": "ipython3",
   "version": "3.10.9"
  }
 },
 "nbformat": 4,
 "nbformat_minor": 5
}
