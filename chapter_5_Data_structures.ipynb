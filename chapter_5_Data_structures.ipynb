{
 "cells": [
  {
   "cell_type": "markdown",
   "id": "50014c72-641d-42b1-bcd7-988769c8cc65",
   "metadata": {},
   "source": [
    "# Chapter 5: Data Structures"
   ]
  },
  {
   "cell_type": "markdown",
   "id": "f7600d50-89d6-4735-ab29-3509c2727d5b",
   "metadata": {},
   "source": [
    "In this notebook, we will cover the following data structures in Python:\n",
    "\n",
    "- Dictionary\n",
    "- Tuple\n",
    "- Set\n",
    "- NamedTuple\n",
    "- Counter\n",
    "- Stack\n",
    "- Queue\n",
    "\n",
    "## Dictionary\n",
    "\n",
    "A dictionary is a collection of key-value pairs, where each key is unique and maps to a value. Dictionaries are highly versatile and are often used to store data that can be quickly retrieved using a unique key. In Python, dictionaries are created using curly braces {} with key-value pairs separated by colons :.\n",
    "\n",
    "### Creating a Dictionary\n",
    "\n",
    "Dictionaries can be created in multiple ways, including with initial values."
   ]
  },
  {
   "cell_type": "code",
   "execution_count": null,
   "id": "c0dc1813-5fe4-42b3-abdc-2fd2f7a52023",
   "metadata": {},
   "outputs": [],
   "source": [
    "# Creating an empty dictionary\n",
    "d = {}\n",
    "\n",
    "# Creating a dictionary with initial values\n",
    "student = {\n",
    "    'name': 'John',\n",
    "    'age': 25,\n",
    "    'courses': ['Math', 'CompSci']\n",
    "}\n",
    "\n",
    "print(student)"
   ]
  },
  {
   "cell_type": "markdown",
   "id": "3fccb583-95c2-41a0-a22b-613312c2a138",
   "metadata": {},
   "source": [
    "### Accessing Values\n",
    "\n",
    "Values can be accessed using their corresponding keys. If you try to access a key that does not exist, Python will raise a KeyError."
   ]
  },
  {
   "cell_type": "code",
   "execution_count": null,
   "id": "2f23da4a-e4f4-4b55-be32-d4dd17478afe",
   "metadata": {},
   "outputs": [],
   "source": [
    "student = {\n",
    "    'name': 'John',\n",
    "    'age': 25,\n",
    "    'courses': ['Math', 'CompSci']\n",
    "}\n",
    "\n",
    "# Accessing the value associated with the key 'name'\n",
    "print(student['name'])\n",
    "\n",
    "# Accessing the value associated with the key 'courses'\n",
    "print(student['courses'])\n",
    "\n",
    "# Attempting to access a non-existent key\n",
    "# print(student['grade'])  # This will raise a KeyError"
   ]
  },
  {
   "cell_type": "markdown",
   "id": "d7806ae7-19fc-4a74-aa92-c2885826dfcb",
   "metadata": {},
   "source": [
    "To avoid KeyError, you can use the get method, which returns None if the key does not exist, or you can provide a default value."
   ]
  },
  {
   "cell_type": "code",
   "execution_count": null,
   "id": "3689dfe8-7aba-42e5-8ba5-031bc7b23dc7",
   "metadata": {},
   "outputs": [],
   "source": [
    "print(student.get('grade', 'N/A'))  # Returns 'N/A' since 'grade' key does not exist"
   ]
  },
  {
   "cell_type": "markdown",
   "id": "05b5fee4-da03-4bb0-8572-f965c38fd716",
   "metadata": {},
   "source": [
    "### Adding and Updating Values\n",
    "\n",
    "Values can be added or updated by assigning a value to a key. If the key already exists, its value will be updated; if it doesn’t, a new key-value pair will be added."
   ]
  },
  {
   "cell_type": "code",
   "execution_count": null,
   "id": "24b30af8-8834-4363-ae31-23a73bd4fe7f",
   "metadata": {},
   "outputs": [],
   "source": [
    "student = {\n",
    "    'name': 'John',\n",
    "    'age': 25,\n",
    "    'courses': ['Math', 'CompSci']\n",
    "}\n",
    "\n",
    "# Adding a new key-value pair\n",
    "student['phone'] = '555-5555'\n",
    "\n",
    "# Updating an existing key-value pair\n",
    "student['name'] = 'Jane'\n",
    "\n",
    "print(student)"
   ]
  },
  {
   "cell_type": "markdown",
   "id": "a2e6eabb-891e-4335-afa1-57ee46f8a3ce",
   "metadata": {},
   "source": [
    "### Removing Values\n",
    "\n",
    "Values can be removed using the del statement or the pop() method. The del statement removes the key-value pair permanently, while pop() returns the value that was removed."
   ]
  },
  {
   "cell_type": "code",
   "execution_count": null,
   "id": "4c1be976-883d-4cf0-b001-3bcf5c266b2f",
   "metadata": {},
   "outputs": [],
   "source": [
    "student = {\n",
    "    'name': 'John',\n",
    "    'age': 25,\n",
    "    'courses': ['Math', 'CompSci'],\n",
    "    'phone': '555-5555'\n",
    "}\n",
    "\n",
    "# Removing a key-value pair using del\n",
    "del student['age']\n",
    "\n",
    "# Removing a key-value pair using pop\n",
    "phone = student.pop('phone')\n",
    "\n",
    "print(student)\n",
    "print(phone)"
   ]
  },
  {
   "cell_type": "markdown",
   "id": "bf2f4706-c67c-4d22-b20a-ffdef33a9ec9",
   "metadata": {},
   "source": [
    "Dictionary Methods\n",
    "\n",
    "Dictionaries come with several useful methods for manipulation and retrieval of data.\n",
    "\n",
    "- `keys()`: Returns a view object containing the dictionary’s keys\n",
    "- `values()`: Returns a view object containing the dictionary’s values\n",
    "- `items()`: Returns a view object containing the dictionary’s key-value pairs"
   ]
  },
  {
   "cell_type": "code",
   "execution_count": null,
   "id": "53ebe3f9-1854-42e0-8fca-04660a22ceae",
   "metadata": {},
   "outputs": [],
   "source": [
    "student = {\n",
    "    'name': 'John',\n",
    "    'age': 25,\n",
    "    'courses': ['Math', 'CompSci']\n",
    "}\n",
    "\n",
    "print(student.keys())   # Returns a view object of keys\n",
    "print(student.values()) # Returns a view object of values\n",
    "print(student.items())  # Returns a view object of key-value pairs"
   ]
  },
  {
   "cell_type": "markdown",
   "id": "a4b4897f-8efb-47cb-88c9-4930ad386009",
   "metadata": {},
   "source": [
    "### Exercise 1\n",
    "\n",
    "Create a dictionary representing a book, with keys for title, author, and year published. Then print each value using its key."
   ]
  },
  {
   "cell_type": "code",
   "execution_count": null,
   "id": "752da72e-7208-4eb3-9b8f-c377cc403e2a",
   "metadata": {},
   "outputs": [],
   "source": [
    "# Your code here"
   ]
  },
  {
   "cell_type": "markdown",
   "id": "48ad2288-87c4-4502-b59c-37f6e213428c",
   "metadata": {},
   "source": [
    "### Exercise 2\n",
    "\n",
    "Given the dictionary grades, add a key-value pair for a new student and update the grade of an existing student."
   ]
  },
  {
   "cell_type": "code",
   "execution_count": null,
   "id": "9b5e76b6-de79-432c-a902-39584fd600f1",
   "metadata": {},
   "outputs": [],
   "source": [
    "grades = {'Alice': 85, 'Bob': 90, 'Charlie': 78}\n",
    "# Your code here"
   ]
  },
  {
   "cell_type": "markdown",
   "id": "d960b3ae-9df8-4fce-aaeb-acd18201bc25",
   "metadata": {},
   "source": [
    "### Exercise 3\n",
    "\n",
    "Create a dictionary representing a student database, where each key is a student’s name and the value is another dictionary containing their age, major, and a list of their courses. Implement functionality to add new students, update existing student information, and delete a student from the database. The initial database is given to to you, to which you should do each modification functionality (add, modify, remove) at least once."
   ]
  },
  {
   "cell_type": "code",
   "execution_count": null,
   "id": "376368d4-b41c-4530-aba1-8b9d7eafa62a",
   "metadata": {},
   "outputs": [],
   "source": [
    "students = {\n",
    "    'Alice': {\n",
    "        'age': 20,\n",
    "        'major': 'Computer Science',\n",
    "        'courses': ['CS101', 'MATH120', 'ENG200']\n",
    "    },\n",
    "    'Bob': {\n",
    "        'age': 22,\n",
    "        'major': 'Mathematics',\n",
    "        'courses': ['MATH120', 'MATH240', 'PHYS150']\n",
    "    }\n",
    "}\n",
    "\n",
    "# Your code here"
   ]
  },
  {
   "cell_type": "markdown",
   "id": "24dfd2eb-6197-4c0d-ae45-8914c32f789d",
   "metadata": {},
   "source": [
    "## Tuple\n",
    "\n",
    "A tuple is an immutable sequence of values. Once created, the values in a tuple cannot be changed, making tuples suitable for storing fixed collections of items. Tuples are created using parentheses () and can store heterogeneous data types.\n",
    "\n",
    "## Creating a Tuple\n",
    "\n",
    "Tuples can be created with or without initial values."
   ]
  },
  {
   "cell_type": "code",
   "execution_count": null,
   "id": "e8f34a2f-7cbb-4d4a-abb4-0c5197ebbc99",
   "metadata": {},
   "outputs": [],
   "source": [
    "# Creating an empty tuple\n",
    "t = ()\n",
    "print(t)\n",
    "\n",
    "# Creating a tuple with initial values\n",
    "t = (1, 2, 3)\n",
    "\n",
    "print(t)"
   ]
  },
  {
   "cell_type": "markdown",
   "id": "52208df2-7c01-4159-bf9f-3ad74a71ab5f",
   "metadata": {},
   "source": [
    "### Accessing Values\n",
    "\n",
    "Values in a tuple can be accessed using their indices. Like lists, tuples are zero-indexed."
   ]
  },
  {
   "cell_type": "code",
   "execution_count": null,
   "id": "3647c64b-584c-4476-9bed-e91edddaf594",
   "metadata": {},
   "outputs": [],
   "source": [
    "t = (1, 2, 3, 4, 5)\n",
    "\n",
    "# Accessing the first value\n",
    "print(t[0])\n",
    "\n",
    "# Accessing the last value\n",
    "print(t[-1])\n",
    "\n",
    "# Accessing a slice from the tuple\n",
    "print(t[0:4])"
   ]
  },
  {
   "cell_type": "markdown",
   "id": "10000b34-2884-4a3e-ab8a-daad4edc17c8",
   "metadata": {},
   "source": [
    "### Tuple Methods\n",
    "\n",
    "Although tuples are immutable, they support a limited number of methods, such as count() and index().\n",
    "\n",
    "- `count(value)`: Returns the number of occurrences of value in the tuple.\n",
    "- `index(value)`: Returns the index of the first occurrence of value."
   ]
  },
  {
   "cell_type": "code",
   "execution_count": null,
   "id": "ad36d02c-f2af-4517-98d3-860c204cfaed",
   "metadata": {},
   "outputs": [],
   "source": [
    "t = (1, 2, 3, 4, 1, 2, 1)\n",
    "\n",
    "print(t.count(1))  # Returns the number of occurrences of the value 1\n",
    "print(t.index(3))  # Returns the index of the first occurrence of the value 3"
   ]
  },
  {
   "cell_type": "markdown",
   "id": "013a5e53-0714-414e-a467-44d4c81121ff",
   "metadata": {},
   "source": [
    "#### Exercise 4\n",
    "\n",
    "Create a tuple with the values ‘apple’, ‘banana’, and ‘cherry’. Print the second value."
   ]
  },
  {
   "cell_type": "code",
   "execution_count": null,
   "id": "f2f249eb-06b3-4069-b2c4-9abae70b6f0a",
   "metadata": {},
   "outputs": [],
   "source": [
    "# Your code here"
   ]
  },
  {
   "cell_type": "markdown",
   "id": "0c316cd4-adc2-48b7-913d-edcc26e400ba",
   "metadata": {},
   "source": [
    "### Exercise 5\n",
    "\n",
    "Given the tuple numbers, count how many times the number 4 appears."
   ]
  },
  {
   "cell_type": "code",
   "execution_count": null,
   "id": "c8ac8b3c-a8ad-4a24-8300-0763d936e23b",
   "metadata": {},
   "outputs": [],
   "source": [
    "numbers = (4, 2, 4, 3, 4, 5, 4)\n",
    "# Your code here"
   ]
  },
  {
   "cell_type": "markdown",
   "id": "29a3143f-3a70-4eb3-9ed3-4062266da225",
   "metadata": {},
   "source": [
    "### Exercise 6\n",
    "\n",
    "Create a function that takes a tuple of numbers as a parameter, and returns a new tuple with only the unique values, preserving the order of the numbers' first occurrence.\n",
    "\n",
    "Here is an example of how the program should work: \n",
    "\n",
    "```\n",
    "my_tuple = (1, 5, 7, 5, 2, 1, 0, 1)\n",
    "result = remove_tuple_duplicates(my_tuple)\n",
    "print(result) >> (1, 5, 7, 2, 0)\n",
    "```"
   ]
  },
  {
   "cell_type": "code",
   "execution_count": null,
   "id": "886f2f2b-63e1-4d88-a7fb-327c66d89b19",
   "metadata": {},
   "outputs": [],
   "source": [
    "# Your code here"
   ]
  },
  {
   "cell_type": "markdown",
   "id": "8d93184d-3c7a-4de2-b268-1020405948e5",
   "metadata": {},
   "source": [
    "## Set\n",
    "\n",
    "A set is an unordered collection of unique values. Sets are useful when you need to store distinct elements and perform operations like union, intersection, and difference. Sets are created using curly braces `{}` or the `set()` function.\n",
    "\n",
    "### Creating a Set\n",
    "\n",
    "Sets can be created with or without initial values. An empty set can only be created using the `set()` function. Using empty curly braces, `{}`, results in an empty dictionary."
   ]
  },
  {
   "cell_type": "code",
   "execution_count": null,
   "id": "1e59cf75-2f76-4e8a-9de2-40c5141c2f69",
   "metadata": {},
   "outputs": [],
   "source": [
    "# Creating an empty set\n",
    "s = set()\n",
    "print(s)\n",
    "\n",
    "# Creating a set with initial values\n",
    "s = {1, 2, 3}\n",
    "print(s)\n",
    "\n",
    "# Creating a set from an iterable\n",
    "s = set([1, 2, 3])\n",
    "print(s)"
   ]
  },
  {
   "cell_type": "markdown",
   "id": "3693b826-46d0-4882-aca1-2dc79f8d8adb",
   "metadata": {},
   "source": [
    "### Adding and Removing Values\n",
    "\n",
    "Values can be added to a set using the `add()` method and removed using the `remove()` or `discard()` methods. The `discard()` method does not raise an error if the value is not found. The `update()` method can be used to add elements from other sets or iterables."
   ]
  },
  {
   "cell_type": "code",
   "execution_count": null,
   "id": "fa2a59cd-40e0-464c-a082-0e557199b4f0",
   "metadata": {},
   "outputs": [],
   "source": [
    "s = {1, 2, 3}\n",
    "\n",
    "# Adding a value\n",
    "s.add(4)\n",
    "\n",
    "# Removing a value\n",
    "s.remove(2)\n",
    "\n",
    "print(s)\n",
    "\n",
    "# Discarding a value (no error if the value is not found)\n",
    "s.discard(5)\n",
    "\n",
    "print(s)\n",
    "\n",
    "# Update the set\n",
    "s.update([4, 5, 9])\n",
    "print(s)"
   ]
  },
  {
   "cell_type": "markdown",
   "id": "3940e29c-080c-4116-8bd0-a43d3691bb95",
   "metadata": {},
   "source": [
    "### Set Operations\n",
    "\n",
    "Sets support various operations like union, intersection, and difference, which are useful for combining or comparing sets.\n",
    "\n",
    "- `|` - union: Combines two sets into one, including all unique elements\n",
    "- `&` - intersection: Returns a set of elements that are common to both sets\n",
    "- `-` - difference: Returns a set of elements that are in one set but not in the other\n",
    "- `^` - symmetric difference: Returns a set of elements that are not shared by the two sets"
   ]
  },
  {
   "cell_type": "code",
   "execution_count": null,
   "id": "89f09eb0-1231-4276-85e6-e3c73390795f",
   "metadata": {},
   "outputs": [],
   "source": [
    "set1 = {1, 2, 3}\n",
    "set2 = {3, 4, 5}\n",
    "\n",
    "# Union\n",
    "print(set1 | set2) \n",
    "\n",
    "# Intersection\n",
    "print(set1 & set2)\n",
    "\n",
    "# Difference\n",
    "print(set1 - set2)\n",
    "\n",
    "# Symmetric difference\n",
    "print(set1 ^ set2)"
   ]
  },
  {
   "cell_type": "markdown",
   "id": "5d6b7d18-b229-4a76-9b0b-84dddeecdc75",
   "metadata": {},
   "source": [
    "### Exercise 7\n",
    "\n",
    "Create a set with the values 1, 2, 3, and 4. Then add the value 5 and remove the value 2."
   ]
  },
  {
   "cell_type": "code",
   "execution_count": null,
   "id": "3d623f6e-4441-4ba5-9ecd-20961a38c410",
   "metadata": {},
   "outputs": [],
   "source": [
    "# Your code here"
   ]
  },
  {
   "cell_type": "markdown",
   "id": "ab4a5b73-8cc7-4aad-8e0c-de7bbc4f218a",
   "metadata": {},
   "source": [
    "### Exercise 8\n",
    "\n",
    "Given the sets a and b, find their union and intersection."
   ]
  },
  {
   "cell_type": "code",
   "execution_count": null,
   "id": "694d48d7-0935-4e72-b020-014f3b5fc71c",
   "metadata": {},
   "outputs": [],
   "source": [
    "a = {1, 2, 3}\n",
    "b = {2, 3, 4}\n",
    "# Your code here"
   ]
  },
  {
   "cell_type": "markdown",
   "id": "3bc56c0f-3a92-4925-a128-5f6be44febaf",
   "metadata": {},
   "source": [
    "### Exercise 9\n",
    "\n",
    "Create two sets, one containing the first 10 positive integers and the other containing the first 10 positive even numbers. Perform and print the results of union, intersection, and difference operations on these sets."
   ]
  },
  {
   "cell_type": "code",
   "execution_count": null,
   "id": "02b66856-b082-4908-a840-b352685b9b39",
   "metadata": {},
   "outputs": [],
   "source": [
    "# Your code here"
   ]
  },
  {
   "cell_type": "markdown",
   "id": "2bb4216b-47f0-4d48-a81f-b69e21a7242f",
   "metadata": {},
   "source": [
    "## NamedTuple\n",
    "\n",
    "A NamedTuple is a subclass of tuples that allows for named fields, making the code more readable and self-documenting. NamedTuples are defined in the collections module and provide the benefits of tuples with named access to their elements.\n",
    "\n",
    "### Creating a NamedTuple\n",
    "\n",
    "You can define a NamedTuple by specifying its name and the field names."
   ]
  },
  {
   "cell_type": "code",
   "execution_count": null,
   "id": "911ef771-db28-4d30-a03a-abe7f0d35469",
   "metadata": {},
   "outputs": [],
   "source": [
    "from collections import namedtuple\n",
    "\n",
    "# Defining a NamedTuple type\n",
    "Point = namedtuple('Point', ['x', 'y'])\n",
    "\n",
    "# Creating an instance of Point\n",
    "p = Point(4, 5)\n",
    "\n",
    "print(p)"
   ]
  },
  {
   "cell_type": "markdown",
   "id": "973bf8e1-c10b-4f97-8d21-475d4ff03ee2",
   "metadata": {},
   "source": [
    "### Accessing Values\n",
    "\n",
    "Values in a NamedTuple can be accessed using both index positions and named fields, which makes the code more descriptive and easier to maintain."
   ]
  },
  {
   "cell_type": "code",
   "execution_count": null,
   "id": "0b9aec14-71e0-43e2-ba3f-c9e7e33ab71e",
   "metadata": {},
   "outputs": [],
   "source": [
    "# Accessing values using named fields\n",
    "print(p.x)\n",
    "print(p.y)\n",
    "\n",
    "# Accessing values using index positions\n",
    "print(p[0])\n",
    "print(p[1])"
   ]
  },
  {
   "cell_type": "markdown",
   "id": "305dfca8-a938-48a0-944f-c1d1a2f75fcb",
   "metadata": {},
   "source": [
    "### Additional Methods\n",
    "\n",
    "NamedTuples come with a few additional methods that are not available for regular tuples.\n",
    "\n",
    "- `_replace()`: Returns a new instance of the NamedTuple with specified fields replaced with new values.\n",
    "- `_asdict()`: Returns the NamedTuple as an OrderedDict.\n",
    "- `_fields`: Returns a tuple of field names of the NamedTuple."
   ]
  },
  {
   "cell_type": "code",
   "execution_count": null,
   "id": "3e53b9d8-9f3f-4f0b-ad2a-298069835a13",
   "metadata": {},
   "outputs": [],
   "source": [
    "# Replacing field values\n",
    "p = p._replace(x=10)\n",
    "print(p)  # Output: Point(x=10, y=2)\n",
    "\n",
    "# Converting to an OrderedDict\n",
    "p_dict = p._asdict()\n",
    "print(p_dict)  # Output: OrderedDict([('x', 10), ('y', 2)])\n",
    "\n",
    "# Accessing field names\n",
    "fields = p._fields\n",
    "print(fields)  # Output: ('x', 'y')"
   ]
  },
  {
   "cell_type": "markdown",
   "id": "ff097457-8762-4eb5-9f80-41ab0a33708d",
   "metadata": {},
   "source": [
    "### Use Cases\n",
    "\n",
    "NamedTuples are often used to improve code readability, especially in cases where tuples with many fields are used. They are ideal for representing simple data structures, such as points in 2D space, records, or database rows."
   ]
  },
  {
   "cell_type": "markdown",
   "id": "43648e52-a22b-4bfa-9f43-fc4d0bbc1da0",
   "metadata": {},
   "source": [
    "### Exercise 10\n",
    "\n",
    "Create a NamedTuple called Car with fields make, model, and year. Create one instance of it with values, and print each field."
   ]
  },
  {
   "cell_type": "code",
   "execution_count": null,
   "id": "bcb5a503-6d99-4d7b-b63a-deb6e25aafdd",
   "metadata": {},
   "outputs": [],
   "source": [
    "from collections import namedtuple\n",
    "# Your code here"
   ]
  },
  {
   "cell_type": "markdown",
   "id": "88c60541-f06c-4b7c-b78e-5f59cd6953ef",
   "metadata": {},
   "source": [
    "### Exercise 11\n",
    "\n",
    "Create a NamedTuple Employee with fields name, age, and position, create an instance and then replace the position field with a new value."
   ]
  },
  {
   "cell_type": "code",
   "execution_count": null,
   "id": "528c114e-e1e6-4f18-ba9c-ba882438eda5",
   "metadata": {},
   "outputs": [],
   "source": [
    "from collections import namedtuple\n",
    "# Your code here"
   ]
  },
  {
   "cell_type": "markdown",
   "id": "6db28fb2-def0-4399-aec4-a66205bda1b0",
   "metadata": {},
   "source": [
    "## Counter\n",
    "\n",
    "A Counter is a subclass of dictionaries provided by the `collections` module, designed for counting objects. It is a convenient way to tally items, such as counting occurrences of elements in a list or other iterables. The `Counter` stores elements as dictionary keys and their counts as dictionary values.\n",
    "\n",
    "### Creating a Counter\n",
    "\n",
    "You can create a Counter from an iterable or from a mapping of elements to their counts."
   ]
  },
  {
   "cell_type": "code",
   "execution_count": null,
   "id": "990ab16e-ead5-458c-80e1-73df2ab583ac",
   "metadata": {},
   "outputs": [],
   "source": [
    "from collections import Counter\n",
    "\n",
    "# Creating a Counter from a list\n",
    "c = Counter([1, 2, 2, 3, 3, 3])\n",
    "\n",
    "print(c)\n",
    "\n",
    "# Creating a Counter from a dictionary\n",
    "c = Counter({'a': 2, 'b': 3, 'c': 1})\n",
    "\n",
    "print(c)\n",
    "\n",
    "# Creating a Counter with keyword arguments\n",
    "c = Counter(a=2, b=3, c=1)\n",
    "\n",
    "print(c)"
   ]
  },
  {
   "cell_type": "markdown",
   "id": "a3f92973-b98b-4b2a-893d-2ffde5960a30",
   "metadata": {},
   "source": [
    "### Accessing Counts\n",
    "\n",
    "Counts can be accessed using the keys, just like with dictionaries. If a key is not present, the Counter returns a count of zero instead of raising a KeyError."
   ]
  },
  {
   "cell_type": "code",
   "execution_count": null,
   "id": "32f52a08-d549-413d-9a3f-1afb332a8f70",
   "metadata": {},
   "outputs": [],
   "source": [
    "from collections import Counter\n",
    "c = Counter([1, 2, 2, 3, 3, 3])\n",
    "\n",
    "# Accessing counts\n",
    "print(c[2])  \n",
    "print(c[3])  \n",
    "\n",
    "# Accessing a count for a non-existent key\n",
    "print(c[4])  "
   ]
  },
  {
   "cell_type": "markdown",
   "id": "b84a2ac1-9299-41f6-a170-def2247a1c21",
   "metadata": {},
   "source": [
    "### Updating Counts\n",
    "\n",
    "You can update counts by adding or subtracting from the Counter. This can be done with another Counter, an iterable, or a mapping."
   ]
  },
  {
   "cell_type": "code",
   "execution_count": null,
   "id": "6d1745ae-dd32-4a87-915b-033e31a10022",
   "metadata": {},
   "outputs": [],
   "source": [
    "from collections import Counter\n",
    "c = Counter([1, 2, 2, 3, 3, 3])\n",
    "\n",
    "# Updating with another Counter\n",
    "c.update(Counter([3, 4, 4]))\n",
    "print(c)  \n",
    "\n",
    "# Updating with an iterable\n",
    "c.update([1, 4, 4, 4])\n",
    "print(c)  \n",
    "\n",
    "# Subtracting counts\n",
    "c.subtract([4, 4, 1])\n",
    "print(c)  "
   ]
  },
  {
   "cell_type": "markdown",
   "id": "8bb5bbc1-455c-4e2c-b057-6a4dc741ad02",
   "metadata": {},
   "source": [
    "### Counter Methods\n",
    "\n",
    "Counters come with several methods to facilitate various operations:\n",
    "\n",
    "- `elements()`: Returns an iterator over elements, repeating each as many times as its count.\n",
    "- `most_common()`: Returns a list of the n most common elements and their counts.\n",
    "- `subtract()`: Subtracts counts using another Counter, iterable, or mapping.\n",
    "- `total()`: Returns the total count of all elements."
   ]
  },
  {
   "cell_type": "code",
   "execution_count": null,
   "id": "ca67904a-bc08-4df9-b368-c36c5a4ce130",
   "metadata": {},
   "outputs": [],
   "source": [
    "c = Counter([1, 2, 2, 3, 3, 3])\n",
    "\n",
    "# Elements\n",
    "print(list(c.elements()))  \n",
    "\n",
    "# Most common\n",
    "print(c.most_common(2))  \n",
    "\n",
    "# Subtract\n",
    "c.subtract({2: 1, 3: 2})\n",
    "print(c)  \n",
    "\n",
    "# Total\n",
    "print(sum(c.values()))"
   ]
  },
  {
   "cell_type": "markdown",
   "id": "6e678a35-7cef-4419-92c2-831d6ee157f1",
   "metadata": {},
   "source": [
    "### Exercise 12\n",
    "\n",
    "Create a Counter from the list fruits and print the two most common elements."
   ]
  },
  {
   "cell_type": "code",
   "execution_count": null,
   "id": "1108f425-ca89-4349-9cd7-a9692b6e8927",
   "metadata": {},
   "outputs": [],
   "source": [
    "from collections import Counter\n",
    "fruits = ['apple', 'banana', 'apple', 'orange', 'banana', 'apple']\n",
    "# Your code here"
   ]
  },
  {
   "cell_type": "markdown",
   "id": "243254bb-88b3-42c3-9097-2d885a68cb5b",
   "metadata": {},
   "source": [
    "### Exercise 13\n",
    "\n",
    "Given the Counter `counts`, subtract another Counter with values {1: 1, 3: 1} and print the result."
   ]
  },
  {
   "cell_type": "code",
   "execution_count": null,
   "id": "189512ba-039f-4cff-b2d9-dd8a96540bc8",
   "metadata": {},
   "outputs": [],
   "source": [
    "from collections import Counter\n",
    "\n",
    "counts = Counter([1, 1, 1, 3, 4, 9, 16, 3])\n",
    "# your code here"
   ]
  },
  {
   "cell_type": "markdown",
   "id": "502dc09b-7135-4389-a7c3-41e2c37f845a",
   "metadata": {},
   "source": [
    "### Exercise 14\n",
    "\n",
    "Create a function that takes a string of text and returns a Counter of the frequency of each word in the text. The function should ignore case and punctuation marks."
   ]
  },
  {
   "cell_type": "code",
   "execution_count": null,
   "id": "9052ad2e-33c4-4ee2-87d3-0d50d639155e",
   "metadata": {},
   "outputs": [],
   "source": [
    "from collections import Counter\n",
    "\n",
    "def word_frequency(text):\n",
    "    # your code here\n",
    "\n",
    "text = \"Hello, test world! Everyone, hello. This is a test. This is only a TEST.\"\n",
    "print(word_frequency(text))"
   ]
  },
  {
   "cell_type": "markdown",
   "id": "d7d184fa-295a-412f-beaa-b17f214a7274",
   "metadata": {},
   "source": [
    "## Stack\n",
    "\n",
    "A stack is a data structure that follows the Last In, First Out (LIFO) principle. This means that the last element added to the stack will be the first one to be removed. Stacks are commonly used in situations where you need to reverse the order of items or when you need to access the most recently added item. In Python, stacks can be easily implemented using lists.\n",
    "\n",
    "### Creating a Stack\n",
    "\n",
    "You can create a stack by simply using a list. Elements can be added to the stack using the append() method."
   ]
  },
  {
   "cell_type": "code",
   "execution_count": null,
   "id": "779dcd7c-cbaa-46b0-ad62-89d5c184bfac",
   "metadata": {},
   "outputs": [],
   "source": [
    "stack = []\n",
    "\n",
    "# Pushing elements onto the stack\n",
    "stack.append(1)\n",
    "stack.append(2)\n",
    "stack.append(3)\n",
    "\n",
    "print(stack)  # Output: [1, 2, 3]"
   ]
  },
  {
   "cell_type": "markdown",
   "id": "0a8cd399-e8b9-4681-bc4c-a7a91ea0b059",
   "metadata": {},
   "source": [
    "### Popping Elements\n",
    "\n",
    "Elements can be removed from the stack using the pop() method. The pop() method removes and returns the last element of the list, which corresponds to the top element of the stack."
   ]
  },
  {
   "cell_type": "code",
   "execution_count": null,
   "id": "5db6ff66-d7a8-4e55-98fd-5c79db91dbf2",
   "metadata": {},
   "outputs": [],
   "source": [
    "stack = [1, 2, 3]\n",
    "# Popping elements from the stack\n",
    "print(stack.pop()) \n",
    "print(stack)       \n",
    "\n",
    "print(stack.pop()) \n",
    "print(stack)       "
   ]
  },
  {
   "cell_type": "markdown",
   "id": "d842b9fd-ce63-4584-ba4d-86afad2b61f2",
   "metadata": {},
   "source": [
    "### Exercise 15\n",
    "\n",
    "Create a stack and push the values 1, 2, and 3 onto it. Then pop one value and print the stack."
   ]
  },
  {
   "cell_type": "code",
   "execution_count": null,
   "id": "baf0bad4-91eb-4f3b-b84b-65797c6b86d4",
   "metadata": {},
   "outputs": [],
   "source": [
    "# Your code here"
   ]
  },
  {
   "cell_type": "markdown",
   "id": "fb29e95f-3e58-4124-8bc1-faec81a09659",
   "metadata": {},
   "source": [
    "### Exercise 16\n",
    "\n",
    "Implement a function `reverse_string` that takes a string as input and uses a stack to reverse the characters in the string, which the function returns. Hint: A string can be changed to a list with the function `list()`."
   ]
  },
  {
   "cell_type": "code",
   "execution_count": null,
   "id": "505a54a8-9527-4a75-b14d-dff6734dfd41",
   "metadata": {},
   "outputs": [],
   "source": [
    "def reverse_string(s):\n",
    "    # your code here\n",
    "    \n",
    "s = \"hello\"\n",
    "print(reverse_string(s))  # Output: \"olleh\""
   ]
  },
  {
   "cell_type": "markdown",
   "id": "5104e290-d460-4979-adbd-64868f062b2c",
   "metadata": {},
   "source": [
    "## Queue\n",
    "\n",
    "A queue is a data structure that follows the First In, First Out (FIFO) principle. This means that the first element added to the queue will be the first one to be removed. Queues are commonly used in scenarios where you need to maintain the order of elements, such as task scheduling and handling requests in a sequential manner. In Python, queues can be implemented using lists.\n",
    "\n",
    "### Creating a Queue\n",
    "\n",
    "You can create a queue by using a list. Elements can be added to the queue using the `append()` method."
   ]
  },
  {
   "cell_type": "code",
   "execution_count": null,
   "id": "201cd0cd-7240-40bb-a280-f3c69051038a",
   "metadata": {},
   "outputs": [],
   "source": [
    "queue = []\n",
    "\n",
    "# Adding elements to a que\n",
    "queue.append(1)\n",
    "queue.append(2)\n",
    "queue.append(3)\n",
    "\n",
    "print(queue)"
   ]
  },
  {
   "cell_type": "markdown",
   "id": "2a9fddc9-fef2-4170-846f-7cb36345c11d",
   "metadata": {},
   "source": [
    "### Dequeuing Elements\n",
    "\n",
    "Elements can be removed from the queue using the `pop(0)` method. The `pop(0)` method removes and returns the first element of the list, which corresponds to the front element of the queue."
   ]
  },
  {
   "cell_type": "code",
   "execution_count": null,
   "id": "4812c108-f31c-42a2-b2df-0eae0b192bfa",
   "metadata": {},
   "outputs": [],
   "source": [
    "# Dequeuing elements\n",
    "print(queue.pop(0))  \n",
    "print(queue)         \n",
    "\n",
    "print(queue.pop(0))  \n",
    "print(queue)         "
   ]
  },
  {
   "cell_type": "markdown",
   "id": "21aeb746-b98a-4411-a348-e59f99c877c3",
   "metadata": {},
   "source": [
    "### Exercise 17\n",
    "\n",
    "Create a queue by asking the user to input 5 queue values. Then dequeue 2 values and print the queue."
   ]
  },
  {
   "cell_type": "code",
   "execution_count": null,
   "id": "d9500991-d57a-49cc-93bf-d0f239b28b1b",
   "metadata": {},
   "outputs": [],
   "source": [
    "# Your code here"
   ]
  }
 ],
 "metadata": {
  "kernelspec": {
   "display_name": "Python 3 (ipykernel)",
   "language": "python",
   "name": "python3"
  },
  "language_info": {
   "codemirror_mode": {
    "name": "ipython",
    "version": 3
   },
   "file_extension": ".py",
   "mimetype": "text/x-python",
   "name": "python",
   "nbconvert_exporter": "python",
   "pygments_lexer": "ipython3",
   "version": "3.10.9"
  }
 },
 "nbformat": 4,
 "nbformat_minor": 5
}
