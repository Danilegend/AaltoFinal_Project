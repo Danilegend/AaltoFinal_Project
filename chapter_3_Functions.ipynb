{
 "cells": [
  {
   "cell_type": "markdown",
   "metadata": {},
   "source": [
    "# Chapter 3: Functions"
   ]
  },
  {
   "cell_type": "markdown",
   "metadata": {},
   "source": [
    "Commercial programs and software packages might have thousands or even millions of lines of code. To avoid repetitive code and ease maintenance the code can be broken into functions. As the name suggests, functions encapsulate a block of code with a defined purpose. As with the control structures, functions can also be used to control the flow of the program. A function has to be explicitly called to execute it and in a way a function can be thought of as a sub-program. "
   ]
  },
  {
   "cell_type": "markdown",
   "metadata": {},
   "source": [
    "Functions are defined in Python using this syntax:"
   ]
  },
  {
   "cell_type": "markdown",
   "metadata": {},
   "source": [
    "```python\n",
    "def function():\n",
    "    command\n",
    "```"
   ]
  },
  {
   "cell_type": "markdown",
   "metadata": {},
   "source": [
    "The function definition begins with the keyword `def`. It is followed by the function name, in this case it is `function`, but any name following the variable naming conventions is accepted. The function is **called** using this name. Functions defined by the programmer are called exactly like the default Python functions (e.g. `print()`, `input()` or `range()`).\n",
    "\n",
    "As with control structures and loops, the function header ends with a colon `:`. The contents of the function are indented, as they form a new code block. "
   ]
  },
  {
   "cell_type": "markdown",
   "metadata": {},
   "source": [
    "**Example 1:** `hello()`"
   ]
  },
  {
   "cell_type": "markdown",
   "metadata": {},
   "source": [
    "Let us define a simple function:"
   ]
  },
  {
   "cell_type": "code",
   "execution_count": null,
   "metadata": {},
   "outputs": [],
   "source": [
    "def hello():\n",
    "    print('Hello there!')\n",
    "\n",
    "hello()"
   ]
  },
  {
   "cell_type": "markdown",
   "metadata": {},
   "source": [
    "Now we've defined our first function! Let's dive deeper:\n",
    "\n",
    "- Line 1:  A function definition begins with the keyword `def`. We name our function `hello`. The parameters of the function are given inside the brackets, but our function does not have any. The header ends with `:`.\n",
    "- Line 2: This is the first (and only) line of the function statements. The line calls the built-in function `print()`.\n",
    "- Line 3: A newline is not mandatory to end a function definition, but it makes the code much more readable.\n",
    "- Line 4: This is the function call. Note, that although we have no parameters, we still have to use empty brackets in the function call."
   ]
  },
  {
   "cell_type": "markdown",
   "metadata": {},
   "source": [
    "#### Exercise 1"
   ]
  },
  {
   "cell_type": "markdown",
   "metadata": {},
   "source": [
    "Define new function with the name `calculator`. The function computes the sum of 5 + 5 and saves it to a variable called `a`, after which the value of `a` is printed. Finally, call the function `calculator()` **outside the function definition**. "
   ]
  },
  {
   "cell_type": "code",
   "execution_count": null,
   "metadata": {},
   "outputs": [],
   "source": []
  },
  {
   "cell_type": "markdown",
   "metadata": {},
   "source": [
    "## Parameters and arguments"
   ]
  },
  {
   "cell_type": "markdown",
   "metadata": {},
   "source": [
    "The function can be defined to have **parameters**, which are located inside the brackets. Parameters are function-specific variables, which are given a value when the function is called. The values given in the function call are called **arguments**. Even though parameters and arguments have different meanings, they are sometimes used interchangeably.\n",
    "\n",
    "Functions can have any number of parameters. The function definition with parameters looks like this:\n",
    "\n",
    "```python\n",
    "def function(parameter1, parameter2, ...):\n",
    "    command\n",
    "```\n",
    "\n",
    "For example, the built-in `print()` function requires at least one argument in the function call, which is then printed. Similarly the `range()` function requires at least one argument to create a sequence of numbers.\n",
    "\n",
    "Parameters are the input variables of a function, but having parameters in the definition is not mandatory. For example, the function `hello()` in Example 1 does not have any parameters, but the execution and output of the function is always the same.\n",
    "\n",
    "Note, that if parameters are given in the function definition, corresponding arguments have to be given in the function call. Likewise, if no parameters are defined for a function, no arguments can be given in the function call."
   ]
  },
  {
   "cell_type": "markdown",
   "metadata": {},
   "source": [
    "Let's expand the code in Example 1.\n",
    "\n",
    "Now the `hello()` function responds to the user giving their name as an argument:"
   ]
  },
  {
   "cell_type": "code",
   "execution_count": null,
   "metadata": {},
   "outputs": [],
   "source": [
    "def hello(name):\n",
    "    print('Hello', name)\n",
    "\n",
    "first_name = 'Lisa'\n",
    "hello(first_name)"
   ]
  },
  {
   "cell_type": "markdown",
   "metadata": {},
   "source": [
    "Now the function `hello()` is defined using one parameter `name`. The `print()` call inside the function is given two arguments, `\"Hello\"` and the variable `name` which are combined and output by the `print()` function. \n",
    "\n",
    "On line 4 we defined the variable `first_name` with value `Lisa`. On line 5 we call the function `hello()`, giving it the variable `first_name` as an argument. You can try changing the variable `first_name` and running the program again.\n"
   ]
  },
  {
   "cell_type": "markdown",
   "metadata": {},
   "source": [
    "**The parameters can be used in the function statements like any other variable.** Note that the name of the variable given as the argument and the parameter name in the function definition do not have to match. In this case we are using the variable name `first_name` in the main program and variable name `name` inside the function. \n",
    "\n",
    "In the next example we'll call `hello()` in three different ways, all of which produce the same result:"
   ]
  },
  {
   "cell_type": "code",
   "execution_count": null,
   "metadata": {},
   "outputs": [],
   "source": [
    "def hello(name):\n",
    "    print('Hello', name)\n",
    "\n",
    "first_name = 'Lisa' \n",
    "name = 'Lisa'\n",
    "\n",
    "hello(first_name)\n",
    "hello(name)\n",
    "hello('Lisa')"
   ]
  },
  {
   "cell_type": "markdown",
   "metadata": {},
   "source": [
    "In the above example, for each execution of the function `hello()`, the value of the variable `name` is `\"Lisa\"`.\n",
    "\n",
    "As seen here, arguments can be given without saving the value in a variable first. Depending on the situation, using a variable might still be easier to read and the value can be modified by other parts of the code."
   ]
  },
  {
   "cell_type": "markdown",
   "metadata": {},
   "source": [
    "Note also, that the statements inside the function block are executed only when the function is called:"
   ]
  },
  {
   "cell_type": "code",
   "execution_count": null,
   "metadata": {},
   "outputs": [],
   "source": [
    "def function():\n",
    "    print('This print does not happen unless the function is called')\n",
    "\n",
    "print(\"First print.\")\n",
    "#function()    \n",
    "print(\"Second print.\")"
   ]
  },
  {
   "cell_type": "markdown",
   "metadata": {},
   "source": [
    "Try running the code above. Remove the comment character `#` on line 5 and run the program again. Is there a difference in the output?"
   ]
  },
  {
   "cell_type": "markdown",
   "metadata": {},
   "source": [
    "#### Exercise 2"
   ]
  },
  {
   "cell_type": "markdown",
   "metadata": {},
   "source": [
    "Create a function with one parameter. The function is given a number as the argument and the function will compute the square (`**2`) of the number and print it. Ask the user for the number outside of the function with `input()` and cast it as `int()` and call the function with the user's number."
   ]
  },
  {
   "cell_type": "code",
   "execution_count": null,
   "metadata": {},
   "outputs": [],
   "source": []
  },
  {
   "cell_type": "markdown",
   "metadata": {},
   "source": [
    "If the function is given multiple arguments, they are used in the same order as the parameters:"
   ]
  },
  {
   "cell_type": "code",
   "execution_count": null,
   "metadata": {},
   "outputs": [],
   "source": [
    "def hello(name, age):\n",
    "    print(\"Hello. My name is\", name, \"and I am\", age, \"years old.\")\n",
    "\n",
    "variable_name = \"Tom\"\n",
    "variable_age = 23\n",
    "hello(variable_name, variable_age)"
   ]
  },
  {
   "cell_type": "markdown",
   "metadata": {},
   "source": [
    "In the above example, the function `hello()` is called using arguments `variable_name` and `variable_age`. As the function is executed following the function call, the parameter `name` is given the value of the first argument `variable_name`. Likewise the parameter `age` is given the value of the second argument `variable_age`.\n",
    "\n",
    "What happens if you change the order of `variable_name` and `variable_age` **in the function call**?"
   ]
  },
  {
   "cell_type": "markdown",
   "metadata": {},
   "source": [
    "#### Exercise 3"
   ]
  },
  {
   "cell_type": "markdown",
   "metadata": {},
   "source": [
    "Define a function with name `hello` and three parameters. The first parameter represents age (int), the second parameter represents name (string) and the third parameter hometown (string). The function will print the following text: \"Hi. My name is \\<name\\> and I live in \\<hometown\\>. I am \\<age\\> years old.\"\n",
    "\n",
    "Ask the user to input the information in the main program using three `input()` statements and call the function using your arguments. Remember to cast the age as an integer using `int()`!"
   ]
  },
  {
   "cell_type": "code",
   "execution_count": null,
   "metadata": {},
   "outputs": [],
   "source": []
  },
  {
   "cell_type": "markdown",
   "metadata": {},
   "source": [
    "## General information on functions"
   ]
  },
  {
   "cell_type": "markdown",
   "metadata": {},
   "source": [
    "Now that we know the basics of functions, we'll go through some of the conventions of function writing and move on to more advanced properties of functions.\n",
    "\n",
    "- A function can be defined in any part of the file and it is only executed as it is explicitly called.\n",
    "- A function must be defined before it can be used. You can't write a call to a function that has not yet been seen by the Python interpreter, which reads the `.py` file line by line.\n",
    "- Defining all functions in the beginning of the file and writing the main program after all function definitions is considered a good coding practice and makes the code more readable.\n",
    "- The parameters of the function can be used as any other variable inside the function. The parameters should be named to reflect their purpose."
   ]
  },
  {
   "cell_type": "markdown",
   "metadata": {},
   "source": [
    "Functions are especially useful when we need to repeat a certain task multiple times. One example of a repetitive task is the application of a mathematical formula."
   ]
  },
  {
   "cell_type": "markdown",
   "metadata": {},
   "source": [
    "**Example 2:** Computing the circumference of a circle"
   ]
  },
  {
   "cell_type": "code",
   "execution_count": null,
   "metadata": {},
   "outputs": [],
   "source": [
    "def circumference(radius):\n",
    "    length =  2 * radius * 3.1415\n",
    "    print('A circle with radius', radius, 'has the circumference', length)\n",
    "    \n",
    "circumference(0.5)\n",
    "circumference(1)"
   ]
  },
  {
   "cell_type": "markdown",
   "metadata": {},
   "source": [
    "- Line 1: Function header, we'll call the function `circumference` and give it one parameter `radius`.\n",
    "- Line 2: Compute the circumference and save it to variable `length`. The formula of circumference is (rounding $\\pi \\approx 3.1415$): $$area = 2 \\cdot radius \\cdot 3.1415$$\n",
    "- Line 3: Print the results\n",
    "- Line 5 ja 6: Call the function with two different arguments.\n",
    "      "
   ]
  },
  {
   "cell_type": "markdown",
   "metadata": {},
   "source": [
    "**Example 3:** Interest calculator"
   ]
  },
  {
   "cell_type": "markdown",
   "metadata": {},
   "source": [
    "The calculator will compute the total amount due after a given number of years, including the yearly interest rate."
   ]
  },
  {
   "cell_type": "code",
   "execution_count": null,
   "metadata": {},
   "outputs": [],
   "source": [
    "def interest_calculator(interest, loan, years):\n",
    "    multiplier = 1 + interest / 100 # Interest multiplier\n",
    "    \n",
    "    for i in range(years):\n",
    "        loan = loan * multiplier # Calculate the new amount of the loan\n",
    "        print(\"The amount of the loan after\", i + 1, \"years is:\", loan) # Print the amount of the loan\n",
    "    \n",
    "input_a = int(input('Give interest percent amount as an integer:\\n'))\n",
    "input_b = int(input('Give the loan amount as an integer:\\n'))\n",
    "input_c = int(input('Give the length of the loan in whole years:\\n'))\n",
    "        \n",
    "interest_calculator(input_a, input_b, input_c)"
   ]
  },
  {
   "cell_type": "markdown",
   "metadata": {},
   "source": [
    "- Line 1: Define a function called `interest_calculator`, which has three parameters (interest rate, loan amount, duration in years).\n",
    "- Line 2: Compute the yearly multiplier `multiplier` for the loan, if the interest is $5\\%$, the multiplier becomes $1 + \\frac{5}{100}$ which is $1.05$.\n",
    "- Line 4: Begin a `for` loop, which creates a sequency $[0,\\dots,\\text{years}-1]$. For each iteration the next value in the sequence is placed in variable `i`.\n",
    "- Line 5 & 6: The value of the loan is computed using the `multiplier` and printed. For `print()` we use `i+1` as the argument for years, as the first value of `i` is 0, but the years start from 1.\n",
    "\n",
    "- Line 8: Ask the user for the interest rate in percent and cast it to integer.\n",
    "- Line 9: Ask the user for the loan amount and cast it to integer.\n",
    "- Line 10: Ask the user for the duration of the loan in years and cast it to integer.\n",
    "- Line 12: Call the function with arguments given by the user."
   ]
  },
  {
   "cell_type": "markdown",
   "metadata": {},
   "source": [
    "#### Exercise 4"
   ]
  },
  {
   "cell_type": "markdown",
   "metadata": {},
   "source": [
    "Define a function `phone_plan_calculator()`, which calculates the price of a phone plan over a certain number of months. The price of the phone plan consists of a starting fee and a monthly fee, which is multiplied by the number of months. The function will have three parameters: `starting_fee`, `monthly_fee` and the number of `months`. The function will calculate the final sum and print it.\n",
    "\n",
    "Ask the user for the starting fee, monthly fee and the number of months and use them as arguments in your function call. Starting fee and monthly fee are floating-point numbers (`float`) and the number of months is an integer. Use the type casting functions `float()` and `int()` to convert the user inputs from strings to the correct type.\n",
    "\n",
    "Example output of the program:\n",
    "\n",
    "```\n",
    "Enter the starting fee: \n",
    "20\n",
    "Enter the monthly fee: \n",
    "14.99\n",
    "Enter the amount of months: \n",
    "12\n",
    "Total cost of the plan: 199.88 euros.\n",
    "```"
   ]
  },
  {
   "cell_type": "code",
   "execution_count": null,
   "metadata": {},
   "outputs": [],
   "source": []
  },
  {
   "cell_type": "markdown",
   "metadata": {},
   "source": [
    "## Return value"
   ]
  },
  {
   "cell_type": "markdown",
   "metadata": {},
   "source": [
    "So far our example have only computed and printed values inside the function, but usually functions have a **return value**. Return values can be used to return information back to the caller outside the function."
   ]
  },
  {
   "cell_type": "markdown",
   "metadata": {},
   "source": [
    "A function can be given a return value using the keyword `return`:\n",
    "```python\n",
    "def function()\n",
    "    command\n",
    "    ...\n",
    "    command\n",
    "    return value\n",
    "```\n"
   ]
  },
  {
   "cell_type": "markdown",
   "metadata": {},
   "source": [
    "Once the function execution reaches a line starting with `return`, the execution will stop (similar to `break` in Chapter 3) and the value after the word `return` is relayed to the caller. In this case the value of `value` is returned."
   ]
  },
  {
   "cell_type": "markdown",
   "metadata": {},
   "source": [
    "**Example 4:** Area of a circle"
   ]
  },
  {
   "cell_type": "code",
   "execution_count": null,
   "metadata": {},
   "outputs": [],
   "source": [
    "def circle_area(radius):\n",
    "    area =  3.1415 * (radius ** 2)\n",
    "    return area\n",
    "\n",
    "circle_area(2)"
   ]
  },
  {
   "cell_type": "markdown",
   "metadata": {},
   "source": [
    "In this example we'll define a function `circle_area`, which has one parameter `radius`. The function will calculate the area using the formula $\\pi r^2$, where $r$ is the radius of the circle from parameter `radius`. The area is saved in a variable `area`, which is then returned by the function."
   ]
  },
  {
   "cell_type": "markdown",
   "metadata": {},
   "source": [
    "If a function has a return value, it can be saved in a variable when the function is called:"
   ]
  },
  {
   "cell_type": "code",
   "execution_count": null,
   "metadata": {},
   "outputs": [],
   "source": [
    "def circle_area(radius):\n",
    "    area =  3.1415 * (radius ** 2)\n",
    "    return area\n",
    "\n",
    "ca = circle_area(2)\n",
    "print('A circle with radius 2 has an area of', ca)"
   ]
  },
  {
   "cell_type": "markdown",
   "metadata": {},
   "source": [
    "\n",
    "\n",
    "In the example above we modified the code to save the function's return value to variable `ca`, and we used the function `print()` to output the area with some descriptive text. "
   ]
  },
  {
   "cell_type": "markdown",
   "metadata": {},
   "source": [
    "Function can also return multiple values:"
   ]
  },
  {
   "cell_type": "code",
   "execution_count": null,
   "metadata": {},
   "outputs": [],
   "source": [
    "def circle_area_and_circumference(radius):\n",
    "    area =  3.1415 * (radius ** 2)\n",
    "    circumference = 2 * 3.1415 * radius\n",
    "    return area, circumference\n",
    "\n",
    "radius = 4\n",
    "ca, cc = circle_area_and_circumference(radius)\n",
    "print(\"A circle with the radius\", radius, \"has an area of\", ca, \"and a circumference of\", cc)"
   ]
  },
  {
   "cell_type": "markdown",
   "metadata": {},
   "source": [
    "Here the function `circle_area_and_circumference()` calculates the area and the circumference of a circle and saves the results to variables `area` and `circumference`. The function returns both of these variables.\n",
    "\n",
    "In the main program the return values are saved in variables `ca` and `cc`. The order of the values is preserved, so the value of `area` is saved in `ca` and the value of `circumference` is saved in `cc`."
   ]
  },
  {
   "cell_type": "markdown",
   "metadata": {},
   "source": [
    "If a return value is not defined for a function (for example the first functions of this chapter), the function returns the value `None` by default. `None` is a special object which indicates that it has no value. Note that `None` is not the same as `0` or an empty string `\"\"`."
   ]
  },
  {
   "cell_type": "code",
   "execution_count": null,
   "metadata": {},
   "outputs": [],
   "source": [
    "def function_with_no_return(num):\n",
    "    new_number = 20 + num\n",
    "    print(\"The new number is:\", new_number)\n",
    "    \n",
    "num = 6\n",
    "return_value = function_with_no_return(num)\n",
    "print(\"The return value is:\", return_value)"
   ]
  },
  {
   "cell_type": "markdown",
   "metadata": {},
   "source": [
    "In the example above we defined a function called `function_with_no_return()`, which adds the value of parameter `num` to the number `20`. The function then prints out the resulting value, but it does not return anything.\n",
    "\n",
    "In the main program we declared variable `num`, which was given the value `6`. After this we called the function and saved the returned value in variable `return_value`. Finally we print the return value with a description. \n",
    "\n",
    "From the output we can see that the function returned `None`, although no explicit return value was not given. "
   ]
  },
  {
   "cell_type": "markdown",
   "metadata": {},
   "source": [
    "**Example 5:** Speed converter"
   ]
  },
  {
   "cell_type": "markdown",
   "metadata": {},
   "source": [
    "The converter below consists of a function, which takes in the speed in miles per hour as a parameter. The function converts the speed to kilometers per hour and then to meter per second. The function returns two values, which can be saved in two different variables by separating them with a comma `,`."
   ]
  },
  {
   "cell_type": "code",
   "execution_count": null,
   "metadata": {},
   "outputs": [],
   "source": [
    "def speed_calculator(mph):\n",
    "    mph_to_kmh = 1.609344\n",
    "    kmh_to_ms = 3.6\n",
    "    kmh = mph * mph_to_kmh\n",
    "    ms = kmh / kmh_to_ms\n",
    "    return kmh, ms\n",
    "\n",
    "mph = float(input('Give me the speed in miles per hour:\\n'))\n",
    "speed_kmh, speed_ms = speed_calculator(mph)\n",
    "print(mph,'miles per hour is', speed_kmh, 'km/h or', speed_ms, 'm/s.')"
   ]
  },
  {
   "cell_type": "markdown",
   "metadata": {},
   "source": [
    "The main program starts from line 8:\n",
    "\n",
    "- Line 8: Ask the speed from the user and cast it to type `float`.\n",
    "- Line 9: Call the function `speed_calculator` with argument `mph`.\n",
    "  \n",
    "The interpreter moves to line 1:\n",
    "\n",
    "- Line 1: Define the function with one parameter `mph`.\n",
    "- Line 2: Set the `mph` $\\longrightarrow$ `kmh` multiplier to variable `mph_to_kmh`.\n",
    "- Line 3: Set the `kmh` $\\longrightarrow$ `ms` multiplier to variable `kmh_to_ms`.\n",
    "- Line 4: Use the multiplier to convert mph to kmh and save the result to `kmh`.\n",
    "- Line 5: Use the multiplier to convert kmh to ms and save the result to `ms`.\n",
    "- Line 6: Return two values, `kmh` and `ms`.  \n",
    "\n",
    "The interpreter moves back to line 9:\n",
    "\n",
    "- Line 9: Save the two return values to variables `speed_kmh` and `speed_ms` (see line 6).\n",
    "- Line 10: Print the two resulting variables."
   ]
  },
  {
   "cell_type": "markdown",
   "metadata": {},
   "source": [
    "The function is an intermediate step in the program execution, and the interpreter will jump to the function definiton when the function is called. When the function definition ends or a `return` statement is reached, the interpreter will return to the line of the function definition."
   ]
  },
  {
   "cell_type": "markdown",
   "metadata": {},
   "source": [
    "#### Exercise 5 "
   ]
  },
  {
   "cell_type": "markdown",
   "metadata": {},
   "source": [
    "Define a function with one parameter. The function will compute the square of the parameter and return it.\n",
    "\n",
    "Write the main program, which asks the user for a number. Give this value as an argument to your function. Save the return value from the function to a new variable. Finally, print a text \"Square of the value X is Y\", where X is the input number from the user and Y is the number returned by your function."
   ]
  },
  {
   "cell_type": "code",
   "execution_count": null,
   "metadata": {},
   "outputs": [],
   "source": []
  },
  {
   "cell_type": "markdown",
   "metadata": {},
   "source": [
    "#### Exercise 6"
   ]
  },
  {
   "cell_type": "markdown",
   "metadata": {},
   "source": [
    "Write a program, in which a function will convert Fahrenheits to Celcius or vice versa. The program will ask the user for two things: which way to convert and the degrees. Define a function `convert()`, which has these two values as parameters.\n",
    "\n",
    "Inside the function use an `if-else` structure to convert the degrees to the other format. The function will return the converted value and the main program will print \"X Celcius is Y Fahrenheits\" or \"X Fahrenheits is Y Celcius\". To achieve this, you should use an `if-else` structure in your main program as well."
   ]
  },
  {
   "cell_type": "code",
   "execution_count": null,
   "metadata": {},
   "outputs": [],
   "source": [
    "# Celsius = (F_degrees - 32) * (5 / 9)\n",
    "# Fahrenheits = (C_degrees * (9 / 5)) + 32"
   ]
  },
  {
   "cell_type": "markdown",
   "metadata": {},
   "source": [
    "#### Exercise 7"
   ]
  },
  {
   "cell_type": "markdown",
   "metadata": {},
   "source": [
    "Define a function, which takes one number as a parameter, multiplies it by two and adds 5. The function will return the resulting number.\n",
    "\n",
    "Write a program which does the following:\n",
    "- Call your function with number `2`\n",
    "- Multiply the return value with number `3`\n",
    "- Call your function again with the result\n",
    "- Print the final return value\n",
    "\n",
    "Remember to save the retuned values in variable in the main program. The final result of the program should be 59."
   ]
  },
  {
   "cell_type": "code",
   "execution_count": null,
   "metadata": {},
   "outputs": [],
   "source": [
    "#def multiplies_by_two_and_adds_five(parameter):\n",
    "    # Write your code here\n",
    "\n",
    "value = 2"
   ]
  },
  {
   "cell_type": "markdown",
   "metadata": {},
   "source": [
    "## Functions and variables"
   ]
  },
  {
   "cell_type": "markdown",
   "metadata": {},
   "source": [
    "Functions make the use of variables a touch more complicated. As with Python programs in general, functions can only use variables which have been defined in their scope. Functions can't use variables which have been defined outside of the function unless they are given as arguments. Variables can be defined inside a function, but they can't be used outside the function unless they are returned with `return`."
   ]
  },
  {
   "cell_type": "markdown",
   "metadata": {},
   "source": [
    "Functions can be thought of as separate blocks of the program:\n",
    "- A function is executed only when explicitly called\n",
    "- A function can't access variables which have not been given as arguments\n",
    "- A function will only return the variables paired with the keyword `return`"
   ]
  },
  {
   "cell_type": "markdown",
   "metadata": {},
   "source": [
    "**A problematic example:**"
   ]
  },
  {
   "cell_type": "code",
   "execution_count": null,
   "metadata": {},
   "outputs": [],
   "source": [
    "def calculate_square(n):\n",
    "    sr = n ** 2\n",
    "    return sr\n",
    "\n",
    "print(sr)"
   ]
  },
  {
   "cell_type": "markdown",
   "metadata": {},
   "source": [
    "The above example will give an error, as `sr` has only been defined inside the function."
   ]
  },
  {
   "cell_type": "markdown",
   "metadata": {},
   "source": [
    "## Functions and program structure"
   ]
  },
  {
   "cell_type": "markdown",
   "metadata": {},
   "source": [
    "Functions can alter the flow of the program significantly. Let's analyze the following example:"
   ]
  },
  {
   "cell_type": "code",
   "execution_count": null,
   "metadata": {},
   "outputs": [],
   "source": [
    "def calculate_area(radius):\n",
    "    area = 3.1415 * (radius ** 2)\n",
    "    return area\n",
    "\n",
    "def calculate_circumference(radius):\n",
    "    circumference = 2 * 3.1415 * radius\n",
    "    return circumference\n",
    "\n",
    "def calculate_volume(radius):\n",
    "    volume = (4/3) * 3.1415 * (radius ** 3)\n",
    "    return volume\n",
    "\n",
    "r = float(input('Tell me the radius of a sphere (ball) in meters:\\n'))\n",
    "a, c, v = calculate_area(r), calculate_circumference(r), calculate_volume(r)\n",
    "print('The area of the sphere is', a, 'm^2, circumference is', c, 'm and the volume is', v, 'm^3.')"
   ]
  },
  {
   "cell_type": "markdown",
   "metadata": {},
   "source": [
    "This time we don't move through the program line by line, as the execution moves up and down the lines. Here's a description of the operation:\n",
    "\n",
    "1. The program starts from line 13 by asking the user for the radius of a sphere.\n",
    "2. The program calls for three functions on one line and saves the return values from each function to variables `a`, `c` and `v`.\n",
    "3. The first function call to `calculate_area(r)` moves the interpreter to line 1 and executes the function. The function computes the area of the sphere with radius `r`. The result is saved inside the function to variable `area` and returned.\n",
    "4. The interpreter returns to line 14.\n",
    "5. In the call for `calculate_circumference` the interpreter moves to line 5 and calculates the circumference of the sphere. The result is saved in variable `circumference` and returned by the function. \n",
    "6. The interpreter returns to line 14 and calls the function `calculate_volume`. \n",
    "7. The interpreter moves to line 9. The function computes the volume of the sphere and saves it to `volume`. The value is then returned. \n",
    "8. The interpreter is now done with line 14 and moves on to line 15, where the area, circumference and volume of the sphere is printed using variables `a`,`c` and `v`."
   ]
  },
  {
   "cell_type": "markdown",
   "metadata": {},
   "source": [
    "#### Exercise 8"
   ]
  },
  {
   "cell_type": "markdown",
   "metadata": {},
   "source": [
    "Write a program, which converts the string \"MM\" to string \"DDMMYY\" using two functions. Start the program with a string \"MM\".\n",
    "\n",
    "The first function will add the character \"D\" to the beginning of the string and the second function will add the character \"Y\" to the end of the string. Call both functions twice. Remember to save the return values to variables in the main function.\n",
    "\n",
    "The program should print the string \"MMDDYY\".\n",
    "\n",
    "Hint: Use the string concatenation `+` inside the functions to join the strings and characters."
   ]
  },
  {
   "cell_type": "code",
   "execution_count": null,
   "metadata": {},
   "outputs": [],
   "source": [
    "mystring = \"MM\""
   ]
  },
  {
   "cell_type": "markdown",
   "metadata": {},
   "source": [
    "## Functions returning a boolean"
   ]
  },
  {
   "cell_type": "markdown",
   "metadata": {},
   "source": [
    "So far our function have only returned numerical values or strings, but functions can also return booleans. This is especially useful when we need to check if a condition is `True` or `False`. The function will check the input and return a boolean value."
   ]
  },
  {
   "cell_type": "markdown",
   "metadata": {},
   "source": [
    "**Example 6:** Checking the payment limit"
   ]
  },
  {
   "cell_type": "markdown",
   "metadata": {},
   "source": [
    "The program below will check if the daily payment limit of a credit card has been exceeded and if the payment is allowed or not.\n"
   ]
  },
  {
   "cell_type": "code",
   "execution_count": null,
   "metadata": {},
   "outputs": [],
   "source": [
    "def payment(amount, limit):\n",
    "    if amount > limit:\n",
    "        return False\n",
    "    else:\n",
    "        return True\n",
    "    \n",
    "payment_amount = float(input('How much is the payment?\\n'))\n",
    "payment_limit = float(input('How much is you daily payment limit?\\n'))\n",
    "if payment(payment_amount, payment_limit) == True:\n",
    "    print('Payment accepted.')\n",
    "else:\n",
    "    print('Payment denied.')"
   ]
  },
  {
   "cell_type": "markdown",
   "metadata": {},
   "source": [
    "#### Exercise 9"
   ]
  },
  {
   "cell_type": "markdown",
   "metadata": {},
   "source": [
    "Write a program, in which a function will check whether a number is even or not. The function will return a boolean, and based on the result the main program will print \"Number is even\" or \"Number is odd\". \n",
    "\n",
    "Call the function using different numbers."
   ]
  },
  {
   "cell_type": "code",
   "execution_count": null,
   "metadata": {},
   "outputs": [],
   "source": []
  },
  {
   "cell_type": "markdown",
   "metadata": {},
   "source": [
    "## Recap"
   ]
  },
  {
   "cell_type": "markdown",
   "metadata": {},
   "source": [
    "Functions are used for controlling the program flow and repeating tasks, especially in larger programs. Each function has a defined purpose, which is fulfilled when the function is called."
   ]
  },
  {
   "cell_type": "code",
   "execution_count": null,
   "metadata": {},
   "outputs": [],
   "source": [
    "def function():\n",
    "    print('This is a function.')\n",
    "    \n",
    "function()"
   ]
  },
  {
   "cell_type": "markdown",
   "metadata": {},
   "source": [
    "A function can have parameters, which are defined inside the brackets in the function header. A function with parameters does not work if no arguments are given in the function call. Parameters can be used like other variables inside the function. A function can have any number of parameters."
   ]
  },
  {
   "cell_type": "code",
   "execution_count": null,
   "metadata": {},
   "outputs": [],
   "source": [
    "def multiplier(number1, number2):\n",
    "    multiply = number1 * number2\n",
    "    print(multiply)\n",
    "\n",
    "multiplier(2, 3)"
   ]
  },
  {
   "cell_type": "markdown",
   "metadata": {},
   "source": [
    "A return value can be defined for a function using the keyword `return`. The returned value can be saved to a variable when the function is called e.g. in the main program."
   ]
  },
  {
   "cell_type": "code",
   "execution_count": null,
   "metadata": {},
   "outputs": [],
   "source": [
    "def calculate_square(number):\n",
    "    square = number ** 2\n",
    "    return square\n",
    "\n",
    "square = calculate_square(2)\n",
    "print(square)"
   ]
  },
  {
   "cell_type": "markdown",
   "metadata": {},
   "source": [
    "A function can also return multiple values and they can be placed in multiple variables with one line of code."
   ]
  },
  {
   "cell_type": "code",
   "execution_count": null,
   "metadata": {},
   "outputs": [],
   "source": [
    "def calculator(number):\n",
    "    square = number ** 2\n",
    "    double = number * 2\n",
    "    return square, double\n",
    "\n",
    "square, double = calculator(4)\n",
    "print('2*4 is', double, 'and 4^2 is', square)"
   ]
  },
  {
   "cell_type": "markdown",
   "metadata": {},
   "source": [
    "Functions can also return boolean values `True` and `False`. Usually functions with boolean return values are used to check whether a condition is filled or not. Booleans can be then compared in the main program or in other parts of the code."
   ]
  }
 ],
 "metadata": {
  "kernelspec": {
   "display_name": "Python 3.10.5 64-bit",
   "language": "python",
   "name": "python3"
  },
  "language_info": {
   "codemirror_mode": {
    "name": "ipython",
    "version": 3
   },
   "file_extension": ".py",
   "mimetype": "text/x-python",
   "name": "python",
   "nbconvert_exporter": "python",
   "pygments_lexer": "ipython3",
   "version": "3.10.5"
  },
  "vscode": {
   "interpreter": {
    "hash": "369f2c481f4da34e4445cda3fffd2e751bd1c4d706f27375911949ba6bb62e1c"
   }
  }
 },
 "nbformat": 4,
 "nbformat_minor": 2
}
