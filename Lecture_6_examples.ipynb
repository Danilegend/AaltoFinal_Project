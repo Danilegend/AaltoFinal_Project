{
 "cells": [
  {
   "cell_type": "markdown",
   "id": "6a044438-caae-4436-9394-bc67ef2b2663",
   "metadata": {},
   "source": [
    "## Dictionary"
   ]
  },
  {
   "cell_type": "code",
   "execution_count": null,
   "id": "50161991-4138-4d8b-811c-55ddd8044d8d",
   "metadata": {},
   "outputs": [],
   "source": [
    "my_dict ={\"hello\": \"moi\", \"opiskelijat\": \"students\"}\n",
    "print(my_dict)"
   ]
  },
  {
   "cell_type": "code",
   "execution_count": null,
   "id": "41c64641-0443-4636-b7d8-fe0b050e8fb7",
   "metadata": {},
   "outputs": [],
   "source": [
    "my_dict = {\"name\": \"Charlie\", \"age\": 2, \"friends\": [\"Alice\", \"Bob\"]}\n",
    "print(my_dict[\"name\"])"
   ]
  },
  {
   "cell_type": "code",
   "execution_count": null,
   "id": "809b2262-f44d-4ac9-bda7-793dad656046",
   "metadata": {},
   "outputs": [],
   "source": [
    "my_dict = {\"name\": \"Bob\", \"name\": \"Alice\"}\n",
    "print(my_dict)"
   ]
  },
  {
   "cell_type": "code",
   "execution_count": null,
   "id": "4c63952d-caba-4348-b191-8529cdcf924c",
   "metadata": {},
   "outputs": [],
   "source": [
    "my_dict = {\"name\": \"Bob\", \"name\": \"Alice\"}\n",
    "my_dict[\"name\"] = \"Charlie\"\n",
    "my_dict[\"age\"] = 34\n",
    "print(my_dict)"
   ]
  },
  {
   "cell_type": "code",
   "execution_count": null,
   "id": "889df59e-e3fa-4fb7-9974-790cf6220f35",
   "metadata": {},
   "outputs": [],
   "source": [
    "dict_1 = {\"1\": \"one\", \"2\": \"two\"}\n",
    "for dict_key in dict_1:\n",
    "\tprint(dict_key)\n",
    "\tprint(dict_1[dict_key])"
   ]
  },
  {
   "cell_type": "code",
   "execution_count": null,
   "id": "99723ebd-0008-4927-80d9-b37104791e2e",
   "metadata": {},
   "outputs": [],
   "source": [
    "my_dict = {\"name\": \"Alice\", \"age\": \"31\"}\n",
    "print(my_dict.keys())\n",
    "print(my_dict.values())\n",
    "print(my_dict.items())"
   ]
  },
  {
   "cell_type": "code",
   "execution_count": null,
   "id": "02dbfcf5-077b-41db-aadf-c04f09292aae",
   "metadata": {},
   "outputs": [],
   "source": [
    "my_dict = {\"name\": \"Alice\", \"age\": 31}\n",
    "items = my_dict.items()\n",
    "my_dict[\"city\"] = \"Helsinki\"\n",
    "print(items)"
   ]
  },
  {
   "cell_type": "code",
   "execution_count": null,
   "id": "9def06a2-8ed7-4ed4-a3c5-b4486413a7d7",
   "metadata": {},
   "outputs": [],
   "source": [
    "my_dict = {\"name\": \"Alice\", \"age\": 31}\n",
    "items = my_dict.items()\n",
    "for item in items:\n",
    "    print(item)"
   ]
  },
  {
   "cell_type": "markdown",
   "id": "e9c410c9-e334-492f-a683-ed4977b07b46",
   "metadata": {},
   "source": [
    "## Tuple"
   ]
  },
  {
   "cell_type": "code",
   "execution_count": null,
   "id": "08c972fb-1c0d-4aaa-8c69-745329b06ffd",
   "metadata": {},
   "outputs": [],
   "source": [
    "my_tuple = (1, \"Hi\", True)\n",
    "print(my_tuple)"
   ]
  },
  {
   "cell_type": "code",
   "execution_count": null,
   "id": "cbcca590-cc6f-4265-a215-daca442cd799",
   "metadata": {},
   "outputs": [],
   "source": [
    "my_tuple = 1, \"Hi\", True\n",
    "print(my_tuple)\n",
    "a, b, c = my_tuple\n",
    "print(a, b, c)"
   ]
  },
  {
   "cell_type": "code",
   "execution_count": null,
   "id": "977d86e3-182d-4ae0-8141-d42ddb8ab768",
   "metadata": {},
   "outputs": [],
   "source": [
    "def my_func():\n",
    "    return 1, 2\n",
    "\n",
    "tuple_1 = my_func()\n",
    "item1, item2 = my_func()\n",
    "print(tuple_1)\n",
    "print(item1, item2)"
   ]
  },
  {
   "cell_type": "code",
   "execution_count": null,
   "id": "de4232da-e79a-44bf-a6a1-57d6aba30f68",
   "metadata": {},
   "outputs": [],
   "source": [
    "my_tuple = (1, \"Hi\", True)\n",
    "print(my_tuple[1])\n",
    "print(my_tuple[0:2])"
   ]
  },
  {
   "cell_type": "code",
   "execution_count": null,
   "id": "053c75ed-3c86-4fea-b758-dea34b17a2d3",
   "metadata": {},
   "outputs": [],
   "source": [
    "# Uncomment and run to see an error\n",
    "\n",
    "# my_tuple[0] = 4\n",
    "# my_tuple.append(10)\n",
    "# del my_tuple[2]"
   ]
  },
  {
   "cell_type": "code",
   "execution_count": null,
   "id": "1176c926-006d-4b41-8568-8dba7dff6a7e",
   "metadata": {},
   "outputs": [],
   "source": [
    "for item in my_tuple:\n",
    "    print(item)"
   ]
  },
  {
   "cell_type": "markdown",
   "id": "f88e0415-48c6-48a8-8643-4b20f85695cf",
   "metadata": {},
   "source": [
    "## Set"
   ]
  },
  {
   "cell_type": "code",
   "execution_count": null,
   "id": "f32d5ef0-e09b-40ee-8718-c0aa9c717c64",
   "metadata": {},
   "outputs": [],
   "source": [
    "my_set = {1, 2, 3}\n",
    "my_set2 = set([1, 2, 3])\n",
    "print(my_set)\n",
    "print(my_set2)"
   ]
  },
  {
   "cell_type": "code",
   "execution_count": null,
   "id": "45380f1a-8df9-43b9-8cd0-42c5f7527bf1",
   "metadata": {},
   "outputs": [],
   "source": [
    "my_set = {1, 2}\n",
    "for item in my_set:\n",
    "    print(item)"
   ]
  },
  {
   "cell_type": "code",
   "execution_count": null,
   "id": "5049f405-1676-4807-a1f0-096e8229e8c3",
   "metadata": {},
   "outputs": [],
   "source": [
    "set1 = {1, 2, 3}\n",
    "set2 = {3, 4, 5} \n",
    "\n",
    "print(set1 | set2)\n",
    "print(set1 & set2)\n",
    "print(set1 - set2)\n",
    "print(set1 ^ set2)"
   ]
  },
  {
   "cell_type": "code",
   "execution_count": null,
   "id": "85dababa-d7e3-460b-8e9e-486c078dad27",
   "metadata": {},
   "outputs": [],
   "source": [
    "set1 = {\"Hi\", True, 3}\n",
    "\n",
    "print(\"Hi\" in set1)\n",
    "print(42 in set1)"
   ]
  },
  {
   "cell_type": "markdown",
   "id": "7cfabff3-61d9-455c-8fba-e564604ab736",
   "metadata": {},
   "source": [
    "## NamedTuple"
   ]
  },
  {
   "cell_type": "code",
   "execution_count": null,
   "id": "884e73c8-a138-445d-a288-1e24fba5c4d7",
   "metadata": {},
   "outputs": [],
   "source": [
    "from collections import namedtuple\n",
    "Student = namedtuple(\"Student\", [\"name\", \"major\"])\n",
    "student1 = Student(\"Charlie\", \"History\")"
   ]
  },
  {
   "cell_type": "code",
   "execution_count": null,
   "id": "6d114c06-cd83-47b4-b81f-bf1ecb394a91",
   "metadata": {},
   "outputs": [],
   "source": [
    "from collections import namedtuple\n",
    "Student = namedtuple(\"Student\", [\"name\", \"major\"])\n",
    "student1 = Student(\"Charlie\", \"History\")\n",
    "\n",
    "print(student1.name)\n",
    "print(student1.major)"
   ]
  },
  {
   "cell_type": "code",
   "execution_count": null,
   "id": "79098e00-fac4-41a4-8d4c-7cea05972ad4",
   "metadata": {},
   "outputs": [],
   "source": [
    "from collections import namedtuple\n",
    "\n",
    "Student = namedtuple(\"Student\", [\"name\", \"major\"])\n",
    "student1 = Student(\"Charlie\", \"History\")\n",
    "print(student1[0])"
   ]
  },
  {
   "cell_type": "code",
   "execution_count": null,
   "id": "909df94f-91d2-4762-b2ba-9277219755df",
   "metadata": {},
   "outputs": [],
   "source": [
    "from collections import namedtuple\n",
    "\n",
    "Student = namedtuple(\"Student\", [\"name\", \"major\"])\n",
    "student1 = Student(\"Charlie\", \"History\")\n",
    "for item in student1:\n",
    "    print(item)"
   ]
  },
  {
   "cell_type": "markdown",
   "id": "cf662015-2c15-4baa-be8e-b0d63df1101a",
   "metadata": {},
   "source": [
    "## Counter"
   ]
  },
  {
   "cell_type": "code",
   "execution_count": null,
   "id": "67367091-ef1b-4c9a-b79b-45c8154c8f39",
   "metadata": {},
   "outputs": [],
   "source": [
    "from collections import Counter\n",
    "my_counter = Counter([1, 2, 1, 1, 5])\n",
    "print(my_counter)"
   ]
  },
  {
   "cell_type": "code",
   "execution_count": null,
   "id": "7ccbec9e-9f90-4810-938d-42a95a5a3983",
   "metadata": {},
   "outputs": [],
   "source": [
    "from collections import Counter\n",
    "my_counter = Counter(\"Hello\")\n",
    "print(my_counter)"
   ]
  },
  {
   "cell_type": "code",
   "execution_count": null,
   "id": "0d3bdf33-4d67-439b-a352-ccd09826a555",
   "metadata": {},
   "outputs": [],
   "source": [
    "from collections import Counter\n",
    "\n",
    "my_counter = Counter([1, 2, 1, 1, 5])\n",
    "print(my_counter[1])"
   ]
  },
  {
   "cell_type": "code",
   "execution_count": null,
   "id": "221dbf15-fe8b-496c-9cb6-1faafd25d376",
   "metadata": {},
   "outputs": [],
   "source": [
    "from collections import Counter\n",
    "\n",
    "my_counter = Counter([\"Hello\", \"World\"])\n",
    "print(my_counter[\"Hello\"])"
   ]
  },
  {
   "cell_type": "code",
   "execution_count": null,
   "id": "becbab9d-ba11-47ff-9531-9c215fd4c816",
   "metadata": {},
   "outputs": [],
   "source": [
    "from collections import Counter\n",
    "\n",
    "my_counter = Counter([2.5, 500])\n",
    "print(my_counter[2.5])"
   ]
  },
  {
   "cell_type": "code",
   "execution_count": null,
   "id": "0407da0a-f6ee-4557-9b17-f7d8fa0d0b77",
   "metadata": {},
   "outputs": [],
   "source": [
    "from collections import Counter\n",
    "\n",
    "my_counter = Counter([1, 2, 1, 1, 5])\n",
    "my_counter[1] += 3\n",
    "print(my_counter[1])"
   ]
  },
  {
   "cell_type": "code",
   "execution_count": null,
   "id": "e42e0a67-e592-4cae-afa7-34920c3996ba",
   "metadata": {},
   "outputs": [],
   "source": [
    "from collections import Counter\n",
    "\n",
    "my_counter = Counter([1, 2, 1, 1, 5])\n",
    "my_counter.update([1, 1, 1, 5])\n",
    "print(my_counter[1])\n",
    "print(my_counter[5])"
   ]
  },
  {
   "cell_type": "code",
   "execution_count": null,
   "id": "b6e62098-204e-4c0d-9707-1b5d65f34739",
   "metadata": {},
   "outputs": [],
   "source": [
    "from collections import Counter\n",
    "\n",
    "my_counter = Counter([1, 2, 1, 1, 5])\n",
    "elements = list(my_counter.elements())\n",
    "print(elements)"
   ]
  },
  {
   "cell_type": "code",
   "execution_count": null,
   "id": "72627eaa-3e6f-435f-a2c5-bdb611db6943",
   "metadata": {},
   "outputs": [],
   "source": [
    "from collections import Counter\n",
    "\n",
    "my_counter = Counter([1, 2, 1, 1, 5])\n",
    "for elem in my_counter.elements():\n",
    "    print(elem)"
   ]
  },
  {
   "cell_type": "code",
   "execution_count": null,
   "id": "e816033f-bc4a-47be-ba93-77b53cba82c0",
   "metadata": {},
   "outputs": [],
   "source": [
    "from collections import Counter\n",
    "\n",
    "my_counter = Counter([1, 2, 1, 1, 5])\n",
    "most_common = my_counter.most_common(1)\n",
    "print(most_common)"
   ]
  },
  {
   "cell_type": "markdown",
   "id": "9022a5c0-e1b6-4eee-a1d8-98b3379d2475",
   "metadata": {},
   "source": [
    "## Queue"
   ]
  },
  {
   "cell_type": "code",
   "execution_count": null,
   "id": "f316f11f-991b-4206-b68a-23dfb4836a48",
   "metadata": {},
   "outputs": [],
   "source": [
    "my_list = []\n",
    "my_list.append(12)\n",
    "my_list.append(\"Hello\")\n",
    "print(my_list.pop(0))\n",
    "print(my_list.pop(0))\n",
    "print(my_list)"
   ]
  },
  {
   "cell_type": "markdown",
   "id": "45a5ed41-4d2b-4e25-9556-e834e4baa8d1",
   "metadata": {},
   "source": [
    "## Stack"
   ]
  },
  {
   "cell_type": "code",
   "execution_count": null,
   "id": "2f03d5ab-f76f-4fda-a74b-6513495020bc",
   "metadata": {},
   "outputs": [],
   "source": [
    "my_list = []\n",
    "my_list.append(12)\n",
    "my_list.append(\"Hello\")\n",
    "print(my_list.pop())\n",
    "print(my_list.pop())\n",
    "print(my_list)"
   ]
  }
 ],
 "metadata": {
  "kernelspec": {
   "display_name": "Python 3 (ipykernel)",
   "language": "python",
   "name": "python3"
  },
  "language_info": {
   "codemirror_mode": {
    "name": "ipython",
    "version": 3
   },
   "file_extension": ".py",
   "mimetype": "text/x-python",
   "name": "python",
   "nbconvert_exporter": "python",
   "pygments_lexer": "ipython3",
   "version": "3.10.9"
  }
 },
 "nbformat": 4,
 "nbformat_minor": 5
}
