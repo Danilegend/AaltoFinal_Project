{
 "cells": [
  {
   "cell_type": "markdown",
   "id": "a061846f-5189-4078-b629-5f076bfb5b2d",
   "metadata": {},
   "source": [
    "## Different import statements"
   ]
  },
  {
   "cell_type": "code",
   "execution_count": null,
   "id": "7bf1017c-411d-4934-845a-60b7ab533958",
   "metadata": {},
   "outputs": [],
   "source": [
    "import math\n",
    "print(math.pi)"
   ]
  },
  {
   "cell_type": "code",
   "execution_count": null,
   "id": "5738b741-9178-4197-ade4-8fbc358f8422",
   "metadata": {},
   "outputs": [],
   "source": [
    "from math import pi\n",
    "print(pi)"
   ]
  },
  {
   "cell_type": "code",
   "execution_count": null,
   "id": "5102b6ee-7844-46b2-a966-4c6a2fa7cd1c",
   "metadata": {},
   "outputs": [],
   "source": [
    "import math as m\n",
    "print(m.pi)"
   ]
  },
  {
   "cell_type": "markdown",
   "id": "41d7aec0-c99d-404d-b1b8-89834765e8fe",
   "metadata": {},
   "source": [
    "## Importing objects from local files\n",
    "\n",
    "\n",
    "### Example 1\n",
    "\n",
    "Run this cell only once!"
   ]
  },
  {
   "cell_type": "code",
   "execution_count": null,
   "id": "4ff5a332-a79e-4832-b203-9f7e40aaef36",
   "metadata": {},
   "outputs": [],
   "source": [
    "with open(\"example1.py\", \"w\") as file:\n",
    "    file.write(\"my_variable = 10\")"
   ]
  },
  {
   "cell_type": "code",
   "execution_count": null,
   "id": "4b26caa4-c9e6-4411-b228-0ecfd3d33f93",
   "metadata": {},
   "outputs": [],
   "source": [
    "from example1 import my_variable\n",
    "print(my_variable)"
   ]
  },
  {
   "cell_type": "markdown",
   "id": "a8500363-6fa1-41ca-adb5-fc4663e8581c",
   "metadata": {},
   "source": [
    "### Example 2"
   ]
  },
  {
   "cell_type": "code",
   "execution_count": 2,
   "id": "6002fb9c-9d7f-438a-9a53-65f59d75e3ab",
   "metadata": {},
   "outputs": [],
   "source": [
    "# Run this cell only once!\n",
    "import os\n",
    "\n",
    "os.mkdir(\"example_package\")\n",
    "open(\"example_package/__init__.py\", \"w\").close()\n",
    "with open(\"example_package/module_1.py\", \"w\") as f:\n",
    "    f.write(\"def hello1():\\n\")\n",
    "    f.write(\"    print('hello1')\")\n",
    "\n",
    "with open(\"example_package/module_2.py\", \"w\") as f:\n",
    "    f.write(\"def hello2():\\n\")\n",
    "    f.write(\"    print('hello2')\\n\\n\")\n",
    "    f.write(\"var1 = 'some text'\")"
   ]
  },
  {
   "cell_type": "code",
   "execution_count": 3,
   "id": "259e03a5-431c-4046-9251-a7a6cbc395f9",
   "metadata": {},
   "outputs": [
    {
     "name": "stdout",
     "output_type": "stream",
     "text": [
      "hello1\n"
     ]
    }
   ],
   "source": [
    "from example_package.module_1 import hello1\n",
    "hello1()"
   ]
  },
  {
   "cell_type": "code",
   "execution_count": 4,
   "id": "1a10d40e-4273-4794-a0d1-2ddb80a5ec25",
   "metadata": {},
   "outputs": [
    {
     "name": "stdout",
     "output_type": "stream",
     "text": [
      "hello2\n",
      "some text\n"
     ]
    }
   ],
   "source": [
    "import example_package.module_2 as m2\n",
    "m2.hello2()\n",
    "print(m2.var1)"
   ]
  },
  {
   "cell_type": "markdown",
   "id": "1348a671-567e-4dca-80b4-9d143b5a3344",
   "metadata": {},
   "source": [
    "## Data science libraries\n",
    "\n",
    "### Numpy"
   ]
  },
  {
   "cell_type": "code",
   "execution_count": null,
   "id": "f6b7e248-ad3e-44a1-88b8-64862eb61041",
   "metadata": {},
   "outputs": [],
   "source": [
    "import numpy as np\n",
    "a = np.array([1,2,3])\n",
    "\n",
    "np_list = [[1,2,3],[4,5,6],[7,8,9]]\n",
    "matrix = np.array(np_list)"
   ]
  },
  {
   "cell_type": "code",
   "execution_count": null,
   "id": "5a601525-d5d3-407e-bd19-a6e6b0c8e04b",
   "metadata": {},
   "outputs": [],
   "source": [
    "print(a.shape)\n",
    "print(a.size)\n",
    "print(\"---\")\n",
    "print(matrix.shape)\n",
    "print(matrix.size)"
   ]
  },
  {
   "cell_type": "code",
   "execution_count": null,
   "id": "781430cb-3c2d-4d5a-90e2-aa83ba1720eb",
   "metadata": {},
   "outputs": [],
   "source": [
    "print(a + 2)"
   ]
  },
  {
   "cell_type": "code",
   "execution_count": null,
   "id": "c9fe2080-8435-4ced-99ad-2d1f487e819e",
   "metadata": {},
   "outputs": [],
   "source": [
    "print(a * 3)"
   ]
  },
  {
   "cell_type": "code",
   "execution_count": null,
   "id": "28fada0d-6989-459a-832e-ccab60bee3e8",
   "metadata": {},
   "outputs": [],
   "source": [
    "print(matrix + 2)"
   ]
  },
  {
   "cell_type": "code",
   "execution_count": null,
   "id": "baa4920b-67c3-48a4-93dd-31867a541187",
   "metadata": {},
   "outputs": [],
   "source": [
    "print(a * matrix)"
   ]
  },
  {
   "cell_type": "code",
   "execution_count": null,
   "id": "3952c3b9-0974-47db-9085-a7dabc65bcb0",
   "metadata": {},
   "outputs": [],
   "source": [
    "# This results in an error! \n",
    "print([1, 2, 3, 4] * matrix)"
   ]
  },
  {
   "cell_type": "code",
   "execution_count": null,
   "id": "66fee478-f212-48d9-85d5-fd0f72f95a3d",
   "metadata": {},
   "outputs": [],
   "source": [
    "import numpy as np\n",
    "\n",
    "X = np.array([1, 2, 4])\n",
    "Y = np.array([5, 9, 3])\n",
    "\n",
    "print(np.dot(X,Y))\n",
    "print(np.cross(X,Y))"
   ]
  },
  {
   "cell_type": "code",
   "execution_count": null,
   "id": "c3987da4-62f5-402a-bc01-79bb1fc0ef31",
   "metadata": {},
   "outputs": [],
   "source": [
    "print(matrix[1:])"
   ]
  },
  {
   "cell_type": "code",
   "execution_count": null,
   "id": "97b4d628-98c0-4724-94b3-2d19098d57a5",
   "metadata": {},
   "outputs": [],
   "source": [
    "print(matrix[matrix%2==0])"
   ]
  },
  {
   "cell_type": "markdown",
   "id": "4406a498-7325-4ce1-84b7-8ff0a3fed000",
   "metadata": {},
   "source": [
    "## Pandas"
   ]
  },
  {
   "cell_type": "markdown",
   "id": "37f54fbd-6845-4265-90dc-499a6266b0c1",
   "metadata": {},
   "source": [
    "#### Series"
   ]
  },
  {
   "cell_type": "code",
   "execution_count": null,
   "id": "6129c679-bef4-4c7c-a3c7-9a3dda9d6d9c",
   "metadata": {},
   "outputs": [],
   "source": [
    "import pandas as pd\n",
    "my_series = pd.Series([1, 3, 5])\n",
    "print(my_series)"
   ]
  },
  {
   "cell_type": "code",
   "execution_count": null,
   "id": "33fe44b8-bbf9-49e5-9e5d-7acc46e7650f",
   "metadata": {},
   "outputs": [],
   "source": [
    "print(my_series[0])"
   ]
  },
  {
   "cell_type": "code",
   "execution_count": null,
   "id": "1124c598-5b3d-45ad-a9dc-e2368fe5a252",
   "metadata": {},
   "outputs": [],
   "source": [
    "print(my_series[1:3])"
   ]
  },
  {
   "cell_type": "markdown",
   "id": "0a483604-5cb9-405b-9382-e1b1c0f8c713",
   "metadata": {},
   "source": [
    "#### DataFrame"
   ]
  },
  {
   "cell_type": "code",
   "execution_count": null,
   "id": "4f503acc-6ce4-4f02-a343-5dadba9f684c",
   "metadata": {},
   "outputs": [],
   "source": [
    "import pandas as pd\n",
    "\n",
    "data = {\n",
    "    'A': [1, 2, 3, 4],\n",
    "    'B': [5, 6, 7, 8],\n",
    "    'C': [9, 10, 11, 12]\n",
    "}\n",
    "df = pd.DataFrame(data)\n",
    "print(df)"
   ]
  },
  {
   "cell_type": "code",
   "execution_count": null,
   "id": "18cb4add-ad51-42a8-9f0e-6f13347b6c96",
   "metadata": {},
   "outputs": [],
   "source": [
    "import pandas as pd\n",
    "\n",
    "data1 = [[1, 2], [4, 5]]\n",
    "df1 = pd.DataFrame(data1)\n",
    "print(df1)\n",
    "print(\"---\")\n",
    "data2 = {\"A\": [9, 8], \"B\": [3, 6]}\n",
    "df2 = pd.DataFrame(data2)\n",
    "print(df2)"
   ]
  },
  {
   "cell_type": "code",
   "execution_count": null,
   "id": "dd547a80-28f3-4d97-ac23-760f79f1fca0",
   "metadata": {},
   "outputs": [],
   "source": [
    "import pandas as pd\n",
    "data1 = [[1, 2], [4, 5]]\n",
    "df1 = pd.DataFrame(data1, columns=[\"A\", \"B\"])\n",
    "\n",
    "print(df1)"
   ]
  },
  {
   "cell_type": "code",
   "execution_count": null,
   "id": "1029b3b5-f63e-482e-8253-8cbcdcf0729c",
   "metadata": {},
   "outputs": [],
   "source": [
    "import pandas as pd\n",
    "data1 = [[1, 2], [4, 5]]\n",
    "df1 = pd.DataFrame(data1)\n",
    "\n",
    "df1.columns = [\"A\", \"B\"]\n",
    "print(df1)"
   ]
  },
  {
   "cell_type": "code",
   "execution_count": null,
   "id": "3277a2ea-1512-4829-8687-dec13d7c6a07",
   "metadata": {},
   "outputs": [],
   "source": [
    "import pandas as pd\n",
    "data2 = {\"A\": [9, 8], \"B\": [3, 6]}\n",
    "df2 = pd.DataFrame(data2)\n",
    "df2.columns = [\"new_A\", \"new_B\"]\n",
    "print(df2)"
   ]
  },
  {
   "cell_type": "code",
   "execution_count": null,
   "id": "3dc05985-d817-4da8-ae28-3ec911daa1aa",
   "metadata": {},
   "outputs": [],
   "source": [
    "import pandas as pd\n",
    "data1 = [[1, 2], [4, 5]]\n",
    "df1 = pd.DataFrame(data1, columns=[\"A\", \"B\"])\n",
    "\n",
    "print(df1[\"A\"])\n",
    "print(\"---\")\n",
    "print(df1[[\"A\", \"B\"]])"
   ]
  },
  {
   "cell_type": "code",
   "execution_count": null,
   "id": "f892e304-8ae5-4fcf-8644-f9e780773638",
   "metadata": {},
   "outputs": [],
   "source": [
    "import pandas as pd\n",
    "data1 = [[1, 2], [4, 5]]\n",
    "df1 = pd.DataFrame(data1, columns=[\"A\", \"B\"])\n",
    "\n",
    "print(df1.loc[1])"
   ]
  },
  {
   "cell_type": "code",
   "execution_count": null,
   "id": "35769271-6246-406d-ae5d-8d17d11e2d34",
   "metadata": {},
   "outputs": [],
   "source": [
    "import pandas as pd\n",
    "data1 = [[1, 2], [4, 5]]\n",
    "df1 = pd.DataFrame(data1, columns=[\"A\", \"B\"])\n",
    "\n",
    "print(df1.loc[1, \"A\"])"
   ]
  },
  {
   "cell_type": "code",
   "execution_count": null,
   "id": "f51bc77e-5633-40d0-8fdf-deb4ed608ade",
   "metadata": {},
   "outputs": [],
   "source": [
    "import pandas as pd\n",
    "data1 = [[1, 2], [4, 5]]\n",
    "df1 = pd.DataFrame(data1, columns=[\"A\", \"B\"])\n",
    "\n",
    "print(df1.loc[0:2, \"B\"])"
   ]
  },
  {
   "cell_type": "code",
   "execution_count": null,
   "id": "46a75e3c-243b-4f9e-92b3-29f78732b538",
   "metadata": {},
   "outputs": [],
   "source": [
    "import pandas as pd\n",
    "data1 = [[1, 2], [4, 5]]\n",
    "df1 = pd.DataFrame(data1, columns=[\"A\", \"B\"])\n",
    "\n",
    "print(df1.loc[:, \"B\"])"
   ]
  },
  {
   "cell_type": "code",
   "execution_count": null,
   "id": "d1148ea1-e6a4-42b1-890a-b53320a23e28",
   "metadata": {},
   "outputs": [],
   "source": [
    "import pandas as pd\n",
    "data1 = [[1, 2], [4, 5]]\n",
    "df1 = pd.DataFrame(data1, columns=[\"A\", \"B\"])\n",
    "\n",
    "print(df1.iloc[:, 1])"
   ]
  },
  {
   "cell_type": "markdown",
   "id": "c329519a-7bf2-4b64-9c52-45c0ff030fb5",
   "metadata": {},
   "source": [
    "## Matplotlib (plt)"
   ]
  },
  {
   "cell_type": "code",
   "execution_count": null,
   "id": "ea232f27-ff59-4903-b098-6add943d9124",
   "metadata": {},
   "outputs": [],
   "source": [
    "import matplotlib.pyplot as plt\n",
    "\n",
    "plt.plot([1,2,5,6,2,6,9,102,3])"
   ]
  },
  {
   "cell_type": "code",
   "execution_count": null,
   "id": "faec3407-43ba-4008-a1e2-c3430b2ca35b",
   "metadata": {},
   "outputs": [],
   "source": [
    "fig, axs = plt.subplots()\n",
    "axs.scatter([1,2,3,4],[4,3,2,1],\n",
    "\t\tlabel='Example_scatter',color='b')\n",
    "axs.plot([0,1,2,3,4,5],[5,4,3,2,1,0],\n",
    "\t\tlabel='Example_line',color='y')\n",
    "axs.set_xlabel(\"X-axis label\")\n",
    "axs.set_ylabel(\"Y-axis label\")\n",
    "axs.set_title(\"Title goes here\")\n",
    "axs.text(2, 3.5,\"y=-1x+5\")\n",
    "axs.axis([0,5, 0,5])\n",
    "axs.grid(True)\n",
    "axs.legend()\n",
    "fig.savefig(\"example_plot.png\", dpi=50, transparent=False)"
   ]
  }
 ],
 "metadata": {
  "kernelspec": {
   "display_name": "Python 3 (ipykernel)",
   "language": "python",
   "name": "python3"
  },
  "language_info": {
   "codemirror_mode": {
    "name": "ipython",
    "version": 3
   },
   "file_extension": ".py",
   "mimetype": "text/x-python",
   "name": "python",
   "nbconvert_exporter": "python",
   "pygments_lexer": "ipython3",
   "version": "3.10.9"
  }
 },
 "nbformat": 4,
 "nbformat_minor": 5
}
