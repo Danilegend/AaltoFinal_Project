{
 "cells": [
  {
   "cell_type": "markdown",
   "metadata": {},
   "source": [
    "# Chapter 2: Control structures\n",
    "\n",
    "## Conditional statements"
   ]
  },
  {
   "cell_type": "markdown",
   "metadata": {},
   "source": [
    "Control structures are the cornerstones of programming. The control structures built into the programming language help programmers to make adaptive and efficient programs. The most common control structures are **conditionals**, which are used to control the flow of the code, and **loops**, which are used to re-run lines of code. Loops are discussed in the next chapter."
   ]
  },
  {
   "cell_type": "markdown",
   "metadata": {},
   "source": [
    "## `if-else` statements"
   ]
  },
  {
   "cell_type": "markdown",
   "metadata": {},
   "source": [
    "Until now, our programs have executed commands in the order in which they are listed. However, in many situations you want to decide in which situations the program will act in which way. For example, you may want to modify the flow of the program, depending on the input from the user.\n",
    "\n",
    "For this purpose, Python has an `if-else` statement."
   ]
  },
  {
   "cell_type": "markdown",
   "metadata": {},
   "source": [
    "```python\n",
    "if condition:\n",
    "    command1\n",
    "else:\n",
    "    command2\n",
    "```"
   ]
  },
  {
   "cell_type": "markdown",
   "metadata": {},
   "source": [
    "The principle of the structure is that you first check whether the condition is true or not. If the condition is true, the program goes to the first program block and runs the lines there. If the condition is false, the program goes to the second block and executes the lines in that one. The program thus executes only one of the blocks, depending on whether the condition is true or false, and the other block is not executed.\n",
    "\n",
    "A condition is an expression that returns a truth value `True` or `False` (boolean). Boolean values are returned by the six comparison operators from the previous chapter: \n",
    "\n",
    "All data types can use: \n",
    "- `==` (Equal) \n",
    "- `!=` (Inequal)\n",
    "\n",
    "Numeric values (integers and decimals) can use:\n",
    "- `<` (Less than)\n",
    "- `<=` (Less than or equal to)\n",
    "- `>` (Greater than)\n",
    "- `>=` (Greater than or equal to)\n",
    "\n",
    "For example, the condition could be `i < 5`."
   ]
  },
  {
   "cell_type": "code",
   "execution_count": null,
   "metadata": {},
   "outputs": [],
   "source": [
    "i = 3\n",
    "if i < 5:\n",
    "    print(i, 'is less than 5!')\n",
    "else:\n",
    "    print(i, 'is 5 or greater!')"
   ]
  },
  {
   "cell_type": "markdown",
   "metadata": {},
   "source": [
    "The program stores the number `3` in the variable `i`. The program then compares whether the value of `i` is less than `5`. In this situation, `3 < 5` returns `True`, so the program will execute a block of code corresponding to this situation and exits without executing the other block of code. "
   ]
  },
  {
   "cell_type": "code",
   "execution_count": null,
   "metadata": {},
   "outputs": [],
   "source": [
    "i = 6\n",
    "if i < 5:\n",
    "    print(i, 'is less than 5!')\n",
    "else:\n",
    "    print(i, 'is 5 or greater!')"
   ]
  },
  {
   "cell_type": "markdown",
   "metadata": {},
   "source": [
    "The program stores the number `6` in the variable `i`. The program then checks whether the first condition is true and in this case the condition `6 < 5` is `False`. The program then executes the corresponding block under the keyword `else`."
   ]
  },
  {
   "cell_type": "markdown",
   "metadata": {},
   "source": [
    "**Note!** The `if` and `else` conditions **must be followed by colons, otherwise the program will not work.** This will print an error code with an arrow at the missing colon. Below is the previous example without the colon. This gives us an error."
   ]
  },
  {
   "cell_type": "code",
   "execution_count": null,
   "metadata": {},
   "outputs": [],
   "source": [
    "i = 6\n",
    "if i < 5\n",
    "    print('Less than 5!')\n",
    "else:\n",
    "    print('5 or higher!')"
   ]
  },
  {
   "cell_type": "markdown",
   "metadata": {},
   "source": [
    "As mentioned earlier, a program may want to execute commands depending on user input."
   ]
  },
  {
   "cell_type": "code",
   "execution_count": null,
   "metadata": {},
   "outputs": [],
   "source": [
    "age = int(input('Tell me your age:\\n'))\n",
    "if age < 18:\n",
    "    print('You are underaged')\n",
    "else:\n",
    "    print('You are an adult')"
   ]
  },
  {
   "cell_type": "markdown",
   "metadata": {},
   "source": [
    "Here, the program first asks for the user's age using the `input` function. The answer is immediately converted to an integer using the type conversion function `int()`. The program then compares whether the given age is less than 18. If the comparison `age < 18` returns `True`, the program moves to the first program block, where the program prints the text *\"You are underaged \"*. Otherwise, the program prints the text *\"You are an adult \"*. "
   ]
  },
  {
   "cell_type": "markdown",
   "metadata": {},
   "source": [
    "### Syntax of `if-else`"
   ]
  },
  {
   "cell_type": "markdown",
   "metadata": {},
   "source": [
    "In the `if-else` statement, it is absolutely essential to indent the commands of the program blocks. Indentation is defined as a space made by using the `Tab` key, which is commonly four spaces. In Python, it is customary to indent with a single `Tab` space. The statement's code block ends when a new line of code is started without indentation. \n",
    "\n",
    "A colon `:` must always follow the `if` and `else` keywords. Otherwise the program will report a `SyntaxError: Invalid Syntax` error.\n",
    "\n",
    "In the `if-else` statement, you can also put as many lines of code as you want in the command section. The examples used so far have only been relatively simple, with only one command in each program block. "
   ]
  },
  {
   "cell_type": "markdown",
   "metadata": {},
   "source": [
    "**Example 1:** Number comparison"
   ]
  },
  {
   "cell_type": "code",
   "execution_count": null,
   "metadata": {},
   "outputs": [],
   "source": [
    "print(\"Welcome to the number comparison program.\")\n",
    "num1 = 10\n",
    "num2 = float(input(\"Give the number you wanna compare to number 10: \"))\n",
    "if num2 >= num1:\n",
    "    print(\"The number the user gave is greater or equal to number 10.\")\n",
    "else:\n",
    "    print(\"The number the user gave is smaller than 10. \")"
   ]
  },
  {
   "cell_type": "markdown",
   "metadata": {},
   "source": [
    "Let's see how the program works:\n",
    "\n",
    "- Line 1: The program prints a greeting\n",
    "- Line 2: Give the variable `num1` the value `10`\n",
    "- Line 3: Query the user for a number using the `input()` function, convert it to a decimal number using `float()` and store it in the variable `num2`\n",
    "- Line 4: Check whether the value of the variable `num2` is **greater than or equal to** the value of the variable `num1`\n",
    "- Line 5: If the condition is true, print that the number given by the user is greater than or equal to the number 10\n",
    "- Line 6: If the condition is false, print that the number given by the user is less than 10"
   ]
  },
  {
   "cell_type": "markdown",
   "metadata": {},
   "source": [
    "#### Exercise 1"
   ]
  },
  {
   "cell_type": "markdown",
   "metadata": {},
   "source": [
    "Write a program which asks the user for a number. Store this number in the variable `number`. Remember to change the type of the given input with `float()`!\n",
    "\n",
    "Examine the number using the `if-else` structure. If the number is less than 50, a new variable is created with the value `number + 10`, i.e. ten is added to the the number. Otherwise, create a new variable with the value `number - 10`, i.e. subtract 10 from the number.\n",
    "\n",
    "Finally, the program prints the value of the variable `new_number` with an accompanying text. \n",
    "\n",
    "Here's two examples of the program execution:\n",
    "\n",
    "```\n",
    "Enter a number: 5\n",
    "The value of the new number is: 15.0\n",
    "```\n",
    "---------------\n",
    "```\n",
    "Enter a number: 100\n",
    "The value of the new number is: 90.0\n",
    "```"
   ]
  },
  {
   "cell_type": "code",
   "execution_count": null,
   "metadata": {},
   "outputs": [],
   "source": []
  },
  {
   "cell_type": "markdown",
   "metadata": {},
   "source": [
    "#### Exercise 2"
   ]
  },
  {
   "cell_type": "markdown",
   "metadata": {},
   "source": [
    "Write a program which asks the user for an integer and checks whether the number is even or odd. If the number given by the user is even, the program prints the text \"The number is even\", otherwise the program prints the text \"The number is odd\". \n",
    "\n",
    "*Tip: you can compare whether a number is even with the division remainder `%` (`number % 2 == 0`, here you take the division remainder of the variable `number` when it is divided by `2`, and compare it with the number `0`). When an even number is divided by two, the division remainder is 0.* (Printout)\n",
    "\n",
    "Below are two sample runs of the program:\n",
    "\n",
    "```\n",
    "Enter a number: 5\n",
    "The number is odd\n",
    "```\n",
    "----------\n",
    "```\n",
    "Enter a number: 8\n",
    "The number is even\n",
    "```"
   ]
  },
  {
   "cell_type": "code",
   "execution_count": null,
   "metadata": {},
   "outputs": [],
   "source": []
  },
  {
   "cell_type": "markdown",
   "metadata": {},
   "source": [
    "###  `if` without `else`"
   ]
  },
  {
   "cell_type": "markdown",
   "metadata": {},
   "source": [
    "In Python, it is also possible to make an `if` clause without the `else` part. This is done by leaving out `else` and the corresponding program block altogether."
   ]
  },
  {
   "cell_type": "markdown",
   "metadata": {},
   "source": [
    "In the program below, the user will only be greeted if they reply that they want to be greeted. If the user enters *yes* as input, the program prints *Greetings!*. Otherwise the program does nothing."
   ]
  },
  {
   "cell_type": "code",
   "execution_count": null,
   "metadata": {},
   "outputs": [],
   "source": [
    "answer = input('Do you want to be greeted? ')\n",
    "if answer == 'yes':\n",
    "    print('Greetings!')"
   ]
  },
  {
   "cell_type": "markdown",
   "metadata": {},
   "source": [
    "#### Exercise 3 "
   ]
  },
  {
   "cell_type": "markdown",
   "metadata": {},
   "source": [
    "Write a program without the `else` statement, which asks the user for a number between 1 and 10. If the user's number is exactly 5, the program prints \"The number is exactly 5\". Otherwise, the program does nothing. \n",
    "\n",
    "Before the end of the program, the program prints the text \"The program ends.\". (Printout)"
   ]
  },
  {
   "cell_type": "code",
   "execution_count": null,
   "metadata": {},
   "outputs": [],
   "source": []
  },
  {
   "cell_type": "markdown",
   "metadata": {},
   "source": [
    "### Nested conditionals"
   ]
  },
  {
   "cell_type": "markdown",
   "metadata": {},
   "source": [
    "Nested `if-else` statements can also be used. For example, you may want to check a second condition after the first one."
   ]
  },
  {
   "cell_type": "markdown",
   "metadata": {},
   "source": [
    "**Example 2:** Breathalyzer"
   ]
  },
  {
   "cell_type": "code",
   "execution_count": null,
   "metadata": {},
   "outputs": [],
   "source": [
    "print('This program tells you whether you are legally allowed to drive or not.')\n",
    "level = float(input('How many permilles do you have in your blood?\\n'))\n",
    "\n",
    "if level > 0.0:\n",
    "    print('The legal limit for driving in Finland is under 0.5 permilles.')\n",
    "    \n",
    "    if level > 0.5:\n",
    "        print('Your permille level is over the legal limit so you have no permisson to drive!')\n",
    "    else:\n",
    "        print('Your permille level is under the legal limit so you are free to drive. However, it is not recommended to drive.')\n",
    "        \n",
    "else:\n",
    "    print('You are good to go!')"
   ]
  },
  {
   "cell_type": "markdown",
   "metadata": {},
   "source": [
    "The breathalyzer example demonstrates how nested conditional statements can be used to create selection chains, in which the program flow is controlled by more than one condition. The `if-else` statements in this program allow for a total of 3 different outcomes.\n",
    "\n",
    "If the amount of alcohol in your blood in permilles is greater than `0.0` (line 4), the nested `if-else` statement on lines 7-10 is excecuted. If the permille level is less or equal to `0.0`, the command belonging to the `else` block of the outer `if-else` structure is executed (line 13). \n",
    "\n",
    "If there are more than `0.5` permilles, line 8 is executed. If there are more than `0` but less than `0.5`, line 10 is executed. In other words, there are two possible outcomes within the `if` instruction of the nested  `if-else` .\n",
    "\n",
    "Complex programs can be created with several nested conditional statements. However, nested conditional statements make it harder to read the code, and nested conditional statements with more than two `if-else` statements are rarely used."
   ]
  },
  {
   "cell_type": "markdown",
   "metadata": {},
   "source": [
    "#### Exercise 4"
   ]
  },
  {
   "cell_type": "markdown",
   "metadata": {},
   "source": [
    "The task is to create a program that checks whether the user is taller than the average Finnish person of the same sex. The average height of a Finnish man is 178 cm and of a woman 164 cm.\n",
    "\n",
    "The program is created using a nested `if-else` structure. For the conditionals, we need two inputs from the user, which are obtained by two separate `input()` commands. The program must first ask the user's gender (male or female), then it asks the user's height in centimetres. Remember to convert the user's height to a decimal number using the `float()` command.\n",
    "\n",
    "The program then starts with the first `if-else` statement, checking whether the user is female or not. If this condition is met, the program will move to the corresponding program block. \n",
    "\n",
    "The first block (user is female) contains a new `if-else` statement, where the conditional clause compares the height entered by the user with the average height of women. If the condition is met, the text *\"You are taller than the average Finnish woman\"* is printed. If not, the text *\"You are shorter than the average Finnish woman\"* is printed.\n",
    "\n",
    "If the first condition of the program is not fulfilled, the program switches to its `else` branch. That is, the case where the user is male. This program block also contains a new `if-else` statement, where the conditional clause is used to compare the height entered by the user with the average height of men. If the condition is true, the text *\"You are taller than the average Finnish man\"* is printed. If not, the text *\"You are shorter than the average Finnish man\"* is printed.\n",
    "\n",
    "Below are a few examples of how the program works:\n",
    "\n",
    "```\n",
    "Enter your gender (male/female): female\n",
    "Enter your height in centimeters: 169\n",
    "You are taller than the average Finnish woman\n",
    "```\n",
    "-----------\n",
    "```\n",
    "Enter your gender (male/female): male\n",
    "Enter your height in centimeters: 171\n",
    "You are shorter than the average Finnish man\n",
    "```\n",
    "----------\n",
    "```\n",
    "Enter your gender (male/female): female\n",
    "Enter your height in centimeters: 159\n",
    "You are shorter than the average Finnish woman\n",
    "```"
   ]
  },
  {
   "cell_type": "code",
   "execution_count": null,
   "metadata": {},
   "outputs": [],
   "source": []
  },
  {
   "cell_type": "markdown",
   "metadata": {},
   "source": [
    "## Whitespace "
   ]
  },
  {
   "cell_type": "markdown",
   "metadata": {},
   "source": [
    "Slightly off topic, a note on the use of **whitespace** in Example 2."
   ]
  },
  {
   "cell_type": "markdown",
   "metadata": {},
   "source": [
    "Whitespace means spaces, line breaks, and indentations. In Python, you can use whitespace and line breaks as much as you want, **but indentation is only allowed inside code blocks**. Code block are used, for example, in control structures. As with `if-else` statements, loops (Chapter 3) also require proper indentation to work."
   ]
  },
  {
   "cell_type": "markdown",
   "metadata": {},
   "source": [
    "### Why Indentation?"
   ]
  },
  {
   "cell_type": "markdown",
   "metadata": {},
   "source": [
    "Easy-to-read code is a key objective with Python. Most other programming languages tend to use different kinds of closure solutions to mark program blocks of control structures. The problem with more complex structures is that, for both novice and experienced programmers, excessive parentheses can easily get mixed up. In Python's development, indentation have been chosen over extra parentheses, which is why in Python you have to be precise with indentation.\n",
    "\n",
    "In general, Python recommends the use of line breaks and punctuation to make the code as readable as possible. In the earlier breathalyzer example, line breaks have been used around `if-else` to avoid confusion. Just a few line breaks can make a significant difference to the readability of the code!"
   ]
  },
  {
   "cell_type": "markdown",
   "metadata": {},
   "source": [
    "Next, we will look at techniques to make `if-else` more effective and clear."
   ]
  },
  {
   "cell_type": "markdown",
   "metadata": {},
   "source": [
    "## Comparison operators for booleans"
   ]
  },
  {
   "cell_type": "markdown",
   "metadata": {},
   "source": [
    "Earlier we went through the common comparison operators\n",
    "- Comparison operators between numbers (`<`,`>`,`<=`,`>=`)\n",
    "- General comparison operators applicable to all data types (`==`,`!=`)\n",
    "\n",
    "These comparisons always return a truth value (boolean), i.e. either `True` or `False`."
   ]
  },
  {
   "cell_type": "markdown",
   "metadata": {},
   "source": [
    "Next we present **comparison operators for truth values**\n",
    "```python\n",
    "a and b\n",
    "a or b\n",
    "not a\n",
    "```\n",
    "These operations only work if both `a` and `b` are booleans. The operations work according to their names:\n",
    "- **`and`** returns `True` if `b` and `a` are both `True` . Otherwise returns `False`.\n",
    "- **`or`** returns `True` if `a` or `b` is `True`. If both are `False`, return `False`.\n",
    "- **`not`** returns the opposite of `a` (negation). If `a` is `True`, returns `False`, and vice versa."
   ]
  },
  {
   "cell_type": "markdown",
   "metadata": {},
   "source": [
    "![boolean comparison image](Images\\Boolean4.png)"
   ]
  },
  {
   "cell_type": "markdown",
   "metadata": {},
   "source": [
    "As can be seen from the above figure, `and` is `True` when the embryo belongs to both A and B, i.e. both are true. `or` is `True` if the element belongs to either one, i.e. either one is true."
   ]
  },
  {
   "cell_type": "code",
   "execution_count": null,
   "metadata": {},
   "outputs": [],
   "source": [
    "a = True\n",
    "b = False\n",
    "print(a and b)\n",
    "print(a or b)\n",
    "print(not a)"
   ]
  },
  {
   "cell_type": "markdown",
   "metadata": {},
   "source": [
    "Let's go through the above example line by line:    \n",
    "- Lines 1-2: place the truth values `True` and `False` in variables `a` and `b`, respectively.\n",
    "- Line 3: print `False` because both variables are not true. `and` returns `True` if and only if both truth values are `True`.\n",
    "- Line 4: returns `True` because the operation `or` returns `True` if at least one of the values is `True`.\n",
    "- Line 5: returns `False` because the *negation* of `True` is `False`."
   ]
  },
  {
   "cell_type": "markdown",
   "metadata": {},
   "source": [
    "These new comparison operations make it easier to create larger `if-else` structures. Instead of nested `if-else` statements, often code is made concise and easy-to-read by combining conditions using comparison operations."
   ]
  },
  {
   "cell_type": "markdown",
   "metadata": {},
   "source": [
    "**Example 3:** Square calculator"
   ]
  },
  {
   "cell_type": "code",
   "execution_count": null,
   "metadata": {},
   "outputs": [],
   "source": [
    "number = int(input('Give me an integer between 1 and 10 and I will calculate its square:\\n'))\n",
    "if number > 0 and number < 11:\n",
    "    square = number**2\n",
    "    print(square)\n",
    "else: \n",
    "    print('You did not give an integer between 1 and 10.')"
   ]
  },
  {
   "cell_type": "markdown",
   "metadata": {},
   "source": [
    "This example shows how using the `and` operation can save space by leaving out the nested conditional statement."
   ]
  },
  {
   "cell_type": "markdown",
   "metadata": {},
   "source": [
    "\n",
    "Comparison operators for numbers can also be used in a shorter form than the one used in Example 3. The comparisons can be made sequentially:\n",
    "``` Python\n",
    "if number > 0 and number < 11:\n",
    "```\n",
    "can be written in the form\n",
    "``` Python\n",
    "if 0 < number < 11:\n",
    "```\n",
    "This compares whether the variable `number` is greater than 0 but less than 11. This latter comparison also returns the truth value `True` or `False`."
   ]
  },
  {
   "cell_type": "code",
   "execution_count": null,
   "metadata": {},
   "outputs": [],
   "source": [
    "number = 5\n",
    "0 < number < 11"
   ]
  },
  {
   "cell_type": "markdown",
   "metadata": {},
   "source": [
    "Let's redo example program 3:"
   ]
  },
  {
   "cell_type": "code",
   "execution_count": null,
   "metadata": {},
   "outputs": [],
   "source": [
    "number = int(input('Give me an integer between 1 and 10 and I will calculate its square:\\n'))\n",
    "if 0 < number < 11:\n",
    "    square = number**2\n",
    "    print(square)\n",
    "else: \n",
    "    print('You did not give an integer between 1 and 10.')"
   ]
  },
  {
   "cell_type": "markdown",
   "metadata": {},
   "source": [
    "So both programs do the same thing. It's up to you as a programmer to decide which format you want to use in your programs!"
   ]
  },
  {
   "cell_type": "markdown",
   "metadata": {},
   "source": [
    "#### Exercise 5 "
   ]
  },
  {
   "cell_type": "markdown",
   "metadata": {},
   "source": [
    "You can enter a PG13 movie if you are over 13, or with a parent if you are under 13. Write a program that asks the user for their age and whether they have a parent with them (two separate `input()` statements are needed). If the user is over 13 **OR** if a parent is present, the program prints \"Enjoy the movie!\". Write these two comparison operations in the same `if` condition. Otherwise, the program will print \"You are not allowed to watch this movie!\"."
   ]
  },
  {
   "cell_type": "code",
   "execution_count": null,
   "metadata": {},
   "outputs": [],
   "source": []
  },
  {
   "cell_type": "markdown",
   "metadata": {},
   "source": [
    "## `elif`"
   ]
  },
  {
   "cell_type": "markdown",
   "metadata": {},
   "source": [
    "In an `if-else` statement, you may want more than two possible ways to execute commands. In this case, the `if-elif-else` statement can be used, which allows more than one consecutive condition to be checked. As many `elif`-conditions as desired can be put into the statement.\n",
    "\n",
    "```Python\n",
    "if condition:\n",
    "    command1\n",
    "elif condition2:\n",
    "    command2\n",
    "elif condition3:\n",
    "    command3\n",
    "else:\n",
    "    command4\n",
    "```\n",
    "\n",
    "The `if-elif-else` statement also stops at the first condition whose condition clause is true, and no further condition clauses are checked or their program blocks executed.\n"
   ]
  },
  {
   "cell_type": "code",
   "execution_count": null,
   "metadata": {},
   "outputs": [],
   "source": [
    "i = 4\n",
    "if i > 0:\n",
    "    print('Larger than 0')\n",
    "elif 1 <= i <= 10:\n",
    "    print('Between 1 and 10')\n",
    "else:\n",
    "    print('Larger than 10')"
   ]
  },
  {
   "cell_type": "markdown",
   "metadata": {},
   "source": [
    "Change `elif` on line 4 to `if`, and see how the program changes. Why does this happen?"
   ]
  },
  {
   "cell_type": "markdown",
   "metadata": {},
   "source": [
    "**Example 4:** Price calculator\n",
    "\n",
    "An amusement park has tickets in four different price categories:\n",
    "\n",
    "Children's ticket (under 15 years): **10 e**  \n",
    "Youth ticket (15-24 years): **15 e**  \n",
    "Adult ticket (25-65 years): **20 e**  \n",
    "Pensioner tickets (over 65): **15 e**\n",
    "\n",
    "\n",
    "The program asks the user for their age and tells them the ticket category and price."
   ]
  },
  {
   "cell_type": "code",
   "execution_count": null,
   "metadata": {},
   "outputs": [],
   "source": [
    "print('Welcome to check the ticket prices!')\n",
    "age=int(input('Tell me your age:\\n'))\n",
    "\n",
    "if age < 15:\n",
    "    print(\"Children's ticket price is 10 euros\")\n",
    "\n",
    "elif age >= 15 and age <= 24: \n",
    "    print(\"Youth ticket price is 15 euros\")\n",
    "    \n",
    "elif 25 <= age <= 65: # shorter way to combine two booleans\n",
    "    print(\"Adult ticket price is 20 euros\")\n",
    "    \n",
    "else: \n",
    "    print(\"Pensioner ticket price is 15 euros\")"
   ]
  },
  {
   "cell_type": "markdown",
   "metadata": {},
   "source": [
    "The price calculator above is a good example of the use of `elif` and comparison operators. Let's go through the program line by line:"
   ]
  },
  {
   "cell_type": "markdown",
   "metadata": {},
   "source": [
    "- Line 1: Print the greeting text\n",
    "- Line 2: Query the age of the user with `input()`, convert the input to an integer with `int()` and place it in the variable `age`\n",
    "- Line 4: Start the `if` statement. The condition is `age < 15`\n",
    "- Line 5: First block. Execute only if the condition in line 4 is `True`\n",
    "- Line 7: If the condition `False`, i.e. in this case the age given by the user is greater than or equal to 15, then move to this line. With `elif` a new condition is given: `age >= 15 and age <= 24`\n",
    "- Line 8: Second block. Execute only if both comparisons in line 7 are `True`, i.e. if the age is between 15 and 24\n",
    "- Line 10: Again, if the previous conditions were `False`, move to this line. Enter a new condition: `25 <= age <= 65`. Note! This condition works in exactly the same way as the condition in line 7, but since the same variable is used, the amount of code can be shortened and the comparisons can be combined, since both must be `True`\n",
    "- Line 11: Third block. Execute only if if its condition in line 10 is `True`\n",
    "- Line 13: `else`. If none of the conditions are `True`, move to this line\n",
    "- Line 14: Last block. Executed if the `if` statement takes you all the way to `else`, line 13, without any of the conditions being `True` by that point"
   ]
  },
  {
   "cell_type": "markdown",
   "metadata": {},
   "source": [
    "\n",
    "To summarize, in Python, the `if` -statement is done as follows:     \n",
    "- **1** if-branch. Each `if-elif-else` structure requires exactly one `if` clause to start the structure.\n",
    "- **0-an infinite** number of `elif`-branches. After the `if`-branch, there can be as many `elif`-branches as you like.\n",
    "- **0-1** number of `else`-branches. The `else`-branch is always the last one, there can be one but it is not mandatory. An `else`-branch does not have a condition, but it is executed if no previous condtions in the `if` structure have been `True`."
   ]
  },
  {
   "cell_type": "markdown",
   "metadata": {},
   "source": [
    "#### Exercise 6 "
   ]
  },
  {
   "cell_type": "markdown",
   "metadata": {},
   "source": [
    "Write a program which calculates the price of the product, depending on the amount of the accumulated bonus. The program first asks the user for the number of bonus points accumulated (1-500), and then the price of the product. \n",
    "- At bonus level 1 (points 1-100), the user receives a 10% discount on the price\n",
    "- At bonus level 2 (points 101-250), the user receives a 20% discount on the price\n",
    "- At bonus level 3 (251-400 points), the user receives a 30% discount on the price\n",
    "- At bonus level 4 (points 401-500), the user receives a 40% discount on the price   \n",
    "\n",
    "The program examines the discount based on the user's score and prints out the bonus level and the resulting price for the product. (Printout)"
   ]
  },
  {
   "cell_type": "code",
   "execution_count": 1,
   "metadata": {},
   "outputs": [],
   "source": []
  },
  {
   "cell_type": "markdown",
   "metadata": {},
   "source": [
    "## Recap"
   ]
  },
  {
   "cell_type": "markdown",
   "metadata": {},
   "source": [
    "**Conditional statements** can be used to control the flow of the code. Python has an `if-else` structure for this purpose."
   ]
  },
  {
   "cell_type": "code",
   "execution_count": null,
   "metadata": {},
   "outputs": [],
   "source": [
    "i = 2\n",
    "if i < 3:\n",
    "    value = True\n",
    "else:\n",
    "    value = False\n",
    "value"
   ]
  },
  {
   "cell_type": "markdown",
   "metadata": {},
   "source": [
    "**Note!** a conditional statement must always be followed by a colon `:`. Otherwise Python will indicate an error with the error code `SyntaxError`."
   ]
  },
  {
   "cell_type": "markdown",
   "metadata": {},
   "source": [
    "The `else` branch can be left out from the statement, or alternatively, the desired number of `elif` branches can be added in between to add conditions to the statement. Only the program block for which the corresponding conditional statement is `True` is executed from the structure."
   ]
  },
  {
   "cell_type": "code",
   "execution_count": null,
   "metadata": {},
   "outputs": [],
   "source": [
    "i = 4\n",
    "if i > 10:\n",
    "    print('Larger than 10')\n",
    "elif 1 <= i <= 10:\n",
    "    print('Between 1 and 10')\n",
    "else:\n",
    "    print('Smaller than 1')"
   ]
  },
  {
   "cell_type": "markdown",
   "metadata": {},
   "source": [
    "`if-else` statements can also be nested. However, **comparison operators for truth values** can be used to avoid excessive nested statements that make the code difficult to read."
   ]
  },
  {
   "cell_type": "markdown",
   "metadata": {},
   "source": [
    "- **and** returns `True` if **both a and b** are `True` . Otherwise returns `False`.\n",
    "- **or** returns `True` if **a or b** are `True`. If both are `False`, return `False`.\n",
    "- **not** returns the opposite of a (negation). If a is `True`, `not a` returns `False`."
   ]
  },
  {
   "cell_type": "code",
   "execution_count": null,
   "metadata": {},
   "outputs": [],
   "source": [
    "i = 4\n",
    "if i > 0 and i < 10:\n",
    "    print('Between 1 and 10')\n",
    "else:\n",
    "    print('Not between 1 and 10')"
   ]
  },
  {
   "cell_type": "markdown",
   "metadata": {},
   "source": [
    "`if-elif-else` structure:\n",
    "- 1 `if`-branch\n",
    "- 0 - infinity `elif`-branches\n",
    "- 0 - 1  `else`-branches"
   ]
  },
  {
   "cell_type": "code",
   "execution_count": null,
   "metadata": {},
   "outputs": [],
   "source": [
    "num = float(input(\"Please give a number: \"))\n",
    "\n",
    "if num < 0:\n",
    "    print(\"User gave a negative number.\")\n",
    "elif 0 <= num <=  100:\n",
    "    print(\"User gave a number between 0 and 100.\")\n",
    "elif 101 <= num <= 10000:\n",
    "    print(\"User gave a number between 101 and 10000.\")\n",
    "else:\n",
    "    print(\"User gave a really big number.\")"
   ]
  },
  {
   "cell_type": "markdown",
   "metadata": {},
   "source": [
    "## Loops\n",
    "\n",
    "It is very common for a program to repeat the same task multiple times. One could, for example, iterate over all items in a list or print a series of numbers. To avoid writing the same code many times, most of the programming languages have implemented loops.\n",
    "\n",
    "Python has two types of loops: **while** and **for**, which are explored in this chapter.   \n",
    "\n",
    "Both of these keywords start a new block of code, hence they must be followed by a colon `:`. Similar to the `if-else` structure, the code inside the new block has to be indented with loops."
   ]
  },
  {
   "cell_type": "markdown",
   "metadata": {},
   "source": [
    "## `while` loop"
   ]
  },
  {
   "cell_type": "markdown",
   "metadata": {},
   "source": [
    "In Python the `while` loop is constructed as follows:\n",
    "\n",
    "```python\n",
    "while condition:\n",
    "    command\n",
    "```"
   ]
  },
  {
   "cell_type": "markdown",
   "metadata": {},
   "source": [
    "The condition of the `while` loop, also known as \"test expression\", is evaluated similar to the `if-else` statement. As long as the condition is evaluated as `True`, the indented code block is executed repeatedly.\n",
    "\n",
    "Let us consider the following example:"
   ]
  },
  {
   "cell_type": "code",
   "execution_count": null,
   "metadata": {},
   "outputs": [],
   "source": [
    "i = 0\n",
    "while i < 3:\n",
    "    print(i)\n",
    "    i = i + 1"
   ]
  },
  {
   "cell_type": "markdown",
   "metadata": {},
   "source": [
    "The `while` loop is run each time the variable `i` is smaller than 3. The number stored in variable `i` is printed in the program's output and its value is then increased by 1. As we are printing the value before incrementing it, the output includes numbers from 0 to 2.\n",
    "\n",
    "What happens if you change the value of `i` on the first line to 3?"
   ]
  },
  {
   "cell_type": "markdown",
   "metadata": {},
   "source": [
    "**Example 1:** Multiplication table"
   ]
  },
  {
   "cell_type": "code",
   "execution_count": null,
   "metadata": {},
   "outputs": [],
   "source": [
    "print('This program prints the multiplication table of number 2 from 1 to 10.\\n')\n",
    "i = 1\n",
    "while i < 11:\n",
    "    print('2 *', i, '=', 2 * i)\n",
    "    i += 1 # Shorthand for i = i + 1"
   ]
  },
  {
   "cell_type": "markdown",
   "metadata": {},
   "source": [
    "Explanation of the code step by step:\n",
    "\n",
    "- Line 1: Printing the informative text. Note the `newline` character `\\n`.\n",
    "- Line 2: Create a new variable `i` and set it to 1.\n",
    "- Line 3: Evaluate the `while` loop condition \"`i` is smaller than 11\". On the first iteration the condition is `True` as 1 < 11, hence the code block is executed.\n",
    "- Line 4: Print the multiplication result inside the loop. The output is built from strings and the variable `i` using comma `,`.\n",
    "- Line 5: Increment variable `i` by 1. This is the last line of the code block, so we move back to line 3 and evaluate the `while` condition again. lines 3-5 are repeated as long as the condition evaluates as `True`.\n",
    "\n",
    "When `i < 11` evaluates as `False` the loop ends and the program ends as well."
   ]
  },
  {
   "cell_type": "markdown",
   "metadata": {},
   "source": [
    "#### Exercise 1"
   ]
  },
  {
   "cell_type": "markdown",
   "metadata": {},
   "source": [
    "Create a program with a `while` loop, which prints the numbers from 10 to 1 in a descending order.\n",
    "\n",
    "Hint: create a variable, for example `i`, with a value of 10. Print the variable inside the loop and decrease its value by 1. For the condition you can compare `i` with 0. "
   ]
  },
  {
   "cell_type": "code",
   "execution_count": null,
   "metadata": {},
   "outputs": [],
   "source": []
  },
  {
   "cell_type": "markdown",
   "metadata": {},
   "source": [
    "**Example 2:** Controlling user input with `while`"
   ]
  },
  {
   "cell_type": "markdown",
   "metadata": {},
   "source": [
    "The `while` loops are often used with user inputs. If a certain input format is required from the user, the execution of the program can be halted until an input in a desired format is given."
   ]
  },
  {
   "cell_type": "code",
   "execution_count": 1,
   "metadata": {},
   "outputs": [
    {
     "name": "stdout",
     "output_type": "stream",
     "text": [
      "Hello to you too!\n"
     ]
    }
   ],
   "source": [
    "hasnt_said_hello = True\n",
    "while hasnt_said_hello:\n",
    "    user_input = input('Type \"Hello\" to proceed: ')\n",
    "    if user_input == 'Hello':\n",
    "        hasnt_said_hello = False\n",
    "    else:\n",
    "        print(\"User has not said Hello yet.\")\n",
    "print('Hello to you too!')"
   ]
  },
  {
   "cell_type": "markdown",
   "metadata": {},
   "source": [
    "Explanation of the code step by step:\n",
    "- Line 1: initialize the variable `hasnt_said_hello`, which is used as the condition of the `while` loop. Set the value to `True`, so the `while` loop will execute.\n",
    "- Line 2: Evaluate the condition of the `while` loop. As the condition is a variable with value `True`, the `while` loop is executed.\n",
    "- Line 3: Assign the user input to variable `user_input`. As `input()` returns a string, we don't need to cast it to another data type.\n",
    "- Line 4: A simple `if` clause checks whether the value of the variable `user_input` is exactly \"Hello\". The comparison works because both `user_input` and `'Hello'` are strings.\n",
    "- Line 5: If the input and the test string `'Hello'` are equal, change the value of `hasnt_said_hello` to `False`. As `hasnt_said_hello` is used as the loop condition the loop ends when the condition is evaluated for the next iteration.\n",
    "- Lines 6 & 7: If the user inputs a string other than `'Hello'` the program will notify the user and repeat lines 2-7 until the input matches the requirement.\n",
    "- Line 8: After the `while` loop ends, a final message is printed and the program ends."
   ]
  },
  {
   "cell_type": "markdown",
   "metadata": {},
   "source": [
    "#### Exercise 2"
   ]
  },
  {
   "cell_type": "markdown",
   "metadata": {},
   "source": [
    "Create a program with a `while` loop. Inside the loop ask the user to input an integer. As the `input()` function always returns a string you need to cast the user input as `int()`. If the integer is bigger than 0, the loop continues and a new integer is requested, otherwise the program ends.\n",
    "\n",
    "Hint: Analyze the previous example. Pay attention to how the variable used as the condition is given a value before evaluating the `while` condition."
   ]
  },
  {
   "cell_type": "code",
   "execution_count": null,
   "metadata": {},
   "outputs": [],
   "source": []
  },
  {
   "cell_type": "markdown",
   "metadata": {},
   "source": [
    "### Infinite loops"
   ]
  },
  {
   "cell_type": "markdown",
   "metadata": {},
   "source": [
    "One of the most common mistakes made by both beginner and experienced programmers is an unintentional **infinite `while` loop**. An infinite `while` loop is created when a loop is started, but the condition never evaluates as `False`. The simplest way to create an infinite loop is to run the following code:\n",
    "\n",
    "```python\n",
    "while True:\n",
    "    command\n",
    "```"
   ]
  },
  {
   "cell_type": "markdown",
   "metadata": {},
   "source": [
    "The condition `True` is not a variable and its value can't be changed, hence the loop will continue indefinitely. "
   ]
  },
  {
   "cell_type": "markdown",
   "metadata": {},
   "source": [
    "**Before running the code below:** You can end the code execution by clicking the stop button in the toolbar (black square). Stop the code execution after a couple of seconds to avoid freezing the window."
   ]
  },
  {
   "cell_type": "code",
   "execution_count": null,
   "metadata": {},
   "outputs": [],
   "source": [
    "import time\n",
    "\n",
    "while True:\n",
    "    print('This loop never ends!')\n",
    "    time.sleep(1)"
   ]
  },
  {
   "cell_type": "markdown",
   "metadata": {},
   "source": [
    "As you can see, the program calls the `print()` function indefinitely. In reality the available memory is exhausted and the program crashes, potentially also freezing the platform."
   ]
  },
  {
   "cell_type": "markdown",
   "metadata": {},
   "source": [
    "**In Jypyter you can see if the program is still running** if you see `In [*]` next to the code cell. If you see the asterisk and the program does not give the desired output, it might be stuck in a loop. "
   ]
  },
  {
   "cell_type": "markdown",
   "metadata": {},
   "source": [
    "The following code contains a common mistake with `while` loops:"
   ]
  },
  {
   "cell_type": "code",
   "execution_count": null,
   "metadata": {},
   "outputs": [],
   "source": [
    "import time\n",
    "\n",
    "i = 0\n",
    "while i < 10:\n",
    "    print(i + 1)\n",
    "    time.sleep(1)"
   ]
  },
  {
   "cell_type": "markdown",
   "metadata": {},
   "source": [
    "Even though the addition `i + 1` is computed inside the loop, the result is not updated to variable `i`. Forgetting to update the variable used in the condition of the `while` loop is a common mistake. To avoid an infinite loop you need to check that the condition variables are updated as intended."
   ]
  },
  {
   "cell_type": "markdown",
   "metadata": {},
   "source": [
    "### `break`"
   ]
  },
  {
   "cell_type": "markdown",
   "metadata": {},
   "source": [
    "Infinite loops can be broken in the code using the keyword `break`.\n",
    "\n",
    "Let us consider the following example:"
   ]
  },
  {
   "cell_type": "code",
   "execution_count": null,
   "metadata": {},
   "outputs": [],
   "source": [
    "print('Tell me a word and I\\'ll print it.\\nEnd program by writing \"quit\" \\n')\n",
    "word = ''\n",
    "while word != 'quit':\n",
    "    word = input('Word:\\n')\n",
    "print('The program has ended')"
   ]
  },
  {
   "cell_type": "markdown",
   "metadata": {},
   "source": [
    "The `while` loop is executed as long as the user input differs from the word `'quit'`."
   ]
  },
  {
   "cell_type": "markdown",
   "metadata": {},
   "source": [
    "Another way to control the behavior based on user input is to use the keyword `break`. Execution of the loop is halted immediately when the keyword is reached. The `break` keyword is commonly used inside an infinite loop, but it can be used with any loop construction."
   ]
  },
  {
   "cell_type": "code",
   "execution_count": null,
   "metadata": {},
   "outputs": [],
   "source": [
    "question = 'Please tell me your name. Enter \"quit\" when you want to end.\\n'\n",
    "while True:\n",
    "    name = input(question)\n",
    "    if name == 'quit':\n",
    "        break\n",
    "    else:\n",
    "        print('Hello '+ name + '!')"
   ]
  },
  {
   "cell_type": "markdown",
   "metadata": {},
   "source": [
    "One example of using loops in programming is the summation of numbers from user input."
   ]
  },
  {
   "cell_type": "markdown",
   "metadata": {},
   "source": [
    "**Example 3:** Average"
   ]
  },
  {
   "cell_type": "markdown",
   "metadata": {},
   "source": [
    "The code below computes the average value of number given by the user. To compute the average we need to handle the sum and count of the numbers."
   ]
  },
  {
   "cell_type": "code",
   "execution_count": null,
   "metadata": {},
   "outputs": [],
   "source": [
    "print('This program calculates the mean of the given numbers.\\n')\n",
    "sum_of_numbers = 0\n",
    "count = 0\n",
    "while True:\n",
    "    number = float(input('Give me a number. End with a negative number.\\n'))\n",
    "    if number >= 0:\n",
    "        sum_of_numbers += number # Raising the sum by the value of number\n",
    "        count += 1 # Raising the count by 1\n",
    "    else:\n",
    "        break # We encountered a negative number\n",
    "mean = sum_of_numbers / count\n",
    "print('The mean of the numbers is', mean)"
   ]
  },
  {
   "cell_type": "markdown",
   "metadata": {},
   "source": [
    "#### Exercise 3"
   ]
  },
  {
   "cell_type": "markdown",
   "metadata": {},
   "source": [
    "In this exercise you need to create a simple point counter for blackjack. Inside a `while` loop ask the user to input the value of their current card. If the total value of their cards exceeds or is equal to 21 the loop ends. In the end the program will print the sum of the user's points.\n",
    "\n",
    "Hint: Analyze the code in Example 3."
   ]
  },
  {
   "cell_type": "code",
   "execution_count": null,
   "metadata": {},
   "outputs": [],
   "source": []
  },
  {
   "cell_type": "markdown",
   "metadata": {},
   "source": [
    "## `for` loop"
   ]
  },
  {
   "cell_type": "markdown",
   "metadata": {},
   "source": [
    "In programming a container for objects is called a **collection**. Individual objects are called **elements** or **items**."
   ]
  },
  {
   "cell_type": "markdown",
   "metadata": {},
   "source": [
    "`for` loops are used when there is a need to iterate over a collection. The difference between a `for` loop and a `while` loop is, that the `for` loop iterates over a predefined collection, hence it cannot run indefinitely."
   ]
  },
  {
   "cell_type": "markdown",
   "metadata": {},
   "source": [
    "A `for` loop is constructed as follows:\n",
    "\n",
    "```python\n",
    "for element in collection:\n",
    "    command\n",
    "```"
   ]
  },
  {
   "cell_type": "markdown",
   "metadata": {},
   "source": [
    "Let's examine what's happening here. A `for` loop begins with four key elements:\n",
    "1. `for` - This Python keyword defines, that we're creating a `for` loop.\n",
    "2. `element` - A new variable, which is given the value of the next item in `collection`. You can name this variable freely.\n",
    "3. `in`- Another Python keyword. Associates the `element` with the `collection`.\n",
    "4. `collection`- A collection or a variable name which points to a collection."
   ]
  },
  {
   "cell_type": "markdown",
   "metadata": {},
   "source": [
    "`for` loops have the same basic structure as the other control statements (e.g. `if`, `while`). The line defining the loop ends with a `:` and the code block of the loop is indented."
   ]
  },
  {
   "cell_type": "markdown",
   "metadata": {},
   "source": [
    "The `for` requires a collection to iterate over. One common collection used in conjunction with `for` loops is a list. Lists are described in Chapter 5, but luckily we can demonstrate the `for` loops using the predefined `range()` function."
   ]
  },
  {
   "cell_type": "markdown",
   "metadata": {},
   "source": [
    "### `range()` function"
   ]
  },
  {
   "cell_type": "markdown",
   "metadata": {},
   "source": [
    "`range()` function creates a sequence of numbers with given parameters. The `range()` function is used extensively on this course, make sure to understand and test how it works!\n",
    "\n",
    "Let's see how the function works and which parameters can be used:"
   ]
  },
  {
   "cell_type": "markdown",
   "metadata": {},
   "source": [
    "```Python\n",
    "range(n)\n",
    "```"
   ]
  },
  {
   "cell_type": "markdown",
   "metadata": {},
   "source": [
    "Here the parameter `n` can be any **integer**. "
   ]
  },
  {
   "cell_type": "markdown",
   "metadata": {},
   "source": [
    "`range()` function returns a series of `n` numbers. The values are (by default) integers between [`0`,  `n-1`]. \n",
    "\n",
    "In other words, the `range(n)` function returns all integers starting from 0 **and ending with `n-1`, excluding `n`!**."
   ]
  },
  {
   "cell_type": "markdown",
   "metadata": {},
   "source": [
    "Let's see how `range()` works:"
   ]
  },
  {
   "cell_type": "code",
   "execution_count": null,
   "metadata": {},
   "outputs": [],
   "source": [
    "range(5)"
   ]
  },
  {
   "cell_type": "markdown",
   "metadata": {},
   "source": [
    "`range()` does not return a collection of numbers, but **a sequence of numbers as a range object**. The example above returns `range(0,5)`, which means a sequence of all integers from 0 to 4.\n",
    "\n",
    "The following code prints the integers of the `range` sequence as a list. List are introduced in Chapter 5."
   ]
  },
  {
   "cell_type": "code",
   "execution_count": null,
   "metadata": {},
   "outputs": [],
   "source": [
    "list(range(5))"
   ]
  },
  {
   "cell_type": "markdown",
   "metadata": {},
   "source": [
    "#### `range(start, stop)`"
   ]
  },
  {
   "cell_type": "markdown",
   "metadata": {},
   "source": [
    "In many cases the sequence should start with an integer **other than zero**. The starting point of the function can be set by calling the function with two parameters `range(start, stop)`. The parameter `start` has to be smaller than `stop`. The sequence contains all integers starting from `start` and ending one integer before `stop`."
   ]
  },
  {
   "cell_type": "markdown",
   "metadata": {},
   "source": [
    "If the `start` parameter is not given, the function works like `range(start, stop)` where `start` has been set to 0. Many functions in Python have some default values set to speed up the programming flow and clean up the code."
   ]
  },
  {
   "cell_type": "code",
   "execution_count": null,
   "metadata": {},
   "outputs": [],
   "source": [
    "range(2, 7)"
   ]
  },
  {
   "cell_type": "markdown",
   "metadata": {},
   "source": [
    "This example returns a sequence from the first given parameter (2) to the last integer before the second parameter (7).\n",
    "\n",
    "As with the previous example, let's see which numbers are included in the sequence:"
   ]
  },
  {
   "cell_type": "code",
   "execution_count": null,
   "metadata": {},
   "outputs": [],
   "source": [
    "list(range(2, 7))"
   ]
  },
  {
   "cell_type": "markdown",
   "metadata": {},
   "source": [
    "#### `range(start, stop, step)`"
   ]
  },
  {
   "cell_type": "markdown",
   "metadata": {},
   "source": [
    "The operation of the `range()` function can be further modified by introducing a third parameter, `step`:"
   ]
  },
  {
   "cell_type": "code",
   "execution_count": null,
   "metadata": {},
   "outputs": [],
   "source": [
    "range(0, 10, 2)"
   ]
  },
  {
   "cell_type": "markdown",
   "metadata": {},
   "source": [
    "The third parameter (in above example `2`) defines the step of the `range()` function. In this case we include every other integer between 0 and 9 in the sequence. This translates to creating a sequence of even numbers:"
   ]
  },
  {
   "cell_type": "code",
   "execution_count": null,
   "metadata": {},
   "outputs": [],
   "source": [
    "list(range(0, 10, 2))"
   ]
  },
  {
   "cell_type": "markdown",
   "metadata": {},
   "source": [
    "The step can also be negative, which translates to stepping backwards. If a negative step is used, the `start` and `stop` have to be set accordingly:"
   ]
  },
  {
   "cell_type": "code",
   "execution_count": null,
   "metadata": {},
   "outputs": [],
   "source": [
    "list(range(10, 1, -2))"
   ]
  },
  {
   "cell_type": "markdown",
   "metadata": {},
   "source": [
    "### `for` loops and `range()`"
   ]
  },
  {
   "cell_type": "markdown",
   "metadata": {},
   "source": [
    "So far we have been studying the basic functionality of `for` loops and the `range()` function. Together these two make a very useful combination:"
   ]
  },
  {
   "cell_type": "markdown",
   "metadata": {},
   "source": [
    "**Example 4:** Printing increasing numbers"
   ]
  },
  {
   "cell_type": "code",
   "execution_count": null,
   "metadata": {},
   "outputs": [],
   "source": [
    "for i in range(10):\n",
    "    print(i)"
   ]
  },
  {
   "cell_type": "markdown",
   "metadata": {},
   "source": [
    "Let's examine the above program line by line.\n",
    "\n",
    "Line 1 consist of a number of interesting pieces:\n",
    "1. Begin a loop with keyword `for`\n",
    "2. Give a name for the iterator variable, which is given the next value in sequence for each iteration of the loop. \n",
    "3. Associate variable `i` with the sequence create by `range()`.\n",
    "4. Create a sequence from 0 to 9 with `range(10)`"
   ]
  },
  {
   "cell_type": "markdown",
   "metadata": {},
   "source": [
    "All this is for defining the `for` loop, but the actual output is produced on line 2: `print(i)`."
   ]
  },
  {
   "cell_type": "markdown",
   "metadata": {},
   "source": [
    "The line 1 is responsible for updating the variable `i` after each iteration. The value for `i` is given from the sequence generated by the `range(10)` function. The `for` loop iterates over the sequence one by one and ends the loop once the sequence is exhausted."
   ]
  },
  {
   "cell_type": "markdown",
   "metadata": {},
   "source": [
    "As line 2 is inside the code block defined by `for` and indentation, it is run once per iteration. `print()` outputs the values of `i`, and as `i` is updated by line 1 for each iteration, we end up with complete printed sequence."
   ]
  },
  {
   "cell_type": "markdown",
   "metadata": {},
   "source": [
    "**Example 5:** Multiplication table"
   ]
  },
  {
   "cell_type": "markdown",
   "metadata": {},
   "source": [
    "Previously in Example 1 we printed the multiplication table of the number 2 using the `while` construct. We can achieve the same end result with less code using a `for` loop:"
   ]
  },
  {
   "cell_type": "code",
   "execution_count": null,
   "metadata": {},
   "outputs": [],
   "source": [
    "for i in range(11):\n",
    "    print('2 *', i, '=', 2 * i)"
   ]
  },
  {
   "cell_type": "markdown",
   "metadata": {},
   "source": [
    "Note, that the `range()` function is given parameter 11 instead of 10, as the output of `range()` does not include the integer defined as the `end` parameter. For each iteration the program computes the multiplication `2 * i`. As we iterate over 0-10 as the value of `i` we end up with a multiplication table from 0 until 10."
   ]
  },
  {
   "cell_type": "markdown",
   "metadata": {},
   "source": [
    "We can also compute the multiples of 2 with plain `range()` function using the `step` parameter:"
   ]
  },
  {
   "cell_type": "code",
   "execution_count": null,
   "metadata": {},
   "outputs": [],
   "source": [
    "for i in range(0, 21, 2):\n",
    "    print(i)"
   ]
  },
  {
   "cell_type": "markdown",
   "metadata": {},
   "source": [
    "#### Exercise 4"
   ]
  },
  {
   "cell_type": "markdown",
   "metadata": {},
   "source": [
    "Write a program, which prints the odd numbers between 1 and 21 using a `for` loop and the `range()` function."
   ]
  },
  {
   "cell_type": "code",
   "execution_count": null,
   "metadata": {},
   "outputs": [],
   "source": []
  },
  {
   "cell_type": "markdown",
   "metadata": {},
   "source": [
    "### Nested `for` loops"
   ]
  },
  {
   "cell_type": "markdown",
   "metadata": {},
   "source": [
    "The power of `for` loops is emphasized in nested loops:"
   ]
  },
  {
   "cell_type": "markdown",
   "metadata": {},
   "source": [
    "**Example 6:** Salutation"
   ]
  },
  {
   "cell_type": "code",
   "execution_count": null,
   "metadata": {},
   "outputs": [],
   "source": [
    "for i in range(5):\n",
    "    for j in range(2):\n",
    "        print(\"Hi\")"
   ]
  },
  {
   "cell_type": "markdown",
   "metadata": {},
   "source": [
    "Example 6 prints `\"Hi\"` 10 times, as the outer loop is evaluated 5 times and for each iteration the inner loop is evaluated twice: 5 * 2 = 10."
   ]
  },
  {
   "cell_type": "markdown",
   "metadata": {},
   "source": [
    "**Example  7:** i & j"
   ]
  },
  {
   "cell_type": "markdown",
   "metadata": {},
   "source": [
    "The following example demonstrates a nested loop with a dynamic iteration count:"
   ]
  },
  {
   "cell_type": "code",
   "execution_count": null,
   "metadata": {},
   "outputs": [],
   "source": [
    "for i in range(4):\n",
    "    print('i:', i)\n",
    "    for j in range(i):\n",
    "        print('j:', j)\n",
    "    print(\"-------\")"
   ]
  },
  {
   "cell_type": "markdown",
   "metadata": {},
   "source": [
    "Let's dive into the code:\n",
    "- Line 1 defines the outer loop. The value of `i` is 0 as given by `range()`.\n",
    "- Line 2 is inside the first loop and prints the value of `i`, which is now 0.\n",
    "- Line 3 creates the sequence for the inner loop. As `i` is `0`, the inner loop is not executed as `range(0)` is an empty sequence.\n",
    "- Line 4 prints the horizontal line to indicate that the outer loop has finished an iteration. Return to line 1.\n",
    "- The variable `i` is given value 1 and line 2 prints the new value.\n",
    "- As `i` is now larger than 0, the inner loop is executed on line 4.\n",
    "- `range(1)` contains only one value (0), hence the inner loop has only one iteration. The program prints `j: 0`.\n",
    "- The inner loop finishes. A horizontal line is printed and the program returns to line 1 again.\n",
    "- The outer and inner loops are iterated over until the sequence from `range(4)` is exhausted.\n",
    "\n",
    "Try changing the values in both `range()` functions!"
   ]
  },
  {
   "cell_type": "markdown",
   "metadata": {},
   "source": [
    "#### Exercise 5"
   ]
  },
  {
   "cell_type": "markdown",
   "metadata": {},
   "source": [
    "Write a program, which asks the user for two integers by calling the `input()` function twice. Save the given input strings to variables `x` and `y`. After the user has given both inputs, the program prints all combinations of numbers between [0, `x`] and [0, `y`]. \n",
    "\n",
    "Example: If the user inputs numbers 1 ja 2, the program will output:\n",
    "```\n",
    "0,0\n",
    "0,1\n",
    "0,2\n",
    "1,0\n",
    "1,1\n",
    "1,2\n",
    "```\n",
    "\n",
    "Hint: You need to use nested `for` loops. You should also use `range()` function in `for` loop definitions to get a sequence of numbers. You can also analyze the Example 7 for more help."
   ]
  },
  {
   "cell_type": "code",
   "execution_count": null,
   "metadata": {},
   "outputs": [],
   "source": []
  },
  {
   "cell_type": "markdown",
   "metadata": {},
   "source": [
    "## Recap"
   ]
  },
  {
   "cell_type": "markdown",
   "metadata": {},
   "source": [
    "The `while` loop repeats the code block as long as the condition evaluates as `True`. A `for` loop will iterate over all items in a collection, for example all numbers in a sequence or all items in a list. "
   ]
  },
  {
   "cell_type": "markdown",
   "metadata": {},
   "source": [
    "The following example prints the value of `i` until it reaches a value of 5. The value of `i`:n has to be incremented on each iteration to avoid an infinite loop."
   ]
  },
  {
   "cell_type": "code",
   "execution_count": null,
   "metadata": {},
   "outputs": [],
   "source": [
    "i = 0\n",
    "while i < 5:\n",
    "    print(i)\n",
    "    i = i + 1"
   ]
  },
  {
   "cell_type": "markdown",
   "metadata": {},
   "source": [
    "`while` loops are commonly used when an input is requested from the user. The example below asks the user for integers and calculates their squares. The program ends when the user inputs a negative number."
   ]
  },
  {
   "cell_type": "code",
   "execution_count": null,
   "metadata": {},
   "outputs": [],
   "source": [
    "print('This program calculates squares for integers. End the program with a negative number.')\n",
    "i = int(input('Give me an integer:\\n'))\n",
    "while i >= 0:\n",
    "    print(i**2)\n",
    "    i = int(input('Give me an integer:\\n'))"
   ]
  },
  {
   "cell_type": "markdown",
   "metadata": {},
   "source": [
    "In some cases you might want to save the given number, for example when calculating a sum of user inputs:"
   ]
  },
  {
   "cell_type": "code",
   "execution_count": null,
   "metadata": {},
   "outputs": [],
   "source": [
    "print('This program calculates the sum of given integers. End the program with a negative number.')\n",
    "i = int(input('Give me an integer:\\n'))\n",
    "sum = 0\n",
    "while i >= 0:\n",
    "    sum += i\n",
    "    print(sum)\n",
    "    i = int(input('Give me an integer:\\n'))"
   ]
  },
  {
   "cell_type": "markdown",
   "metadata": {},
   "source": [
    "`for` loops are used to iterate over a collection of items. Unlike `while` loops, the collections used with `for` are finite and the loop can't run indefinitely.\n",
    "\n",
    "```Python\n",
    "for variable in collection:\n",
    "    command\n",
    "```\n",
    "\n",
    "The variable used for storing the item value in the collection can be given any name as long as it follows the variable naming rules of Python. For example, reserved keywords or function names such as `break`, `continue` or `print` are not allowed."
   ]
  },
  {
   "cell_type": "markdown",
   "metadata": {},
   "source": [
    "The `range()` function can be used to create a sequence of numbers. It is commonly used with `for` loops. The `range()` function can be called in three ways, using only `stop` parameter, with `start` and `stop` parameters or with three parameters `start`, `stop` and `step`.\n",
    "\n",
    "The `step` can also be negative, but remember to set the `start` and `stop` correctly."
   ]
  },
  {
   "cell_type": "code",
   "execution_count": null,
   "metadata": {},
   "outputs": [],
   "source": [
    "range(5)"
   ]
  },
  {
   "cell_type": "code",
   "execution_count": null,
   "metadata": {},
   "outputs": [],
   "source": [
    "range(1, 5)"
   ]
  },
  {
   "cell_type": "code",
   "execution_count": null,
   "metadata": {},
   "outputs": [],
   "source": [
    "range(1, 10, 2)"
   ]
  },
  {
   "cell_type": "code",
   "execution_count": null,
   "metadata": {},
   "outputs": [],
   "source": [
    "range(10, 1, 2)"
   ]
  },
  {
   "cell_type": "markdown",
   "metadata": {},
   "source": [
    "This structure can also be used for printing a desired sequence of numbers:"
   ]
  },
  {
   "cell_type": "code",
   "execution_count": null,
   "metadata": {},
   "outputs": [],
   "source": [
    "for i in range(5):\n",
    "    print(i)"
   ]
  },
  {
   "cell_type": "code",
   "execution_count": null,
   "metadata": {},
   "outputs": [],
   "source": [
    "for j in range(1, 5):\n",
    "    print(j)"
   ]
  },
  {
   "cell_type": "code",
   "execution_count": null,
   "metadata": {},
   "outputs": [],
   "source": [
    "for k in range(1, 10, 2):\n",
    "    print(k)"
   ]
  },
  {
   "cell_type": "code",
   "execution_count": null,
   "metadata": {},
   "outputs": [],
   "source": [
    "for k in range(10, 1, -2):\n",
    "    print(k)"
   ]
  }
 ],
 "metadata": {
  "kernelspec": {
   "display_name": "Python 3.10.5 64-bit",
   "language": "python",
   "name": "python3"
  },
  "language_info": {
   "codemirror_mode": {
    "name": "ipython",
    "version": 3
   },
   "file_extension": ".py",
   "mimetype": "text/x-python",
   "name": "python",
   "nbconvert_exporter": "python",
   "pygments_lexer": "ipython3",
   "version": "3.8.16"
  },
  "vscode": {
   "interpreter": {
    "hash": "369f2c481f4da34e4445cda3fffd2e751bd1c4d706f27375911949ba6bb62e1c"
   }
  }
 },
 "nbformat": 4,
 "nbformat_minor": 2
}
