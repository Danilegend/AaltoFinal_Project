{
 "cells": [
  {
   "cell_type": "markdown",
   "metadata": {},
   "source": [
    "# Chapter 1: Python Basics"
   ]
  },
  {
   "cell_type": "markdown",
   "metadata": {},
   "source": [
    "Welcome to the start your programming career with Python! In this chapter, we'll go through Python's features, starting from the very basics. This is a slightly longer chapter with a lot of theory, examples and exercises. However, the tasks are quite short. Remember that you can always make changes to the example codes if you want to try alternative solutions. This is also recommended, because experimenting with the code helps you understand how the commands work.\n",
    "\n",
    "### What is Jupyter?\n",
    "\n",
    "Most of the time programming is done on your own computer and the programs are saved in separate files. Programs are written with a text editor or in an integrated development environment (IDE) and files made in different programming languages can be identified by the language-specific file extension (e.g. Python's file extension is .py).\n",
    "\n",
    "Jupyter is a program that can be used to create interactive pages that contain executable code. Because of this you do not have to install your own programming environment to your own computer. You can work with the code immediately by using your browser.\n",
    "\n",
    "In Jupyter, code fields can be edited freely, and the code field is run by pressing `shift + enter` or `ctrl + enter`.\n",
    "\n",
    "You can edit text fields by double-clicking the box. Here's a quick cheat sheet for the basic Markdown formatting commands: https://github.com/adam-p/markdown-here/wiki/Markdown-Cheatsheet"
   ]
  },
  {
   "cell_type": "markdown",
   "metadata": {},
   "source": [
    "## Numbers"
   ]
  },
  {
   "cell_type": "markdown",
   "metadata": {},
   "source": [
    "The cornerstones of programming are basic calculations, and Python can be seen as kind of a versatile calculator. Various operators are used for calculations, each of which has its own function.\n",
    "\n",
    "By running the code below, the answer to the calculation is printed below the code field."
   ]
  },
  {
   "cell_type": "code",
   "execution_count": null,
   "metadata": {},
   "outputs": [
    {
     "ename": "",
     "evalue": "",
     "output_type": "error",
     "traceback": [
      "\u001b[1;31mRunning cells with 'Python 3.12.5' requires the ipykernel package.\n",
      "\u001b[1;31mRun the following command to install 'ipykernel' into the Python environment. \n",
      "\u001b[1;31mCommand: '/usr/local/bin/python3 -m pip install ipykernel -U --user --force-reinstall'"
     ]
    }
   ],
   "source": [
    "5 + 2"
   ]
  },
  {
   "cell_type": "markdown",
   "metadata": {},
   "source": [
    "The same also works with other math operations.\n"
   ]
  },
  {
   "cell_type": "markdown",
   "metadata": {},
   "source": [
    "Subtraction:"
   ]
  },
  {
   "cell_type": "code",
   "execution_count": null,
   "metadata": {},
   "outputs": [],
   "source": [
    "5 - 2"
   ]
  },
  {
   "cell_type": "markdown",
   "metadata": {},
   "source": [
    "Multiplication:"
   ]
  },
  {
   "cell_type": "code",
   "execution_count": null,
   "metadata": {},
   "outputs": [],
   "source": [
    "5 * 2"
   ]
  },
  {
   "cell_type": "markdown",
   "metadata": {},
   "source": [
    "Division:"
   ]
  },
  {
   "cell_type": "code",
   "execution_count": null,
   "metadata": {},
   "outputs": [],
   "source": [
    "16 / 2"
   ]
  },
  {
   "cell_type": "markdown",
   "metadata": {},
   "source": [
    "Several calculations can also be calculated in a row. Python follows the basic calculation order, i.e. in the example below, the content of the parentheses is calculated first, followed by the multiplication. See what happens if you remove the parentheses around the plus sign."
   ]
  },
  {
   "cell_type": "code",
   "execution_count": null,
   "metadata": {
    "scrolled": true
   },
   "outputs": [],
   "source": [
    "(5 + 2) * 2"
   ]
  },
  {
   "cell_type": "markdown",
   "metadata": {},
   "source": [
    "Exponentiation uses two asterisks ```**```:"
   ]
  },
  {
   "cell_type": "code",
   "execution_count": null,
   "metadata": {},
   "outputs": [],
   "source": [
    "5**2"
   ]
  },
  {
   "cell_type": "markdown",
   "metadata": {},
   "source": [
    "#### Excercise 1"
   ]
  },
  {
   "cell_type": "markdown",
   "metadata": {},
   "source": [
    "Calculate in the field below what is (3+5)/2? (Number)"
   ]
  },
  {
   "cell_type": "code",
   "execution_count": null,
   "metadata": {},
   "outputs": [],
   "source": []
  },
  {
   "cell_type": "markdown",
   "metadata": {},
   "source": [
    "#### Excercise 2"
   ]
  },
  {
   "cell_type": "markdown",
   "metadata": {},
   "source": [
    "Calculate what is 5 to the power of 3? (Number)"
   ]
  },
  {
   "cell_type": "code",
   "execution_count": null,
   "metadata": {},
   "outputs": [],
   "source": []
  },
  {
   "cell_type": "markdown",
   "metadata": {},
   "source": [
    "Let's go through a few slightly more special operators:\n",
    "\n",
    "In Python, the remainder of dividing two values can be calculated using the `%` operator. The part left over from the division is called the division remainder. For example, if the number $31$ is divided by the number $10$, the remainder is $1$, i.e. $3\\cdot10 + 1 = 31$."
   ]
  },
  {
   "cell_type": "code",
   "execution_count": null,
   "metadata": {},
   "outputs": [],
   "source": [
    "31 % 10"
   ]
  },
  {
   "cell_type": "markdown",
   "metadata": {},
   "source": [
    "Similarly, we can count how many times a number goes completely into another number using the `//` operator:"
   ]
  },
  {
   "cell_type": "code",
   "execution_count": null,
   "metadata": {},
   "outputs": [],
   "source": [
    "19 // 3"
   ]
  },
  {
   "cell_type": "markdown",
   "metadata": {},
   "source": [
    "#### Excercise 3"
   ]
  },
  {
   "cell_type": "markdown",
   "metadata": {},
   "source": [
    "Calculate what is the remainder when 17 is divided by 5."
   ]
  },
  {
   "cell_type": "code",
   "execution_count": null,
   "metadata": {},
   "outputs": [],
   "source": []
  },
  {
   "cell_type": "markdown",
   "metadata": {},
   "source": [
    "#### Excercise 4"
   ]
  },
  {
   "cell_type": "markdown",
   "metadata": {},
   "source": [
    "Calculate how many times number 7 goes into the number 39."
   ]
  },
  {
   "cell_type": "code",
   "execution_count": null,
   "metadata": {},
   "outputs": [],
   "source": []
  },
  {
   "cell_type": "markdown",
   "metadata": {},
   "source": [
    "## Variables"
   ]
  },
  {
   "cell_type": "markdown",
   "metadata": {},
   "source": [
    "In addition to calculations, programs often want to store information so that it can be processed again. Programs store information in variables. Variables store information so they can be accessed again or updated. You may want to save a variable for example when you request information from the program user and you want to remember the given information for later use. Variables always have a name and can be assigned a specific value. **Variables are one of the most important programming concepts to know.** So before you close this chapter, make sure you understand how variables work and how to create them."
   ]
  },
  {
   "cell_type": "markdown",
   "metadata": {},
   "source": [
    "### Variable Assignment"
   ]
  },
  {
   "cell_type": "markdown",
   "metadata": {},
   "source": [
    "The code snippet below assigns the number `5` in a variable named `variable`."
   ]
  },
  {
   "cell_type": "code",
   "execution_count": null,
   "metadata": {},
   "outputs": [],
   "source": [
    "variable = 5"
   ]
  },
  {
   "cell_type": "markdown",
   "metadata": {},
   "source": [
    "\n",
    "The `=` sign is used to assing a variable. To the left of the equal sign is the name of the variable. To the right of the equal sign is the value that you want to assign to the variable. There are a few rules for naming variables:\n",
    "\n",
    "- The first character of the variable name must be a letter or the `_` character.\n",
    "- The remaining characters can be **letters or numbers**.\n",
    "- The name of the variable must not contain special characters, **with the exception of underscores: `_`**\n",
    "\n",
    "Variable names can have such letters as (åäöÅÄÖ), but their use is not recommended. Variables are also case sensitive, i.e. the size of the letter in the variable name matters!\n",
    "\n",
    "```Python\n",
    "name = \"Kalle\"\n",
    "Name = \"Kirsi\"\n",
    "```\n",
    "These two variables are different and have nothing to do with each other. \n",
    "\n",
    "When we assign a value, the right side of the equal sign is saved to a variable on the left side of the equal sign.\n",
    "\n",
    "The created variable can now be used elsewhere in the program."
   ]
  },
  {
   "cell_type": "markdown",
   "metadata": {},
   "source": [
    "### Calling and returning variables"
   ]
  },
  {
   "cell_type": "markdown",
   "metadata": {},
   "source": [
    "How can we access the information in the variable? In Python, using the name of a variable is called calling the variable. When a variable is called, it returns the information it contains. To call a variable, type its name.\n",
    "\n",
    "If we want the information held by the variable `variable` that we just defined, we can call it using the variable name:"
   ]
  },
  {
   "cell_type": "code",
   "execution_count": null,
   "metadata": {},
   "outputs": [],
   "source": [
    "variable"
   ]
  },
  {
   "cell_type": "markdown",
   "metadata": {},
   "source": [
    "When the variable was called, it returned the number `5`."
   ]
  },
  {
   "cell_type": "markdown",
   "metadata": {},
   "source": [
    "The value of a variable can also be updated. This can be done by assigning a new value to the variable:\n",
    "\n"
   ]
  },
  {
   "cell_type": "code",
   "execution_count": null,
   "metadata": {},
   "outputs": [],
   "source": [
    "variable = 5\n",
    "variable = 10\n",
    "variable"
   ]
  },
  {
   "cell_type": "markdown",
   "metadata": {},
   "source": [
    "Note that the code returns the numeric value `10`, because the value of the variable is always the last value assigned to in it. The old value `5` was erased from memory when a new value was stored in the variable."
   ]
  },
  {
   "cell_type": "markdown",
   "metadata": {},
   "source": [
    "Variables can also be used to define other variables:"
   ]
  },
  {
   "cell_type": "code",
   "execution_count": null,
   "metadata": {},
   "outputs": [],
   "source": [
    "number1 = 3\n",
    "number2 = number1 + 5\n",
    "number2"
   ]
  },
  {
   "cell_type": "markdown",
   "metadata": {},
   "source": [
    "In line 2, the value of the variable `number1` is called. This call returns the value `3`, so the sum `3+5` can be calculated. This result is stored in the variable `number2`."
   ]
  },
  {
   "cell_type": "markdown",
   "metadata": {},
   "source": [
    "But what happens if we change the variable `number1` even after `number1 + 5` has been placed in the variable `number2`?"
   ]
  },
  {
   "cell_type": "code",
   "execution_count": null,
   "metadata": {},
   "outputs": [],
   "source": [
    "number1 = 3\n",
    "number2 = number1 + 5\n",
    "number1 = 100\n",
    "number2 "
   ]
  },
  {
   "cell_type": "markdown",
   "metadata": {},
   "source": [
    "As we can see, the answer does not change. This is because in Python, updating the data for a single variable does not affect previous executions. This is also a good example of how variables are **called and returned**. In Python, **variables are called** by typing the name of the variable, for example the last line of the previous code snippet. A **variable returns** the value assigned in it **when it is called.** So, when we count `number1 + 5` on line 2, Python adds together the value returned by the variable `number1` (i.e. the number three) and the number five. The variable `number1` is then used to store the new data, i.e. the numeric value `100`. The new number value does not affect the previous assignment operations. \n",
    "\n",
    "Note that the addition `number1 + 5` is also a call that returns a value. In the example above, in line 2, this value is `8`, and it is placed in the variable `number2`. The last line calls the variable `number2`, and the returned value appears below the code cell. \n",
    "\n",
    "The reason the numeric value is displayed is that if the **final line** of the program calls a variable (but does not store it in any variable), Jupyter prints the value returned by the called variable. This is a unique feature for Jupyter Notebooks that does not occur normally when using Python.   "
   ]
  },
  {
   "cell_type": "markdown",
   "metadata": {},
   "source": [
    "**Example 1:** Dollars to euros"
   ]
  },
  {
   "cell_type": "code",
   "execution_count": null,
   "metadata": {},
   "outputs": [],
   "source": [
    "dollars = 78.5\n",
    "euros = dollars * 0.8534\n",
    "euros"
   ]
  },
  {
   "cell_type": "markdown",
   "metadata": {},
   "source": [
    "The program places the number of dollars in the variable `dollars`. Then a calculation is placed in the variable `euros`, where the number of dollars is multiplied by the exchange rate. Finally, the variable `euros` is called, which returns the value stored in it."
   ]
  },
  {
   "cell_type": "markdown",
   "metadata": {},
   "source": [
    "#### Excercise 5"
   ]
  },
  {
   "cell_type": "markdown",
   "metadata": {},
   "source": [
    "Assign number 2 to a variable `number` and call the variable. (Number)"
   ]
  },
  {
   "cell_type": "code",
   "execution_count": null,
   "metadata": {},
   "outputs": [],
   "source": []
  },
  {
   "cell_type": "markdown",
   "metadata": {},
   "source": [
    "#### Excercise 6"
   ]
  },
  {
   "cell_type": "markdown",
   "metadata": {},
   "source": [
    "\n",
    "Assing number 3 into some other variable, and then assing that variable multiplied by two into a new variable. Call the new variable. (Number)"
   ]
  },
  {
   "cell_type": "code",
   "execution_count": null,
   "metadata": {},
   "outputs": [],
   "source": []
  },
  {
   "cell_type": "markdown",
   "metadata": {},
   "source": [
    "## Strings"
   ]
  },
  {
   "cell_type": "markdown",
   "metadata": {},
   "source": [
    "In addition to numbers, it is often necessary to store text. In programming, pieces of text are called **strings**. Strings are formed by inserting text inside `''` or `\"\"` characters. It is very convenient to store strings in variables, and this works in the same way as with numbers.\n",
    "\n",
    "Let's start by creating two strings and saving a third string to variable `name`:\n"
   ]
  },
  {
   "cell_type": "code",
   "execution_count": null,
   "metadata": {},
   "outputs": [],
   "source": [
    "'Hi Student'"
   ]
  },
  {
   "cell_type": "code",
   "execution_count": null,
   "metadata": {},
   "outputs": [],
   "source": [
    "\"Welcome to the course!\""
   ]
  },
  {
   "cell_type": "code",
   "execution_count": null,
   "metadata": {},
   "outputs": [],
   "source": [
    "name = 'James'\n",
    "name"
   ]
  },
  {
   "cell_type": "markdown",
   "metadata": {},
   "source": [
    "Strings can also be added to each other (concatenated) using the `+` operator:"
   ]
  },
  {
   "cell_type": "code",
   "execution_count": null,
   "metadata": {},
   "outputs": [],
   "source": [
    "first_name = \"James\"\n",
    "last_name = \"Bond\"\n",
    "whole_name = first_name + last_name\n",
    "whole_name"
   ]
  },
  {
   "cell_type": "markdown",
   "metadata": {},
   "source": [
    "As can be seen, this operation does not automatically insert spaces between strings. If you want a space between strings, you must add it as a separate string in the concatenation operation:"
   ]
  },
  {
   "cell_type": "code",
   "execution_count": null,
   "metadata": {},
   "outputs": [],
   "source": [
    "first_name = \"James\"\n",
    "last_name = \"Bond\"\n",
    "whole_name = first_name + \" \" + last_name\n",
    "whole_name"
   ]
  },
  {
   "cell_type": "markdown",
   "metadata": {},
   "source": [
    "## Predefined functions"
   ]
  },
  {
   "cell_type": "markdown",
   "metadata": {},
   "source": [
    "In Python, there are predefined subprograms called functions. In this chapter, they are also called commands. Functions perform some predefined task. We'll go into more detail about functions and how to create them in Chapter 4. At this point, you only need to know that they exist. In this chapter, we will go through some of the pre-defined basic functions."
   ]
  },
  {
   "cell_type": "markdown",
   "metadata": {},
   "source": [
    "### `print`"
   ]
  },
  {
   "cell_type": "markdown",
   "metadata": {},
   "source": [
    "It often makes sense for a program to communicate its function to the user in some form. The most common way to communicate to the user is through text. Python has a predefined function, or command, `print`, which can be used to print anything to the program's output. Its use is therefore not limited to numbers or strings. **Note that `print` must be written in this form, i.e. in lowercase only. The spelling of a function is precise and it must be written exactly as it has been defined.**\n",
    "\n",
    "In the case of strings, `print` will exclude the outermost quotation marks from strings when printing, as they are used to define the string. A string can be passed to the `print` command by inserting text inside  `''` or `\"\"` characters."
   ]
  },
  {
   "cell_type": "code",
   "execution_count": null,
   "metadata": {},
   "outputs": [],
   "source": [
    "print('Hello students!')"
   ]
  },
  {
   "cell_type": "code",
   "execution_count": null,
   "metadata": {},
   "outputs": [],
   "source": [
    "print(\"James Bond\")"
   ]
  },
  {
   "cell_type": "markdown",
   "metadata": {},
   "source": [
    "Naturally, variables can also be used in printing."
   ]
  },
  {
   "cell_type": "code",
   "execution_count": null,
   "metadata": {},
   "outputs": [],
   "source": [
    "whole_name = 'James Bond'\n",
    "print(whole_name)"
   ]
  },
  {
   "cell_type": "markdown",
   "metadata": {},
   "source": [
    "Python understands that the variable `whole_name` refers to the string `James Bond`, so it succeeds in printing the correct text.\n",
    "\n",
    "The `print()` command can also be given numbers:"
   ]
  },
  {
   "cell_type": "code",
   "execution_count": null,
   "metadata": {},
   "outputs": [],
   "source": [
    "print(5)"
   ]
  },
  {
   "cell_type": "markdown",
   "metadata": {},
   "source": [
    "Calculations can also be done within the command."
   ]
  },
  {
   "cell_type": "code",
   "execution_count": null,
   "metadata": {},
   "outputs": [],
   "source": [
    "print(2 * 5)"
   ]
  },
  {
   "cell_type": "markdown",
   "metadata": {},
   "source": [
    "In this case, Python first performs what is inside the parentheses, i.e. the calculation `2*5`, and then prints the calculated value. This is why the number 10 is displayed. \n",
    "\n",
    "But if the same text was given as a string, Python would not calculate the multiplication:"
   ]
  },
  {
   "cell_type": "code",
   "execution_count": null,
   "metadata": {},
   "outputs": [],
   "source": [
    "print(\"2 * 5\")"
   ]
  },
  {
   "cell_type": "markdown",
   "metadata": {},
   "source": [
    "Now Python interprets the given information as a string, instead of two numbers with a multiplication operator between them."
   ]
  },
  {
   "cell_type": "markdown",
   "metadata": {},
   "source": [
    "You can print as many times as you want during the program. \n",
    "\n",
    "An earlier example with multiple prints:"
   ]
  },
  {
   "cell_type": "code",
   "execution_count": null,
   "metadata": {
    "scrolled": true
   },
   "outputs": [],
   "source": [
    "first_name = \"James\"\n",
    "last_name = \"Bond\"\n",
    "print(last_name)\n",
    "whole_name = first_name + \" \" + last_name\n",
    "print(whole_name)"
   ]
  },
  {
   "cell_type": "markdown",
   "metadata": {},
   "source": [
    "You can also add variables within the text in a print command. The `+` operator can be used to combine text and variables, provided that the variable **to be combined is a string**: "
   ]
  },
  {
   "cell_type": "code",
   "execution_count": null,
   "metadata": {},
   "outputs": [],
   "source": [
    "first_name = \"James\"\n",
    "last_name = \"Bond\"\n",
    "print(first_name + \" \" + last_name)"
   ]
  },
  {
   "cell_type": "markdown",
   "metadata": {},
   "source": [
    "Another option is to use a comma: `,`. The comma can be used for all types (including strings). The use of a comma differs from the `+` operator in that a comma inserts a space between the things that are joined:"
   ]
  },
  {
   "cell_type": "code",
   "execution_count": null,
   "metadata": {},
   "outputs": [],
   "source": [
    "name = 'James'\n",
    "print('Hello,', name, '!')"
   ]
  },
  {
   "cell_type": "code",
   "execution_count": null,
   "metadata": {},
   "outputs": [],
   "source": [
    "number = 5\n",
    "print(\"The number is:\", number)"
   ]
  },
  {
   "cell_type": "markdown",
   "metadata": {},
   "source": [
    "Both operators can also be used in the same `print` statement:"
   ]
  },
  {
   "cell_type": "code",
   "execution_count": null,
   "metadata": {},
   "outputs": [],
   "source": [
    "name = 'James'\n",
    "print('Hello,', name + '!')"
   ]
  },
  {
   "cell_type": "markdown",
   "metadata": {},
   "source": [
    "Now there is a space between the string `'Hello,'` and the variable `name`, because a comma was used to join them. However, there is no space between the variable `name` and the string `'!'` because the `+` operator is used to join them."
   ]
  },
  {
   "cell_type": "code",
   "execution_count": null,
   "metadata": {},
   "outputs": [],
   "source": [
    "letter = \"a\"\n",
    "number = 5\n",
    "print(\"The number is\", 5, \"and the letter is \" + letter + \".\")"
   ]
  },
  {
   "cell_type": "markdown",
   "metadata": {},
   "source": [
    "Remember that you cannot use the `+` operator with numbers in a `print` statement, you must use a comma."
   ]
  },
  {
   "cell_type": "markdown",
   "metadata": {},
   "source": [
    "#### Exercise 7"
   ]
  },
  {
   "cell_type": "markdown",
   "metadata": {},
   "source": [
    "Print your name using the  `print` command. (Printout)"
   ]
  },
  {
   "cell_type": "code",
   "execution_count": null,
   "metadata": {},
   "outputs": [],
   "source": []
  },
  {
   "cell_type": "markdown",
   "metadata": {},
   "source": [
    "#### Exercise 8"
   ]
  },
  {
   "cell_type": "markdown",
   "metadata": {},
   "source": [
    "Save your name in a variable and print the text \"My name is X\", where X is replaced by your name in the variable. (Printout)"
   ]
  },
  {
   "cell_type": "code",
   "execution_count": null,
   "metadata": {},
   "outputs": [],
   "source": []
  },
  {
   "cell_type": "markdown",
   "metadata": {},
   "source": [
    "#### Exercise 9"
   ]
  },
  {
   "cell_type": "markdown",
   "metadata": {},
   "source": [
    "Enter your name in one variable and your age in another. Print the text \"My name is X, and I am Y years old.\" Here, in place of X, a variable will replace your name, and in place of Y, a variable will replace your age. Use the `+` operator with a string, and the `,` operator with a numeric value. "
   ]
  },
  {
   "cell_type": "code",
   "execution_count": null,
   "metadata": {},
   "outputs": [],
   "source": []
  },
  {
   "cell_type": "markdown",
   "metadata": {},
   "source": [
    "### `input`"
   ]
  },
  {
   "cell_type": "markdown",
   "metadata": {},
   "source": [
    "Python has a predefined function called `input()` that can read input from the user. \n",
    "\n",
    "The following program prints the text `\"Tell me your name:\"`, reads the user input and stores it in the variable `name`. It then prints the greeting.\n",
    "\n",
    "When using the input command, you insert the instructions for the user inside the parenthesis of the `input()` function as a string. The value given by the user is stored in the variable that the `input()` function is assigned to.\n",
    "\n",
    "NOTE! When running code, you must supply an input or abort the program, otherwise Jupyter will wait for the input and refuse to run any other code fields. If the code field is marked `In [*]`, the program is stuck and you should press the stop button (black square) on the top toolbar of the notebook."
   ]
  },
  {
   "cell_type": "code",
   "execution_count": null,
   "metadata": {},
   "outputs": [],
   "source": [
    "name = input('Tell me your name: ')\n",
    "print('Hello ' + name + ', welcome to the course!') \n"
   ]
  },
  {
   "cell_type": "markdown",
   "metadata": {},
   "source": [
    "The output and input of the `input` command can be modified with the `\\n` character, which in Python stands for a line break. When it is typed at the end of a string passed to `input()`, the input is written below the given string."
   ]
  },
  {
   "cell_type": "code",
   "execution_count": null,
   "metadata": {},
   "outputs": [],
   "source": [
    "age = input('Tell me your age:\\n')\n",
    "print('Your age is', age) "
   ]
  },
  {
   "cell_type": "markdown",
   "metadata": {},
   "source": [
    "#### Exercise 10"
   ]
  },
  {
   "cell_type": "markdown",
   "metadata": {},
   "source": [
    "Ask the user for their surname and store it in a variable. Then print the text \"Your surname is X.\", where X is the variable in which the input given by the user is stored. (Printout)"
   ]
  },
  {
   "cell_type": "code",
   "execution_count": null,
   "metadata": {},
   "outputs": [],
   "source": []
  },
  {
   "cell_type": "markdown",
   "metadata": {},
   "source": [
    "## Data types "
   ]
  },
  {
   "cell_type": "markdown",
   "metadata": {},
   "source": [
    "In many programming languages, variables must be assigned a type before they can be used. The type of a variable determines what values can be assigned to it. In Python, the type of a variable does not need to be specified, but the value assigned to a variable always has a type. The type determines, for example, what operations can be performed on the variable. For example, two integers can be multiplied together, but two strings cannot."
   ]
  },
  {
   "cell_type": "markdown",
   "metadata": {},
   "source": [
    "Most common data types:\n",
    "\n",
    "- **string** `str`\n",
    "- **integer** `int`\n",
    "- **floating point number** `float`  \n",
    "- **boolean** `bool`"
   ]
  },
  {
   "cell_type": "markdown",
   "metadata": {},
   "source": [
    "The string type in Python is `str`. Strings are used to handle different types of text, such as names, sentences or individual characters. They cannot be counted with, but their lengths can be added together and strings can be joined together (as we did earlier).\n",
    "\n",
    "Integers are whole numbers which have no decimals. In Python, the type of integers is `int`. If a number has decimals, the type `float` is used. **Note that in Python the decimal separator is a period, not a comma!**"
   ]
  },
  {
   "cell_type": "markdown",
   "metadata": {},
   "source": [
    "### Booleans"
   ]
  },
  {
   "cell_type": "markdown",
   "metadata": {},
   "source": [
    "Truth values, or booleans, may be a new concept for you. However, they are one of the most important data types in Python. A boolean is a truth value, which can be **only** `True` **or** `False`. The truth value is written with a capital letter and without quotation marks, because it is not a string! A Boolean value can be placed directly in a variable, and it can be printed like any other data type: "
   ]
  },
  {
   "cell_type": "code",
   "execution_count": null,
   "metadata": {},
   "outputs": [],
   "source": [
    "True"
   ]
  },
  {
   "cell_type": "code",
   "execution_count": null,
   "metadata": {},
   "outputs": [],
   "source": [
    "variable = False\n",
    "print(variable)"
   ]
  },
  {
   "cell_type": "markdown",
   "metadata": {},
   "source": [
    "### Type casting"
   ]
  },
  {
   "cell_type": "markdown",
   "metadata": {},
   "source": [
    "In Python, you can convert the data type of a value or a variable to another data type This is called type casting. It requires a conversion function for the target data type. The conversion functions for the most common data types are:\n",
    "\n",
    "- `int(a)` tries to convert `a` to an integer (whole number)\n",
    "- `float(a)` tries to convert `a` to a floating point number (decimal number)\n",
    "- `str(a)` converts `a`to a string\n",
    "- `bool(a)` converts `a` to a boolean   \n",
    "\n",
    "**Note that `int()` and `float()` may cause an error if `a` cannot be converted to a number!**"
   ]
  },
  {
   "cell_type": "code",
   "execution_count": null,
   "metadata": {},
   "outputs": [],
   "source": [
    "int(\"dog\")"
   ]
  },
  {
   "cell_type": "markdown",
   "metadata": {},
   "source": [
    "The `input()` function always returns the user input as a string. If the input is expected to be a number, it is necessary to convert it to a number data type, so that any other operations work as desired."
   ]
  },
  {
   "cell_type": "code",
   "execution_count": null,
   "metadata": {},
   "outputs": [],
   "source": [
    "amount = input('How many dollars do you have?\\n')\n",
    "dollars = float(amount)\n",
    "euros = dollars * 0.8534\n",
    "print('You have', euros, 'euros.')"
   ]
  },
  {
   "cell_type": "markdown",
   "metadata": {},
   "source": [
    "`float()` is usually a safe choice for type conversion when dealing with numbers. The reason for this is that an integer, starting out as a string, can be converted both to an `int` or a `float`. A decimal number given as a string can only be converted with `float()`. It therefore works in all cases where we convert numbers to strings. "
   ]
  },
  {
   "cell_type": "code",
   "execution_count": null,
   "metadata": {},
   "outputs": [],
   "source": [
    "float('3.5')"
   ]
  },
  {
   "cell_type": "code",
   "execution_count": null,
   "metadata": {},
   "outputs": [],
   "source": [
    "int('3.5')"
   ]
  },
  {
   "cell_type": "markdown",
   "metadata": {},
   "source": [
    "## Chaining function calls"
   ]
  },
  {
   "cell_type": "markdown",
   "metadata": {},
   "source": [
    "Python is a very flexible language, and you can do a lot of different things in a single line. In fact, you often see that a single line is used to execute many function calls at once. Don't be alarmed by these, even if they look complicated!\n",
    "\n",
    "Let's look at one simple example:"
   ]
  },
  {
   "cell_type": "code",
   "execution_count": null,
   "metadata": {},
   "outputs": [],
   "source": [
    "number = float(input(\"Enter a decimal number: \"))"
   ]
  },
  {
   "cell_type": "markdown",
   "metadata": {},
   "source": [
    "In this example, we first call the `input()` function, which asks the user to enter a decimal number. This value is then converted to a decimal number data type using the `float()` function. "
   ]
  },
  {
   "cell_type": "code",
   "execution_count": null,
   "metadata": {},
   "outputs": [],
   "source": [
    "print(5 * 2 + int(input(\"Enter an integer: \")))"
   ]
  },
  {
   "cell_type": "markdown",
   "metadata": {},
   "source": [
    "In this example, we have a `print()` command that has the calculation `5*2`, to which we add the user input. The user input converted to an integer before the addition.\n",
    "\n",
    "1. Python first performs the `input()` command\n",
    "2. The input is converted to an integer with the `int()` command\n",
    "3. The multiplication `5 * 2` is calculated, after which the user input is added to it\n",
    "4. Finally, the answer is printed with the `print()` command"
   ]
  },
  {
   "cell_type": "markdown",
   "metadata": {},
   "source": [
    "Let's do another slightly more complex example:"
   ]
  },
  {
   "cell_type": "code",
   "execution_count": null,
   "metadata": {},
   "outputs": [],
   "source": [
    "print(\"The final result is \" + str(2**(int(input(\"Give an integer: \"))) + 5 * float(input(\"Give a decimal number: \"))))"
   ]
  },
  {
   "cell_type": "markdown",
   "metadata": {},
   "source": [
    "We won't go through the example step by step, but you can try to figure out for yourself what the program does!\n",
    "\n",
    "The point of the example, however, is that while Python can execute very long chains of commands on a single line, it often doesn't make much sense. Code readability suffers and errors are much more likely to occur. Errors are also more difficult to correct.\n",
    "\n",
    "Try to keep your line lenthgs moderate!"
   ]
  },
  {
   "cell_type": "markdown",
   "metadata": {},
   "source": [
    "#### Exercise 11"
   ]
  },
  {
   "cell_type": "markdown",
   "metadata": {},
   "source": [
    "Ask the user for their height using the `input()` function. Store the given input in a variable as a decimal number. Finally, print the user's height. (Printout)"
   ]
  },
  {
   "cell_type": "code",
   "execution_count": null,
   "metadata": {},
   "outputs": [],
   "source": []
  },
  {
   "cell_type": "markdown",
   "metadata": {},
   "source": [
    "## Comparison operators\n",
    "\n",
    "### Numbers"
   ]
  },
  {
   "cell_type": "markdown",
   "metadata": {},
   "source": [
    "You can also get a boolean value by executing **comparisons**. The simplest operations of comparing numbers are familiar from mathematics:\n",
    "- `a < b` (`a` is less than `b`)\n",
    "- `a > b` (`a` is greater than `b`)\n",
    "- `a <= b` (`a` is less than or equal to `b`)\n",
    "- `a >= b` (`a` is greater than or equal to `b`)\n",
    "\n",
    "Comparison operations return `True` if the comparison is true and valid, or `False` if it is not."
   ]
  },
  {
   "cell_type": "code",
   "execution_count": null,
   "metadata": {},
   "outputs": [],
   "source": [
    "5 < 20"
   ]
  },
  {
   "cell_type": "code",
   "execution_count": null,
   "metadata": {},
   "outputs": [],
   "source": [
    "5 >= 20"
   ]
  },
  {
   "cell_type": "code",
   "execution_count": null,
   "metadata": {},
   "outputs": [],
   "source": [
    "variable = 0 > 3-5\n",
    "variable"
   ]
  },
  {
   "cell_type": "markdown",
   "metadata": {},
   "source": [
    "#### Exercise 12"
   ]
  },
  {
   "cell_type": "markdown",
   "metadata": {},
   "source": [
    "Compare whether 3 to the power of 5 is greater than 2 to the power of 7? (Boolean)"
   ]
  },
  {
   "cell_type": "code",
   "execution_count": null,
   "metadata": {},
   "outputs": [],
   "source": []
  },
  {
   "cell_type": "markdown",
   "metadata": {},
   "source": [
    "### Other data types"
   ]
  },
  {
   "cell_type": "markdown",
   "metadata": {},
   "source": [
    "Previous comparison operators only work for numbers, but often you want to compare more than just numbers (e.g. strings). This is what general comparison operations are for:\n",
    "- `a == b` (`a` **is equal to** `b`)\n",
    "- `a != b` (`a` **is not equal to** `b`)  "
   ]
  },
  {
   "cell_type": "code",
   "execution_count": null,
   "metadata": {},
   "outputs": [],
   "source": [
    "'Hello' == 'Hello'"
   ]
  },
  {
   "cell_type": "code",
   "execution_count": null,
   "metadata": {},
   "outputs": [],
   "source": [
    "\"Dog\" == \"dog\""
   ]
  },
  {
   "cell_type": "code",
   "execution_count": null,
   "metadata": {},
   "outputs": [],
   "source": [
    "5 != 10"
   ]
  },
  {
   "cell_type": "code",
   "execution_count": null,
   "metadata": {},
   "outputs": [],
   "source": [
    "1 == \"1\""
   ]
  },
  {
   "cell_type": "markdown",
   "metadata": {},
   "source": [
    "The previous example returned `False` because an integer and a string are not comparable, even if they appear to have the same value."
   ]
  },
  {
   "cell_type": "markdown",
   "metadata": {},
   "source": [
    "**Please note that** `==` **is not the same as the variable assignment `=`** \n",
    "\n",
    "`=` assigns the right-hand side value in the left-hand side variable, **and returns nothing**.    \n",
    "`==` checks whether both sides have the same value, **and returns a boolean**.   "
   ]
  },
  {
   "cell_type": "markdown",
   "metadata": {},
   "source": [
    "#### Exercise 13"
   ]
  },
  {
   "cell_type": "markdown",
   "metadata": {},
   "source": [
    "Compare whether the string `\"Name\"` is the same as the string `\"name\"`. (Boolean)   "
   ]
  },
  {
   "cell_type": "code",
   "execution_count": null,
   "metadata": {},
   "outputs": [],
   "source": []
  },
  {
   "cell_type": "markdown",
   "metadata": {},
   "source": [
    "#### Exercise 14"
   ]
  },
  {
   "cell_type": "markdown",
   "metadata": {},
   "source": [
    "Ask the user for a number and convert it to an integer. Compare whether the number given by the user is equal to `10'. (Boolean)"
   ]
  },
  {
   "cell_type": "code",
   "execution_count": null,
   "metadata": {},
   "outputs": [],
   "source": []
  },
  {
   "cell_type": "markdown",
   "metadata": {},
   "source": [
    "## Programs "
   ]
  },
  {
   "cell_type": "markdown",
   "metadata": {},
   "source": [
    "Now that we are familiar with the variables and a few basic data types, we are ready to make some more complex programs."
   ]
  },
  {
   "cell_type": "markdown",
   "metadata": {},
   "source": [
    "In programs, you can **comment** code with the `#` character. Text following this character on the same line is ignored when the code is run."
   ]
  },
  {
   "cell_type": "markdown",
   "metadata": {},
   "source": [
    "**Example 2:** Calculating the running speed"
   ]
  },
  {
   "cell_type": "code",
   "execution_count": null,
   "metadata": {},
   "outputs": [],
   "source": [
    "print('This program calculates your running speed in km/h.\\n')\n",
    "kilometers = input('Tell me your running distance in kilometers:\\n')\n",
    "distance = float(kilometers)\n",
    "minutes = input('Tell me your running time in minutes:\\n')\n",
    "time = float(minutes)\n",
    "hours = time / 60 # here the program converts the given minutes to hours\n",
    "speed = distance / hours\n",
    "print('Your running speed is', speed, 'km/h.')"
   ]
  },
  {
   "cell_type": "markdown",
   "metadata": {},
   "source": [
    "\n",
    "- Line 1: Print the greeting text, followed by an extra line using the `\\n` character\n",
    "- Line 2: Store the user's input in the `kilometers` variable and insert a newline character so the user's input appears on the next line\n",
    "- Line 3: Convert the given kilometres to a number and store it in the new variable `distance`\n",
    "- Line 4: Store the time given by the user in minutes in the variable `minutes`\n",
    "- Line 5: Convert the minutes to a number and store it in the variable `time`\n",
    "- Line 6: Convert the time (in minutes) to hours\n",
    "- Line 7: Calculate the speed using the formula distance/hours and store it in the variable `speed`\n",
    "- Line 8: Print the user's speed"
   ]
  },
  {
   "cell_type": "markdown",
   "metadata": {},
   "source": [
    "**Example 3:** Age test"
   ]
  },
  {
   "cell_type": "code",
   "execution_count": null,
   "metadata": {},
   "outputs": [],
   "source": [
    "print('This program checkes whether you are underaged.')\n",
    "age = int(input('How old are you?\\n')) # This line takes the input as integers\n",
    "underaged = age < 18 # This assigns a boolean value to 'underaged'\n",
    "print('You are underaged:', underaged)"
   ]
  },
  {
   "cell_type": "markdown",
   "metadata": {},
   "source": [
    "- Line 1: Print the greeting\n",
    "- Line 2: Store the user's input in the variable `age`. This line converts the input to an integer and stores it in the variable\n",
    "- Line 3: Set the boolean value `True`/`False` in the variable `underaged`. If the age is less than 18, the boolean value is set to `True`\n",
    "- Line 4: Print whether the user is underaged or not"
   ]
  },
  {
   "cell_type": "markdown",
   "metadata": {},
   "source": [
    "Note that in line two `input()` is put inside `int()`! The program tries to convert the input, given by the user, to an integer. The input is read as a string and if it cannot be converted to a number, the program will give an error. (You can test this by giving something other than numbers as input.)"
   ]
  },
  {
   "cell_type": "markdown",
   "metadata": {},
   "source": [
    "#### Exercise 15"
   ]
  },
  {
   "cell_type": "markdown",
   "metadata": {},
   "source": [
    "Write a program which asks the user for their year of birth and stores it as an integer. The program then calculates how many years the user will turn this year, and prints it out. (Printout)"
   ]
  },
  {
   "cell_type": "code",
   "execution_count": null,
   "metadata": {},
   "outputs": [],
   "source": []
  },
  {
   "cell_type": "markdown",
   "metadata": {},
   "source": [
    "#### Exercise 16"
   ]
  },
  {
   "cell_type": "markdown",
   "metadata": {},
   "source": [
    "Write a program which asks the user for two numbers, which are stored in separate variables. The numbers are compared to see if the first number given is larger than the second one.\n",
    "\n",
    "Print the text \"The first number is bigger than the second:\" with a truth value `True` or `False`. (Printout)"
   ]
  },
  {
   "cell_type": "code",
   "execution_count": null,
   "metadata": {},
   "outputs": [],
   "source": []
  },
  {
   "cell_type": "markdown",
   "metadata": {},
   "source": [
    "## Recap"
   ]
  },
  {
   "cell_type": "markdown",
   "metadata": {},
   "source": [
    "Various calculations can be performed with Python by writing the calculations directly on the command line. Different calculation operators are:\n",
    "\n",
    "- Addition: `+`\n",
    "- Subtraction: `-`\n",
    "- Division: `/`\n",
    "- Multiplication: `*`\n",
    "- Exponentiation: `**`\n",
    "- Division remainder: `%`\n",
    "- Division (rounded down to an integer): `//`"
   ]
  },
  {
   "cell_type": "markdown",
   "metadata": {},
   "source": [
    "In programs, values are stored in **variables** that can be worked with and updated.\n",
    "\n",
    "Values are stored in variables using the **assignment operator** `=`. On the left side of the `=` is the name of the variable, and on the right side is the value of the variable. "
   ]
  },
  {
   "cell_type": "code",
   "execution_count": null,
   "metadata": {},
   "outputs": [],
   "source": [
    "variable = 5"
   ]
  },
  {
   "cell_type": "markdown",
   "metadata": {},
   "source": [
    "Variables are **called** by typing the name of the variable. When calling a variable it **returns** its value."
   ]
  },
  {
   "cell_type": "code",
   "execution_count": null,
   "metadata": {},
   "outputs": [],
   "source": [
    "variable = 5\n",
    "variable"
   ]
  },
  {
   "cell_type": "markdown",
   "metadata": {},
   "source": [
    "**Strings** are placed inside quotation marks `''` or `\"\"`. Otherwise they work like other variables."
   ]
  },
  {
   "cell_type": "markdown",
   "metadata": {},
   "source": [
    "In Python, strings can be printed using the `print` command."
   ]
  },
  {
   "cell_type": "code",
   "execution_count": null,
   "metadata": {},
   "outputs": [],
   "source": [
    "variable = 'James'\n",
    "print(variable)"
   ]
  },
  {
   "cell_type": "markdown",
   "metadata": {},
   "source": [
    "User input can be read with `input()` and the input can be stored in a variable."
   ]
  },
  {
   "cell_type": "code",
   "execution_count": null,
   "metadata": {},
   "outputs": [],
   "source": [
    "name = input('Tell me your name:\\n')\n",
    "print(name)"
   ]
  },
  {
   "cell_type": "markdown",
   "metadata": {},
   "source": [
    "The four most common **data types** used in Python to define the type of variables are: \n",
    "- strings (`str`)\n",
    "- integers (`int`)\n",
    "- decimal numbers (`float`)\n",
    "- boolean (`True/False`)\n",
    "\n",
    "We can change the data type using functions specific to them:\n",
    "- `str(a)` - Converts the variable `a` to a string.\n",
    "- `int(a)` - Converts the variable `a` to an integer.\n",
    "- `float(a)` - Converts variable `a` to a decimal number.\n",
    "- `bool(a)` - Converts variable `a` to a boolean.\n",
    "\n",
    "A boolean value can also obtained by using the **comparison operators** `<`,`>`, `<=`, `>=`, `==` and `!=`. The first four work only with numbers (i.e. integers and decimals), the last two work with all data types. Comparison operators always return a boolean value."
   ]
  },
  {
   "cell_type": "code",
   "execution_count": null,
   "metadata": {},
   "outputs": [],
   "source": [
    "2 < 5"
   ]
  },
  {
   "cell_type": "markdown",
   "metadata": {},
   "source": [
    "The `input()` function always returns the user input as a string. When dealing with numbers, it is necessary to change the data type of the input:"
   ]
  },
  {
   "cell_type": "code",
   "execution_count": null,
   "metadata": {},
   "outputs": [
    {
     "ename": "",
     "evalue": "",
     "output_type": "error",
     "traceback": [
      "\u001b[1;31mRunning cells with 'Python 3.12.5' requires the ipykernel package.\n",
      "\u001b[1;31mRun the following command to install 'ipykernel' into the Python environment. \n",
      "\u001b[1;31mCommand: '/usr/local/bin/python3 -m pip install ipykernel -U --user --force-reinstall'"
     ]
    }
   ],
   "source": [
    "age = input(\"Tell me your age: \")\n",
    "age = int(age)\n",
    "print(\"Your age is:\", age)"
   ]
  }
 ],
 "metadata": {
  "kernelspec": {
   "display_name": "Python 3 (ipykernel)",
   "language": "python",
   "name": "python3"
  },
  "vscode": {
   "interpreter": {
    "hash": "369f2c481f4da34e4445cda3fffd2e751bd1c4d706f27375911949ba6bb62e1c"
   }
  }
 },
 "nbformat": 4,
 "nbformat_minor": 2
}
