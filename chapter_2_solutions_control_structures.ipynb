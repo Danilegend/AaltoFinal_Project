{
 "cells": [
  {
   "cell_type": "markdown",
   "metadata": {},
   "source": [
    "# Chapter 2 Solutions - Control structures\n",
    "\n",
    "## Conditional statements"
   ]
  },
  {
   "cell_type": "markdown",
   "metadata": {},
   "source": [
    "#### Exercise 1\n",
    "\n",
    "*Write a program which asks the user for a number. Store this number in the variable `number`. Remember to change the type of the given input with `float()`!*\n",
    "\n",
    "*Examine the number using the `if-else` structure. If the number is less than 50, a new variable is created with the value `number + 10`, i.e. ten is added to the the number. Otherwise, create a new variable with the value `number - 10`, i.e. subtract 10 from the number.*\n",
    "\n",
    "*Finally, the program prints the value of the variable `new_number` with an accompanying text.*"
   ]
  },
  {
   "cell_type": "code",
   "execution_count": 1,
   "metadata": {},
   "outputs": [
    {
     "name": "stdout",
     "output_type": "stream",
     "text": [
      "The value of the new number is: 15.2\n"
     ]
    }
   ],
   "source": [
    "number = float(input(\"Enter a number:\"))\n",
    "\n",
    "if number < 50:\n",
    "    new_number = number + 10\n",
    "else:\n",
    "    new_number = number - 10\n",
    "    \n",
    "print(\"The value of the new number is:\", new_number)\n"
   ]
  },
  {
   "cell_type": "markdown",
   "metadata": {},
   "source": [
    "#### Exercise 2\n",
    "\n",
    "*Write a program which asks the user for an integer and checks whether the number is even or odd. If the number given by the user is even, the program prints the text \"The number is even\", otherwise the program prints the text \"The number is odd\".*\n",
    "\n",
    "*Tip: you can compare whether a number is even with the division remainder `%` (`number % 2 == 0`, here you take the division remainder of the variable `number` when it is divided by `2`, and compare it with the number `0`). When an even number is divided by two, the division remainder is 0.*"
   ]
  },
  {
   "cell_type": "code",
   "execution_count": 2,
   "metadata": {},
   "outputs": [
    {
     "name": "stdout",
     "output_type": "stream",
     "text": [
      "The number is odd.\n"
     ]
    }
   ],
   "source": [
    "number = int(input(\"Enter a number: \"))\n",
    "\n",
    "if(number % 2 == 0):\n",
    "\tprint(\"The number is even.\")\n",
    "else:\n",
    "\tprint(\"The number is odd.\")"
   ]
  },
  {
   "cell_type": "markdown",
   "metadata": {},
   "source": [
    "#### Exercise 3\n",
    "\n",
    "*Write a program without the `else` statement, which asks the user for a number between 1 and 10. If the user's number is exactly 5, the program prints \"The number is exactly 5\". Otherwise, the program does nothing.*\n",
    "\n",
    "*Before the end of the program, the program prints the text \"The program ends.\".*"
   ]
  },
  {
   "cell_type": "code",
   "execution_count": 3,
   "metadata": {},
   "outputs": [
    {
     "name": "stdout",
     "output_type": "stream",
     "text": [
      "The program ends\n"
     ]
    }
   ],
   "source": [
    "number = int(input(\"Enter a number between 1-10: \"))\n",
    "\n",
    "if(number == 5):\n",
    "\tprint(\"The number is exactly 5\")\n",
    "\n",
    "print(\"The program ends\")"
   ]
  },
  {
   "cell_type": "markdown",
   "metadata": {},
   "source": [
    "#### Exercise 4\n",
    "\n",
    "*The task is to create a program that checks whether the user is taller than the average Finnish person of the same sex. The average height of a Finnish man is 178 cm and of a woman 164 cm.*\n",
    "\n",
    "*The program is created using a nested if-else structure. For the conditionals, we need two inputs from the user, which are obtained by two separate input() commands. The program must first ask the user's gender (male or female), then it asks the user's height in centimetres. Remember to convert the user's height to a decimal number using the float() command.*\n",
    "\n",
    "*The program then starts with the first if-else statement, checking whether the user is female or not. If this condition is met, the program will move to the corresponding program block.*\n",
    "\n",
    "*The first block (user is female) contains a new if-else statement, where the conditional clause compares the height entered by the user with the average height of women. If the condition is met, the text \"You are taller than the average Finnish woman\" is printed. If not, the text \"You are shorter than the average Finnish woman\" is printed.*\n",
    "\n",
    "*If the first condition of the program is not fulfilled, the program switches to its else branch. That is, the case where the user is male. This program block also contains a new if-else statement, where the conditional clause is used to compare the height entered by the user with the average height of men. If the condition is true, the text \"You are taller than the average Finnish man\" is printed. If not, the text \"You are shorter than the average Finnish man\" is printed.*"
   ]
  },
  {
   "cell_type": "code",
   "execution_count": 4,
   "metadata": {},
   "outputs": [
    {
     "name": "stdout",
     "output_type": "stream",
     "text": [
      "You are taller than an average Finnish man\n"
     ]
    }
   ],
   "source": [
    "gender = input(\"Enter your gender (male/female): \")\n",
    "height = float(input(\"Enter your height in centimeters: \"))\n",
    "\n",
    "if(gender == \"female\"):\n",
    "\tif(height >= 164):\n",
    "\t\tprint(\"You are taller than an average Finnish woman\")\n",
    "\telse:\n",
    "\t\tprint(\"You are shorter than an average Finnish woman\")\n",
    "else:\n",
    "\tif(height >= 178):\n",
    "\t\tprint(\"You are taller than an average Finnish man\")\n",
    "\telse:\n",
    "\t\tprint(\"You are shorter than an average Finnish man\")"
   ]
  },
  {
   "cell_type": "markdown",
   "metadata": {},
   "source": [
    "#### Exercise 5\n",
    "\n",
    "*You can enter a PG13 movie if you are over 13, or with a parent if you are under 13. Write a program that asks the user for their age and whether they have a parent with them (two separate `input()` statements are needed). If the user is over 13 **OR** if a parent is present, the program prints \"Enjoy the movie!\". Write these two comparison operations in the same `if` condition. Otherwise, the program will print \"You are not allowed to watch this movie!\".*\n",
    "\n",
    "The comparisons can be joined with keywords `and` and `or` which correspond to \"both are `True`\" and \"either a or b is `True`\" respectively."
   ]
  },
  {
   "cell_type": "code",
   "execution_count": 5,
   "metadata": {},
   "outputs": [
    {
     "name": "stdout",
     "output_type": "stream",
     "text": [
      "Enjoy the movie!\n"
     ]
    }
   ],
   "source": [
    "age = int(input(\"Enter your age: \"))\n",
    "parent = input(\"Are you with your parent (yes/no): \")\n",
    "\n",
    "if(age > 13 or parent == \"yes\"):\n",
    "\tprint(\"Enjoy the movie!\")\n",
    "else:\n",
    "\tprint(\"You are not allowed to watch this movie!\")"
   ]
  },
  {
   "cell_type": "markdown",
   "metadata": {},
   "source": [
    "#### Exercise 6\n",
    "\n",
    "*Write a program which calculates the price of the product, depending on the amount of the accumulated bonus. The program first asks the user for the number of bonus points accumulated (1-500), and then the price of the product.* \n",
    "- *At bonus level 1 (points 1-100), the user receives a 10% discount on the price*\n",
    "- *At bonus level 2 (points 101-250), the user receives a 20% discount on the price*\n",
    "- *At bonus level 3 (251-400 points), the user receives a 30% discount on the price*\n",
    "- *At bonus level 4 (points 401-500), the user receives a 40% discount on the price* \n",
    "\n",
    "*The program examines the discount based on the user's score and prints out the bonus level and the resulting price for the product.*\n",
    "\n",
    "The `elif` conditions are checked until a condition evaluates to `True`, after which the rest of them are skipped."
   ]
  },
  {
   "cell_type": "code",
   "execution_count": 6,
   "metadata": {},
   "outputs": [
    {
     "name": "stdout",
     "output_type": "stream",
     "text": [
      "You are on level 3 and the new price is 35.0 euros.\n"
     ]
    }
   ],
   "source": [
    "bonus = int(input(\"Amount of bonus points: \"))\n",
    "price = float(input(\"Price of the product: \"))\n",
    "\n",
    "if(1 <= bonus <= 100):\n",
    "\tprint(\"You are on level 1 and the new price is\", 0.9 * price, \"euros.\")\n",
    "elif(101 <= bonus <= 250):\n",
    "\tprint(\"You are on level 2 and the new price is\", 0.8 * price, \"euros.\")\n",
    "elif(251 <= bonus <= 400):\n",
    "\tprint(\"You are on level 3 and the new price is\", 0.7 * price, \"euros.\")\n",
    "elif(401 <= bonus <= 500):\n",
    "\tprint(\"You are on level 4 and the new price is\", 0.6 * price, \"euros.\")"
   ]
  },
  {
   "cell_type": "markdown",
   "metadata": {},
   "source": [
    "## Repetition structures\n",
    "\n",
    "#### Exercise 7\n",
    "\n",
    "*Create a program with a `while` loop, which prints the numbers from 10 to 1 in a descending order.*\n",
    "\n",
    "The `while` loop repeats as long as `i` is larger than 0:"
   ]
  },
  {
   "cell_type": "code",
   "execution_count": 7,
   "metadata": {},
   "outputs": [
    {
     "name": "stdout",
     "output_type": "stream",
     "text": [
      "10\n",
      "9\n",
      "8\n",
      "7\n",
      "6\n",
      "5\n",
      "4\n",
      "3\n",
      "2\n",
      "1\n"
     ]
    }
   ],
   "source": [
    "i = 10\n",
    "while(i > 0): \n",
    "\tprint(i)\n",
    "\ti = i - 1"
   ]
  },
  {
   "cell_type": "markdown",
   "metadata": {},
   "source": [
    "#### Exercise 8\n",
    "\n",
    "*Create a program with a `while` loop. Inside the loop ask the user to input an integer. As the `input()` function always returns a string you need to cast the user input as `int()`. If the integer is bigger than 0, the loop continues and a new integer is requested, otherwise the program ends.*\n",
    "\n",
    "The `while` loop repeats as long as `condition` is `True`. If the `number` is negative, `condition` is changed to `False` and the loop ends."
   ]
  },
  {
   "cell_type": "code",
   "execution_count": 8,
   "metadata": {},
   "outputs": [],
   "source": [
    "condition = True\n",
    "while(condition):\n",
    "\n",
    "\tnumber = int(input(\"Give a number: \"))\n",
    "\n",
    "\tif(number < 0):\n",
    "\t\tcondition = False"
   ]
  },
  {
   "cell_type": "markdown",
   "metadata": {},
   "source": [
    "#### Exercise 9\n",
    "\n",
    "*In this exercise you need to create a simple point counter for blackjack. Inside a `while` loop ask the user to input the value of their current card. If the total value of their cards exceeds or is equal to 21 the loop ends. In the end the program will print the sum of the user's points.*\n",
    "\n",
    "`break` instructs the program to exit the `while` loop if the user has more than 20 points."
   ]
  },
  {
   "cell_type": "code",
   "execution_count": 9,
   "metadata": {},
   "outputs": [
    {
     "name": "stdout",
     "output_type": "stream",
     "text": [
      "Game ends. Total points: 24\n"
     ]
    }
   ],
   "source": [
    "total = 0\n",
    "\n",
    "while(True):\n",
    "    points = int(input(\"How many points did you get? \"))\n",
    "    total += points\n",
    "\n",
    "    if(total >= 21):\n",
    "        break\n",
    "\n",
    "print(\"Game ends. Total points:\", total)"
   ]
  },
  {
   "cell_type": "markdown",
   "metadata": {},
   "source": [
    "#### Exercise 10\n",
    "\n",
    "*Write a program, which prints the odd numbers between 1 and 21 using a `for` loop and the `range()` function.*"
   ]
  },
  {
   "cell_type": "code",
   "execution_count": 10,
   "metadata": {},
   "outputs": [
    {
     "name": "stdout",
     "output_type": "stream",
     "text": [
      "1\n",
      "3\n",
      "5\n",
      "7\n",
      "9\n",
      "11\n",
      "13\n",
      "15\n",
      "17\n",
      "19\n",
      "21\n"
     ]
    }
   ],
   "source": [
    "for i in range(1, 22, 2): \n",
    "\tprint(i)"
   ]
  },
  {
   "cell_type": "markdown",
   "metadata": {},
   "source": [
    "#### Exercise 11\n",
    "\n",
    "*Write a program, which asks the user for two integers by calling the `input()` function twice. Save the given input strings to variables `x` and `y`. After the user has given both inputs, the program prints all combinations of numbers between [0, `x`] and [0, `y`].*\n",
    "\n",
    "The solution uses a two-level `for` loop to iterate over two different ranges.\n",
    "\n",
    "Method 1:"
   ]
  },
  {
   "cell_type": "code",
   "execution_count": 12,
   "metadata": {},
   "outputs": [
    {
     "name": "stdout",
     "output_type": "stream",
     "text": [
      "0 0\n",
      "0 1\n",
      "0 2\n",
      "1 0\n",
      "1 1\n",
      "1 2\n"
     ]
    }
   ],
   "source": [
    "x = int(input(\"Give the first integer: \")) \n",
    "y = int(input(\"Give the second integer: \"))\n",
    "\n",
    "for i in range(x + 1):\n",
    "    for j in range(y + 1):\n",
    "        print(i, j) "
   ]
  },
  {
   "cell_type": "markdown",
   "metadata": {},
   "source": [
    "Method 2 with format strings, which can be used to dynamically place variables inside strings:"
   ]
  },
  {
   "cell_type": "code",
   "execution_count": 13,
   "metadata": {},
   "outputs": [
    {
     "name": "stdout",
     "output_type": "stream",
     "text": [
      "0, 0\n",
      "0, 1\n",
      "0, 2\n",
      "1, 0\n",
      "1, 1\n",
      "1, 2\n"
     ]
    }
   ],
   "source": [
    "x = int(input(\"Give the first integer: \")) \n",
    "y = int(input(\"Give the second integer: \"))\n",
    "\n",
    "for i in range(x + 1):\n",
    "    for j in range(y + 1):\n",
    "        print(f\"{i}, {j}\")"
   ]
  },
  {
   "cell_type": "code",
   "execution_count": null,
   "metadata": {},
   "outputs": [],
   "source": []
  }
 ],
 "metadata": {
  "language_info": {
   "name": "python"
  }
 },
 "nbformat": 4,
 "nbformat_minor": 2
}
