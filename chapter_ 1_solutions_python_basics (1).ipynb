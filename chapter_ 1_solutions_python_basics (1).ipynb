{
 "cells": [
  {
   "cell_type": "markdown",
   "metadata": {},
   "source": [
    "# Chapter 1 Solutions - Python Basics\n",
    "\n",
    "#### Exercise 1\n",
    "\n",
    "*Calculate in the field below what is (3+5)/2?*\n",
    "\n",
    "Python uses the `+` operator for addition and `/` for division. The spaces around these operators are recommended, but not mandated by Python syntax."
   ]
  },
  {
   "cell_type": "code",
   "execution_count": 1,
   "metadata": {},
   "outputs": [
    {
     "data": {
      "text/plain": [
       "4.0"
      ]
     },
     "execution_count": 1,
     "metadata": {},
     "output_type": "execute_result"
    }
   ],
   "source": [
    "(3 + 5) / 2"
   ]
  },
  {
   "cell_type": "markdown",
   "metadata": {},
   "source": [
    "#### Exercise 2\n",
    "\n",
    "*Calculate what is 5 to the power of 3?*\n",
    "\n",
    "The power of a number is computed using the `**` operator."
   ]
  },
  {
   "cell_type": "code",
   "execution_count": 2,
   "metadata": {},
   "outputs": [
    {
     "data": {
      "text/plain": [
       "125"
      ]
     },
     "execution_count": 2,
     "metadata": {},
     "output_type": "execute_result"
    }
   ],
   "source": [
    "5**3"
   ]
  },
  {
   "cell_type": "markdown",
   "metadata": {},
   "source": [
    "#### Exercise 3\n",
    "\n",
    "*Calculate what is the remainder when 17 is divided by 5.*\n",
    "\n",
    "The remainder operator in Python is `%` and the number to be divided is placed on the left side."
   ]
  },
  {
   "cell_type": "code",
   "execution_count": 3,
   "metadata": {},
   "outputs": [
    {
     "data": {
      "text/plain": [
       "2"
      ]
     },
     "execution_count": 3,
     "metadata": {},
     "output_type": "execute_result"
    }
   ],
   "source": [
    "17 % 5"
   ]
  },
  {
   "cell_type": "markdown",
   "metadata": {},
   "source": [
    "#### Exercise 4\n",
    "\n",
    "*Calculate how many times number 7 goes into the number 39.*\n",
    "\n",
    "The floor division (divide and round down to an integer) operator in Python is `//`."
   ]
  },
  {
   "cell_type": "code",
   "execution_count": 4,
   "metadata": {},
   "outputs": [
    {
     "data": {
      "text/plain": [
       "5"
      ]
     },
     "execution_count": 4,
     "metadata": {},
     "output_type": "execute_result"
    }
   ],
   "source": [
    "39 // 7"
   ]
  },
  {
   "cell_type": "markdown",
   "metadata": {},
   "source": [
    "#### Exercise 5\n",
    "\n",
    "*Assign number 2 to a variable `number` and call the variable.*\n",
    "\n",
    "Variables are assigned using `=`. Variables are called by writing their name. A variable call returns the value of the variable."
   ]
  },
  {
   "cell_type": "code",
   "execution_count": 5,
   "metadata": {},
   "outputs": [
    {
     "data": {
      "text/plain": [
       "2"
      ]
     },
     "execution_count": 5,
     "metadata": {},
     "output_type": "execute_result"
    }
   ],
   "source": [
    "number = 2\n",
    "\n",
    "number"
   ]
  },
  {
   "cell_type": "markdown",
   "metadata": {},
   "source": [
    "#### Exercise 6\n",
    "\n",
    "*Assing number 3 into some other variable, and then assing that variable multiplied by two into a new variable. Call the new variable.*"
   ]
  },
  {
   "cell_type": "code",
   "execution_count": 6,
   "metadata": {},
   "outputs": [
    {
     "data": {
      "text/plain": [
       "6"
      ]
     },
     "execution_count": 6,
     "metadata": {},
     "output_type": "execute_result"
    }
   ],
   "source": [
    "number = 3\n",
    "number2 = number * 2\n",
    "\n",
    "number2"
   ]
  },
  {
   "cell_type": "markdown",
   "metadata": {},
   "source": [
    "#### Exercise 7\n",
    "\n",
    "*Print your name using the `print` command.*\n",
    "\n",
    "The `print()` function takes any number of arguments (values inside the parentheses) and prints them. In this exercise we give one argument, a string, for the function."
   ]
  },
  {
   "cell_type": "code",
   "execution_count": 7,
   "metadata": {},
   "outputs": [
    {
     "name": "stdout",
     "output_type": "stream",
     "text": [
      "Alex Assistant\n"
     ]
    }
   ],
   "source": [
    "print(\"Alex Assistant\")"
   ]
  },
  {
   "cell_type": "markdown",
   "metadata": {},
   "source": [
    "#### Exercise 8\n",
    "\n",
    "*Save your name in a variable and print the text \"My name is X\", where X is replaced by your name in the variable.*\n",
    "\n",
    "The `print()` function can be given multiple arguments by separating them with `,`. Below the first argument is a string and the second argument is a variable which has a string as its value. `print` separates these arguments in the output by a space."
   ]
  },
  {
   "cell_type": "code",
   "execution_count": 8,
   "metadata": {},
   "outputs": [
    {
     "name": "stdout",
     "output_type": "stream",
     "text": [
      "My name is Anna Assistant\n"
     ]
    }
   ],
   "source": [
    "name = \"Anna Assistant\"\n",
    "\n",
    "print(\"My name is\", name)"
   ]
  },
  {
   "cell_type": "markdown",
   "metadata": {},
   "source": [
    "#### Exercise 9\n",
    "\n",
    "*Enter your name in one variable and your age in another. Print the text \"My name is X, and I am Y years old.\" Here, in place of X, a variable will replace your name, and in place of Y, a variable will replace your age. Use the `+` operator with a string, and the `,` operator with a numeric value.*\n",
    "\n",
    "This solution combines string addition with `+` and multiple arguments for the `print()` function. Strings are concatenated into one with `+` which *does not add a space between*. The integer value is automatically converted to a string by the `print()` function as it is given as a separate argument."
   ]
  },
  {
   "cell_type": "code",
   "execution_count": 10,
   "metadata": {},
   "outputs": [
    {
     "name": "stdout",
     "output_type": "stream",
     "text": [
      "My name is Ingrid Instructor and I'm 32 years old.\n"
     ]
    }
   ],
   "source": [
    "name = \"Ingrid Instructor\"\n",
    "age = 32\n",
    "\n",
    "print(\"My name is \" + name + \" and I'm\", age, \"years old.\")"
   ]
  },
  {
   "cell_type": "markdown",
   "metadata": {},
   "source": [
    "#### Exercise 10\n",
    "\n",
    "*Ask the user for their surname and store it in a variable. Then print the text \"Your surname is X.\", where X is the variable in which the input given by the user is stored.*"
   ]
  },
  {
   "cell_type": "code",
   "execution_count": 11,
   "metadata": {},
   "outputs": [
    {
     "name": "stdout",
     "output_type": "stream",
     "text": [
      "Your surname is Assistant\n"
     ]
    }
   ],
   "source": [
    "surname = input(\"Tell me your surname: \")\n",
    "print(\"Your surname is \" + surname)"
   ]
  },
  {
   "cell_type": "markdown",
   "metadata": {},
   "source": [
    "#### Exercise 11\n",
    "\n",
    "*Ask the user for their height using the `input()` function. Store the given input in a variable as a decimal number. Finally, print the user's height.*\n",
    "\n",
    "The `input()` function always returns a string, hence we need to cast it to `float` using the `float()` function. The value is then printed along some strings with `print()`."
   ]
  },
  {
   "cell_type": "code",
   "execution_count": 12,
   "metadata": {},
   "outputs": [
    {
     "name": "stdout",
     "output_type": "stream",
     "text": [
      "Given height: 182.0 centimeters\n"
     ]
    }
   ],
   "source": [
    "height = float(input(\"Tell me your height: \"))\n",
    "print(\"Given height:\", height, \"centimeters\")"
   ]
  },
  {
   "cell_type": "markdown",
   "metadata": {},
   "source": [
    "#### Exercise 12\n",
    "\n",
    "*Compare whether 3 to the power of 5 is greater than 2 to the power of 7?*\n",
    "\n",
    "The Python intepreter first computes the math on both sides of the comparison operator `>` and finally executes the comparison between 243 and 128. The comparison returns a boolean value (`True` or `False`)"
   ]
  },
  {
   "cell_type": "code",
   "execution_count": 13,
   "metadata": {},
   "outputs": [
    {
     "data": {
      "text/plain": [
       "True"
      ]
     },
     "execution_count": 13,
     "metadata": {},
     "output_type": "execute_result"
    }
   ],
   "source": [
    "3**5 > 2**7"
   ]
  },
  {
   "cell_type": "markdown",
   "metadata": {},
   "source": [
    "#### Exercise 13\n",
    "\n",
    "*Compare whether the string `\"Name\"` is the same as the string `\"name\"`.*\n",
    "\n",
    "The string comparison is case sensitive, hence the strings `\"Name\"` and `\"name\"` are not equal and the comparison returns `False`."
   ]
  },
  {
   "cell_type": "code",
   "execution_count": 14,
   "metadata": {},
   "outputs": [
    {
     "data": {
      "text/plain": [
       "False"
      ]
     },
     "execution_count": 14,
     "metadata": {},
     "output_type": "execute_result"
    }
   ],
   "source": [
    "\"Name\" == \"name\""
   ]
  },
  {
   "cell_type": "markdown",
   "metadata": {},
   "source": [
    "#### Exercise 14\n",
    "\n",
    "*Ask the user for a number and convert it to an integer. Compare whether the number given by the user is equal to `10`.*\n",
    "\n",
    "Again, the `input()` returns a string, hence we need to convert it to an integer using `int()`."
   ]
  },
  {
   "cell_type": "code",
   "execution_count": 15,
   "metadata": {},
   "outputs": [
    {
     "data": {
      "text/plain": [
       "True"
      ]
     },
     "execution_count": 15,
     "metadata": {},
     "output_type": "execute_result"
    }
   ],
   "source": [
    "number = int(input(\"Give a number: \"))\n",
    "\n",
    "number == 10"
   ]
  },
  {
   "cell_type": "markdown",
   "metadata": {},
   "source": [
    "#### Exercise 15\n",
    "\n",
    "*Write a program which asks the user for their year of birth and stores it as an integer. The program then calculates how many years the user will turn this year, and prints it out.*"
   ]
  },
  {
   "cell_type": "code",
   "execution_count": 16,
   "metadata": {},
   "outputs": [
    {
     "name": "stdout",
     "output_type": "stream",
     "text": [
      "You will turn 27 this year\n"
     ]
    }
   ],
   "source": [
    "yob = int(input(\"What is your year of birth? \"))\n",
    "age = 2022 - yob\n",
    "\n",
    "print(\"You will turn\", age, \"this year\")"
   ]
  },
  {
   "cell_type": "markdown",
   "metadata": {},
   "source": [
    "#### Exercise 16\n",
    "\n",
    "*Write a program which asks the user for two numbers, which are stored in separate variables. The numbers are compared to see if the first number given is larger than the second one.*\n",
    "\n",
    "*Print the text \"The first number is bigger than the second:\" with a truth value `True` or `False`.*\n",
    "\n",
    "Method 1:"
   ]
  },
  {
   "cell_type": "code",
   "execution_count": 17,
   "metadata": {},
   "outputs": [
    {
     "name": "stdout",
     "output_type": "stream",
     "text": [
      "First number is bigger than the second one: False\n"
     ]
    }
   ],
   "source": [
    "number1 = float(input(\"Give the first number: \"))\n",
    "number2 = float(input(\"Give the second number: \"))\n",
    "\n",
    "boolean = number1 > number2\n",
    "\n",
    "print(\"First number is bigger than the second one:\", boolean)"
   ]
  },
  {
   "cell_type": "markdown",
   "metadata": {},
   "source": [
    "Method 2 using the `if-else` structure from Chapter 2:"
   ]
  },
  {
   "cell_type": "code",
   "execution_count": 18,
   "metadata": {},
   "outputs": [
    {
     "name": "stdout",
     "output_type": "stream",
     "text": [
      "First number is bigger than the second: False\n"
     ]
    }
   ],
   "source": [
    "number1 = float(input(\"Give the first number: \"))\n",
    "number2 = float(input(\"Give the second number: \"))\n",
    "\n",
    "if number1 > number2:\n",
    "\tprint(\"First number is bigger than the second: True\")\n",
    "else:\n",
    "\tprint(\"First number is bigger than the second: False\")\n"
   ]
  }
 ],
 "metadata": {
  "kernelspec": {
   "display_name": "Python 3.10.5 64-bit",
   "language": "python",
   "name": "python3"
  },
  "language_info": {
   "codemirror_mode": {
    "name": "ipython",
    "version": 3
   },
   "file_extension": ".py",
   "mimetype": "text/x-python",
   "name": "python",
   "nbconvert_exporter": "python",
   "pygments_lexer": "ipython3",
   "version": "3.10.5"
  },
  "orig_nbformat": 4,
  "vscode": {
   "interpreter": {
    "hash": "369f2c481f4da34e4445cda3fffd2e751bd1c4d706f27375911949ba6bb62e1c"
   }
  }
 },
 "nbformat": 4,
 "nbformat_minor": 2
}
