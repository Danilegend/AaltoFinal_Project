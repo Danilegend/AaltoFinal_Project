{
 "cells": [
  {
   "cell_type": "markdown",
   "metadata": {},
   "source": [
    "# Chapter 7: Libraries"
   ]
  },
  {
   "cell_type": "markdown",
   "metadata": {},
   "source": [
    "Python is based on modularity, which means that programs can be divided into subprograms (files) and that programs and structures can be combined quite freely. This makes libraries possible. Libraries are program packages which you can download and use with Python freely."
   ]
  },
  {
   "attachments": {},
   "cell_type": "markdown",
   "metadata": {},
   "source": [
    "A Python library is a collection of code modules that provide tools for performing specific tasks, such as mathematical computations, data manipulation, or handling file operations. These libraries extend Python’s capabilities beyond its built-in functions and types, allowing developers to leverage existing solutions instead of reinventing the wheel. The libraries are often very well optimized in terms of performance.\n",
    "\n",
    "Libraries in Python can be categorized into two main types:\n",
    "\n",
    "1.\tStandard Libraries: These are included with the Python installation and are maintained by the Python developers. They provide essential functionalities, such as mathematical operations, file handling, and more. Examples include `time`, `math`, and `os`. All of the standard libraries can be found [here](https://docs.python.org/3/library/index.html)\n",
    "2.\tThird-Party Libraries: These are created and maintained by the wider Python community. They need to be installed separately using tools like [pip](https://pip.pypa.io/en/stable/). Examples include popular libraries like NumPy, Pandas, and Matplotlib, which are essential in fields like data science and machine learning.\n",
    "\n",
    "\n",
    "Libraries offer several advantages:\n",
    "\n",
    "- Code Reusability: By using libraries, developers can avoid writing common functionality from scratch. This leads to faster development and fewer errors\n",
    "- Community Support: Many third-party libraries are open-source, meaning they are maintained by communities that ensure they are up-to-date and secure\n",
    "- Access to Advanced Tools: Libraries provide access to sophisticated tools and algorithms that would be time-consuming and complex to develop independently\n",
    "\n",
    "Using third-party libraries involves a level of trust in the community or organization that maintains them. Since these libraries can be essential to a project, they require regular updates and maintenance to ensure they remain functional and secure. Additionally, third-party libraries often depend on other libraries, creating dependency chains that need to be managed carefully."
   ]
  },
  {
   "cell_type": "markdown",
   "metadata": {},
   "source": [
    "In this chapter we will go over three standard Python libraries:\n",
    "- math\n",
    "- random\n",
    "- csv\n",
    "\n",
    "As well as two third party libraries:\n",
    "\n",
    "- numpy\n",
    "- matplotlib\n",
    "\n",
    "Often libraries include tens if not hundreds of functions. This means that the user of the library must read up on what functions the library includes and how they work. Libraries always have their own official documentation which can often be found quickly and easily by searching for its name with a search engine such as Google."
   ]
  },
  {
   "cell_type": "markdown",
   "metadata": {},
   "source": [
    "## Importing a library"
   ]
  },
  {
   "cell_type": "markdown",
   "metadata": {},
   "source": [
    "The functions and data structures of a library can be taken into use with the `import` keyword. Importing is often done **only once right in the beginning of a program**."
   ]
  },
  {
   "cell_type": "markdown",
   "metadata": {},
   "source": [
    "```python\n",
    "import library\n",
    "```"
   ]
  },
  {
   "cell_type": "markdown",
   "metadata": {},
   "source": [
    "You can access the contents of a library by calling a function through its name."
   ]
  },
  {
   "cell_type": "markdown",
   "metadata": {},
   "source": [
    "```python\n",
    "import library\n",
    "\n",
    "library.exampleFunction()\n",
    "```"
   ]
  },
  {
   "cell_type": "markdown",
   "metadata": {},
   "source": [
    "## `math` library"
   ]
  },
  {
   "cell_type": "markdown",
   "metadata": {},
   "source": [
    "One central library of Python is `math`. According to its name it includes useful values and functions often needed when working with mathematics related subjects."
   ]
  },
  {
   "cell_type": "markdown",
   "metadata": {},
   "source": [
    "### Useful functions"
   ]
  },
  {
   "cell_type": "markdown",
   "metadata": {},
   "source": [
    "#### $\\pi$\n"
   ]
  },
  {
   "cell_type": "markdown",
   "metadata": {},
   "source": [
    "Using Pi gets easier when you call it from the `math` library."
   ]
  },
  {
   "cell_type": "code",
   "execution_count": null,
   "metadata": {},
   "outputs": [],
   "source": [
    "import math\n",
    "\n",
    "print(math.pi)"
   ]
  },
  {
   "cell_type": "markdown",
   "metadata": {},
   "source": [
    "#### $e$"
   ]
  },
  {
   "cell_type": "markdown",
   "metadata": {},
   "source": [
    "Euler's number can be accessed with `math.e`."
   ]
  },
  {
   "cell_type": "code",
   "execution_count": null,
   "metadata": {
    "scrolled": true
   },
   "outputs": [],
   "source": [
    "import math\n",
    "\n",
    "math.e"
   ]
  },
  {
   "cell_type": "markdown",
   "metadata": {},
   "source": [
    "#### `sqrt()`"
   ]
  },
  {
   "cell_type": "markdown",
   "metadata": {},
   "source": [
    "`sqrt()` calculates the square root of the given number."
   ]
  },
  {
   "cell_type": "code",
   "execution_count": null,
   "metadata": {
    "scrolled": true
   },
   "outputs": [],
   "source": [
    "import math\n",
    "\n",
    "x = 9\n",
    "math.sqrt(x)"
   ]
  },
  {
   "cell_type": "markdown",
   "metadata": {},
   "source": [
    "#### `exp()`"
   ]
  },
  {
   "cell_type": "markdown",
   "metadata": {},
   "source": [
    "To calculate the results of the natural exponential function you can also use the `exp()` function. The function calculates what is $e^x$, where $x$ is the argument given to the function:"
   ]
  },
  {
   "cell_type": "code",
   "execution_count": null,
   "metadata": {},
   "outputs": [],
   "source": [
    "import math\n",
    "\n",
    "x = 5\n",
    "\n",
    "print(math.exp(x))"
   ]
  },
  {
   "cell_type": "markdown",
   "metadata": {},
   "source": [
    "#### `log()`"
   ]
  },
  {
   "cell_type": "markdown",
   "metadata": {},
   "source": [
    "`log()` is the inverse function of `exp()`. It returns the natural logarithm of the given argument:"
   ]
  },
  {
   "cell_type": "code",
   "execution_count": null,
   "metadata": {},
   "outputs": [],
   "source": [
    "import math\n",
    "\n",
    "x = 5\n",
    "\n",
    "fx = math.exp(x)\n",
    "print(fx)\n",
    "\n",
    "log_fx = math.log(fx)\n",
    "print(log_fx)"
   ]
  },
  {
   "cell_type": "markdown",
   "metadata": {},
   "source": [
    "#### `ceil()` and `floor()`"
   ]
  },
  {
   "cell_type": "markdown",
   "metadata": {},
   "source": [
    "`ceil()` returns the argument rounded up to the neares integer, and `floor()` the same but rounded down."
   ]
  },
  {
   "cell_type": "code",
   "execution_count": null,
   "metadata": {},
   "outputs": [],
   "source": [
    "import math\n",
    "\n",
    "x = 2.5\n",
    "\n",
    "print(math.ceil(x))\n",
    "\n",
    "print(math.floor(x))\n"
   ]
  },
  {
   "cell_type": "markdown",
   "metadata": {},
   "source": [
    "#### Exercise 1"
   ]
  },
  {
   "cell_type": "markdown",
   "metadata": {},
   "source": [
    "Create a program which asks the user to input the radios of a circle and in a separate function calculates the circumference of the circle. The program should print the circumference. Use the `math` library for the value of pi.\n",
    "\n",
    "Hint: The formula for calculating the circumference of a circle is $2\\cdot\\pi\\cdot r$."
   ]
  },
  {
   "cell_type": "code",
   "execution_count": null,
   "metadata": {},
   "outputs": [],
   "source": []
  },
  {
   "cell_type": "markdown",
   "metadata": {},
   "source": [
    "### Trigonometric functions"
   ]
  },
  {
   "cell_type": "markdown",
   "metadata": {},
   "source": [
    "In Python you can call the trigonometric functions using the `math` library. NOTE! The functions take their arguments only as radians and not in degrees. Radians are an alternative way of denoting the measure of an angle, often used in mathematics and physics. You can convert angles to radians using the `math.radians()` function."
   ]
  },
  {
   "cell_type": "code",
   "execution_count": null,
   "metadata": {},
   "outputs": [],
   "source": [
    "import math \n",
    "\n",
    "degree = 45\n",
    "radians = math.radians(degree)\n",
    "\n",
    "print(degree, 'degrees is', radians, 'radians')"
   ]
  },
  {
   "cell_type": "code",
   "execution_count": null,
   "metadata": {},
   "outputs": [],
   "source": [
    "import math \n",
    "\n",
    "degree = 75\n",
    "radians = math.radians(degree)\n",
    "sine = math.sin(radians)\n",
    "cosine = math.cos(radians)\n",
    "\n",
    "print('Sine of', degree, 'degrees is', sine)\n",
    "print('Cosine of', degree, 'degrees is', cosine)"
   ]
  },
  {
   "cell_type": "markdown",
   "metadata": {},
   "source": [
    "#### Exercise 2"
   ]
  },
  {
   "cell_type": "markdown",
   "metadata": {},
   "source": [
    "Create a program in which you import the `math` library. Ask the user for a number as input and convert it to the floating point type. Take its square root and print the value rounded down."
   ]
  },
  {
   "cell_type": "code",
   "execution_count": null,
   "metadata": {},
   "outputs": [],
   "source": []
  },
  {
   "cell_type": "markdown",
   "metadata": {},
   "source": [
    "## `random` library"
   ]
  },
  {
   "cell_type": "markdown",
   "metadata": {},
   "source": [
    "Every now and then we want to include random behaviour in our program. This can be for example generating a value or picking a value from a list randomly. We can use the `random` library to do this with Python."
   ]
  },
  {
   "cell_type": "markdown",
   "metadata": {},
   "source": [
    "`random` library is imported in the same way as all other libraries:"
   ]
  },
  {
   "cell_type": "code",
   "execution_count": null,
   "metadata": {},
   "outputs": [],
   "source": [
    "import random"
   ]
  },
  {
   "cell_type": "markdown",
   "metadata": {},
   "source": [
    "All the functions of the library can be found here: https://docs.python.org/3/library/random.html \n",
    "\n",
    "Some of the most often used functions are:\n",
    "- `random()`\n",
    "- `randrange()`\n",
    "- `choice()`\n",
    "- `sample()`\n",
    "- `shuffle()`"
   ]
  },
  {
   "cell_type": "markdown",
   "metadata": {},
   "source": [
    "### `random()`"
   ]
  },
  {
   "cell_type": "markdown",
   "metadata": {},
   "source": [
    "The `random()` function of the `random` library returns a random floating point number from the range [0,1) (starting from 0, excluding 1)."
   ]
  },
  {
   "cell_type": "code",
   "execution_count": null,
   "metadata": {},
   "outputs": [],
   "source": [
    "import random\n",
    "\n",
    "random.random()"
   ]
  },
  {
   "cell_type": "markdown",
   "metadata": {},
   "source": [
    "Try running the example cell again and notice how the value changes!"
   ]
  },
  {
   "cell_type": "markdown",
   "metadata": {},
   "source": [
    "### `randrange(start, stop, step)`"
   ]
  },
  {
   "cell_type": "markdown",
   "metadata": {},
   "source": [
    "The `randrange()`function returns a random integer from the given range. The arguments work in the same way as with the `range()` function."
   ]
  },
  {
   "cell_type": "code",
   "execution_count": null,
   "metadata": {},
   "outputs": [],
   "source": [
    "import random\n",
    "\n",
    "print(random.randrange(5))\n",
    "print(random.randrange(10, 20))\n",
    "print(random.randrange(0, 10, 2))"
   ]
  },
  {
   "cell_type": "markdown",
   "metadata": {},
   "source": [
    "The first `randrange()` call in the example above returns an integer from the range 0-4, the second from the range 10-19 and the third an even integer from the range 0-9."
   ]
  },
  {
   "cell_type": "markdown",
   "metadata": {},
   "source": [
    "### `choice(list)`"
   ]
  },
  {
   "cell_type": "markdown",
   "metadata": {},
   "source": [
    "`choice()` returns a random element from the list given as an argument."
   ]
  },
  {
   "cell_type": "code",
   "execution_count": null,
   "metadata": {},
   "outputs": [],
   "source": [
    "import random\n",
    "\n",
    "l = [1, \"yes\", True]\n",
    "\n",
    "random.choice(l)"
   ]
  },
  {
   "cell_type": "markdown",
   "metadata": {},
   "source": [
    "### `sample(l, i)`"
   ]
  },
  {
   "cell_type": "markdown",
   "metadata": {},
   "source": [
    "`sample()` takes a list `l` and an integer `i` as arguments. The function selects `i` elements from the list randomly and creates and returns a list out of those. The function will not select the same element twice and for this reason `i` must be smaller or equal to the length of the list!"
   ]
  },
  {
   "cell_type": "code",
   "execution_count": null,
   "metadata": {},
   "outputs": [],
   "source": [
    "import random\n",
    "\n",
    "l = [1, \"yes\", True]\n",
    "\n",
    "random.sample(l,2)"
   ]
  },
  {
   "cell_type": "code",
   "execution_count": null,
   "metadata": {},
   "outputs": [],
   "source": [
    "import random\n",
    "\n",
    "l = list(range(10))\n",
    "    \n",
    "random.sample(l, 5)"
   ]
  },
  {
   "cell_type": "code",
   "execution_count": null,
   "metadata": {},
   "outputs": [],
   "source": [
    "import random\n",
    "\n",
    "l = [1, \"yes\", True]\n",
    "\n",
    "random.sample(l, 4)"
   ]
  },
  {
   "cell_type": "markdown",
   "metadata": {},
   "source": [
    "The last example will return an error because `i` is larger than the length of the list."
   ]
  },
  {
   "cell_type": "markdown",
   "metadata": {},
   "source": [
    "### `shuffle(list)`"
   ]
  },
  {
   "cell_type": "markdown",
   "metadata": {},
   "source": [
    "`shuffle()` takes a list as an argument and puts its elements in a random order. Note! The Function does not actually return anything as it only changes the original list."
   ]
  },
  {
   "cell_type": "code",
   "execution_count": null,
   "metadata": {},
   "outputs": [],
   "source": [
    "import random\n",
    "\n",
    "l = [0, 1, 2, 3, 4]\n",
    "\n",
    "random.shuffle(l)\n",
    "print(l)"
   ]
  },
  {
   "cell_type": "markdown",
   "metadata": {},
   "source": [
    "#### Exercise 3"
   ]
  },
  {
   "cell_type": "markdown",
   "metadata": {},
   "source": [
    "Write a lottery machine program. The program should ask the user for a number from range 0-9 as input. Next the program should select three random \"winning numbers\" from the same range. The program should then print out the number chosen by the user, the winning numbers and whether the user won or not. The user wins if they chose a number included in the winning numbers. \n",
    "\n",
    "*Hint: Use `sample()` for picking the winning numbers. A good way to check if the user's number is in the winning numbers is the `in` operation.*"
   ]
  },
  {
   "cell_type": "code",
   "execution_count": null,
   "metadata": {},
   "outputs": [],
   "source": [
    "# Write your code here!"
   ]
  },
  {
   "cell_type": "markdown",
   "metadata": {},
   "source": [
    "## More ways of importing a library"
   ]
  },
  {
   "cell_type": "markdown",
   "metadata": {},
   "source": [
    "### `as`"
   ]
  },
  {
   "cell_type": "markdown",
   "metadata": {},
   "source": [
    "As the examples in this chapter have shown the values and functions need a `library_name.` type of prefix.  This is not a big deal when the library name is short but can get tedious none the less and especially if the library name is long. If we would like to refer to the `math` (or any other) library using another name we could do this:"
   ]
  },
  {
   "cell_type": "code",
   "execution_count": null,
   "metadata": {},
   "outputs": [],
   "source": [
    "import math as m\n",
    "m.pi"
   ]
  },
  {
   "cell_type": "code",
   "execution_count": null,
   "metadata": {},
   "outputs": [],
   "source": [
    "import math as potato\n",
    "\n",
    "potato.sin(potato.radians(70))"
   ]
  },
  {
   "cell_type": "markdown",
   "metadata": {},
   "source": [
    "### `from`"
   ]
  },
  {
   "cell_type": "markdown",
   "metadata": {},
   "source": [
    "Sometimes the librarys can be unnecessarily large and we only want to import a single function from them. This can be achieved with the keyword `from`."
   ]
  },
  {
   "cell_type": "code",
   "execution_count": null,
   "metadata": {},
   "outputs": [],
   "source": [
    "from math import pi\n",
    "\n",
    "pi"
   ]
  },
  {
   "cell_type": "markdown",
   "metadata": {},
   "source": [
    "Now we have only imported `.pi` from the library `math` and calling pi no longer requires the library name as a prefix."
   ]
  },
  {
   "cell_type": "markdown",
   "metadata": {},
   "source": [
    "You can also combine `from` and `as`:"
   ]
  },
  {
   "cell_type": "code",
   "execution_count": null,
   "metadata": {},
   "outputs": [],
   "source": [
    "from math import ceil as c\n",
    "from math import floor as f\n",
    "\n",
    "print(c(2.5))\n",
    "print(f(2.5))"
   ]
  },
  {
   "cell_type": "markdown",
   "metadata": {},
   "source": [
    "## `csv` library"
   ]
  },
  {
   "cell_type": "markdown",
   "metadata": {},
   "source": [
    "In an earlier chapter we went over one way to process .csv files. Python also includes a library called `csv` with which handling .csv files can be made easy. In the next example we will go over how the library is used with the same `stock_prices.csv` file used in chapter 7."
   ]
  },
  {
   "cell_type": "code",
   "execution_count": null,
   "metadata": {},
   "outputs": [],
   "source": [
    "import csv\n",
    "dates = [] # Initialize an empty list\n",
    "prices = [] # Initialize an empty list\n",
    "filename = \"stock_prices.csv\" # Define the file we want to open\n",
    "with open(filename) as file: # Open the file\n",
    "    csv_file = csv.reader(file) # Create a csv reader object\n",
    "    for row in csv_file: # Iterate through the csv file with the help of the reader object \n",
    "        print(row) # Print a row \n",
    "        dates.append(row[0]) # Append the date information to the corresponding list\n",
    "        prices.append(float(row[1])) # Append the stock price information to the corresponding list. Note the type conversion!\n",
    "print(\"The dates:\", dates) # Print the dates\n",
    "print(\"The stock prices:\", prices) # Print the stock prices \n",
    "if len(prices) > 0: # Make sure that we have read at least one value\n",
    "    print(\"The average stock price is:\", sum(prices) / len(prices)) # Calculate the average stock price"
   ]
  },
  {
   "cell_type": "markdown",
   "metadata": {},
   "source": [
    "Let's go through the program line by line:\n",
    "- Line 1: Import the library `csv` using the `import` keyword\n",
    "- Lines 2 & 3: We initialize empty lists for the data to be read from the file\n",
    "- Line 4: We define the name of the file we wish to read\n",
    "- Line 5: We open the file\n",
    "- Line 6: We call the function `csv.reader()`. The function returns a reader object with which the file can be read through\n",
    "- Line 7: We use a `for` loop to go through the file using the reader object created on the previous line\n",
    "- Line 8: We print a row and see what we have read\n",
    "- Lines 9 & 10: We append the data from the row to their respective lists\n",
    "- Lines 11 & 12: Once the whole file has been read we print out the final lists\n",
    "- Lines 13 & 14: We calculate the average value of the stock. The condition on line 13 is there to make sure the list is not empty as calculating the average in that case would result in an error\n",
    "\n",
    "Note also that `csv.reader()` reads all data in string format. Which is to say in the same way that `readline()` and `readlines()` methods do in chapter 7. "
   ]
  },
  {
   "cell_type": "markdown",
   "metadata": {},
   "source": [
    "#### Exercise 4"
   ]
  },
  {
   "cell_type": "markdown",
   "metadata": {},
   "source": [
    "You've been provided with the file named `prices.csv` where the prices of different products have been listed. The first column contains the name of the product and the second column the price. The entries have been separated using a comma. Create a program which will read the file using the `csv.reader()` function. Separate the values in the two columns into two lists named `products` and `prices` respectively. Print out the final lists."
   ]
  },
  {
   "cell_type": "code",
   "execution_count": null,
   "metadata": {},
   "outputs": [],
   "source": []
  },
  {
   "cell_type": "markdown",
   "metadata": {},
   "source": [
    "### Numpy and Matplotlib"
   ]
  },
  {
   "cell_type": "markdown",
   "metadata": {},
   "source": [
    "Modern artificial intelligence is largely based on machine learning. And in the center of machine learning lies matrix calculation. In the majority of machine learning applications simultaneous and effective processing of large quantities of input data is of critical importance. In practice, all data used in machine learning is in matrix format which makes it important to have good tools to work with matrices."
   ]
  },
  {
   "cell_type": "markdown",
   "metadata": {},
   "source": [
    "Multidimensional lists can be used as matrices:"
   ]
  },
  {
   "cell_type": "code",
   "execution_count": null,
   "metadata": {},
   "outputs": [],
   "source": [
    "matrix = [\n",
    "[1,2,3],\n",
    "[2,3,4],\n",
    "[3,4,5]\n",
    "]\n",
    "\n",
    "print(matrix)"
   ]
  },
  {
   "attachments": {},
   "cell_type": "markdown",
   "metadata": {},
   "source": [
    "You haven't yet installed numpy and matplotlib yet, you can do so by running one of the commands below (depending on your environment) in the command line:\n",
    "\n",
    "```bash\n",
    "pip install matplotlib\n",
    "python -m pip install matplotlib\n",
    "python3 -m pip install matplotlib\n",
    "py –3 –m pip install matplotlib\r\n",
    "```\n",
    "We only have to install matplotlib, as numpy is a dependency to matplotlib so it will be also installed automatically!\n",
    "\n"
   ]
  },
  {
   "cell_type": "markdown",
   "metadata": {},
   "source": [
    "## Numpy"
   ]
  },
  {
   "cell_type": "markdown",
   "metadata": {},
   "source": [
    "`numpy` is a Python library which includes tools for efficient calculations with matrices."
   ]
  },
  {
   "cell_type": "markdown",
   "metadata": {},
   "source": [
    "### Importing `numpy`"
   ]
  },
  {
   "cell_type": "markdown",
   "metadata": {},
   "source": [
    "`numpy` is imported using the `import` keyword just like all other libraries. The name is often abbreviated as `np`."
   ]
  },
  {
   "cell_type": "code",
   "execution_count": null,
   "metadata": {},
   "outputs": [],
   "source": [
    "import numpy as np\n",
    "\n",
    "np.array([1, 2, 3])"
   ]
  },
  {
   "cell_type": "markdown",
   "metadata": {},
   "source": [
    "In the example above we created the first `numpy.ndarray`. In Numpy `ndarray` is a datastructure which is analogous to lists. It is the datastructure on which the use of Numpy is mostly based on."
   ]
  },
  {
   "cell_type": "markdown",
   "metadata": {},
   "source": [
    "### `numpy.array()`"
   ]
  },
  {
   "cell_type": "markdown",
   "metadata": {},
   "source": [
    "The `array()` function in the `numpy` library converts a list given as an argument into an array."
   ]
  },
  {
   "cell_type": "code",
   "execution_count": null,
   "metadata": {},
   "outputs": [],
   "source": [
    "import numpy as np\n",
    "\n",
    "matrix = [\n",
    "[1, 2, 3],\n",
    "[2, 3, 4],\n",
    "[3, 4, 5]\n",
    "]\n",
    "\n",
    "matrix = np.array(matrix) # We change the datatype of the variable 'matrix'\n",
    "print(matrix)\n",
    "print(type(matrix))"
   ]
  },
  {
   "cell_type": "markdown",
   "metadata": {},
   "source": [
    "**Note that all rows (the nested lists) in Numpy arrays must be equally long!**"
   ]
  },
  {
   "cell_type": "markdown",
   "metadata": {},
   "source": [
    "The elements in a Numpy array can be accessed the same way as elements in Python lists:"
   ]
  },
  {
   "cell_type": "code",
   "execution_count": null,
   "metadata": {},
   "outputs": [],
   "source": [
    "a = np.array([1, 2, 3, 4])\n",
    "a[2] # Third value in the list "
   ]
  },
  {
   "cell_type": "markdown",
   "metadata": {},
   "source": [
    "In the case of multidimensional arrays one must provide the indices corresponding to the **row** and **column** of the element:"
   ]
  },
  {
   "cell_type": "code",
   "execution_count": null,
   "metadata": {},
   "outputs": [],
   "source": [
    "a = np.array([[1, 2, 3], \n",
    "              [7, 6, 3], \n",
    "              [7, 5, 9]])\n",
    "\n",
    "a[2, 1] # Third row, second column"
   ]
  },
  {
   "cell_type": "markdown",
   "metadata": {},
   "source": [
    "### Array functions and methods in Numpy"
   ]
  },
  {
   "cell_type": "markdown",
   "metadata": {},
   "source": [
    "#### `zeros()`"
   ]
  },
  {
   "cell_type": "markdown",
   "metadata": {},
   "source": [
    "The function `numpy.zeros()` creates an array filled with zeros based on the provided argument."
   ]
  },
  {
   "cell_type": "code",
   "execution_count": null,
   "metadata": {},
   "outputs": [],
   "source": [
    "import numpy as np\n",
    "\n",
    "print(np.zeros(10))"
   ]
  },
  {
   "cell_type": "markdown",
   "metadata": {},
   "source": [
    "You can also create matrices using the function by providing it with a two dimensional argument."
   ]
  },
  {
   "cell_type": "code",
   "execution_count": null,
   "metadata": {},
   "outputs": [],
   "source": [
    "import numpy as np\n",
    "\n",
    "np.zeros((2, 2))"
   ]
  },
  {
   "cell_type": "markdown",
   "metadata": {},
   "source": [
    "The example above creates a 2-by-2 matrix of zeros. You can alter the number and size of the dimentions arbitrarily. Note! When creating multidimensional arrays remember to put the dimensions inside brackets! In single-dimensional arrays just a number is enough."
   ]
  },
  {
   "cell_type": "code",
   "execution_count": null,
   "metadata": {},
   "outputs": [],
   "source": [
    "import numpy as np\n",
    "\n",
    "np.zeros((2, 3, 4))"
   ]
  },
  {
   "cell_type": "markdown",
   "metadata": {},
   "source": [
    "Here we created a three-dimensional array with size 2-by-3-by-4."
   ]
  },
  {
   "cell_type": "markdown",
   "metadata": {},
   "source": [
    "#### `ones()`"
   ]
  },
  {
   "cell_type": "markdown",
   "metadata": {},
   "source": [
    "`ones()` does the same as `zeros()` but instead of `0` the elements get the value `1`:"
   ]
  },
  {
   "cell_type": "code",
   "execution_count": null,
   "metadata": {},
   "outputs": [],
   "source": [
    "import numpy as np\n",
    "\n",
    "np.ones((4, 5))"
   ]
  },
  {
   "cell_type": "markdown",
   "metadata": {},
   "source": [
    "#### `shape`"
   ]
  },
  {
   "cell_type": "markdown",
   "metadata": {},
   "source": [
    "Finding out the shape of the array we work with is often very useful. For this we can use the method `numpy.nd.array.shape`."
   ]
  },
  {
   "cell_type": "code",
   "execution_count": null,
   "metadata": {},
   "outputs": [],
   "source": [
    "a = np.ones(5)\n",
    "print(a)\n",
    "print(a.shape) "
   ]
  },
  {
   "cell_type": "markdown",
   "metadata": {},
   "source": [
    "In the case of a two-dimensional array the number of rows is printed first followed by the number of column."
   ]
  },
  {
   "cell_type": "code",
   "execution_count": null,
   "metadata": {},
   "outputs": [],
   "source": [
    "a = np.ones((6, 4))\n",
    "print(a)\n",
    "print(a.shape)"
   ]
  },
  {
   "cell_type": "markdown",
   "metadata": {},
   "source": [
    "#### `linspace(start, stop, num, endpoint)`"
   ]
  },
  {
   "cell_type": "markdown",
   "metadata": {},
   "source": [
    "The `linspace` function creates a `numpy.ndarray` which includes `num` evenly spaced numbers in the range between `start` and `stop`. Using the `endpoint` argument we can define whether we want to include `stop` in the values or not. The arguments `start`, `stop` and `num` are numbers and `endpoint` is a boolean (`True/False`)."
   ]
  },
  {
   "cell_type": "markdown",
   "metadata": {},
   "source": [
    "Only `start` and `stop` are required arguments. By default `num = 50` and `endpoint = True`."
   ]
  },
  {
   "cell_type": "code",
   "execution_count": null,
   "metadata": {},
   "outputs": [],
   "source": [
    "import numpy as np\n",
    "\n",
    "print(np.linspace(0, 49))"
   ]
  },
  {
   "cell_type": "code",
   "execution_count": null,
   "metadata": {},
   "outputs": [],
   "source": [
    "import numpy as np\n",
    "\n",
    "\n",
    "print(np.linspace(0, 20, 5)) # 5 numbers with equal spacing between 0 and 20\n",
    "print(np.linspace(0, 20, 5, False)) # 5 numbers with equal spacing from 0 up to 20, but excluding value 20"
   ]
  },
  {
   "cell_type": "markdown",
   "metadata": {},
   "source": [
    "#### `arange()`"
   ]
  },
  {
   "cell_type": "markdown",
   "metadata": {},
   "source": [
    "The `numpy.arange()` function is in practice the same as the previously presented `range()` but it returns a `numpy.ndarray` directly."
   ]
  },
  {
   "cell_type": "code",
   "execution_count": null,
   "metadata": {},
   "outputs": [],
   "source": [
    "import numpy as np\n",
    "\n",
    "print(np.arange(3))\n",
    "print(np.arange(3, 7))\n",
    "print(np.arange(3, 7, 2))\n"
   ]
  },
  {
   "cell_type": "markdown",
   "metadata": {},
   "source": [
    "#### `reshape()`"
   ]
  },
  {
   "cell_type": "markdown",
   "metadata": {},
   "source": [
    "According to its name `reshape()` shapes a `numpy.ndarray()` according to the given arguments:"
   ]
  },
  {
   "cell_type": "code",
   "execution_count": null,
   "metadata": {},
   "outputs": [],
   "source": [
    "import numpy as np\n",
    "\n",
    "a = np.arange(12)\n",
    "print(a) # Original one dimensional array\n",
    "print(\"\\n--------\\n\")\n",
    "print(np.reshape(a,(3, 4))) # two dimensional array\n",
    "print(\"\\n--------\\n\")\n",
    "print(np.reshape(a,(3, 2, 2))) # three dimensional array"
   ]
  },
  {
   "cell_type": "markdown",
   "metadata": {},
   "source": [
    "Note that `reshape()` does not change the original array but instead returns a new array which is the reshaped version of the array given as an argument."
   ]
  },
  {
   "cell_type": "markdown",
   "metadata": {},
   "source": [
    "#### Exercise 5 "
   ]
  },
  {
   "cell_type": "markdown",
   "metadata": {},
   "source": [
    "Create a two-dimensional array which has zeros as all elements. The array should have 5 rows and 8 columns. Print the array you have created."
   ]
  },
  {
   "cell_type": "code",
   "execution_count": null,
   "metadata": {},
   "outputs": [],
   "source": []
  },
  {
   "cell_type": "markdown",
   "metadata": {},
   "source": [
    "#### Exercise 6"
   ]
  },
  {
   "cell_type": "markdown",
   "metadata": {},
   "source": [
    "Create a two-dimensional `numpy.ndarray()`, which includes the values 0-99. The shape of the array must be 10-by-10. Print the array in the end.\n",
    "\n",
    "*Hint: use `numpy.arange()` and `reshape()`.*"
   ]
  },
  {
   "cell_type": "code",
   "execution_count": null,
   "metadata": {},
   "outputs": [],
   "source": []
  },
  {
   "cell_type": "markdown",
   "metadata": {},
   "source": [
    "#### Exercise 7"
   ]
  },
  {
   "cell_type": "markdown",
   "metadata": {},
   "source": [
    "Write a program which asks the user for two integers. Next, create a matrix of zeros with the number or rows corresponding to the first number given by the user and the number of columns corresponding to the second number. After this, print the matric and its shape (using the `shape` feature!)."
   ]
  },
  {
   "cell_type": "code",
   "execution_count": null,
   "metadata": {},
   "outputs": [],
   "source": []
  },
  {
   "cell_type": "markdown",
   "metadata": {},
   "source": [
    "### Appending to an array"
   ]
  },
  {
   "cell_type": "markdown",
   "metadata": {},
   "source": [
    "One can add an element to a one-dimensional array with the `numpy.append()` function. The function works a bit differently compared with the Python built-in version for lists.\n",
    "1. The function does not alter the original array, but instead returns a new array.\n",
    "2. The function must be provided with an array to which element(s) are added as well as the element(s) as arguments."
   ]
  },
  {
   "cell_type": "code",
   "execution_count": null,
   "metadata": {},
   "outputs": [],
   "source": [
    "a = np.array([1, 2, 3, 4])\n",
    "print(\"The original array (unchanged):\", a)\n",
    "print(\"Array where we append a to value:\", np.append(a, 5))"
   ]
  },
  {
   "cell_type": "markdown",
   "metadata": {},
   "source": [
    "Rows can be added to a single- or multidimensional array by using the `numpy.vstack()` function. The same works for columns with `numpy.column_stack()`. These functions also return a new array!\n",
    "\n",
    "`numpy.vstack()` functions like `numpy.append()` but it can be provided with and arbitrary number of single- or multidimensional arrays to combine. Note however, that the row lengths must be the same for all arrays being combined. The added rows must also be provided inside additional brackets (check the example below). These two things must be taken into consideration or the addition will not work and Python will print out an error."
   ]
  },
  {
   "cell_type": "code",
   "execution_count": null,
   "metadata": {},
   "outputs": [],
   "source": [
    "a = np.array([1, 2, 3])\n",
    "b = np.array([4, 5, 6])\n",
    "c = np.array([7, 8, 9])\n",
    "\n",
    "matrix = np.vstack((a, b, c)) # We add all rows at once\n",
    "print(matrix)\n",
    "print(\"----\")\n",
    "matrix2 = np.vstack((c, b)) # First we stack c and b\n",
    "matrix2 = np.vstack((matrix2, a)) # Then we add a\n",
    "print(matrix2)"
   ]
  },
  {
   "cell_type": "markdown",
   "metadata": {},
   "source": [
    "The function combines the arrays in the order they are provided for it. Note! The arguments must once again be input inside additional brackets.\n",
    "\n",
    "The `numpy.column_stack()` function can be used to add columns to an array. The function is used in exactly the same way as the `numpy.vstack()` function. `numpy.column_stack()` function re-arranges the contents of the lists as the elements in Numpy arrays are always presented row by row. "
   ]
  },
  {
   "cell_type": "code",
   "execution_count": null,
   "metadata": {},
   "outputs": [],
   "source": [
    "a = np.array([1, 2, 3])\n",
    "b = np.array([4, 5, 6])\n",
    "c = np.array([7, 8, 9])\n",
    "\n",
    "matrix = np.column_stack((a, b, c)) \n",
    "print(matrix)\n",
    "print(\"-----\")\n",
    "matrix2 = np.column_stack((b, c, a))\n",
    "print(matrix2)"
   ]
  },
  {
   "cell_type": "markdown",
   "metadata": {},
   "source": [
    "One can also combine multidimensional arrays with these functions. The arrays must also be of compatible shape in this case as well."
   ]
  },
  {
   "cell_type": "code",
   "execution_count": null,
   "metadata": {},
   "outputs": [],
   "source": [
    "a = np.array([[1, 2, 3],\n",
    "              [4, 5, 6]])\n",
    "\n",
    "b = np.array([[5, 6, 7],\n",
    "              [9, 8, 7]])\n",
    "\n",
    "print(np.vstack((a, b)))\n",
    "print(\"------\")\n",
    "print(np.column_stack((a, b)))"
   ]
  },
  {
   "cell_type": "markdown",
   "metadata": {},
   "source": [
    "#### Exercise 8"
   ]
  },
  {
   "cell_type": "markdown",
   "metadata": {},
   "source": [
    "You have been provided with three arrays `a`, `b` and `c`.\n",
    "\n",
    "1. First add the number `3` to the array `a` using the function `np.append()` and save this new array to a variable named `d`.\n",
    "2. After this, add the array `d` to the array `b` using the function `np.vstack()` and save this new array to a variable named `mat1`.\n",
    "3. Finally, add the array `c` to the array `mat1` using the function `np.column_stack()` and save this new array to a variable named `mat2`.\n",
    "\n",
    "After every combining operation print the new variable you have created. As a final result you should get a 4-by-4 matrix."
   ]
  },
  {
   "cell_type": "code",
   "execution_count": null,
   "metadata": {},
   "outputs": [],
   "source": [
    "a = np.array([1, 2])\n",
    "\n",
    "b = np.array([[4, 3, 2], \n",
    "              [6, 5, 4], \n",
    "              [5, 2, 7]])\n",
    "\n",
    "c = np.array([7, 5, 2, 3])\n",
    "\n",
    "#Write your code here"
   ]
  },
  {
   "cell_type": "markdown",
   "metadata": {},
   "source": [
    "### Constants"
   ]
  },
  {
   "cell_type": "markdown",
   "metadata": {},
   "source": [
    "Pi and other constants can be accessed in a familiar manner also using the Numpy library:"
   ]
  },
  {
   "cell_type": "code",
   "execution_count": null,
   "metadata": {},
   "outputs": [],
   "source": [
    "import numpy as np\n",
    "\n",
    "print(np.pi)\n",
    "print(np.e)"
   ]
  },
  {
   "cell_type": "markdown",
   "metadata": {},
   "source": [
    "### Trigonometric functions"
   ]
  },
  {
   "cell_type": "markdown",
   "metadata": {},
   "source": [
    "Trigonometric functions work in the same way as in the `math` library. **Note again the conversion of the angle to radians**:"
   ]
  },
  {
   "cell_type": "code",
   "execution_count": null,
   "metadata": {},
   "outputs": [],
   "source": [
    "import numpy as np\n",
    "\n",
    "angle = 45\n",
    "radians = np.radians(angle)\n",
    "np.sin(radians)"
   ]
  },
  {
   "cell_type": "markdown",
   "metadata": {},
   "source": [
    "And again, if the argument is of type `np.ndarray` the conversion is done for all elements!"
   ]
  },
  {
   "cell_type": "code",
   "execution_count": null,
   "metadata": {},
   "outputs": [],
   "source": [
    "import numpy as np\n",
    "\n",
    "angles = np.array([0, 30, 60, 90])\n",
    "radians = np.radians(angles)\n",
    "np.sin(radians)"
   ]
  },
  {
   "cell_type": "markdown",
   "metadata": {},
   "source": [
    "### Additional functions"
   ]
  },
  {
   "cell_type": "markdown",
   "metadata": {},
   "source": [
    "#### `mean()`"
   ]
  },
  {
   "cell_type": "markdown",
   "metadata": {},
   "source": [
    "`numpy.mean()` calculates the mean value of the array."
   ]
  },
  {
   "cell_type": "code",
   "execution_count": null,
   "metadata": {},
   "outputs": [],
   "source": [
    "import numpy as np\n",
    "\n",
    "x = np.arange(10)\n",
    "print(x)\n",
    "np.mean(x)"
   ]
  },
  {
   "cell_type": "markdown",
   "metadata": {},
   "source": [
    "For multidimensional arrays the default behaviour is to calculate a single mean for all values:"
   ]
  },
  {
   "cell_type": "code",
   "execution_count": null,
   "metadata": {},
   "outputs": [],
   "source": [
    "import numpy as np\n",
    "\n",
    "A = np.array([\n",
    "    [1, 2, 3],\n",
    "    [2, 3, 4],\n",
    "    [1, 2, 3]\n",
    "])\n",
    "\n",
    "np.mean(A)"
   ]
  },
  {
   "cell_type": "markdown",
   "metadata": {},
   "source": [
    "If instead we want to calculate the mean values for each column or row we can use the optional `axis` argument. Means for columns can be calculated by setting `axis=0` and means for rows by setting `axis=1`. The same logic applies for higher dimensions as well. In these cases the function will return a numpy array:"
   ]
  },
  {
   "cell_type": "code",
   "execution_count": null,
   "metadata": {},
   "outputs": [],
   "source": [
    "import numpy as np\n",
    "\n",
    "A = np.array([\n",
    "    [1, 2, 3],\n",
    "    [2, 3, 4],\n",
    "    [1, 1, 1]\n",
    "])\n",
    "\n",
    "print(\"Column means:\", np.mean(A, axis=0))\n",
    "print(\"------\")\n",
    "print(\"Row means:\", np.mean(A, axis=1))"
   ]
  },
  {
   "cell_type": "markdown",
   "metadata": {},
   "source": [
    "#### `sum()`"
   ]
  },
  {
   "cell_type": "markdown",
   "metadata": {},
   "source": [
    "All element values of a matrix can be added together by using the `numpy.sum()` function:"
   ]
  },
  {
   "cell_type": "code",
   "execution_count": null,
   "metadata": {},
   "outputs": [],
   "source": [
    "A = np.array([[1, 2, 3],\n",
    "              [3, 2, 2],\n",
    "              [1, 5, 2]])\n",
    "\n",
    "print(np.sum(A))"
   ]
  },
  {
   "cell_type": "markdown",
   "metadata": {},
   "source": [
    "The function can also be used to calculate sums for rows or columns by defining the `axis` argument as `0` or `1` (or higher) respectively."
   ]
  },
  {
   "cell_type": "code",
   "execution_count": null,
   "metadata": {},
   "outputs": [],
   "source": [
    "A = np.array([[1, 2, 3],\n",
    "              [3, 2, 2],\n",
    "              [1, 5, 2]])\n",
    "\n",
    "print(\"Column sums:\", np.sum(A, axis=0))\n",
    "print(\"-----\")\n",
    "print(\"Row sums:\", np.sum(A, axis=1))"
   ]
  },
  {
   "cell_type": "markdown",
   "metadata": {},
   "source": [
    "#### Exercise 9"
   ]
  },
  {
   "cell_type": "markdown",
   "metadata": {},
   "source": [
    "You have been provided with the array `A`. Calculate the mean value for the table as well as mean values for rows and columns and print them."
   ]
  },
  {
   "cell_type": "code",
   "execution_count": null,
   "metadata": {},
   "outputs": [],
   "source": [
    "import numpy as np\n",
    "\n",
    "A = np.array([\n",
    "    [1, 5, 7, 8],\n",
    "    [3, 3, 3, 3],\n",
    "    [9, 1, 9, 1]\n",
    "])\n",
    "\n",
    "#Write your code here"
   ]
  },
  {
   "cell_type": "markdown",
   "metadata": {},
   "source": [
    "#### Exercise 10"
   ]
  },
  {
   "cell_type": "markdown",
   "metadata": {},
   "source": [
    "You have been provided with the array `A`. Calculate the value of all elements in the table added together as well as sums for rows and columns. Then print the sums."
   ]
  },
  {
   "cell_type": "code",
   "execution_count": null,
   "metadata": {},
   "outputs": [],
   "source": [
    "import numpy as np\n",
    "\n",
    "A = np.array([\n",
    "    [1, 5, 7, 8],\n",
    "    [3, 3, 3, 3],\n",
    "    [9, 1, 9, 1]\n",
    "])\n",
    "\n",
    "#Write your code here"
   ]
  },
  {
   "cell_type": "markdown",
   "metadata": {},
   "source": [
    "### Mathematical operations"
   ]
  },
  {
   "cell_type": "markdown",
   "metadata": {},
   "source": [
    "In the Numpy library all mathematical operations are by default generalized to also work for arrays, making the use of arrays a handy and quick way of doing calculations:"
   ]
  },
  {
   "cell_type": "code",
   "execution_count": null,
   "metadata": {},
   "outputs": [],
   "source": [
    "import numpy as np\n",
    "\n",
    "a = np.ones((2, 5))\n",
    "5 * a"
   ]
  },
  {
   "cell_type": "markdown",
   "metadata": {},
   "source": [
    "Differing from using lists, with `numpy.ndarray` the operations are done element-wise (for each element separately)."
   ]
  },
  {
   "cell_type": "code",
   "execution_count": null,
   "metadata": {},
   "outputs": [],
   "source": [
    "import numpy as np\n",
    "\n",
    "a = np.ones((3, 3))\n",
    "print(a + 2)\n",
    "print(\"-----\")\n",
    "print(a - 5)\n",
    "print(\"-----\")\n",
    "print(a / 2)\n",
    "print(\"-----\")\n",
    "print(a * 2)"
   ]
  },
  {
   "cell_type": "markdown",
   "metadata": {},
   "source": [
    "If both operands are matrices, the operation is calculated between the elements with the same indices:"
   ]
  },
  {
   "cell_type": "code",
   "execution_count": null,
   "metadata": {},
   "outputs": [],
   "source": [
    "a = np.array([[1, 2],[3, 4]])\n",
    "b = np.array([[1, 1],[5, 7]])\n",
    "\n",
    "print(\"Matrix a:\\n\", a)\n",
    "print(\"-----\")\n",
    "print(\"Matrix b:\\n\", b)\n",
    "print(\"-----\")\n",
    "print(\"a + b:\\n\", a + b)\n",
    "print(\"-----\")\n",
    "print(\"a - b:\\n\", a - b)\n",
    "print(\"-----\")\n",
    "print(\"a / b:\\n\", a / b)\n",
    "print(\"-----\")\n",
    "print(\"a * b:\\n\", a * b)"
   ]
  },
  {
   "cell_type": "markdown",
   "metadata": {},
   "source": [
    "If a similiar operation is attempted with regular Python lists we get an error message:"
   ]
  },
  {
   "cell_type": "code",
   "execution_count": null,
   "metadata": {},
   "outputs": [],
   "source": [
    "a = [1, 1, 1, 1, 1, 1]\n",
    "print(a + 2)"
   ]
  },
  {
   "cell_type": "markdown",
   "metadata": {},
   "source": [
    "#### Exercise 11"
   ]
  },
  {
   "cell_type": "markdown",
   "metadata": {},
   "source": [
    "You have been provided with the arrays `a` and `b`. Do the following calculations on them:\n",
    "\n",
    "1. Calculate `a+b`.\n",
    "2. Multiply the array `a` with the number `3` and then raise the values to the power of two.\n",
    "3. Calculate `(a+b)*(a-b)` and then raise the values to the power of three."
   ]
  },
  {
   "cell_type": "code",
   "execution_count": null,
   "metadata": {},
   "outputs": [],
   "source": [
    "a = np.array([[1, 2, 6], \n",
    "              [7, 5, 8], \n",
    "              [1, 6, 9]])\n",
    "\n",
    "b = np.array([[5, 3, 4], \n",
    "              [1, 4, 8], \n",
    "              [6, 7, 9]])\n",
    "\n",
    "#Write your code here"
   ]
  },
  {
   "cell_type": "markdown",
   "metadata": {},
   "source": [
    "### Slicing"
   ]
  },
  {
   "cell_type": "markdown",
   "metadata": {},
   "source": [
    "In chapter 5 we were presented with lists and their properties. One property for lists was the slicing operation with which a particular part of a list could be accessed. Slicing works for Numpy arrays in the same way as for lists:"
   ]
  },
  {
   "cell_type": "code",
   "execution_count": null,
   "metadata": {},
   "outputs": [],
   "source": [
    "a = np.array([11, 7, 5, 21, 89, 64, 86, 48])\n",
    "print(a)\n",
    "print(a[:5]) # First 5 values\n",
    "print(a[::2]) # Every other value\n",
    "print(a[5:2:-1]) # Values from idx 5 to idx 3 backwards"
   ]
  },
  {
   "cell_type": "markdown",
   "metadata": {},
   "source": [
    "We can also perform slicing operations for multidimensional arrays. The dimensions of a multidimensional array must be separated with a comma. For a two-dimensional array this would be `array[row, column]`. If we want all elements in some dimension included (for example all rows or all columns), we can use the `:` symbol for the dimension in question."
   ]
  },
  {
   "cell_type": "code",
   "execution_count": null,
   "metadata": {},
   "outputs": [],
   "source": [
    "a = np.array([[1, 2, 3, 6], \n",
    "              [7, 6, 4, 3], \n",
    "              [9, 5, 3, 6], \n",
    "              [4, 6, 7, 8]])\n",
    "\n",
    "print(a[1:, :]) # Ignore first row\n",
    "print(\"------\")\n",
    "print(a[::2, ::2]) # Take every other row and column\n",
    "print(\"------\")\n",
    "print(a[::-1, :]) # Change the order of the rows\n",
    "print(\"------\")\n",
    "print(a[:, 0]) # Take the first column"
   ]
  },
  {
   "cell_type": "markdown",
   "metadata": {},
   "source": [
    "#### Exercise 12"
   ]
  },
  {
   "cell_type": "markdown",
   "metadata": {},
   "source": [
    "You have been provided with the array `a`. Perform the following slice operations on it:\n",
    "\n",
    "1. Print `a` without the first column.\n",
    "2. Print the last elements from rows 2 and 3 from the array `a`.\n",
    "3. Print the even columns from the array `a` (starting from index 0).\n",
    "4. Print the two first rows and the three first columns from array `a` in such a way that the elements are in reverse order."
   ]
  },
  {
   "cell_type": "code",
   "execution_count": null,
   "metadata": {},
   "outputs": [],
   "source": [
    "import numpy as np\n",
    "\n",
    "a = np.array([[1, 9, 33, 67], \n",
    "              [6, 44, 12, 8], \n",
    "              [94, 125, 6, 3], \n",
    "              [5, 7, 68, 3]])"
   ]
  },
  {
   "cell_type": "markdown",
   "metadata": {},
   "source": [
    "## Matplotlib"
   ]
  },
  {
   "cell_type": "markdown",
   "metadata": {},
   "source": [
    "Matplotlib is one of the most widely used libraries in Python for creating visualizations, such as graphs, plots, and images. It provides a versatile and powerful toolkit that allows developers and data scientists to create a wide variety of static, animated, and interactive visualizations. While matplotlib is a vast library, often only the module `matplotlib.pyplot` is used."
   ]
  },
  {
   "cell_type": "markdown",
   "metadata": {},
   "source": [
    "Let's start with a simple example:"
   ]
  },
  {
   "cell_type": "code",
   "execution_count": null,
   "metadata": {},
   "outputs": [],
   "source": [
    "import numpy as np\n",
    "import matplotlib.pyplot as plt\n",
    "\n",
    "x = np.arange(5)\n",
    "y = np.arange(5)\n",
    "\n",
    "plt.plot(x, y)\n",
    "plt.show()"
   ]
  },
  {
   "cell_type": "markdown",
   "metadata": {},
   "source": [
    "Let's go through the example"
   ]
  },
  {
   "cell_type": "markdown",
   "metadata": {},
   "source": [
    "```python\n",
    "import numpy as np\n",
    "import matplotlib.pyplot as plt\n",
    "```\n",
    "Importing libraries, the library variable of `pyplot` is renamed as `plt` according to common convention."
   ]
  },
  {
   "cell_type": "markdown",
   "metadata": {},
   "source": [
    "```\n",
    "x = np.arange(5)\n",
    "y = np.arange(5)\n",
    "```"
   ]
  },
  {
   "cell_type": "markdown",
   "metadata": {},
   "source": [
    "We create two lists with `numpy.arange()`, both of which include the integers from 0 to 4 (recall how `numpy.arange()` works), and the lists are saved in variables `x` and `y`."
   ]
  },
  {
   "cell_type": "markdown",
   "metadata": {},
   "source": [
    "We call the `plot()` function of the `pyplot` library. `pyplot.plot()` takes as arguments two single dimensional arrays **which must include the same number of elements.** The first array includes the values for the x-axis and the second the values for the y-axis. Then a line is drawn through the coordinates or points in space."
   ]
  },
  {
   "cell_type": "markdown",
   "metadata": {},
   "source": [
    "The `show()` function displays the final figure. Note that the figure is created with the function `plot()` but the figure is displayed only when `show()` is called."
   ]
  },
  {
   "cell_type": "markdown",
   "metadata": {},
   "source": [
    "Because the arrays provided for `plot()` are identical, the figure shows just a straight line from zero to four for both dimensions."
   ]
  },
  {
   "cell_type": "code",
   "execution_count": null,
   "metadata": {},
   "outputs": [],
   "source": [
    "import numpy as np\n",
    "import matplotlib.pyplot as plt\n",
    "\n",
    "x = np.linspace(0, 20, 100)\n",
    "y = np.sin(x)\n",
    "\n",
    "plt.plot(x, y)\n",
    "plt.show()"
   ]
  },
  {
   "cell_type": "markdown",
   "metadata": {},
   "source": [
    "In this example we draw a simple sine curve. Instead of two identical arrays on line 6 we create an array which includes 100 elements from the range 0-20 using `linspace()`. By inputting `x` to the function `sin()` we get the values for y-axis."
   ]
  },
  {
   "cell_type": "markdown",
   "metadata": {},
   "source": [
    "We create a new figure with the same `plot()` function as before and the `show()` function displays it."
   ]
  },
  {
   "cell_type": "markdown",
   "metadata": {},
   "source": [
    "### Figure and Axes\n",
    "\n",
    "In Matplotlib, a Figure is the overall window or page where plots are drawn, while an Axes is a part of the figure where the data is plotted. A figure can contain multiple axes, allowing for complex and multi-plot visualizations.\n",
    "\n",
    "To create a figure and axes, you can use the `plt.subplots()` function. Additionally, we can plot directly to a specific axes (`axs.plot()` instead of `plt.plot()`)"
   ]
  },
  {
   "cell_type": "code",
   "execution_count": null,
   "metadata": {},
   "outputs": [],
   "source": [
    "import matplotlib.pyplot as plt\n",
    "\n",
    "fig, ax = plt.subplots()\n",
    "ax.plot([1, 2, 3, 4], [1, 4, 2, 3])\n",
    "plt.show()"
   ]
  },
  {
   "cell_type": "markdown",
   "metadata": {},
   "source": [
    "Here, fig represents the figure object, and ax is the axes object where the plot is drawn.\n",
    "\n",
    "The benefits of using Figures and Axes in Matplotlib include enhanced control and flexibility in creating complex visualizations, as Figures allow for multiple Axes (subplots) within a single window, enabling the organization of different plots in a coherent layout, while Axes provide a dedicated space for plotting data, allowing for precise customization of titles, labels, scales, and other plot elements. \n",
    "\n",
    "However for simple plots, it’s not always necessary to use Figures and Axes explicitly because Matplotlib’s pyplot module provides high-level functions like `plt.plot()` that automatically create and manage the Figure and Axes objects behind the scenes, allowing you to quickly generate basic plots with minimal code. This simplifies the process when you only need a straightforward visualization without the need for extensive customization or multiple subplots."
   ]
  },
  {
   "cell_type": "markdown",
   "metadata": {},
   "source": [
    "### Multiple lines in a single figure"
   ]
  },
  {
   "cell_type": "markdown",
   "metadata": {},
   "source": [
    "There are several ways of plotting multiple lines to a figure, here we will cover two approaches."
   ]
  },
  {
   "cell_type": "markdown",
   "metadata": {},
   "source": [
    "You can add another line by adding two more arguments to the `plot()` function. These arguments are the x-axis and y-axis arrays for the second line. You can add an arbitrary number of graphs this way."
   ]
  },
  {
   "cell_type": "code",
   "execution_count": null,
   "metadata": {},
   "outputs": [],
   "source": [
    "import numpy as np\n",
    "import matplotlib.pyplot as plt\n",
    "\n",
    "x = np.linspace(0, 20, 100)\n",
    "y1 = np.sin(x)\n",
    "y2 = np.cos(x)\n",
    "plt.plot(x, y1, x, y2)\n",
    "plt.show()"
   ]
  },
  {
   "cell_type": "markdown",
   "metadata": {},
   "source": [
    "In the example above a cosine curve was added with the same x values."
   ]
  },
  {
   "cell_type": "markdown",
   "metadata": {},
   "source": [
    "Multiple lines could also be drawn by calling the `plt.plot()` function multiple times:"
   ]
  },
  {
   "cell_type": "code",
   "execution_count": null,
   "metadata": {},
   "outputs": [],
   "source": [
    "import numpy as np\n",
    "import matplotlib.pyplot as plt\n",
    "\n",
    "x = np.linspace(0, 20, 100)\n",
    "y1 = np.sin(x)\n",
    "y2 = np.cos(x)\n",
    "plt.plot(x, y1)\n",
    "plt.plot(x, y2)\n",
    "plt.show()"
   ]
  },
  {
   "cell_type": "markdown",
   "metadata": {},
   "source": [
    "#### Exercise 13"
   ]
  },
  {
   "cell_type": "markdown",
   "metadata": {},
   "source": [
    "Draw a figure where different mathematical functions can be compared with the same x values. Create an array `x` which includes 100 elements from the range 1-25 (excluding 25). Create three lines. The y-values of the lines are defined as follows:\n",
    "- Line 1: $y_1$ = $x$\n",
    "- Line 2: $y_2$ = $x^2$\n",
    "- Line 3: $y_3$ = $\\frac{1}{x}$"
   ]
  },
  {
   "cell_type": "markdown",
   "metadata": {},
   "source": [
    "Draw all three lines in a single figure and display it."
   ]
  },
  {
   "cell_type": "markdown",
   "metadata": {},
   "source": [
    "Hint: You should create only one array for the values of x and use it for calculating the arrays for the different y values. Use `numpy.ndarray` data structures. Creating the y-axis arrays is easier once you have created the x-value array first. Remember that for basic math operations using Numpy arrays the operations are performed for all elements separately and the result is a new array. This way it is not necessary to calculate each value in the array manually."
   ]
  },
  {
   "cell_type": "code",
   "execution_count": null,
   "metadata": {},
   "outputs": [],
   "source": [
    "#Write your code here"
   ]
  },
  {
   "cell_type": "markdown",
   "metadata": {},
   "source": [
    "### Customizing Plots\n",
    "\n",
    "Matplotlib offers extensive customization options for enhancing the appearance and readability of plots. Common elements that can be customized include:\n",
    "\n",
    "- Titles and Labels: Titles and labels are crucial for understanding what the plot represents."
   ]
  },
  {
   "cell_type": "code",
   "execution_count": null,
   "metadata": {},
   "outputs": [],
   "source": [
    "import matplotlib.pyplot as plt\n",
    "\n",
    "fig, ax = plt.subplots()\n",
    "ax.plot([1, 2, 3, 4], [1, 4, 2, 3])\n",
    "ax.set_title(\"Sample Plot\")\n",
    "ax.set_xlabel(\"X-axis label\")\n",
    "ax.set_ylabel(\"Y-axis label\")\n",
    "plt.show()"
   ]
  },
  {
   "cell_type": "markdown",
   "metadata": {},
   "source": [
    "- Legends: Legends are used to identify different data series in a plot."
   ]
  },
  {
   "cell_type": "code",
   "execution_count": null,
   "metadata": {},
   "outputs": [],
   "source": [
    "import matplotlib.pyplot as plt\n",
    "\n",
    "fig, ax = plt.subplots()\n",
    "ax.plot([1, 2, 3, 4], [1, 4, 2, 3])\n",
    "ax.legend([\"Series 1\"])\n",
    "plt.show()"
   ]
  },
  {
   "cell_type": "markdown",
   "metadata": {},
   "source": [
    "- Grid and Scale: Grids help in reading values from the plot more easily, and axes can be scaled logarithmically or linearly."
   ]
  },
  {
   "cell_type": "code",
   "execution_count": null,
   "metadata": {},
   "outputs": [],
   "source": [
    "import matplotlib.pyplot as plt\n",
    "\n",
    "fig, ax = plt.subplots()\n",
    "ax.plot([1, 2, 3, 4], [10, 100, 1000, 10000])\n",
    "ax.grid(True) # or False\n",
    "ax.set_yscale(\"log\") # or \"linear\"\n",
    "plt.show()"
   ]
  },
  {
   "cell_type": "markdown",
   "metadata": {},
   "source": [
    "- Plot Elements: Elements like line style, marker style, and colors can be adjusted directly within the `plot()` function."
   ]
  },
  {
   "cell_type": "code",
   "execution_count": null,
   "metadata": {},
   "outputs": [],
   "source": [
    "import matplotlib.pyplot as plt\n",
    "\n",
    "fig, ax = plt.subplots()\n",
    "ax.plot([1, 2, 3, 4], [10, 20, 25, 30], linestyle='--', color='r', marker='o')\n",
    "plt.show()"
   ]
  },
  {
   "cell_type": "markdown",
   "metadata": {},
   "source": [
    "All of the possible modifications for figures can be found [here](https://matplotlib.org/stable/users/index.html), or by simply searching for the desired operation using Google (or your search engine of choice)."
   ]
  },
  {
   "cell_type": "markdown",
   "metadata": {},
   "source": [
    "### Multiple graphs in a figure\n",
    "\n",
    "Matplotlib allows for the creation of more complex visualizations using multiple axes, subplots, and different types of plots.\n",
    "\n",
    "- Subplots: Multiple subplots can be created within a single figure using `plt.subplots()`. This is useful for comparing different data sets."
   ]
  },
  {
   "cell_type": "code",
   "execution_count": null,
   "metadata": {},
   "outputs": [],
   "source": [
    "import matplotlib.pyplot as plt\n",
    "\n",
    "fig, axs = plt.subplots(1, 2)\n",
    "axs[0].plot([1, 2, 3, 4], [1, 4, 2, 3])\n",
    "axs[1].plot([1, 2, 3, 4], [10, 20, 25, 30])\n",
    "plt.show()"
   ]
  },
  {
   "cell_type": "markdown",
   "metadata": {},
   "source": [
    "Having two plots in the same row makes `axs` variable a one dimensional numpy array."
   ]
  },
  {
   "cell_type": "code",
   "execution_count": null,
   "metadata": {},
   "outputs": [],
   "source": [
    "import matplotlib.pyplot as plt\n",
    "\n",
    "fig, axs = plt.subplots(2, 2)\n",
    "axs[0, 0].plot([1, 2, 3, 4], [1, 4, 2, 3])\n",
    "axs[1, 1].plot([1, 2, 3, 4], [10, 20, 25, 30])\n",
    "plt.show()"
   ]
  },
  {
   "cell_type": "markdown",
   "metadata": {},
   "source": [
    "Creating four plots with `subplots()` results in a matrix of Axes objects (a numpy array to be exact). We can use the specific index of an Axes to select it."
   ]
  },
  {
   "cell_type": "markdown",
   "metadata": {},
   "source": [
    "### Saving a figure\n",
    "\n",
    "Once a Figure is created, it can be saved to a file using the `savefig()` method. The method accepts a variety of paremeters to control the final image. You can read about it [here](https://matplotlib.org/stable/api/_as_gen/matplotlib.pyplot.savefig.html). "
   ]
  },
  {
   "cell_type": "code",
   "execution_count": null,
   "metadata": {},
   "outputs": [],
   "source": [
    "import matplotlib.pyplot as plt\n",
    "\n",
    "fig, ax = plt.subplots()\n",
    "ax.plot([1, 2, 3, 4], [10, 20, 25, 30], linestyle='-', color='b', marker='o')\n",
    "fig.savefig(\"my_fig.png\", dpi=150) "
   ]
  },
  {
   "cell_type": "markdown",
   "metadata": {},
   "source": [
    "#### Exercise 14 \n",
    "\n",
    "Your task is to create a figure that that plots two lines in two separate styles to the same axes. The data is given to you in the notebook cell below.\n",
    "\n",
    "- The data in `x1` and `y1` should be plotted as a blue line that has circles on top of the data points\n",
    "- The data in `x2` and `y2` should be plotted as a **dashed** red line that has crosses (*x*) on top of the data points\n",
    "- The figure should have a title, axis labels and a legend\n",
    "- The program should finally save the figure as an image, with DPI set to 300\n",
    "\n",
    "To solve the exercise, you might need to search the internet how to achieve some of the requested features"
   ]
  },
  {
   "cell_type": "code",
   "execution_count": null,
   "metadata": {},
   "outputs": [],
   "source": [
    "x1 = [-5, -3, 0, 1, 2, 5, 6, 9]\n",
    "y1 = [20, 50, 5, 15, 23, 27, 9, 10]\n",
    "\n",
    "x2 = [3, 5, 6, 13, 15, 21, 26, 29, 31, 34]\n",
    "y2 = [25, 12, 22, 27, 18, 30, 20, 15, 29, 7]\n",
    "\n",
    "#your code here"
   ]
  }
 ],
 "metadata": {
  "kernelspec": {
   "display_name": "Python 3 (ipykernel)",
   "language": "python",
   "name": "python3"
  },
  "language_info": {
   "codemirror_mode": {
    "name": "ipython",
    "version": 3
   },
   "file_extension": ".py",
   "mimetype": "text/x-python",
   "name": "python",
   "nbconvert_exporter": "python",
   "pygments_lexer": "ipython3",
   "version": "3.10.9"
  },
  "vscode": {
   "interpreter": {
    "hash": "369f2c481f4da34e4445cda3fffd2e751bd1c4d706f27375911949ba6bb62e1c"
   }
  }
 },
 "nbformat": 4,
 "nbformat_minor": 4
}
