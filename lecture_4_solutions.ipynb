{
 "cells": [
  {
   "cell_type": "markdown",
   "metadata": {},
   "source": [
    "## Lecture 4\n",
    "\n",
    "### Exercise 1\n",
    "\n",
    "Write a Python program that defines functions for basic arithmetic operations: addition, subtraction, multiplication, and division. \n",
    "The program should then use these functions to perform calculations based on user input.\n",
    "Instructions:\n",
    "- Define four functions: add(a,b), subtract(a,b), multiply(a,b) and divide(a,b). Each function should take two arguments and return the result of the corresponding operation.\n",
    "- Ask the user to choose an operation (addition, subtraction, multiplication, division).\n",
    "- Prompt the user to enter two numbers.\n",
    "- Call the appropriate function based on the user’s choice and display the result.\n"
   ]
  },
  {
   "cell_type": "code",
   "execution_count": 2,
   "metadata": {},
   "outputs": [
    {
     "name": "stdout",
     "output_type": "stream",
     "text": [
      "Choose an operation:\n",
      "1. Addition\n",
      "2. Subtraction\n",
      "3. Multiplication\n",
      "4. Division\n",
      "The result of multiplication is: 9.0\n"
     ]
    }
   ],
   "source": [
    "# Define the functions for basic arithmetic operations\n",
    "\n",
    "def add(a, b):\n",
    "    \"\"\"Return the sum of a and b.\"\"\"\n",
    "    return a + b\n",
    "\n",
    "def subtract(a, b):\n",
    "    \"\"\"Return the difference between a and b.\"\"\"\n",
    "    return a - b\n",
    "\n",
    "def multiply(a, b):\n",
    "    \"\"\"Return the product of a and b.\"\"\"\n",
    "    return a * b\n",
    "\n",
    "def divide(a, b):\n",
    "    \"\"\"Return the quotient of a and b. Handle division by zero.\"\"\"\n",
    "    if b == 0:\n",
    "        return \"Error: Cannot divide by zero.\"\n",
    "    return a / b\n",
    "\n",
    "# Main program\n",
    "def main():\n",
    "    print(\"Choose an operation:\")\n",
    "    print(\"1. Addition\")\n",
    "    print(\"2. Subtraction\")\n",
    "    print(\"3. Multiplication\")\n",
    "    print(\"4. Division\")\n",
    "    \n",
    "    # Get the user's choice\n",
    "    choice = input(\"Enter your choice (1/2/3/4): \")\n",
    "    \n",
    "    # Get the numbers from the user\n",
    "    try:\n",
    "        num1 = float(input(\"Enter the first number: \"))\n",
    "        num2 = float(input(\"Enter the second number: \"))\n",
    "    except ValueError:\n",
    "        print(\"Invalid input! Please enter numerical values.\")\n",
    "        return\n",
    "\n",
    "    # Perform the operation based on user's choice\n",
    "    if choice == '1':\n",
    "        result = add(num1, num2)\n",
    "        print(f\"The result of addition is: {result}\")\n",
    "    elif choice == '2':\n",
    "        result = subtract(num1, num2)\n",
    "        print(f\"The result of subtraction is: {result}\")\n",
    "    elif choice == '3':\n",
    "        result = multiply(num1, num2)\n",
    "        print(f\"The result of multiplication is: {result}\")\n",
    "    elif choice == '4':\n",
    "        result = divide(num1, num2)\n",
    "        print(f\"The result of division is: {result}\")\n",
    "    else:\n",
    "        print(\"Invalid choice! Please select a valid operation.\")\n",
    "\n",
    "# Run the main program\n",
    "# The main() function is called only if the script is run as a main program (not imported as a module).\n",
    "if __name__ == \"__main__\":\n",
    "    main()\n"
   ]
  },
  {
   "cell_type": "markdown",
   "metadata": {},
   "source": [
    "### Exercise 2\n",
    "\n",
    "You will write a Python program that demonstrates the concept of namespaces by creating variables and functions inside different scopes (global and local). \n",
    "The program will show how variables with the same name can exist in different namespaces.\n",
    "\n",
    "Instructions:\n",
    "- Global Variables and Functions:\n",
    "    - Define a global variable message and a global function greet().\n",
    "    - The greet() function should print a greeting message using the global message variable.\n",
    "- Local Variables and Functions:\n",
    "    - Define a function display() that has its own local variable message and prints it.\n",
    "    - Inside display() call the greet() function to show how global and local variables can coexist.\n",
    "- Main program:\n",
    "    - Print the global message.\n",
    "    - Call the display() function to show how the local message is different from the global one.\n",
    "    - Call the greet() function to demonstrate that it uses the global message."
   ]
  },
  {
   "cell_type": "code",
   "execution_count": 1,
   "metadata": {},
   "outputs": [
    {
     "name": "stdout",
     "output_type": "stream",
     "text": [
      "Global message: Hello from the global namespace!\n",
      "Local message: Hello from the local namespace!\n",
      "Global message: Hello from the global namespace!\n",
      "Global message: Hello from the global namespace!\n"
     ]
    }
   ],
   "source": [
    "# Global variable\n",
    "message = \"Hello from the global namespace!\"\n",
    "\n",
    "# Global function\n",
    "def greet():\n",
    "    print(\"Global message:\", message)\n",
    "\n",
    "# Function with local variable\n",
    "def display():\n",
    "    # Local variable\n",
    "    message = \"Hello from the local namespace!\"\n",
    "    print(\"Local message:\", message)\n",
    "    # Calling the global function from within the local scope\n",
    "    greet()\n",
    "\n",
    "# Main program\n",
    "print(\"Global message:\", message)  # Prints the global message\n",
    "\n",
    "display()  # Calls the display function\n",
    "\n",
    "greet()  # Calls the global function"
   ]
  }
 ],
 "metadata": {
  "kernelspec": {
   "display_name": "Python 3 (ipykernel)",
   "language": "python",
   "name": "python3"
  },
  "language_info": {
   "codemirror_mode": {
    "name": "ipython",
    "version": 3
   },
   "file_extension": ".py",
   "mimetype": "text/x-python",
   "name": "python",
   "nbconvert_exporter": "python",
   "pygments_lexer": "ipython3",
   "version": "3.8.16"
  }
 },
 "nbformat": 4,
 "nbformat_minor": 4
}
