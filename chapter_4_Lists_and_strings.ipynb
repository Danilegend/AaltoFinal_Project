{
 "cells": [
  {
   "cell_type": "markdown",
   "metadata": {},
   "source": [
    "# Chapter 4: Lists and strings\n",
    "\n",
    "## Lists"
   ]
  },
  {
   "cell_type": "markdown",
   "metadata": {},
   "source": [
    "**Notice!** This chapter is slightly longer than the other chapters on this course, because lists are a very important part of Python. Use a bit more time on this chapter and study it thoroughly! If possible, finish the chapter in one session. The following chapters will be shorter, don't worry!"
   ]
  },
  {
   "cell_type": "markdown",
   "metadata": {},
   "source": [
    "List is a data structure, which has a number of values in a defined order. A list can consist of, for example, numbers, strings or boolean values. With a list you can save multiple values to one variable.\n",
    "\n",
    "In Python lists are created using square brackets `[]` and the values are separated using comma `,`.\n",
    "\n",
    "A new list is created by giving the variable a name and empty square brackets as the value:\n",
    "\n",
    "``` python\n",
    "l = []\n",
    "```\n",
    "\n",
    "Below we have two examples of a list: the first one has strings as the values (animals) and the other one has integers (numbers 1-5). The lists are given a name on the left, in this case `animals` and `numbers`."
   ]
  },
  {
   "cell_type": "markdown",
   "metadata": {},
   "source": [
    "```Python\n",
    "animals = ['dog', 'tiger', 'mouse', 'cat']\n",
    "\n",
    "numbers = [1, 2, 3, 4, 5]\n",
    "```\n"
   ]
  },
  {
   "cell_type": "markdown",
   "metadata": {},
   "source": [
    "A list can be printed using `print()`."
   ]
  },
  {
   "cell_type": "code",
   "execution_count": null,
   "metadata": {},
   "outputs": [],
   "source": [
    "animals = ['dog', 'tiger', 'mouse', 'cat']\n",
    "print(animals)"
   ]
  },
  {
   "cell_type": "markdown",
   "metadata": {},
   "source": [
    "## List indexing"
   ]
  },
  {
   "cell_type": "markdown",
   "metadata": {},
   "source": [
    "If we want to print a certain value from a list, we need to point to the desired value using indexing. Each item in a list has its own index, which is used to refer to the item. In Python **indexing starts at `0` and continues to `n-1` where `n` is the number of items in the list.** The first item in a list has the index `0`, the next one `1` until the last one, which has index `n-1`.\n",
    "\n",
    "To use these index numbers we need to use the square brackets again. An item at index `x` is retrieved by placing the index in square brackets after the list's name. In the example below we need to print the value `'dog'` from the list `animals`. The index of the first item is `0`, so we can print the value like so:"
   ]
  },
  {
   "cell_type": "code",
   "execution_count": null,
   "metadata": {},
   "outputs": [],
   "source": [
    "animals = ['dog', 'tiger', 'mouse', 'cat', 'dog']\n",
    "print(animals[0])"
   ]
  },
  {
   "cell_type": "markdown",
   "metadata": {},
   "source": [
    "\n",
    "\n",
    "If we want to print number 4 from the list below (`numbers`), we'll write `print(numbers[3])`. The index of the fourth item in the list is 3. **It is very important to remember, that indexing starts from 0!**"
   ]
  },
  {
   "cell_type": "code",
   "execution_count": null,
   "metadata": {},
   "outputs": [],
   "source": [
    "numbers = [1, 2, 3, 4, 5]\n",
    "print(numbers[3])"
   ]
  },
  {
   "cell_type": "markdown",
   "metadata": {},
   "source": [
    "Negative indices can also be used. In case the index is negative, the place is determied starting from the end of the list. Using the index `-1` returns the last value of the list:"
   ]
  },
  {
   "cell_type": "code",
   "execution_count": null,
   "metadata": {
    "scrolled": true
   },
   "outputs": [],
   "source": [
    "numbers = [1, 2, 3, 4, 5]\n",
    "print(numbers[-1])"
   ]
  },
  {
   "cell_type": "markdown",
   "metadata": {},
   "source": [
    "Using this logic `-2` returns the second to last value, `-3` the third to last and so on."
   ]
  },
  {
   "cell_type": "code",
   "execution_count": null,
   "metadata": {},
   "outputs": [],
   "source": [
    "numbers = [1, 2, 3, 4, 5]\n",
    "print(numbers[-2]) # Prints the second to last value\n",
    "print(numbers[-3]) # Prints the third to last value"
   ]
  },
  {
   "cell_type": "markdown",
   "metadata": {},
   "source": [
    "A list only has a limited number of indices which can be used, as a list can't have an infinite number of items. Hence it is possible to use and index which does not exist, which leads to an error message:"
   ]
  },
  {
   "cell_type": "code",
   "execution_count": null,
   "metadata": {},
   "outputs": [],
   "source": [
    "l = [1, 5, 9, 2]\n",
    "print(l[5])"
   ]
  },
  {
   "cell_type": "markdown",
   "metadata": {},
   "source": [
    "In the above example we're trying to access the sixth item in the list using index `5`, but the list has only four values. In this case the index of the final value in the list is `3`."
   ]
  },
  {
   "cell_type": "markdown",
   "metadata": {},
   "source": [
    "The range of used indices can also be exceeded when using negative indices:"
   ]
  },
  {
   "cell_type": "code",
   "execution_count": null,
   "metadata": {},
   "outputs": [],
   "source": [
    "l = [1, 5, 9, 2]\n",
    "print(l[-6])"
   ]
  },
  {
   "cell_type": "markdown",
   "metadata": {},
   "source": [
    "Now we're trying to access the sixth to last value from a list which has only 4 items. As a result we get an error message, because no value exists within the list `l`."
   ]
  },
  {
   "cell_type": "markdown",
   "metadata": {},
   "source": [
    "Indices can also be used to update the values of a list:"
   ]
  },
  {
   "cell_type": "code",
   "execution_count": null,
   "metadata": {},
   "outputs": [],
   "source": [
    "l = [1, 2, 3, 4]\n",
    "print(l)\n",
    "l[0] = 5\n",
    "print(l)"
   ]
  },
  {
   "cell_type": "markdown",
   "metadata": {},
   "source": [
    "Now we have updated the first value of the list to value `5`. "
   ]
  },
  {
   "cell_type": "markdown",
   "metadata": {},
   "source": [
    "#### Exercise 1"
   ]
  },
  {
   "cell_type": "markdown",
   "metadata": {},
   "source": [
    "Create a list, which has the values `5`, `True` and `'Banana'`, and save the list to a variable. Call the list variable you have created."
   ]
  },
  {
   "cell_type": "code",
   "execution_count": null,
   "metadata": {},
   "outputs": [],
   "source": []
  },
  {
   "cell_type": "markdown",
   "metadata": {},
   "source": [
    "#### Exercise 2"
   ]
  },
  {
   "cell_type": "markdown",
   "metadata": {},
   "source": [
    "Below we have a list `l`. Print the first, third and second to last values of the list. Use a negative index when printing the second to last value."
   ]
  },
  {
   "cell_type": "code",
   "execution_count": null,
   "metadata": {},
   "outputs": [],
   "source": [
    "l = [76, 232, 5, 210, 78, 90, -5, 2]"
   ]
  },
  {
   "cell_type": "markdown",
   "metadata": {},
   "source": [
    "## List functions"
   ]
  },
  {
   "cell_type": "markdown",
   "metadata": {},
   "source": [
    "Python has a number of pre-defined functions for manipulating lists, which we will take a look at next."
   ]
  },
  {
   "cell_type": "markdown",
   "metadata": {},
   "source": [
    "The following functions will take a list as their argument."
   ]
  },
  {
   "cell_type": "markdown",
   "metadata": {},
   "source": [
    "### `len()`"
   ]
  },
  {
   "cell_type": "markdown",
   "metadata": {},
   "source": [
    "`len()` takes a single argument, which in this case will be a list, and returns the number of items in that list."
   ]
  },
  {
   "cell_type": "code",
   "execution_count": null,
   "metadata": {},
   "outputs": [],
   "source": [
    "animals = ['Zebra', 'Pony', 'Elephant']\n",
    "len(animals)"
   ]
  },
  {
   "cell_type": "code",
   "execution_count": null,
   "metadata": {},
   "outputs": [],
   "source": [
    "numbers = [6, 5215, 20, 642, 0, 123]\n",
    "len(numbers)"
   ]
  },
  {
   "cell_type": "markdown",
   "metadata": {},
   "source": [
    "### `sorted()`"
   ]
  },
  {
   "cell_type": "markdown",
   "metadata": {},
   "source": [
    "`sorted()` returns a sorted version of the list given as the argument. Ordering the list requires the items to be of **the same data type**."
   ]
  },
  {
   "cell_type": "code",
   "execution_count": null,
   "metadata": {},
   "outputs": [],
   "source": [
    "numbers = [1, -2, 5, 10]\n",
    "sorted(numbers)"
   ]
  },
  {
   "cell_type": "markdown",
   "metadata": {},
   "source": [
    "With numbers `sorted()` will sort the list in ascending order, meaning that the smallest value is first and the largest value is last."
   ]
  },
  {
   "cell_type": "code",
   "execution_count": null,
   "metadata": {},
   "outputs": [],
   "source": [
    "animals = ['Zebra', 'Pony', 'Elephant','Eel']\n",
    "sorted(animals)"
   ]
  },
  {
   "cell_type": "markdown",
   "metadata": {},
   "source": [
    "With strings the items will be placed in alphabetical order."
   ]
  },
  {
   "cell_type": "markdown",
   "metadata": {},
   "source": [
    "`sorted()` can also be given an optional argument, `reverse = True`, which returns the list in a reversed order:"
   ]
  },
  {
   "cell_type": "code",
   "execution_count": null,
   "metadata": {},
   "outputs": [],
   "source": [
    "numbers = [1,-2,5,10]\n",
    "print(sorted(numbers, reverse=True))\n",
    "\n",
    "animals = ['Zebra', 'Pony', 'Elephant','Eel']\n",
    "print(sorted(animals,reverse=True))"
   ]
  },
  {
   "cell_type": "markdown",
   "metadata": {},
   "source": [
    "In this case the numbers go from the biggest to the smallest and the alphabets go from `Z` to `A`."
   ]
  },
  {
   "cell_type": "markdown",
   "metadata": {},
   "source": [
    "###  `min()` and `max()`"
   ]
  },
  {
   "cell_type": "markdown",
   "metadata": {},
   "source": [
    "The smallest and the largest values in a list can be found using the functions `min()` and `max()`. These functions will take a list as an argument and return the smallest or the largest item in that list. **`min()` and `max()` also require all items in a list to be of the same data type.**"
   ]
  },
  {
   "cell_type": "code",
   "execution_count": null,
   "metadata": {},
   "outputs": [],
   "source": [
    "l = [1,-5,27,9000]\n",
    "print('Largest value:', max(l))\n",
    "print('Smallest value:', min(l))"
   ]
  },
  {
   "cell_type": "markdown",
   "metadata": {},
   "source": [
    "If the list consists of strings, the functions will return an item based on the alphabetical ordering of the items."
   ]
  },
  {
   "cell_type": "code",
   "execution_count": null,
   "metadata": {},
   "outputs": [],
   "source": [
    "l = ['yellow', 'pear', 'john', 'bicycle']\n",
    "print('Largest value:', max(l))\n",
    "print('Smallest value:', min(l))"
   ]
  },
  {
   "cell_type": "markdown",
   "metadata": {},
   "source": [
    "A noteworthy detail with strings is that a small character is always \"larger\" than its capitalized counterpart. If you change the string `'yellow'` to start with a capital Y and run the program again, you will probably notice how the output changes."
   ]
  },
  {
   "cell_type": "markdown",
   "metadata": {},
   "source": [
    "### `in`"
   ]
  },
  {
   "cell_type": "markdown",
   "metadata": {},
   "source": [
    "We have already seen some use for the keyword `in` during the previous chapters. If the keyword `in` is used outside a loop definition, it will return a boolean (`True` or `False`) indicating if the list contains the item. If the item exists in a list, the comparison will return the value `True`. Likewise, if the item does not exist in the list, `False` is returned.\n",
    "\n",
    "Here's an example:"
   ]
  },
  {
   "cell_type": "code",
   "execution_count": null,
   "metadata": {},
   "outputs": [],
   "source": [
    "animals = ['Zebra', 'Pony', 'Elephant']\n",
    "print('Elephant' in animals)"
   ]
  },
  {
   "cell_type": "markdown",
   "metadata": {},
   "source": [
    "`in` returns a boolean `True`, **if the item on the left of `in` is found in the list on the right side of this keyword**. Otherwise the comparison will return boolean `False`."
   ]
  },
  {
   "cell_type": "code",
   "execution_count": null,
   "metadata": {},
   "outputs": [],
   "source": [
    "numbers1 = [1, 5, 2, 7]\n",
    "numbers2 = [3, 3, 4]\n",
    "\n",
    "print(5 in numbers1)\n",
    "print(5 in numbers2)"
   ]
  },
  {
   "cell_type": "markdown",
   "metadata": {},
   "source": [
    "As with other comparison keywords, `in` can be used in an `if-else` structure:"
   ]
  },
  {
   "cell_type": "code",
   "execution_count": null,
   "metadata": {},
   "outputs": [],
   "source": [
    "a = [1, 10, 212, 56]\n",
    "value = 10\n",
    "if value in a:\n",
    "    print(\"Value is in list\")\n",
    "else:\n",
    "    print(\"Value isn't in list\")"
   ]
  },
  {
   "cell_type": "markdown",
   "metadata": {},
   "source": [
    "Now the above program checks if the value stored in variable `value` is found in list `a`. You can try changing the value in variable `value` and see how the program's output changes."
   ]
  },
  {
   "cell_type": "markdown",
   "metadata": {},
   "source": [
    "#### Exercise 3"
   ]
  },
  {
   "cell_type": "markdown",
   "metadata": {},
   "source": [
    "You are given the variable `l` below, which contains a list with different integers. Print the following values:\n",
    "- Length of the list\n",
    "- The list ordered from the largest to the smallest number\n",
    "- The maximum value of the list\n",
    "- The minimum value of the list\n",
    "- Does the list contain the number `4`? (Boolean)"
   ]
  },
  {
   "cell_type": "code",
   "execution_count": null,
   "metadata": {},
   "outputs": [],
   "source": [
    "l = [1, 25, -7, 100, 2453, 5, 4]"
   ]
  },
  {
   "cell_type": "markdown",
   "metadata": {},
   "source": [
    "## List methods"
   ]
  },
  {
   "cell_type": "markdown",
   "metadata": {},
   "source": [
    "Every data type in Python has a number of pre-defined data type -specific functions, which are called **methods**. Methods are called with a dot and method name after the variable name: `variable.method(argument)`. Some of the most common list methods are explained below."
   ]
  },
  {
   "cell_type": "markdown",
   "metadata": {},
   "source": [
    " ### `count()`"
   ]
  },
  {
   "cell_type": "markdown",
   "metadata": {},
   "source": [
    "`count()` takes any value as an argument and returns a number telling us how many times this value is found in the list."
   ]
  },
  {
   "cell_type": "markdown",
   "metadata": {},
   "source": [
    "```Python\n",
    "l.count(x)\n",
    "```"
   ]
  },
  {
   "cell_type": "markdown",
   "metadata": {},
   "source": [
    "Here `l` is a list. After `l` we type `.count()`, which means that we're running a method for this particular list. The argument `x` can be any value or variable, the count of which in `l` we want to know. Here are two examples: "
   ]
  },
  {
   "cell_type": "code",
   "execution_count": null,
   "metadata": {},
   "outputs": [],
   "source": [
    "numbers = [1, 2, 2, 2, 3]\n",
    "numbers.count(2)"
   ]
  },
  {
   "cell_type": "code",
   "execution_count": null,
   "metadata": {},
   "outputs": [],
   "source": [
    "colours = ['red', 'blue', 'yellow', 'black', 'blue']\n",
    "colours.count('blue')"
   ]
  },
  {
   "cell_type": "markdown",
   "metadata": {},
   "source": [
    "The method `count()` does not make any changes to the list. The following methods, however, manipulate the list in place. This means, that the **changes are made even if the return value is not explicitly saved to a variable.**"
   ]
  },
  {
   "cell_type": "markdown",
   "metadata": {},
   "source": [
    "### `append()`"
   ]
  },
  {
   "cell_type": "markdown",
   "metadata": {},
   "source": [
    "The `append()` method, as the name suggests, appends (inserts) the item **to the end of the list**."
   ]
  },
  {
   "cell_type": "markdown",
   "metadata": {},
   "source": [
    "```python\n",
    "l.append(x)\n",
    "```"
   ]
  },
  {
   "cell_type": "markdown",
   "metadata": {},
   "source": [
    "Here `l` is the list we want to append to. After `l` we'll write `.append()` which calls the method for this list. The argument `x` can be any value or variable."
   ]
  },
  {
   "cell_type": "code",
   "execution_count": null,
   "metadata": {},
   "outputs": [],
   "source": [
    "colours = []\n",
    "colours.append('red')\n",
    "colours.append('yellow')\n",
    "colours.append('blue')\n",
    "\n",
    "print(colours)"
   ]
  },
  {
   "cell_type": "markdown",
   "metadata": {},
   "source": [
    "`append()` inserts the value to the end of the list, so the order of appending items has to be thought of when writing the code.\n",
    "\n",
    "**Notice, that the list `colours` is updated without saving it to a variable again when using the `append()` method.** "
   ]
  },
  {
   "cell_type": "markdown",
   "metadata": {},
   "source": [
    "### `remove()`"
   ]
  },
  {
   "cell_type": "markdown",
   "metadata": {},
   "source": [
    "`remove()` seems a bit like `append()`, but instead of inserting the value `x` it will remove the item with value `x`."
   ]
  },
  {
   "cell_type": "markdown",
   "metadata": {},
   "source": [
    "```Python\n",
    "l.remove(x)\n",
    "```"
   ]
  },
  {
   "cell_type": "markdown",
   "metadata": {},
   "source": [
    "Here `l` is a list, from which we want to remove `x`. After `l` we'll write `.remove()` to call the method for this function. The argument `x` can be any value or variable."
   ]
  },
  {
   "cell_type": "code",
   "execution_count": null,
   "metadata": {},
   "outputs": [],
   "source": [
    "colours = ['red', 'yellow', 'blue']\n",
    "colours.remove('yellow')\n",
    "print(colours)"
   ]
  },
  {
   "cell_type": "markdown",
   "metadata": {},
   "source": [
    "Now the string `'yellow'` was removed from the list `colours`. The spot of the removed variable is not left empty, but all indices after the removed item are reduced by one. Lists in Python have a dynamic length so the length of the list reflects the additions and removals. "
   ]
  },
  {
   "cell_type": "markdown",
   "metadata": {},
   "source": [
    "**Notice!** `remove()` removes only **the first value matching to the argument `x`**."
   ]
  },
  {
   "cell_type": "code",
   "execution_count": null,
   "metadata": {},
   "outputs": [],
   "source": [
    "colours = ['red', 'blue', 'yellow', 'blue'] # Initialize a list\n",
    "colours.remove('blue') # Remove the first occurrence of 'blue'\n",
    "print(colours)"
   ]
  },
  {
   "cell_type": "markdown",
   "metadata": {},
   "source": [
    "From the example above we can see, that a single instance of the string `'blue'` remains, as `remove()` removed only the first instance of the string `'blue'`. The method will iterate over the list from left to right, starting from the first item."
   ]
  },
  {
   "cell_type": "markdown",
   "metadata": {},
   "source": [
    "If the value given as the argument does not match any items in the list, an error is given."
   ]
  },
  {
   "cell_type": "code",
   "execution_count": null,
   "metadata": {},
   "outputs": [],
   "source": [
    "colours = ['red', 'blue', 'yellow', 'blue'] \n",
    "colours.remove('black')"
   ]
  },
  {
   "cell_type": "markdown",
   "metadata": {},
   "source": [
    "Now we tried to remove a value from the list, which does not exist, so we get a `ValueError`."
   ]
  },
  {
   "cell_type": "markdown",
   "metadata": {},
   "source": [
    "### `index()`"
   ]
  },
  {
   "cell_type": "markdown",
   "metadata": {},
   "source": [
    "The `index()` method returns the index of the **first** item matching the value given as an argument.  "
   ]
  },
  {
   "cell_type": "markdown",
   "metadata": {},
   "source": [
    "```Python\n",
    "l.index(x)\n",
    "```"
   ]
  },
  {
   "cell_type": "markdown",
   "metadata": {},
   "source": [
    "Here `l` is a list, from which we are searching for the value. The argument `x` can be any variable or value, which we are looking for in the list `l`. "
   ]
  },
  {
   "cell_type": "code",
   "execution_count": null,
   "metadata": {},
   "outputs": [],
   "source": [
    "a = [5, 7, 10, 200, 1]\n",
    "print(a.index(10))"
   ]
  },
  {
   "cell_type": "markdown",
   "metadata": {},
   "source": [
    "The value `10` was found from index `2` in list `a`. "
   ]
  },
  {
   "cell_type": "markdown",
   "metadata": {},
   "source": [
    "The `index()` method will also raise an error, if the value is not found from the list."
   ]
  },
  {
   "cell_type": "code",
   "execution_count": null,
   "metadata": {},
   "outputs": [],
   "source": [
    "a = [5, 7, 10, 200, 1]\n",
    "print(a.index(20))"
   ]
  },
  {
   "cell_type": "markdown",
   "metadata": {},
   "source": [
    "### `insert()`"
   ]
  },
  {
   "cell_type": "markdown",
   "metadata": {},
   "source": [
    "With `insert()` you can insert a value in any place in the list."
   ]
  },
  {
   "cell_type": "markdown",
   "metadata": {},
   "source": [
    "```Python\n",
    "l.insert(i, x)\n",
    "```"
   ]
  },
  {
   "cell_type": "markdown",
   "metadata": {},
   "source": [
    "Here `l` is a list, in which we want to insert the value to. The second argument, `x`, can be any value or variable, which we want to insert to the list with index `i`. The method does not remove the existing value in index `i`, but the index `i` and all the remaining indices after `i` are incremented by 1."
   ]
  },
  {
   "cell_type": "code",
   "execution_count": null,
   "metadata": {},
   "outputs": [],
   "source": [
    "names = [\"Markus\", \"Milla\", \"Topi\", \"Kaisa\"]\n",
    "names.insert(2, \"Olli\")\n",
    "print(names)"
   ]
  },
  {
   "cell_type": "markdown",
   "metadata": {},
   "source": [
    "In the above example we inserted `\"Olli\"` with index 2 to the list `names`. All the items starting from index 2 were moved one step forward to make room for the new addition."
   ]
  },
  {
   "cell_type": "markdown",
   "metadata": {},
   "source": [
    "If the index, with which we are trying to insert a value, does not exist in the list, the new item is inserted as the last item in the list. "
   ]
  },
  {
   "cell_type": "code",
   "execution_count": null,
   "metadata": {},
   "outputs": [],
   "source": [
    "names = [\"Markus\", \"Milla\", \"Topi\", \"Kaisa\"]\n",
    "names.insert(200, \"Olli\")\n",
    "print(names)"
   ]
  },
  {
   "cell_type": "markdown",
   "metadata": {},
   "source": [
    "Likewise, if we are using a negative index that does not exist, the item is inserted as the first item of the list."
   ]
  },
  {
   "cell_type": "code",
   "execution_count": null,
   "metadata": {},
   "outputs": [],
   "source": [
    "names = [\"Markus\", \"Milla\", \"Topi\", \"Kaisa\"]\n",
    "names.insert(-50, \"Olli\")\n",
    "print(names)"
   ]
  },
  {
   "cell_type": "markdown",
   "metadata": {},
   "source": [
    "### `pop()`"
   ]
  },
  {
   "cell_type": "markdown",
   "metadata": {},
   "source": [
    "The method `pop()` is used to remove an item with given index and return its value."
   ]
  },
  {
   "cell_type": "markdown",
   "metadata": {},
   "source": [
    "```Python\n",
    "l.pop(i)\n",
    "```"
   ]
  },
  {
   "cell_type": "markdown",
   "metadata": {},
   "source": [
    "Here `l` is a list, from which we want to remove the item. The argument `i` is the index of the item to be removed. If the index is not found, or the argument is not given, the last item of the list is removed and returned.\n",
    "\n",
    "As with `remove()`, the removed item does not leave an empty spot, but all the items after the removed item are shifted by one index."
   ]
  },
  {
   "cell_type": "code",
   "execution_count": null,
   "metadata": {},
   "outputs": [],
   "source": [
    "numbers = [1, 6, 20, 79, 205]\n",
    "removed_number = numbers.pop(2)\n",
    "print(removed_number)\n",
    "print(numbers)"
   ]
  },
  {
   "cell_type": "markdown",
   "metadata": {},
   "source": [
    "Now the item removed using `pop()` was saved to the variable `removed_number`. This variable and the list `numbers` were printed to check, that the value `20` was indeed removed from the list and saved in `removed_number`."
   ]
  },
  {
   "cell_type": "markdown",
   "metadata": {},
   "source": [
    "#### Exercise 4"
   ]
  },
  {
   "cell_type": "markdown",
   "metadata": {},
   "source": [
    "You have been given a list `l`, which contains integers. Do not change the code on line 1. Perform the following operations for the given list, using the methods listed above:\n",
    "\n",
    "- Print how many times the number `0` exists in list `l`\n",
    "- Place the number `75` at the end of the list and print the list\n",
    "- Remove the first occurrence of value `6` and print the list\n",
    "- Print the index of value `9`\n",
    "- Insert the value `100` to the list with index `3`\n",
    "- Remove the item with index `6` from the list and save it into another variable. Print this variable and the list `l`"
   ]
  },
  {
   "cell_type": "code",
   "execution_count": null,
   "metadata": {},
   "outputs": [],
   "source": [
    "l = [1, 6, 0, 2, 2, 7, 0, 0, 9, 6, 0, 2, 5, 1]"
   ]
  },
  {
   "cell_type": "markdown",
   "metadata": {},
   "source": [
    "## Lists and loops"
   ]
  },
  {
   "cell_type": "markdown",
   "metadata": {},
   "source": [
    "Manipulating lists using loops is quite handy in Python. The `while` and `for` loops introduced earlier can be used in conjunction with lists for a multitude of different purposes.\n",
    "\n",
    "### Lists and `while`\n",
    "\n",
    "Let's start with `while` loops and lists. Here's an example, which creates a list and adds the multiples of three between 1 and 10 to the list:"
   ]
  },
  {
   "cell_type": "code",
   "execution_count": null,
   "metadata": {},
   "outputs": [],
   "source": [
    "numbers_of_three = []\n",
    "i = 1\n",
    "n = 11\n",
    "while i < n:\n",
    "    numbers_of_three.append(3 * i)\n",
    "    i += 1\n",
    "print(numbers_of_three)"
   ]
  },
  {
   "cell_type": "markdown",
   "metadata": {},
   "source": [
    "- Line 1: Initialize an empty list called `numbers_of_three`\n",
    "- Line 2: Create a new variable `i` with value `0`\n",
    "- Line 3: Create a new variable `n` with value `10`\n",
    "- Line 4: Begin a `while` loop with condition `i < n`\n",
    "- Line 5: Append the value `3 * i` to the list created on line 1\n",
    "- Line 6: Increment `i` by one\n",
    "- Line 7: Print the list, when the `while` loop ends"
   ]
  },
  {
   "cell_type": "markdown",
   "metadata": {},
   "source": [
    "And the same using a `for` loop:"
   ]
  },
  {
   "cell_type": "code",
   "execution_count": null,
   "metadata": {},
   "outputs": [],
   "source": [
    "numbers_of_three = []\n",
    "n = 11\n",
    "for i in range(1, n):\n",
    "    numbers_of_three.append(3 * i)\n",
    "print(numbers_of_three)"
   ]
  },
  {
   "cell_type": "markdown",
   "metadata": {},
   "source": [
    "- Line 1: Initialize an empty list\n",
    "- Line 2: Create a new variable `n` with value `10`\n",
    "- Line 3: Begin a `for` loop and iterate through the numbers 1-10 (as `n` = 11)\n",
    "- Line 4: Insert the value `3 * i` to the list created on line 1\n",
    "- Line 5: Print the list"
   ]
  },
  {
   "cell_type": "markdown",
   "metadata": {},
   "source": [
    "#### Exercise 5"
   ]
  },
  {
   "cell_type": "markdown",
   "metadata": {},
   "source": [
    "Create a program, which adds the positive floating-point numbers from the user to a list until the user inputs a negative number. After a negative number has been given, it is added to the list and the complete list is printed.\n",
    "\n",
    "Here's an example of the output of the program:\n",
    "\n",
    "```\n",
    "Add a number to the list:\n",
    "1.5\n",
    "Add a number to the list:\n",
    "5.2\n",
    "Add a number to the list:\n",
    "6\n",
    "Add a number to the list:\n",
    "-2\n",
    "The list: [1.5, 5.2, 6.0, -2.0]\n",
    "\n",
    "```"
   ]
  },
  {
   "cell_type": "code",
   "execution_count": null,
   "metadata": {},
   "outputs": [],
   "source": []
  },
  {
   "cell_type": "markdown",
   "metadata": {},
   "source": [
    "#### Exercise 6"
   ]
  },
  {
   "cell_type": "markdown",
   "metadata": {},
   "source": [
    "Create an empty list. Using `for` loop and the `range()` function, add the first 20 even numbers to the list, starting with number `2`. Finally, print the list."
   ]
  },
  {
   "cell_type": "code",
   "execution_count": null,
   "metadata": {},
   "outputs": [],
   "source": []
  },
  {
   "cell_type": "markdown",
   "metadata": {},
   "source": [
    "### Lists and  `for`"
   ]
  },
  {
   "cell_type": "markdown",
   "metadata": {},
   "source": [
    "Using a `for` loop makes it easy to iterate over a list, item by item. In Python you can use a list similarly to the `range()` function.\n",
    "\n",
    "Let's start with an example:"
   ]
  },
  {
   "cell_type": "code",
   "execution_count": null,
   "metadata": {},
   "outputs": [],
   "source": [
    "weekdays = ['Monday', 'Tuesday', 'Wednesday', 'Thursday', 'Friday', 'Saturday', 'Sunday']\n",
    "for day in weekdays:\n",
    "    print('Today is', day)"
   ]
  },
  {
   "cell_type": "markdown",
   "metadata": {},
   "source": [
    "A `for` loop can be used to iterate over a list. The iterating variable, in this case `day`, is given a value from the list for each iteration in order, starting from `Monday`."
   ]
  },
  {
   "cell_type": "code",
   "execution_count": null,
   "metadata": {},
   "outputs": [],
   "source": [
    "numbers = [1, 5, 2, 78, -5]\n",
    "new_numbers = []\n",
    "for number in numbers:\n",
    "    new_number = number * 2\n",
    "    new_numbers.append(new_number)\n",
    "    \n",
    "print(new_numbers)"
   ]
  },
  {
   "cell_type": "markdown",
   "metadata": {},
   "source": [
    "In this example, the variable `number` inside the `for` loop is given a value from the list `numbers` for each iteration. We multiply the variable by 2 and save it to a variable `new_number`. This variable is then added to the list `new_numbers`, which has originally been initialized as an empty list before the loop is started.\n",
    "\n",
    "Finally, the list `new_numbers` containing the values multiplied by 2 is printed.\n"
   ]
  },
  {
   "cell_type": "markdown",
   "metadata": {},
   "source": [
    "#### Exercise 7"
   ]
  },
  {
   "cell_type": "markdown",
   "metadata": {},
   "source": [
    "Below we have a list `l`, which contains both numbers and a string. Write a program, which iterates over all items in the list and prints them. Use a `for - in -` structure."
   ]
  },
  {
   "cell_type": "code",
   "execution_count": null,
   "metadata": {},
   "outputs": [],
   "source": [
    "l = [1, 2, 7, 'hello']"
   ]
  },
  {
   "cell_type": "markdown",
   "metadata": {},
   "source": [
    "**Example 1:** A function returning a list"
   ]
  },
  {
   "cell_type": "code",
   "execution_count": null,
   "metadata": {},
   "outputs": [],
   "source": [
    "def create_list(n):\n",
    "    list_of_numbers = []\n",
    "    for i in range(n):\n",
    "        list_of_numbers.append(i)\n",
    "    return list_of_numbers\n",
    "\n",
    "list1 = create_list(7)\n",
    "list2 = create_list(3)\n",
    "print(list1)\n",
    "print(list2)"
   ]
  },
  {
   "cell_type": "markdown",
   "metadata": {},
   "source": [
    "In the example above we have defined a function, which returns a list, which consists of number from 0 until `n - 1`. In the main program the list returned by the function is placed in a variable and printed.\n",
    "\n",
    "- Line 1: Define a function `create_list()`, which has a parameter `n`\n",
    "- Line 2: Inside the function, initialize an empty list to variable `list_of_numbers`\n",
    "- Line 3: Begin the `for` loop. In the loop, the variable `i` iterates over integers `0 - (n-1)`\n",
    "- Line 4: Add the value of `i` at the end of the list `list_of_numbers` using the `append()` method\n",
    "- Line 5: Return list `list_of_numbers`\n",
    "- Line 6: An empty line, increases code readability but no functional value\n",
    "- Line 7: Call the function with argument `7` and place the return value in variable `list1`\n",
    "- Line 8: Call the function again using argument `3` and place the return value in variable `list2`\n",
    "- Line 9-10: Print the values in variables `list1` and `list2`      \n",
    "\n"
   ]
  },
  {
   "cell_type": "markdown",
   "metadata": {},
   "source": [
    "## Lists and functions"
   ]
  },
  {
   "cell_type": "markdown",
   "metadata": {},
   "source": [
    "In Chapter 4 we learned how functions work. If we want to send information back to the context where the function was called, we have to use the keyword `return`. **With lists this might not always be the case!**\n",
    "\n",
    "If the list given as the argument remains in the same variable during the function execution, the operations modify the list in-place, meaning that it does not have to be explicitly returned to the caller."
   ]
  },
  {
   "cell_type": "code",
   "execution_count": null,
   "metadata": {},
   "outputs": [],
   "source": [
    "def test_function(l):\n",
    "    print(\"First print:\", l)\n",
    "    l[0] = -1\n",
    "    l.append(9)\n",
    "    print(\"Second print:\", l)\n",
    "    \n",
    "\n",
    "test = [1, 2, 3, 4]\n",
    "test_function(test)\n",
    "print(\"Third print:\", test)"
   ]
  },
  {
   "cell_type": "markdown",
   "metadata": {},
   "source": [
    "In the above example we initialize a list called `test` with four numbers. This list is given as an argument to the function `test_function`.\n",
    "\n",
    "As the parameter of the function has the name `l`, the given list is used inside the function with this name. \n",
    "\n",
    "The function prints the given list and then modifies the first item to have a value of `-1`. A value `9` is then added to the end of the list using the `append()` method. Finally, the function prints the list `l` to show the changes made during the function execution. The function does not have any return values.\n",
    "\n",
    "In the main program the list, which is referred to as `test` in the main program, is printed to see, if the changes made in the function affect the list globally.\n",
    "\n",
    "As we can see from the output, the changes can also be seen when the list is printed with `print(test)`."
   ]
  },
  {
   "cell_type": "markdown",
   "metadata": {},
   "source": [
    "A function can also return some other value with the keyword `return` without affecting how the list is modified or saved."
   ]
  },
  {
   "cell_type": "code",
   "execution_count": null,
   "metadata": {},
   "outputs": [],
   "source": [
    "def test_function(l):\n",
    "    print(\"First print:\", l)\n",
    "    l[0] = -1\n",
    "    l.append(9)\n",
    "    print(\"Second print:\", l)\n",
    "    return True\n",
    "\n",
    "test = [1, 2, 3, 4]\n",
    "return_value = test_function(test)\n",
    "print(\"Third print:\", test)\n",
    "print(\"Return value of the function:\", return_value)"
   ]
  },
  {
   "cell_type": "markdown",
   "metadata": {},
   "source": [
    "If we are creating the list inside the function, it has to be returned as all variables created inside the function are \"invisible\" outside the function definition:"
   ]
  },
  {
   "cell_type": "code",
   "execution_count": null,
   "metadata": {},
   "outputs": [],
   "source": [
    "def create_list(num):\n",
    "    l = []\n",
    "    for i in range(num):\n",
    "        l.append(i)\n",
    "    return l\n",
    "\n",
    "num = 6\n",
    "l = create_list(6)\n",
    "print(l)"
   ]
  },
  {
   "cell_type": "markdown",
   "metadata": {},
   "source": [
    "You can try and see what happens, if `return l` is removed from the function `create_list`."
   ]
  },
  {
   "cell_type": "markdown",
   "metadata": {},
   "source": [
    "In our final example the function does not create a list, but **chages the list given as an argument**."
   ]
  },
  {
   "cell_type": "code",
   "execution_count": null,
   "metadata": {},
   "outputs": [],
   "source": [
    "def change_first(input_list):\n",
    "    input_list[0] = 'mouse'\n",
    "\n",
    "animals = ['cat', 'dog', 'zebra']\n",
    "print('Animals before the function:', animals)\n",
    "change_first(animals)\n",
    "print('Animals after the function:', animals)"
   ]
  },
  {
   "cell_type": "markdown",
   "metadata": {},
   "source": [
    "- Line 1: Define a function `change_first()` with one parameter `input_list`\n",
    "- Line 2: Assuming the `input_list` is a list, change the first item to `'mouse'`\n",
    "- Line 3: An empty line for readability\n",
    "- Line 4: Initialize a list `animals`, which consists of strings\n",
    "- Line 5: Print the list `animals` before calling the function\n",
    "- Line 6: Call the function `change_first` with argument `animals`\n",
    "- Line 7: Print the list `animals` after the function has finished\n",
    "\n",
    "The first value in the list `animals` has changed, even though we did not save the changed list inside the function. The function does not return any values either.\n",
    "\n",
    "You can try writing a `return input_list` statement inside the `change_first()` function, saving the return value in the main program, and printing its value. The outcome of the program should remain the same. This demonstrates, that returning a list does no harm, but it is also unnecessary."
   ]
  },
  {
   "cell_type": "markdown",
   "metadata": {},
   "source": [
    "Some noteworty details:\n",
    "- For code readability the functions should be separated from other functionalities of the code. Often it is best to define all functions in the beginning of the file before creating, printing or modifying the variables of the main program.\n",
    "- For readability and maintainability, it is recommended to use return values with functions, but in some cases it is not required to write a `return` statement to modify the values in the function calling context."
   ]
  },
  {
   "cell_type": "markdown",
   "metadata": {},
   "source": [
    "#### Exercise 8"
   ]
  },
  {
   "cell_type": "markdown",
   "metadata": {},
   "source": [
    "Write a program, which has the following elements:\n",
    "- A function, which takes an integer as an argument and returns a list. The function will create a list, which has the multiples of two from 0 to `n * 2` where `n` is the integer given as the argument.\n",
    "- Call the function with different values, and print the values in the returned lists.\n",
    "\n",
    "Here's an example output using argument `5`:\n",
    "\n",
    "```\n",
    "[0, 2, 4, 6, 8]\n",
    "```"
   ]
  },
  {
   "cell_type": "code",
   "execution_count": null,
   "metadata": {},
   "outputs": [],
   "source": []
  },
  {
   "cell_type": "markdown",
   "metadata": {},
   "source": [
    "## List operations"
   ]
  },
  {
   "cell_type": "markdown",
   "metadata": {},
   "source": [
    "Python has some compact list operations to make some common manipulations more efficient. These list operations include:\n",
    "- List concatenation and repetition\n",
    "- Slicing\n"
   ]
  },
  {
   "cell_type": "markdown",
   "metadata": {},
   "source": [
    "### List concatenation and repetition"
   ]
  },
  {
   "cell_type": "markdown",
   "metadata": {},
   "source": [
    "Lists can be concatenated using the `+` operator:"
   ]
  },
  {
   "cell_type": "code",
   "execution_count": null,
   "metadata": {},
   "outputs": [],
   "source": [
    "animals = ['Dog', 'Cat', 'Mouse']\n",
    "numbers = [1, 2, 3]\n",
    "animals_and_numbers = animals + numbers\n",
    "print(animals_and_numbers)"
   ]
  },
  {
   "cell_type": "markdown",
   "metadata": {},
   "source": [
    "The `+` operation does not change the original lists, but returns a concatenated list. Hence the output of the operation has to be saved to a variable."
   ]
  },
  {
   "cell_type": "markdown",
   "metadata": {},
   "source": [
    "Lists can also be repeated using the `*` operator. When repeating the list, the other operand must be an integer, and then the list is repeated the given number of times:"
   ]
  },
  {
   "cell_type": "code",
   "execution_count": null,
   "metadata": {
    "scrolled": true
   },
   "outputs": [],
   "source": [
    "a = [1, 2, 'Banana']\n",
    "b = a * 3\n",
    "c = 3 * a\n",
    "print(b)\n",
    "print(c)"
   ]
  },
  {
   "cell_type": "markdown",
   "metadata": {},
   "source": [
    "The `*` operation will also return a new list, so it is saved to a variable. As we see above, it does not matter whether we write `number * list` or `list * number`."
   ]
  },
  {
   "cell_type": "markdown",
   "metadata": {},
   "source": [
    "Often the list repetition `*` is used to initialize a list with certain values, for example with zeros:"
   ]
  },
  {
   "cell_type": "code",
   "execution_count": null,
   "metadata": {},
   "outputs": [],
   "source": [
    "a = [0] * 10\n",
    "print(a)"
   ]
  },
  {
   "cell_type": "markdown",
   "metadata": {},
   "source": [
    "#### Exercise 9"
   ]
  },
  {
   "cell_type": "markdown",
   "metadata": {},
   "source": [
    "Create a list of with 50 items, each of which have the value `1`."
   ]
  },
  {
   "cell_type": "code",
   "execution_count": null,
   "metadata": {},
   "outputs": [],
   "source": []
  },
  {
   "cell_type": "markdown",
   "metadata": {},
   "source": [
    "### Slicing"
   ]
  },
  {
   "cell_type": "markdown",
   "metadata": {},
   "source": [
    "A quick and handy way to manipulate lists is to use the **slicing** operations. With a slice operation one can extract pieces of the list. Slicing is similar to using an index to retrieve one item, but **slice operations return a new list with requested items**.\n",
    "\n",
    "Here's the general syntax of slicing:"
   ]
  },
  {
   "cell_type": "markdown",
   "metadata": {},
   "source": [
    "```python\n",
    "l[start:stop:step]\n",
    "```"
   ]
  },
  {
   "cell_type": "markdown",
   "metadata": {},
   "source": [
    "Slice operations have the same syntax as indexing, but with two more properties: after a list we have square brackets `[]` and between them the three values `start`, `stop` and `step`. Hence the logic behind slicing is similar to the `range()` function as well."
   ]
  },
  {
   "cell_type": "markdown",
   "metadata": {},
   "source": [
    "The slice operation return a list beginning with the value from index `start` and ending with the value **before** `stop`. The step length and the direction is defined using `step`.\n",
    "\n",
    "Let's examine an example using numbers:"
   ]
  },
  {
   "cell_type": "code",
   "execution_count": null,
   "metadata": {},
   "outputs": [],
   "source": [
    "numbers = [1, 2, 3, 4, 5, 6, 7]"
   ]
  },
  {
   "cell_type": "markdown",
   "metadata": {},
   "source": [
    "We'll start slicing without `step`, so the all values between indices `start` and `stop - 1` are returned as a list:"
   ]
  },
  {
   "cell_type": "code",
   "execution_count": null,
   "metadata": {},
   "outputs": [],
   "source": [
    "numbers = [1, 2, 3, 4, 5, 6, 7]\n",
    "numbers[0:2]"
   ]
  },
  {
   "cell_type": "markdown",
   "metadata": {},
   "source": [
    "The slicing operation above return a subset of the list `numbers`, which has the values with indices between `0 - 1`. As with `range()`, only the values **before** `stop` are returned."
   ]
  },
  {
   "cell_type": "markdown",
   "metadata": {},
   "source": [
    "If `start` is `0` or `stop` is the length of the list, they can be omitted from the operation (note, that `:` is still required!):"
   ]
  },
  {
   "cell_type": "code",
   "execution_count": null,
   "metadata": {},
   "outputs": [],
   "source": [
    "numbers = [1, 2, 3, 4, 5, 6, 7]\n",
    "a = numbers[5:]\n",
    "b = numbers[5:7]\n",
    "print(a)\n",
    "print(b)"
   ]
  },
  {
   "cell_type": "markdown",
   "metadata": {},
   "source": [
    "As you can see, both slice operations produce the same output."
   ]
  },
  {
   "cell_type": "markdown",
   "metadata": {},
   "source": [
    "It is also just as simple to extract values from the middle of the list:"
   ]
  },
  {
   "cell_type": "code",
   "execution_count": null,
   "metadata": {},
   "outputs": [],
   "source": [
    "numbers = [1, 2, 3, 4, 5, 6, 7]\n",
    "print(numbers[3:6])\n",
    "print(numbers[1:5])"
   ]
  },
  {
   "cell_type": "markdown",
   "metadata": {},
   "source": [
    "As with indices, slicing also supports negative values:"
   ]
  },
  {
   "cell_type": "code",
   "execution_count": null,
   "metadata": {},
   "outputs": [],
   "source": [
    "numbers = [1, 2, 3, 4, 5, 6, 7]\n",
    "new_numbers = numbers[:2] + numbers[-2:]\n",
    "\n",
    "print(new_numbers)"
   ]
  },
  {
   "cell_type": "markdown",
   "metadata": {},
   "source": [
    "List concatenation and slicing also work well together. In the above example, we take the first and last two items in the list and combine them into a new one using the `+` operator."
   ]
  },
  {
   "cell_type": "markdown",
   "metadata": {},
   "source": [
    "Slicing is even more powerful, when we master the use of the `step` value. As mentioned before, it is not mandatory, but it works in the same way as the third parameter of the `range()` function. The `step` will determine how many items are jumped over in creating the new list."
   ]
  },
  {
   "cell_type": "code",
   "execution_count": null,
   "metadata": {},
   "outputs": [],
   "source": [
    "numbers = [1, 2, 3, 4, 5, 6, 7]\n",
    "numbers[::2]"
   ]
  },
  {
   "cell_type": "markdown",
   "metadata": {},
   "source": [
    "Above, a simple `[::2]` is enough to return every other value of the list `numbers`. As we are iterating over the whole list, we don't need to define `start` or `stop`.\n",
    "\n",
    "Slice can also be used with negative values. Below we're using step size `-1`, so we are traversing the list backwards:"
   ]
  },
  {
   "cell_type": "code",
   "execution_count": null,
   "metadata": {},
   "outputs": [],
   "source": [
    "numbers = [1, 2, 3, 4, 5, 6, 7]\n",
    "numbers[::-1]"
   ]
  },
  {
   "cell_type": "markdown",
   "metadata": {},
   "source": [
    "Values smaller than `-1` can also be used, which enlarges our step size:"
   ]
  },
  {
   "cell_type": "code",
   "execution_count": null,
   "metadata": {},
   "outputs": [],
   "source": [
    "numbers = [1, 2, 3, 4, 5, 6, 7]\n",
    "numbers[::-3]"
   ]
  },
  {
   "cell_type": "markdown",
   "metadata": {},
   "source": [
    "In this case we're starting from the last value, and only picking every third value in the original list."
   ]
  },
  {
   "cell_type": "markdown",
   "metadata": {},
   "source": [
    "As the final example of slicing, we're combining all of the slicing properties and creating an operation, which inverts the list, takes every second item and excluding the first item in the list. Note, that `6` is the index of the final item in the list, so the `start` could also be left empty."
   ]
  },
  {
   "cell_type": "code",
   "execution_count": null,
   "metadata": {},
   "outputs": [],
   "source": [
    "numbers = [1, 2, 3, 4, 5, 6, 7]\n",
    "numbers[6:0:-2]"
   ]
  },
  {
   "cell_type": "markdown",
   "metadata": {},
   "source": [
    "With inverted slice operations, one has to remember to se the `start` value **larger** than `stop`. Otherwise the output of the operation will be empty."
   ]
  },
  {
   "cell_type": "markdown",
   "metadata": {},
   "source": [
    "#### Exercise 10"
   ]
  },
  {
   "cell_type": "markdown",
   "metadata": {},
   "source": [
    "Below we have a list `l`. Using slice operations, build a new list from these blocks:\n",
    "- The first 2 items of the original list\n",
    "- The items with indices 6-8 (including 8) from the original list\n",
    "- The last 3 items of the original list in reverse order\n",
    "\n",
    "The final result should be a coherent sentence."
   ]
  },
  {
   "cell_type": "code",
   "execution_count": 7,
   "metadata": {
    "scrolled": false
   },
   "outputs": [],
   "source": [
    "l = ['I', 'have', 'am', 'yesterday', 'who', 'be', 'now', 'learned', 'how', '!', 'Slice', 'to'] "
   ]
  },
  {
   "cell_type": "markdown",
   "metadata": {},
   "source": [
    "## Multi-dimensional lists"
   ]
  },
  {
   "cell_type": "markdown",
   "metadata": {},
   "source": [
    "The items in a list can also be other lists. These structures are called multi-dimensional lists:"
   ]
  },
  {
   "cell_type": "code",
   "execution_count": null,
   "metadata": {},
   "outputs": [],
   "source": [
    "list_of_lists = [[1, 2, 3], [4, 5, 6], [7, 8, 9]]\n",
    "print(list_of_lists)"
   ]
  },
  {
   "cell_type": "code",
   "execution_count": null,
   "metadata": {},
   "outputs": [],
   "source": [
    "categories = [[True, True, False], [6, 3, 1], ['Banana', 'Potato', 'Strawberry']]\n",
    "print(categories)"
   ]
  },
  {
   "cell_type": "markdown",
   "metadata": {},
   "source": [
    "An item can be printed from the inside of a multi-dimensional list by chaining the indexes:"
   ]
  },
  {
   "cell_type": "code",
   "execution_count": null,
   "metadata": {},
   "outputs": [],
   "source": [
    "list_of_lists = [[1, 2, 3], [4, 5, 6], [7, 8, 9]]\n",
    "print(list_of_lists[0][0])"
   ]
  },
  {
   "cell_type": "markdown",
   "metadata": {},
   "source": [
    "There is no defined limit for the dimensions of a multi-dimensional list:"
   ]
  },
  {
   "cell_type": "code",
   "execution_count": null,
   "metadata": {},
   "outputs": [],
   "source": [
    "crazy_list = [[[[[[[1]]]]]], 2]\n",
    "crazy_list"
   ]
  },
  {
   "cell_type": "markdown",
   "metadata": {},
   "source": [
    "## Recap"
   ]
  },
  {
   "cell_type": "markdown",
   "metadata": {},
   "source": [
    "Lists contain multiple values in a defined order. A list can consist of, for example, numbers, strings or other lists."
   ]
  },
  {
   "cell_type": "markdown",
   "metadata": {},
   "source": [
    "```Python\n",
    "names = ['Joe', 'Allison', 'Maria']\n",
    "numbers = [1, 2, 3]\n",
    "l = [] # (empty list)\n",
    "```"
   ]
  },
  {
   "cell_type": "markdown",
   "metadata": {},
   "source": [
    "Items can be retrieved from a list using indexing. Indexing starts from `0` and continues until `n - 1` where `n` is the length of the list."
   ]
  },
  {
   "cell_type": "code",
   "execution_count": null,
   "metadata": {},
   "outputs": [],
   "source": [
    "numbers = [1, 2, 3]\n",
    "numbers[1]"
   ]
  },
  {
   "cell_type": "markdown",
   "metadata": {},
   "source": [
    "### List functions and keywords"
   ]
  },
  {
   "cell_type": "markdown",
   "metadata": {},
   "source": [
    "`len()` returns the length of the list, which is the number of items in the list."
   ]
  },
  {
   "cell_type": "markdown",
   "metadata": {},
   "source": [
    "```Python\n",
    "len(l)\n",
    "```"
   ]
  },
  {
   "cell_type": "markdown",
   "metadata": {},
   "source": [
    "`min()` returns the smallest value in the list and `max()` the largest value."
   ]
  },
  {
   "cell_type": "markdown",
   "metadata": {},
   "source": [
    "```python\n",
    "min(l)\n",
    "max(l)\n",
    "```"
   ]
  },
  {
   "cell_type": "markdown",
   "metadata": {},
   "source": [
    "`sorted()` returns an ordered version of the list. It works only, if the data types of all items in a list are the same."
   ]
  },
  {
   "cell_type": "markdown",
   "metadata": {},
   "source": [
    "```Python\n",
    "sorted()\n",
    "```"
   ]
  },
  {
   "cell_type": "markdown",
   "metadata": {},
   "source": [
    "`in` returns a boolean `True` if the value is found in the list and `False` otherwise."
   ]
  },
  {
   "cell_type": "markdown",
   "metadata": {},
   "source": [
    "```python\n",
    "x in l\n",
    "```"
   ]
  },
  {
   "cell_type": "markdown",
   "metadata": {},
   "source": [
    "### List methods"
   ]
  },
  {
   "cell_type": "markdown",
   "metadata": {},
   "source": [
    "`count()` calculates how many times the given value is found in the list."
   ]
  },
  {
   "cell_type": "markdown",
   "metadata": {},
   "source": [
    "```Python\n",
    "l.count(x)\n",
    "```"
   ]
  },
  {
   "cell_type": "markdown",
   "metadata": {},
   "source": [
    "`append()` adds the item `x` to the end of the list."
   ]
  },
  {
   "cell_type": "markdown",
   "metadata": {},
   "source": [
    "```Python\n",
    "l.append(x)\n",
    "```"
   ]
  },
  {
   "cell_type": "markdown",
   "metadata": {},
   "source": [
    "`remove()` removes the first item with value `x` from the list."
   ]
  },
  {
   "cell_type": "markdown",
   "metadata": {},
   "source": [
    "```Python\n",
    "l.remove(x)\n",
    "```"
   ]
  },
  {
   "cell_type": "markdown",
   "metadata": {},
   "source": [
    "`index()` returns the index of the first item with value `x` in the list."
   ]
  },
  {
   "cell_type": "markdown",
   "metadata": {},
   "source": [
    "```Python\n",
    "l.index(x)\n",
    "```"
   ]
  },
  {
   "cell_type": "markdown",
   "metadata": {},
   "source": [
    "`insert()` adds the value `x` to the list on index `i`."
   ]
  },
  {
   "cell_type": "markdown",
   "metadata": {},
   "source": [
    "```Python\n",
    "l.insert(i, x)\n",
    "```"
   ]
  },
  {
   "cell_type": "markdown",
   "metadata": {},
   "source": [
    "`pop()` removes the item at index `i` and returns it. If the argument is not given, the last item in the list is removed and returned."
   ]
  },
  {
   "cell_type": "markdown",
   "metadata": {},
   "source": [
    "```Python\n",
    "l.pop(i)\n",
    "```"
   ]
  },
  {
   "cell_type": "markdown",
   "metadata": {},
   "source": [
    "### Lists and loops"
   ]
  },
  {
   "cell_type": "markdown",
   "metadata": {},
   "source": [
    "Creating and manipulating lists is efficient with `for` and `while` loops."
   ]
  },
  {
   "cell_type": "code",
   "execution_count": null,
   "metadata": {},
   "outputs": [],
   "source": [
    "numbers = []\n",
    "for i in range(1, 10, 1):\n",
    "    numbers.append(i)\n",
    "print(numbers)"
   ]
  },
  {
   "cell_type": "code",
   "execution_count": null,
   "metadata": {},
   "outputs": [],
   "source": [
    "names = ['Bill', 'Jack', 'Jane']\n",
    "for i in names:\n",
    "    print('Hello', i)"
   ]
  },
  {
   "cell_type": "markdown",
   "metadata": {},
   "source": [
    "Lists can also be used with functions. In function one can, for example, create or modify the items of a list."
   ]
  },
  {
   "cell_type": "code",
   "execution_count": null,
   "metadata": {
    "scrolled": true
   },
   "outputs": [],
   "source": [
    "def change_list(testlist, index, new_value):\n",
    "    testlist[index] = new_value\n",
    "    return testlist\n",
    "    \n",
    "numbers = [1, 2, 3, 4, 5]\n",
    "list_index = int(input('What is the index of the element you want to change?\\n'))\n",
    "list_input = int(input('With which number you want to replace the element?\\n'))\n",
    "new_numbers = change_list(numbers, list_index, list_input)\n",
    "print(new_numbers)\n",
    "    "
   ]
  },
  {
   "cell_type": "markdown",
   "metadata": {},
   "source": [
    "### List operations"
   ]
  },
  {
   "cell_type": "markdown",
   "metadata": {},
   "source": [
    "Lists can be concatenated using the `+` operator and repeated with the `*` operator."
   ]
  },
  {
   "cell_type": "code",
   "execution_count": null,
   "metadata": {},
   "outputs": [],
   "source": [
    "a = [1, 2, 'cat', 'dog']\n",
    "b = a * 2\n",
    "print(b)"
   ]
  },
  {
   "cell_type": "markdown",
   "metadata": {},
   "source": [
    "One example of using this operations is the creation of a placeholder list full of zeroes:"
   ]
  },
  {
   "cell_type": "code",
   "execution_count": null,
   "metadata": {},
   "outputs": [],
   "source": [
    "testlist = [0] * 10\n",
    "print(testlist)"
   ]
  },
  {
   "cell_type": "markdown",
   "metadata": {},
   "source": [
    "### Slice"
   ]
  },
  {
   "cell_type": "markdown",
   "metadata": {},
   "source": [
    "Slicing operations return a new version of the original list. The slice syntax uses square brackets and colons. The logic behind the syntax is the same as with the `range()` function, inside the square brackets we'll write `start`, `stop` and `step` separated by `:`.\n",
    "\n",
    "Indexing works the same way with slicing, the indices run from `0` until `n - 1`.\n",
    "\n",
    "Slicing is useful in picking a subset of items from a list:"
   ]
  },
  {
   "cell_type": "code",
   "execution_count": null,
   "metadata": {},
   "outputs": [],
   "source": [
    "numbers = [1, 2, 3, 4, 5, 6]\n",
    "numbers[0:4:2]"
   ]
  },
  {
   "cell_type": "markdown",
   "metadata": {},
   "source": [
    "In the above example the program outputs every second value between indices `0` and `3`, which correspond to values `0` and `2`."
   ]
  },
  {
   "cell_type": "markdown",
   "metadata": {},
   "source": [
    "If we want to extract every second item in a list, we only need to define `step` but not `start` or `stop`. "
   ]
  },
  {
   "cell_type": "code",
   "execution_count": null,
   "metadata": {},
   "outputs": [],
   "source": [
    "numbers = [1, 2, 3, 4, 5, 6]\n",
    "numbers[::2]"
   ]
  },
  {
   "cell_type": "markdown",
   "metadata": {},
   "source": [
    "### Multi-dimensional lists"
   ]
  },
  {
   "cell_type": "markdown",
   "metadata": {},
   "source": [
    "Lists can be initialized inside of lists, so we end up with a multidimensional list. The values can be retrieved by chaining the indices:"
   ]
  },
  {
   "cell_type": "markdown",
   "metadata": {},
   "source": [
    "# Strings"
   ]
  },
  {
   "cell_type": "markdown",
   "metadata": {},
   "source": [
    "We had a quick overview of strings in the first chapter, but now we're going to dive deeper into their different properties."
   ]
  },
  {
   "cell_type": "markdown",
   "metadata": {},
   "source": [
    "## Strings as lists"
   ]
  },
  {
   "cell_type": "markdown",
   "metadata": {},
   "source": [
    "In Python a string is a **sequence of characters**. In practice strings work like lists, and **most list operations can be used with strings.**"
   ]
  },
  {
   "cell_type": "markdown",
   "metadata": {},
   "source": [
    "A single character can be extracted from a string using an index:"
   ]
  },
  {
   "cell_type": "code",
   "execution_count": null,
   "metadata": {
    "scrolled": true
   },
   "outputs": [],
   "source": [
    "string = 'Hello!'\n",
    "string[0]"
   ]
  },
  {
   "cell_type": "markdown",
   "metadata": {},
   "source": [
    "Slicing is also available for strings. The operation works just like with lists:"
   ]
  },
  {
   "cell_type": "code",
   "execution_count": null,
   "metadata": {
    "scrolled": true
   },
   "outputs": [],
   "source": [
    "text = 'hhHello, my name is Patrik!11'\n",
    "filtered_text = text[2:-2]\n",
    "print(filtered_text)\n",
    "\n",
    "reversed_text = filtered_text[::-1]\n",
    "print(reversed_text)"
   ]
  },
  {
   "cell_type": "markdown",
   "metadata": {},
   "source": [
    "The example above prints the original string without the first two and last two characters, after which an inverted version of the string is printed."
   ]
  },
  {
   "cell_type": "markdown",
   "metadata": {},
   "source": [
    "In a `for` loop the iterator variable is given the value of each character in sequence. In this example, the `for` loop prints the value of each character in the string to demonstrate this:"
   ]
  },
  {
   "cell_type": "code",
   "execution_count": null,
   "metadata": {
    "scrolled": true
   },
   "outputs": [],
   "source": [
    "text = 'This is text'\n",
    "for character in text:\n",
    "    print(character)"
   ]
  },
  {
   "cell_type": "markdown",
   "metadata": {},
   "source": [
    "#### Exercise 11"
   ]
  },
  {
   "cell_type": "markdown",
   "metadata": {},
   "source": [
    "Here we have a string called `text`. Design a slice operation, which makes the text more readable by removing the extra characters in the beginning and in the end of the string."
   ]
  },
  {
   "cell_type": "code",
   "execution_count": null,
   "metadata": {
    "scrolled": true
   },
   "outputs": [],
   "source": [
    "text = 'qw32qwGood Morning!+x+38'"
   ]
  },
  {
   "cell_type": "markdown",
   "metadata": {},
   "source": [
    "### List functions and strings"
   ]
  },
  {
   "cell_type": "markdown",
   "metadata": {},
   "source": [
    "Many of the same functions used with lists can also be used with strings."
   ]
  },
  {
   "cell_type": "markdown",
   "metadata": {},
   "source": [
    "The length of a string can be calculated using the `len()` function:"
   ]
  },
  {
   "cell_type": "code",
   "execution_count": null,
   "metadata": {
    "scrolled": true
   },
   "outputs": [],
   "source": [
    "long_text = 'Lorem ipsum dolor sit amet, consectetur adipiscing elit, sed do eiusmod tempor incididunt ut labore et dolore magna aliqua.'\n",
    "len(long_text)"
   ]
  },
  {
   "cell_type": "markdown",
   "metadata": {},
   "source": [
    "The function returns the number of individual characters. This includes letters, numbers, spaces, special characters etc."
   ]
  },
  {
   "cell_type": "markdown",
   "metadata": {},
   "source": [
    "The largest and the smallest value of the string can be found using `max()` and `min()` functions."
   ]
  },
  {
   "cell_type": "code",
   "execution_count": null,
   "metadata": {
    "scrolled": true
   },
   "outputs": [],
   "source": [
    "text = \"word\"\n",
    "print(max(text))\n",
    "print(min(text))"
   ]
  },
  {
   "cell_type": "markdown",
   "metadata": {},
   "source": [
    "You can try and see what happens, if you change the variable `text` to have a value `\"HelloWorld\"`. What if you changed added a string between the two words?\n",
    "\n",
    "With string comparison you have to remember, that a lowercase letter is \"bigger\" in comparison to a capitalized letter."
   ]
  },
  {
   "cell_type": "markdown",
   "metadata": {},
   "source": [
    "Characters in a string can be set in alphabetical order using the `sorted()` function. Note, that `sorted()` returns **a list** instead of a string!"
   ]
  },
  {
   "cell_type": "code",
   "execution_count": null,
   "metadata": {
    "scrolled": true
   },
   "outputs": [],
   "source": [
    "text = 'Example text!'\n",
    "sorted(text)"
   ]
  },
  {
   "cell_type": "markdown",
   "metadata": {},
   "source": [
    "As the `sorted()` function orders the characters from the smallest to the biggest, you can see, that space and exlamation mark are the smallest characters and the capital `'E'` is smaller than the lowercase `'a'`. You can try changing the value of `text` and see, how the `sorted()` function considers different characters."
   ]
  },
  {
   "cell_type": "markdown",
   "metadata": {},
   "source": [
    "Note, that even though many of the operations and functions used with lists work with strings, strings are not exactly the same thing as lists. You can convert a string to a list using the `list()` function."
   ]
  },
  {
   "cell_type": "code",
   "execution_count": null,
   "metadata": {
    "scrolled": true
   },
   "outputs": [],
   "source": [
    "a = 'Example text!'\n",
    "list(a)"
   ]
  },
  {
   "cell_type": "markdown",
   "metadata": {},
   "source": [
    "With this function the string is converted into a list, the items of which are the individual characters of the string."
   ]
  },
  {
   "cell_type": "markdown",
   "metadata": {},
   "source": [
    "#### Exercise 12"
   ]
  },
  {
   "cell_type": "markdown",
   "metadata": {},
   "source": [
    "You have been given a string in variable `text`. Perform the following operations for this string:\n",
    "- Print the length of the string\n",
    "- Print the biggest value of the string\n",
    "- Print the smallest value of the string\n",
    "- Print the string as a sorted list"
   ]
  },
  {
   "cell_type": "code",
   "execution_count": null,
   "metadata": {
    "scrolled": true
   },
   "outputs": [],
   "source": [
    "text = \"Python is a programming language\""
   ]
  },
  {
   "cell_type": "markdown",
   "metadata": {},
   "source": [
    "## String methods"
   ]
  },
  {
   "cell_type": "markdown",
   "metadata": {},
   "source": [
    "Similar to lists, strings also have their own methods. Let's check out a few of the most commonly used string methods:"
   ]
  },
  {
   "cell_type": "markdown",
   "metadata": {},
   "source": [
    "- `upper()`\n",
    "- `lower()`\n",
    "- `index()`\n",
    "- `replace()`\n",
    "- `split()`\n",
    "- `join()`\n",
    "- `strip()`"
   ]
  },
  {
   "cell_type": "markdown",
   "metadata": {},
   "source": [
    "### `lower()` & `upper()`"
   ]
  },
  {
   "cell_type": "markdown",
   "metadata": {},
   "source": [
    "It is often useful to convert the string to either lowercase or uppercase format. They can be done using the methods `lower()` and `upper()` respectively."
   ]
  },
  {
   "cell_type": "code",
   "execution_count": null,
   "metadata": {
    "scrolled": true
   },
   "outputs": [],
   "source": [
    "text = \"Thank God it's Friday!\"\n",
    "print(text.lower())\n",
    "print(text.upper())"
   ]
  },
  {
   "cell_type": "markdown",
   "metadata": {},
   "source": [
    "### `index()`"
   ]
  },
  {
   "cell_type": "markdown",
   "metadata": {},
   "source": [
    "The `index()` method can be used to find the first occurrence of a substring. The argument given to the method can include multiple characters and this shorter string is searched for in the original string.\n",
    "\n",
    "The method return the index of the beginning of the first occurrence of this substring. As with the `index()` method for lists, only the index of the first instance of the substring is returned. If the substring is not found at all, an error is raised."
   ]
  },
  {
   "cell_type": "code",
   "execution_count": null,
   "metadata": {
    "scrolled": true
   },
   "outputs": [],
   "source": [
    "text = \"Sentence with different words\"\n",
    "print(text.index(\"entenc\"))"
   ]
  },
  {
   "cell_type": "markdown",
   "metadata": {},
   "source": [
    "In the above example we are looking for the substring `\"entenc\"`. The method returns `1`, as the first occurrence of the searched string begins from the second character."
   ]
  },
  {
   "cell_type": "code",
   "execution_count": null,
   "metadata": {
    "scrolled": true
   },
   "outputs": [],
   "source": [
    "text = \"Sentence with different words\"\n",
    "print(text.index(\"nt\"))"
   ]
  },
  {
   "cell_type": "markdown",
   "metadata": {},
   "source": [
    "Now we are looking for the substring `\"ent\"`. The return value is index `2`. The string in variable `text` contains an another instance of `\"ent\"` in the word `\"different\"`, but the method only returns the index of the first occurrence of the substring."
   ]
  },
  {
   "cell_type": "code",
   "execution_count": null,
   "metadata": {
    "scrolled": true
   },
   "outputs": [],
   "source": [
    "text = \"Sentence with different words\"\n",
    "print(text.index(\"diferent\"))"
   ]
  },
  {
   "cell_type": "markdown",
   "metadata": {},
   "source": [
    "Finally, as the substring `\"diferent\"` is not found from the string `text`, an error is raised. "
   ]
  },
  {
   "cell_type": "markdown",
   "metadata": {},
   "source": [
    "### `replace()`"
   ]
  },
  {
   "cell_type": "markdown",
   "metadata": {},
   "source": [
    "The `replace()` method can be used to replace all occurrences of a substring with another. The method doesn't modify the original string, but **returns a new string** which has to be saved to a variable to be reused.\n",
    "\n",
    "If the substring is not found, the original string is returned without modifications."
   ]
  },
  {
   "cell_type": "code",
   "execution_count": null,
   "metadata": {
    "scrolled": true
   },
   "outputs": [],
   "source": [
    "text = \"I like programming\"\n",
    "text.replace(\"like\", \"love\")"
   ]
  },
  {
   "cell_type": "markdown",
   "metadata": {},
   "source": [
    "Above we replaced the word `\"like\"` with the word `\"love\"`."
   ]
  },
  {
   "cell_type": "code",
   "execution_count": null,
   "metadata": {
    "scrolled": true
   },
   "outputs": [],
   "source": [
    "text = \"I like programming\"\n",
    "text.replace(\"hate\", \"love\")"
   ]
  },
  {
   "cell_type": "markdown",
   "metadata": {},
   "source": [
    "In this version we're looking for the string `\"hate\"`, so the `replace()` method does not modify the string and returns the original, unchanged value of `text`."
   ]
  },
  {
   "cell_type": "markdown",
   "metadata": {},
   "source": [
    "### `split()`"
   ]
  },
  {
   "cell_type": "markdown",
   "metadata": {},
   "source": [
    "The `split()` method cuts the string to pieces based on the given separator character or string. The pieces are then returned as a list. **If the method is not given an argument, by default the string is split based on spaces**:"
   ]
  },
  {
   "cell_type": "code",
   "execution_count": null,
   "metadata": {
    "scrolled": true
   },
   "outputs": [],
   "source": [
    "text = 'Hi! My name is John'\n",
    "text.split()"
   ]
  },
  {
   "cell_type": "markdown",
   "metadata": {},
   "source": [
    "In this example, `split()` returns a list of the word in the sentence, as the string has been split based on spaces. The spaces are not included in the list. "
   ]
  },
  {
   "cell_type": "code",
   "execution_count": null,
   "metadata": {
    "scrolled": true
   },
   "outputs": [],
   "source": [
    "text = 'Hello stranger!'\n",
    "text.split('e')"
   ]
  },
  {
   "cell_type": "markdown",
   "metadata": {},
   "source": [
    "Now we used the argument `\"e\"`. Note: as the method cuts the string based on the argument, the argument string `'e'` is not included in any of the list items."
   ]
  },
  {
   "cell_type": "code",
   "execution_count": null,
   "metadata": {
    "scrolled": true
   },
   "outputs": [],
   "source": [
    "text = 'hello yellow elbow'\n",
    "text.split('ello')"
   ]
  },
  {
   "cell_type": "markdown",
   "metadata": {},
   "source": [
    "As you can see, the string is only split in places where the **complete substring** is found."
   ]
  },
  {
   "cell_type": "markdown",
   "metadata": {},
   "source": [
    "### `join()`"
   ]
  },
  {
   "cell_type": "markdown",
   "metadata": {},
   "source": [
    "`join()` returns a string, which is combined from the list items using the given separator. Note, that all items in the list have to be strings. "
   ]
  },
  {
   "cell_type": "code",
   "execution_count": null,
   "metadata": {
    "scrolled": true
   },
   "outputs": [],
   "source": [
    "char = '/'\n",
    "dates= ['13', 'August', '2018']\n",
    "\n",
    "char.join(dates)"
   ]
  },
  {
   "cell_type": "markdown",
   "metadata": {},
   "source": [
    "Above we're defining the separator `'/'` in the variable `char`. By calling the `join` method for `char` with argument `dates`, we get a string as the return value. The returned string has the values of `dates` separated by the `char`. "
   ]
  },
  {
   "cell_type": "code",
   "execution_count": null,
   "metadata": {
    "scrolled": true
   },
   "outputs": [],
   "source": [
    "char = '/'\n",
    "dates= [13, 'August', '2018']\n",
    "\n",
    "char.join(dates)"
   ]
  },
  {
   "cell_type": "markdown",
   "metadata": {},
   "source": [
    "Now one of the items in the list is an integer, so an error is raised."
   ]
  },
  {
   "cell_type": "markdown",
   "metadata": {},
   "source": [
    "As strings also work similar to lists, the `join()` method works also with a plain string:"
   ]
  },
  {
   "cell_type": "code",
   "execution_count": null,
   "metadata": {
    "scrolled": true
   },
   "outputs": [],
   "source": [
    "'-'.join('POTATO')"
   ]
  },
  {
   "cell_type": "markdown",
   "metadata": {},
   "source": [
    "In the above example we're connecting each letter in the string using a dash `-`."
   ]
  },
  {
   "cell_type": "markdown",
   "metadata": {},
   "source": [
    "### `strip()`"
   ]
  },
  {
   "cell_type": "markdown",
   "metadata": {},
   "source": [
    "Strings might have unnecessary whitespace before or after the actual characters. They can be easily removed using the `strip()` method:"
   ]
  },
  {
   "cell_type": "code",
   "execution_count": null,
   "metadata": {
    "scrolled": true
   },
   "outputs": [],
   "source": [
    "messy_text = '''\n",
    "\n",
    "\n",
    "\n",
    "    This is text\n",
    "\n",
    "\n",
    "'''\n",
    "print('---')\n",
    "print(messy_text)\n",
    "\n",
    "clean_text = messy_text.strip()\n",
    "print('---')\n",
    "print(clean_text)"
   ]
  },
  {
   "cell_type": "markdown",
   "metadata": {},
   "source": [
    "In this example we printed three dashes between the strings to illustrate, how the `strip()` removes the extra newlines and spaces. Using three quotation marks `'''` or `\"\"\"` allows us to create a multiline string."
   ]
  },
  {
   "cell_type": "markdown",
   "metadata": {},
   "source": [
    "#### Exercise 13"
   ]
  },
  {
   "cell_type": "markdown",
   "metadata": {},
   "source": [
    "Write a program, which asks the user for their favourite food. After the input has been given, print the input in capital letters."
   ]
  },
  {
   "cell_type": "code",
   "execution_count": null,
   "metadata": {
    "scrolled": true
   },
   "outputs": [],
   "source": []
  },
  {
   "cell_type": "markdown",
   "metadata": {},
   "source": [
    "#### Exercise 14"
   ]
  },
  {
   "cell_type": "markdown",
   "metadata": {},
   "source": [
    "You have been given the variable `text`, which contains a string. Do the following operations:\n",
    "- Print the index, from which the substring `William` begins.\n",
    "- Replace the substring `'tragedy'` with `'comedy'` and save the returned string to another variable. Print this new variable."
   ]
  },
  {
   "cell_type": "code",
   "execution_count": null,
   "metadata": {
    "scrolled": true
   },
   "outputs": [],
   "source": [
    "text = \"Hamlet is a famous tragedy written by William Shakespeare a long time ago.\""
   ]
  },
  {
   "cell_type": "markdown",
   "metadata": {},
   "source": [
    "#### Exercise 15"
   ]
  },
  {
   "cell_type": "markdown",
   "metadata": {},
   "source": [
    "Here we have three different dates as strings. We would like to use `/` as the separator instead of `-`. Create a function, which has one parameter, which is the date in `'dd-mm-yyyy'` format. The function will use `split()` and `join()` methods and return the converted date in the format `'dd/mm/yyyy'`."
   ]
  },
  {
   "cell_type": "code",
   "execution_count": null,
   "metadata": {
    "scrolled": true
   },
   "outputs": [],
   "source": [
    "date1 = '01-01-2001'\n",
    "date2 = '17-07-2016'\n",
    "date3 = '12-10-1990'"
   ]
  },
  {
   "cell_type": "markdown",
   "metadata": {},
   "source": [
    "#### Exercise 16"
   ]
  },
  {
   "cell_type": "markdown",
   "metadata": {},
   "source": [
    "Create a program, which asks for the user's name as input. The program will check, that the name consists of letters only and prints the user's name. If the name has characters other than letters, the program will ask the user to input the name again.\n",
    "\n",
    "Here's a more detailed breakdown with helpful tips:\n",
    "1. Define a function `check_name(name)`, which has one parameter for the user's input\n",
    "2. Inside the function, create a variable `alphabet` with value `\"abcdefghijklmnopqrstuvwxyzåäö\"`\n",
    "3. Loop over the name using a `for` loop and check character by character, if the letters are found `in` the `alphabet` string. Remember to convert the characters to lowercase for comparison using the `lower()` method!\n",
    "4. If all letters in the name are found in the `alphabet` string, the function returns `True`. Otherwise the function will return `False`\n",
    "5. In the main program you need to create an infinite loop, which ask for the user's name until the function returns `True`\n",
    "6. The user's name is finally printed, when the input is accepted\n",
    "\n",
    "Note! This program will not tolerate letters with accents, unless they are added to the `alphabet` string. \n",
    "\n",
    "Here's two examples of running the program:\n",
    "\n",
    "```\n",
    "Enter your first name: Topi,\n",
    "Your name contains forbidden characters. Please re-enter your name.\n",
    "Enter your first name: Topi\n",
    "The user's first name is:  Topi\n",
    "```\n",
    "---------------\n",
    "```\n",
    "Enter your first name: 8Sari\n",
    "Your name contains forbidden characters. Please re-enter your name.\n",
    "Enter your first name: Sari\n",
    "The user's first name is:  Sari```"
   ]
  },
  {
   "cell_type": "code",
   "execution_count": null,
   "metadata": {
    "scrolled": true
   },
   "outputs": [],
   "source": []
  },
  {
   "cell_type": "markdown",
   "metadata": {},
   "source": [
    "## Recap"
   ]
  },
  {
   "cell_type": "markdown",
   "metadata": {},
   "source": [
    "As strings are sequences of individual characters, many of the list methods and functions can be used with strings."
   ]
  },
  {
   "cell_type": "markdown",
   "metadata": {},
   "source": [
    "Individual characters can be extracted from a string using indexing:"
   ]
  },
  {
   "cell_type": "code",
   "execution_count": null,
   "metadata": {
    "scrolled": true
   },
   "outputs": [],
   "source": [
    "text = \"Example string with words\"\n",
    "print(text[3])"
   ]
  },
  {
   "cell_type": "markdown",
   "metadata": {},
   "source": [
    "Strings also support slicing:"
   ]
  },
  {
   "cell_type": "code",
   "execution_count": null,
   "metadata": {
    "scrolled": true
   },
   "outputs": [],
   "source": [
    "text = \"Example string with words\"\n",
    "print(text[0:7])"
   ]
  },
  {
   "cell_type": "markdown",
   "metadata": {},
   "source": [
    "A string can be iterated over, character by character using `for` loops:"
   ]
  },
  {
   "cell_type": "code",
   "execution_count": null,
   "metadata": {
    "scrolled": true
   },
   "outputs": [],
   "source": [
    "text = \"Example\"\n",
    "for char in text:\n",
    "    print(char)"
   ]
  },
  {
   "cell_type": "markdown",
   "metadata": {},
   "source": [
    "The `in` comparison can be used to see, if the substring exists inside another string:"
   ]
  },
  {
   "cell_type": "code",
   "execution_count": null,
   "metadata": {
    "scrolled": true
   },
   "outputs": [],
   "source": [
    "text = \"Example string with words\"\n",
    "print(\"words\" in text)"
   ]
  },
  {
   "cell_type": "markdown",
   "metadata": {},
   "source": [
    "### Strings and list functions"
   ]
  },
  {
   "cell_type": "markdown",
   "metadata": {},
   "source": [
    "The same functions used with lists can be used with strings for the most part."
   ]
  },
  {
   "cell_type": "markdown",
   "metadata": {},
   "source": [
    "The `len()` function returns the length of the string:"
   ]
  },
  {
   "cell_type": "code",
   "execution_count": null,
   "metadata": {
    "scrolled": true
   },
   "outputs": [],
   "source": [
    "text = \"Example string with words\"\n",
    "print(len(text))"
   ]
  },
  {
   "cell_type": "markdown",
   "metadata": {},
   "source": [
    "The `max()` and `min()` functions return the characters with the biggest and the smallest values:"
   ]
  },
  {
   "cell_type": "code",
   "execution_count": null,
   "metadata": {
    "scrolled": true
   },
   "outputs": [],
   "source": [
    "text = \"word\"\n",
    "print(max(text))\n",
    "print(min(text))"
   ]
  },
  {
   "cell_type": "markdown",
   "metadata": {},
   "source": [
    "The `sorted()` function returns the string sorted from the smallest value to the biggest:"
   ]
  },
  {
   "cell_type": "code",
   "execution_count": null,
   "metadata": {
    "scrolled": true
   },
   "outputs": [],
   "source": [
    "text = \"Example string with words\"\n",
    "print(sorted(text))"
   ]
  },
  {
   "cell_type": "markdown",
   "metadata": {},
   "source": [
    "The `list()` function can be used to convert a string into a list:"
   ]
  },
  {
   "cell_type": "code",
   "execution_count": null,
   "metadata": {
    "scrolled": true
   },
   "outputs": [],
   "source": [
    "text = \"Example string with words\"\n",
    "print(list(text))"
   ]
  },
  {
   "cell_type": "markdown",
   "metadata": {},
   "source": [
    "### String methods"
   ]
  },
  {
   "cell_type": "markdown",
   "metadata": {},
   "source": [
    "`lower()` returns the string with lowercase letters:"
   ]
  },
  {
   "cell_type": "code",
   "execution_count": null,
   "metadata": {
    "scrolled": true
   },
   "outputs": [],
   "source": [
    "text = \"Example String With Words\"\n",
    "print(text.lower()) "
   ]
  },
  {
   "cell_type": "markdown",
   "metadata": {},
   "source": [
    "`upper()` returns the string with capitalized letters:"
   ]
  },
  {
   "cell_type": "code",
   "execution_count": null,
   "metadata": {
    "scrolled": true
   },
   "outputs": [],
   "source": [
    "text = \"Example string with words\"\n",
    "print(text.upper()) "
   ]
  },
  {
   "cell_type": "markdown",
   "metadata": {},
   "source": [
    "`index()` returns the index of the first occurrence of the given substring:"
   ]
  },
  {
   "cell_type": "code",
   "execution_count": null,
   "metadata": {
    "scrolled": true
   },
   "outputs": [],
   "source": [
    "text = \"Example string with words\"\n",
    "print(text.index(\"words\")) "
   ]
  },
  {
   "cell_type": "markdown",
   "metadata": {},
   "source": [
    "`replace()` replaces all occurrences of a substring with another substring:"
   ]
  },
  {
   "cell_type": "code",
   "execution_count": null,
   "metadata": {
    "scrolled": true
   },
   "outputs": [],
   "source": [
    "text = \"Example string with words\"\n",
    "print(text.replace(\"Example\", \"One\")) "
   ]
  },
  {
   "cell_type": "markdown",
   "metadata": {},
   "source": [
    "`split()` returns a list, which has been created from the string by cutting it to pieces based on the given separator string. If the separator is not given, the string is split by spaces:"
   ]
  },
  {
   "cell_type": "code",
   "execution_count": null,
   "metadata": {
    "scrolled": true
   },
   "outputs": [],
   "source": [
    "text = \"Example string with words\"\n",
    "print(text.split()) "
   ]
  },
  {
   "cell_type": "markdown",
   "metadata": {},
   "source": [
    "`join()` returns a string, which has been built by connecting the items of a list with the given separator character:"
   ]
  },
  {
   "cell_type": "code",
   "execution_count": null,
   "metadata": {
    "scrolled": true
   },
   "outputs": [],
   "source": [
    "text = [\"Example\", \"string\", \"with\", \"words\"]\n",
    "print('-'.join(text)) "
   ]
  },
  {
   "cell_type": "markdown",
   "metadata": {},
   "source": [
    "`strip()` returns a string, which has been stripped of all spaces and newlines (whitespace) in the beginning and the end of the string:"
   ]
  },
  {
   "cell_type": "code",
   "execution_count": null,
   "metadata": {
    "scrolled": true
   },
   "outputs": [],
   "source": [
    "text = \"       Example string with words      \"\n",
    "print(text.strip()) "
   ]
  },
  {
   "cell_type": "code",
   "execution_count": null,
   "metadata": {},
   "outputs": [],
   "source": [
    "l = [[1, 2, 3], [4, 5, 6]]\n",
    "print(l[0])\n",
    "print(l[1][0])"
   ]
  }
 ],
 "metadata": {
  "kernelspec": {
   "display_name": "Python 3 (ipykernel)",
   "language": "python",
   "name": "python3"
  },
  "language_info": {
   "codemirror_mode": {
    "name": "ipython",
    "version": 3
   },
   "file_extension": ".py",
   "mimetype": "text/x-python",
   "name": "python",
   "nbconvert_exporter": "python",
   "pygments_lexer": "ipython3",
   "version": "3.8.16"
  },
  "vscode": {
   "interpreter": {
    "hash": "369f2c481f4da34e4445cda3fffd2e751bd1c4d706f27375911949ba6bb62e1c"
   }
  }
 },
 "nbformat": 4,
 "nbformat_minor": 2
}
