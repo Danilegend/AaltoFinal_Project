{
 "cells": [
  {
   "cell_type": "markdown",
   "metadata": {},
   "source": [
    "## Lecture 5\n",
    "\n",
    "### Exercise 1\n",
    "\n",
    "Write a program which creates a shopping list, adds items, modifies the contents and checks its length.\n",
    "Instructions:\n",
    "- Create a empty list variable ”shopping_list”\n",
    "    - Add items ”bananas”, ”apples”, ”carrots”, ”bread”, ”milk”\n",
    "    - Print the first item, the last item and the third item\n",
    "- Modify the list\n",
    "    - Replace ”bread” with ”whole wheat bread” and print the updated list\n",
    "    - Remove ”carrots” from the list and print the updated list\n",
    "- Print the number of elements in the list."
   ]
  },
  {
   "cell_type": "code",
   "execution_count": 17,
   "metadata": {},
   "outputs": [
    {
     "name": "stdout",
     "output_type": "stream",
     "text": [
      "The first item in the list is bananas.\n",
      "The last item in the list is milk.\n",
      "The third item in the list is carrots.\n",
      "['bananas', 'apples', 'carrots', 'whole wheat bread', 'milk']\n",
      "['bananas', 'apples', 'whole wheat bread', 'milk']\n",
      "4\n"
     ]
    }
   ],
   "source": [
    "#Step 1: Create an empty list using []\n",
    "shopping_list = []\n",
    "\n",
    "#Step 2: Fill the list using <list>.append()\n",
    "shopping_list.append(\"bananas\")\n",
    "shopping_list.append(\"apples\")\n",
    "shopping_list.append(\"carrots\")\n",
    "shopping_list.append(\"bread\")\n",
    "shopping_list.append(\"milk\")\n",
    "\n",
    "#Step 3: Print the desired items using their respective indices. 0 is always first and -1 always last.\n",
    "print(f\"The first item in the list is {shopping_list[0]}.\")\n",
    "print(f\"The last item in the list is {shopping_list[-1]}.\")\n",
    "print(f\"The third item in the list is {shopping_list[2]}.\")\n",
    "\n",
    "#Step 4: Find the index of the item to be changed (either by counting or using <list>.index()) and use the index to change the item.\n",
    "bread_index = shopping_list.index(\"bread\")\n",
    "shopping_list[bread_index] = \"whole wheat bread\"\n",
    "print(shopping_list)\n",
    "\n",
    "#Step 5: Revome an item from the list using <list>.remove(), or <list>.pop()\n",
    "shopping_list.remove(\"carrots\")\n",
    "print(shopping_list)\n",
    "\n",
    "#Step 6: Use len(<list>) to get the number of elements in the list\n",
    "print(len(shopping_list))"
   ]
  },
  {
   "cell_type": "markdown",
   "metadata": {},
   "source": [
    "### Exercise 2\n",
    "\n",
    "Continue your shopping list program to have it iterate through the list, check for an item, sort the list and clear the list.\n",
    "Instructions:\n",
    "- Iterate through the list using a for-loop and print each item on a new line.\n",
    "- Check if the list contains ”milk”.\n",
    "    - If it is included, print ”You need to buy milk.”, if not, print ”No need to buy milk.”\n",
    "- Sort the list in alphabetical order and print the sorted list.\n",
    "- Clear all items from the ”shopping_list”\n",
    "    - Print to verify the list is empty"
   ]
  },
  {
   "cell_type": "code",
   "execution_count": 18,
   "metadata": {},
   "outputs": [
    {
     "name": "stdout",
     "output_type": "stream",
     "text": [
      "bananas\n",
      "apples\n",
      "whole wheat bread\n",
      "milk\n",
      "You need to buy milk.\n",
      "['apples', 'bananas', 'milk', 'whole wheat bread']\n",
      "[]\n"
     ]
    }
   ],
   "source": [
    "#Step 1: The list already exists so just write a for loop\n",
    "for item in shopping_list:\n",
    "    print(item)\n",
    "\n",
    "#Step 2: Check for the string \"milk\" using an if-statement\n",
    "if \"milk\" in shopping_list:\n",
    "    print(\"You need to buy milk.\")\n",
    "else:\n",
    "    print(\"No need to buy milk.\")\n",
    "\n",
    "#Step 3: Use <list>.sort() to sort the list\n",
    "shopping_list.sort()\n",
    "print(shopping_list)\n",
    "\n",
    "#Step 4: Use a for loop and <list>.pop() to clear the list contents (or <list>.clear())\n",
    "for i in range(len(shopping_list)):\n",
    "    shopping_list.pop()\n",
    "\n",
    "print(shopping_list)"
   ]
  },
  {
   "cell_type": "markdown",
   "metadata": {},
   "source": [
    "### Exercise 3\n",
    "\n",
    "Write a program that works with a string variable containing a greeting.\n",
    "Instructions:\n",
    "- Create a string variable greeting with the text ”Hello, World!”\n",
    "- Count the number of characters in the string and print out the result.\n",
    "- Extract and print the substring ”Hello” from the string using slicing.\n",
    "- Find the location (index where the substring begins) of the substring ”World” and print the resulting index.\n"
   ]
  },
  {
   "cell_type": "code",
   "execution_count": 7,
   "metadata": {},
   "outputs": [
    {
     "name": "stdout",
     "output_type": "stream",
     "text": [
      "The number of characters in the string is 13\n",
      "Hello\n",
      "The index location of the word 'World' is 7\n"
     ]
    }
   ],
   "source": [
    "#Step 1: Initialize a string variable using quotations\n",
    "greeting = \"Hello, World!\"\n",
    "\n",
    "#Step 2: Use the built-in function len() to calculate the number of characters\n",
    "print(\"The number of characters in the string is\", len(greeting))\n",
    "\n",
    "#Step 3: Use slicing and indices to separate the first 5 characters of the string.\n",
    "print(greeting[:5])\n",
    "\n",
    "#Step 4: Use the method <str>.find() to return the index where the substring begins.\n",
    "print(\"The index location of the word 'World' is\", greeting.index(\"World\"))"
   ]
  },
  {
   "cell_type": "markdown",
   "metadata": {},
   "source": [
    "### Exercise 4\n",
    "\n",
    "Continue your program with the greeting-string to modify the string.\n",
    "Instructions:\n",
    "- Print the string in uppercase to make your point stronger.\n",
    "- Use a for loop to make every other character lowercase and every other uppercase to make your point more sarcastic.\n",
    "    - Initialize another empty string\n",
    "    - Concatenate letters one by one\n",
    "    - Change the case depending on the index parity\n",
    "- Replace the substring \"World\" with the substring \"Python\" and print the result"
   ]
  },
  {
   "cell_type": "code",
   "execution_count": 31,
   "metadata": {},
   "outputs": [
    {
     "name": "stdout",
     "output_type": "stream",
     "text": [
      "HELLO, WORLD!\n",
      "hElLo, WoRlD!\n",
      "Hello, Python!\n"
     ]
    }
   ],
   "source": [
    "print(greeting.upper())\n",
    "\n",
    "sarcastic_greeting = \"\"\n",
    "for i in range(len(greeting)):\n",
    "    if i % 2 == 0:\n",
    "        sarcastic_greeting += greeting[i].lower()\n",
    "    else:\n",
    "        sarcastic_greeting += greeting[i].upper()\n",
    "\n",
    "print(sarcastic_greeting)\n",
    "\n",
    "new_greeting = greeting.replace(\"World\",\"Python\")\n",
    "print(new_greeting)"
   ]
  },
  {
   "cell_type": "code",
   "execution_count": null,
   "metadata": {},
   "outputs": [],
   "source": []
  }
 ],
 "metadata": {
  "kernelspec": {
   "display_name": "Python 3 (ipykernel)",
   "language": "python",
   "name": "python3"
  },
  "language_info": {
   "codemirror_mode": {
    "name": "ipython",
    "version": 3
   },
   "file_extension": ".py",
   "mimetype": "text/x-python",
   "name": "python",
   "nbconvert_exporter": "python",
   "pygments_lexer": "ipython3",
   "version": "3.8.16"
  }
 },
 "nbformat": 4,
 "nbformat_minor": 2
}
