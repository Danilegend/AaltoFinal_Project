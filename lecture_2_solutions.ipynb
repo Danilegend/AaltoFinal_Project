{
 "cells": [
  {
   "cell_type": "markdown",
   "metadata": {},
   "source": [
    "## Lecture 2\n",
    "\n",
    "### Exercise 1\n",
    "\n",
    "The program will ask for the user's name and reply with `Hello, <name>!`"
   ]
  },
  {
   "cell_type": "code",
   "execution_count": null,
   "metadata": {},
   "outputs": [],
   "source": [
    "name = input(\"What's your name? \")\n",
    "\n",
    "print(f\"Hello, {name}!\")"
   ]
  },
  {
   "cell_type": "markdown",
   "metadata": {},
   "source": [
    "### Exercise 2\n",
    "\n",
    "The program asks for a value `x` and prints the value of `y` based on the following formula:\n",
    "\n",
    "`y = ax^2 + bx + c`"
   ]
  },
  {
   "cell_type": "code",
   "execution_count": null,
   "metadata": {},
   "outputs": [],
   "source": [
    "a = 10\n",
    "b = 5\n",
    "c = 2\n",
    "\n",
    "x = float(input(\"Give a value for x: \"))\n",
    "\n",
    "y = a * x**2 + b * x + c\n",
    "\n",
    "# Using formatted strings\n",
    "print(f\"For user's x = {x} the value of y will be {y}\")\n",
    "\n",
    "# Example print using string concatenation\n",
    "print(\"For user's x = \" + str(x) + \" the value of y will be \" + str(y))\n"
   ]
  },
  {
   "cell_type": "markdown",
   "metadata": {},
   "source": [
    "### Exercise 3\n",
    "\n",
    "The program will ask for three results from a javelin throw competition and compute the average length of a throw"
   ]
  },
  {
   "cell_type": "code",
   "execution_count": null,
   "metadata": {},
   "outputs": [],
   "source": [
    "throw1 = float(input(\"Throw 1 length: \"))\n",
    "throw2 = float(input(\"Throw 2 length: \"))\n",
    "throw3 = float(input(\"Throw 3 length: \"))\n",
    "\n",
    "avg = (throw1 + throw2 + throw3) / 3\n",
    "\n",
    "print(f\"The average length of three throws is {avg} m\")"
   ]
  }
 ],
 "metadata": {
  "kernelspec": {
   "display_name": "Python 3 (ipykernel)",
   "language": "python",
   "name": "python3"
  },
  "language_info": {
   "codemirror_mode": {
    "name": "ipython",
    "version": 3
   },
   "file_extension": ".py",
   "mimetype": "text/x-python",
   "name": "python",
   "nbconvert_exporter": "python",
   "pygments_lexer": "ipython3",
   "version": "3.11.4"
  }
 },
 "nbformat": 4,
 "nbformat_minor": 4
}
