{
 "cells": [
  {
   "cell_type": "markdown",
   "metadata": {},
   "source": [
    "## Lecture 3\n",
    "\n",
    "### Exercise 1\n",
    "\n",
    "Write a Python program that asks the user to input a number. The program should print whether the number is positive, negative, or zero."
   ]
  },
  {
   "cell_type": "code",
   "execution_count": null,
   "metadata": {},
   "outputs": [],
   "source": [
    "# Step 1: Prompt the user to enter a number\n",
    "number = float(input(\"Enter a number: \"))\n",
    "\n",
    "# Step 2: Use conditional statements to check the value of the number\n",
    "if number > 0:\n",
    "    print(\"The number is positive.\")\n",
    "elif number < 0:\n",
    "    print(\"The number is negative.\")\n",
    "else:\n",
    "    print(\"The number is zero.\")"
   ]
  },
  {
   "cell_type": "markdown",
   "metadata": {},
   "source": [
    "### Exercise 2\n",
    "\n",
    "Write a program that converts a numerical grade into a letter grade.\n",
    "\n",
    "Prompt the user to enter a grade (0-100).\n",
    "Use if, elif, and else statements to convert the grade into a letter grade:\n",
    "\n",
    "    90-100: A\n",
    "    80-89: B\n",
    "    70-79: C\n",
    "    60-69: D\n",
    "    Below 60: F\n",
    "\n",
    "Print the letter grade."
   ]
  },
  {
   "cell_type": "code",
   "execution_count": null,
   "metadata": {},
   "outputs": [],
   "source": [
    "# Step 1: Prompt the user to enter a grade between 0 and 100\n",
    "grade = int(input(\"Enter your grade (0-100): \"))\n",
    "\n",
    "# Step 2: Use conditional statements to determine the letter grade\n",
    "if grade >= 90 and grade <= 100:\n",
    "    print(\"Your letter grade is A.\")\n",
    "elif grade >= 80:\n",
    "    print(\"Your letter grade is B.\")\n",
    "elif grade >= 70:\n",
    "    print(\"Your letter grade is C.\")\n",
    "elif grade >= 60:\n",
    "    print(\"Your letter grade is D.\")\n",
    "else:\n",
    "    print(\"Your letter grade is F.\")\n"
   ]
  },
  {
   "cell_type": "markdown",
   "metadata": {},
   "source": [
    "### Exercise 3\n",
    "\n",
    "Write a Python program that calculates the sum of the first n positive integers.\n",
    "\n",
    "Prompt the user to enter a positive integer n.\n",
    "Use a for loop to calculate the sum of numbers from 1 to n.\n",
    "Print the result."
   ]
  },
  {
   "cell_type": "code",
   "execution_count": null,
   "metadata": {},
   "outputs": [],
   "source": [
    "# Step 1: Prompt the user to enter a positive integer\n",
    "n = int(input(\"Enter a positive integer: \"))\n",
    "\n",
    "# Step 2: Initialize a variable to hold the sum\n",
    "total_sum = 0\n",
    "\n",
    "# Step 3: Use a for loop to calculate the sum of numbers from 1 to n\n",
    "for i in range(1, n + 1):\n",
    "    total_sum += i\n",
    "\n",
    "# Step 4: Print the result\n",
    "print(f\"The sum of numbers from 1 to {n} is {total_sum}.\")"
   ]
  },
  {
   "cell_type": "markdown",
   "metadata": {},
   "source": [
    "### Exercise 4\n",
    "\n",
    "Write a Python program where the user has to guess a secret number. The program should keep asking the user to guess until they guess the correct number.\n",
    "\n",
    "Set a secret number in the program (e.g., 3).\n",
    "Use a while loop to repeatedly ask the user to guess the number.\n",
    "If the user's guess is correct, print a congratulatory message and end the loop.\n",
    "If the guess is incorrect, print a hint telling the user whether the guess was too high or too low, and ask them to guess again."
   ]
  },
  {
   "cell_type": "code",
   "execution_count": null,
   "metadata": {},
   "outputs": [],
   "source": [
    "# Step 1: Set the secret number\n",
    "secret_number = 3\n",
    "\n",
    "# Step 2: Initialize the user's guess to None (or any value that is not equal to the secret number)\n",
    "guess = None\n",
    "\n",
    "# Step 3: Use a while loop to keep asking the user to guess until they get it right\n",
    "while guess != secret_number:\n",
    "    # Prompt the user to enter a guess\n",
    "    guess = int(input(\"Guess the secret number: \"))\n",
    "    \n",
    "    # Check if the guess is correct\n",
    "    if guess < secret_number:\n",
    "        print(\"Too low! Try again.\")\n",
    "    elif guess > secret_number:\n",
    "        print(\"Too high! Try again.\")\n",
    "    else:\n",
    "        print(\"Congratulations! You've guessed the secret number.\")"
   ]
  }
 ],
 "metadata": {
  "kernelspec": {
   "display_name": "Python 3 (ipykernel)",
   "language": "python",
   "name": "python3"
  },
  "language_info": {
   "codemirror_mode": {
    "name": "ipython",
    "version": 3
   },
   "file_extension": ".py",
   "mimetype": "text/x-python",
   "name": "python",
   "nbconvert_exporter": "python",
   "pygments_lexer": "ipython3",
   "version": "3.8.16"
  }
 },
 "nbformat": 4,
 "nbformat_minor": 4
}
